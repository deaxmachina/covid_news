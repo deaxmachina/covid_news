{
 "cells": [
  {
   "cell_type": "code",
   "execution_count": 3,
   "metadata": {},
   "outputs": [],
   "source": [
    "import pandas as pd \n",
    "import numpy as np\n",
    "import pickle\n",
    "import json\n",
    "import requests\n",
    "import os \n",
    "from os import makedirs\n",
    "from os.path import join, exists\n",
    "from datetime import date, timedelta\n",
    "from urllib.request import urlretrieve\n",
    "\n",
    "from collections import Counter\n",
    "import re\n",
    "import image_scraper\n",
    "import six\n",
    "\n",
    "\n",
    "font_path = '/System/Library/Fonts/Hiragino Sans GB.ttc'\n",
    "import matplotlib\n",
    "import matplotlib.pyplot as plt\n",
    "matplotlib.rcParams['font.family'] = \"Hiragino Sans GB\"\n",
    "from wordcloud import WordCloud\n",
    "\n",
    "\n",
    "from matplotlib.pyplot import imshow\n",
    "from PIL import Image\n",
    "%matplotlib inline\n",
    "import colorgram\n",
    "import calmap\n",
    "\n",
    "from bokeh.io import output_file, show, output_notebook\n",
    "from bokeh.models import ColumnDataSource, RangeTool\n",
    "from bokeh.palettes import Category20b, cividis, inferno\n",
    "from bokeh.plotting import figure\n",
    "from bokeh.transform import factor_cmap, cumsum\n",
    "from bokeh.layouts import column\n",
    "from math import pi\n",
    "\n",
    "from sklearn.decomposition import LatentDirichletAllocation as LDA\n",
    "from pyLDAvis import sklearn as sklearn_lda\n",
    "import pickle \n",
    "import pyLDAvis\n",
    "from sklearn.feature_extraction.text import CountVectorizer\n",
    "\n",
    "\n",
    "import spacy\n",
    "nlp_ja = spacy.load(\"ja_core_news_lg\")\n",
    "nlp_en = spacy.load(\"en_core_web_lg\")\n",
    "import nagisa"
   ]
  },
  {
   "cell_type": "markdown",
   "metadata": {},
   "source": [
    "# Helper Functions"
   ]
  },
  {
   "cell_type": "markdown",
   "metadata": {},
   "source": [
    "## Graphs"
   ]
  },
  {
   "cell_type": "markdown",
   "metadata": {},
   "source": [
    "### Bar Chart generic"
   ]
  },
  {
   "cell_type": "code",
   "execution_count": 4,
   "metadata": {},
   "outputs": [],
   "source": [
    "def barchart(counted_data, counts, output_here=True, \n",
    "             save_filename=\"plot\", plot_height=350, plot_width=800, title=\"Title\", bgcolor = \"#2b2b2b\"):\n",
    "    # either display in the notebook or save file \n",
    "    if output_here:\n",
    "        output_notebook()\n",
    "    else:\n",
    "        output_file(save_filename+\".html\")\n",
    "            \n",
    "    source = ColumnDataSource(data=dict(counted_data=counted_data, counts=counts))\n",
    "    p = figure(x_range=counted_data, plot_height=plot_height, plot_width=plot_width, toolbar_location=None, title=title)\n",
    "    \n",
    "    p.vbar(x='counted_data',\n",
    "           top='counts', \n",
    "           width=0.8, \n",
    "           source=source, \n",
    "           line_color='white', \n",
    "           fill_color=factor_cmap('counted_data', palette=cividis(len(counted_data)), factors=counted_data))\n",
    "    \n",
    "    p.xgrid.grid_line_color = None\n",
    "    p.ygrid.grid_line_color = None\n",
    "    p.y_range.start = 0\n",
    "    p.xaxis.major_label_orientation = 1.2\n",
    "    p.background_fill_color = bgcolor\n",
    "    \n",
    "    show(p)"
   ]
  },
  {
   "cell_type": "code",
   "execution_count": 5,
   "metadata": {},
   "outputs": [
    {
     "data": {
      "text/html": [
       "\n",
       "    <div class=\"bk-root\">\n",
       "        <a href=\"https://bokeh.org\" target=\"_blank\" class=\"bk-logo bk-logo-small bk-logo-notebook\"></a>\n",
       "        <span id=\"1001\">Loading BokehJS ...</span>\n",
       "    </div>"
      ]
     },
     "metadata": {},
     "output_type": "display_data"
    },
    {
     "data": {
      "application/javascript": [
       "\n",
       "(function(root) {\n",
       "  function now() {\n",
       "    return new Date();\n",
       "  }\n",
       "\n",
       "  var force = true;\n",
       "\n",
       "  if (typeof root._bokeh_onload_callbacks === \"undefined\" || force === true) {\n",
       "    root._bokeh_onload_callbacks = [];\n",
       "    root._bokeh_is_loading = undefined;\n",
       "  }\n",
       "\n",
       "  var JS_MIME_TYPE = 'application/javascript';\n",
       "  var HTML_MIME_TYPE = 'text/html';\n",
       "  var EXEC_MIME_TYPE = 'application/vnd.bokehjs_exec.v0+json';\n",
       "  var CLASS_NAME = 'output_bokeh rendered_html';\n",
       "\n",
       "  /**\n",
       "   * Render data to the DOM node\n",
       "   */\n",
       "  function render(props, node) {\n",
       "    var script = document.createElement(\"script\");\n",
       "    node.appendChild(script);\n",
       "  }\n",
       "\n",
       "  /**\n",
       "   * Handle when an output is cleared or removed\n",
       "   */\n",
       "  function handleClearOutput(event, handle) {\n",
       "    var cell = handle.cell;\n",
       "\n",
       "    var id = cell.output_area._bokeh_element_id;\n",
       "    var server_id = cell.output_area._bokeh_server_id;\n",
       "    // Clean up Bokeh references\n",
       "    if (id != null && id in Bokeh.index) {\n",
       "      Bokeh.index[id].model.document.clear();\n",
       "      delete Bokeh.index[id];\n",
       "    }\n",
       "\n",
       "    if (server_id !== undefined) {\n",
       "      // Clean up Bokeh references\n",
       "      var cmd = \"from bokeh.io.state import curstate; print(curstate().uuid_to_server['\" + server_id + \"'].get_sessions()[0].document.roots[0]._id)\";\n",
       "      cell.notebook.kernel.execute(cmd, {\n",
       "        iopub: {\n",
       "          output: function(msg) {\n",
       "            var id = msg.content.text.trim();\n",
       "            if (id in Bokeh.index) {\n",
       "              Bokeh.index[id].model.document.clear();\n",
       "              delete Bokeh.index[id];\n",
       "            }\n",
       "          }\n",
       "        }\n",
       "      });\n",
       "      // Destroy server and session\n",
       "      var cmd = \"import bokeh.io.notebook as ion; ion.destroy_server('\" + server_id + \"')\";\n",
       "      cell.notebook.kernel.execute(cmd);\n",
       "    }\n",
       "  }\n",
       "\n",
       "  /**\n",
       "   * Handle when a new output is added\n",
       "   */\n",
       "  function handleAddOutput(event, handle) {\n",
       "    var output_area = handle.output_area;\n",
       "    var output = handle.output;\n",
       "\n",
       "    // limit handleAddOutput to display_data with EXEC_MIME_TYPE content only\n",
       "    if ((output.output_type != \"display_data\") || (!output.data.hasOwnProperty(EXEC_MIME_TYPE))) {\n",
       "      return\n",
       "    }\n",
       "\n",
       "    var toinsert = output_area.element.find(\".\" + CLASS_NAME.split(' ')[0]);\n",
       "\n",
       "    if (output.metadata[EXEC_MIME_TYPE][\"id\"] !== undefined) {\n",
       "      toinsert[toinsert.length - 1].firstChild.textContent = output.data[JS_MIME_TYPE];\n",
       "      // store reference to embed id on output_area\n",
       "      output_area._bokeh_element_id = output.metadata[EXEC_MIME_TYPE][\"id\"];\n",
       "    }\n",
       "    if (output.metadata[EXEC_MIME_TYPE][\"server_id\"] !== undefined) {\n",
       "      var bk_div = document.createElement(\"div\");\n",
       "      bk_div.innerHTML = output.data[HTML_MIME_TYPE];\n",
       "      var script_attrs = bk_div.children[0].attributes;\n",
       "      for (var i = 0; i < script_attrs.length; i++) {\n",
       "        toinsert[toinsert.length - 1].firstChild.setAttribute(script_attrs[i].name, script_attrs[i].value);\n",
       "      }\n",
       "      // store reference to server id on output_area\n",
       "      output_area._bokeh_server_id = output.metadata[EXEC_MIME_TYPE][\"server_id\"];\n",
       "    }\n",
       "  }\n",
       "\n",
       "  function register_renderer(events, OutputArea) {\n",
       "\n",
       "    function append_mime(data, metadata, element) {\n",
       "      // create a DOM node to render to\n",
       "      var toinsert = this.create_output_subarea(\n",
       "        metadata,\n",
       "        CLASS_NAME,\n",
       "        EXEC_MIME_TYPE\n",
       "      );\n",
       "      this.keyboard_manager.register_events(toinsert);\n",
       "      // Render to node\n",
       "      var props = {data: data, metadata: metadata[EXEC_MIME_TYPE]};\n",
       "      render(props, toinsert[toinsert.length - 1]);\n",
       "      element.append(toinsert);\n",
       "      return toinsert\n",
       "    }\n",
       "\n",
       "    /* Handle when an output is cleared or removed */\n",
       "    events.on('clear_output.CodeCell', handleClearOutput);\n",
       "    events.on('delete.Cell', handleClearOutput);\n",
       "\n",
       "    /* Handle when a new output is added */\n",
       "    events.on('output_added.OutputArea', handleAddOutput);\n",
       "\n",
       "    /**\n",
       "     * Register the mime type and append_mime function with output_area\n",
       "     */\n",
       "    OutputArea.prototype.register_mime_type(EXEC_MIME_TYPE, append_mime, {\n",
       "      /* Is output safe? */\n",
       "      safe: true,\n",
       "      /* Index of renderer in `output_area.display_order` */\n",
       "      index: 0\n",
       "    });\n",
       "  }\n",
       "\n",
       "  // register the mime type if in Jupyter Notebook environment and previously unregistered\n",
       "  if (root.Jupyter !== undefined) {\n",
       "    var events = require('base/js/events');\n",
       "    var OutputArea = require('notebook/js/outputarea').OutputArea;\n",
       "\n",
       "    if (OutputArea.prototype.mime_types().indexOf(EXEC_MIME_TYPE) == -1) {\n",
       "      register_renderer(events, OutputArea);\n",
       "    }\n",
       "  }\n",
       "\n",
       "  \n",
       "  if (typeof (root._bokeh_timeout) === \"undefined\" || force === true) {\n",
       "    root._bokeh_timeout = Date.now() + 5000;\n",
       "    root._bokeh_failed_load = false;\n",
       "  }\n",
       "\n",
       "  var NB_LOAD_WARNING = {'data': {'text/html':\n",
       "     \"<div style='background-color: #fdd'>\\n\"+\n",
       "     \"<p>\\n\"+\n",
       "     \"BokehJS does not appear to have successfully loaded. If loading BokehJS from CDN, this \\n\"+\n",
       "     \"may be due to a slow or bad network connection. Possible fixes:\\n\"+\n",
       "     \"</p>\\n\"+\n",
       "     \"<ul>\\n\"+\n",
       "     \"<li>re-rerun `output_notebook()` to attempt to load from CDN again, or</li>\\n\"+\n",
       "     \"<li>use INLINE resources instead, as so:</li>\\n\"+\n",
       "     \"</ul>\\n\"+\n",
       "     \"<code>\\n\"+\n",
       "     \"from bokeh.resources import INLINE\\n\"+\n",
       "     \"output_notebook(resources=INLINE)\\n\"+\n",
       "     \"</code>\\n\"+\n",
       "     \"</div>\"}};\n",
       "\n",
       "  function display_loaded() {\n",
       "    var el = document.getElementById(\"1001\");\n",
       "    if (el != null) {\n",
       "      el.textContent = \"BokehJS is loading...\";\n",
       "    }\n",
       "    if (root.Bokeh !== undefined) {\n",
       "      if (el != null) {\n",
       "        el.textContent = \"BokehJS \" + root.Bokeh.version + \" successfully loaded.\";\n",
       "      }\n",
       "    } else if (Date.now() < root._bokeh_timeout) {\n",
       "      setTimeout(display_loaded, 100)\n",
       "    }\n",
       "  }\n",
       "\n",
       "\n",
       "  function run_callbacks() {\n",
       "    try {\n",
       "      root._bokeh_onload_callbacks.forEach(function(callback) {\n",
       "        if (callback != null)\n",
       "          callback();\n",
       "      });\n",
       "    } finally {\n",
       "      delete root._bokeh_onload_callbacks\n",
       "    }\n",
       "    console.debug(\"Bokeh: all callbacks have finished\");\n",
       "  }\n",
       "\n",
       "  function load_libs(css_urls, js_urls, callback) {\n",
       "    if (css_urls == null) css_urls = [];\n",
       "    if (js_urls == null) js_urls = [];\n",
       "\n",
       "    root._bokeh_onload_callbacks.push(callback);\n",
       "    if (root._bokeh_is_loading > 0) {\n",
       "      console.debug(\"Bokeh: BokehJS is being loaded, scheduling callback at\", now());\n",
       "      return null;\n",
       "    }\n",
       "    if (js_urls == null || js_urls.length === 0) {\n",
       "      run_callbacks();\n",
       "      return null;\n",
       "    }\n",
       "    console.debug(\"Bokeh: BokehJS not loaded, scheduling load and callback at\", now());\n",
       "    root._bokeh_is_loading = css_urls.length + js_urls.length;\n",
       "\n",
       "    function on_load() {\n",
       "      root._bokeh_is_loading--;\n",
       "      if (root._bokeh_is_loading === 0) {\n",
       "        console.debug(\"Bokeh: all BokehJS libraries/stylesheets loaded\");\n",
       "        run_callbacks()\n",
       "      }\n",
       "    }\n",
       "\n",
       "    function on_error() {\n",
       "      console.error(\"failed to load \" + url);\n",
       "    }\n",
       "\n",
       "    for (var i = 0; i < css_urls.length; i++) {\n",
       "      var url = css_urls[i];\n",
       "      const element = document.createElement(\"link\");\n",
       "      element.onload = on_load;\n",
       "      element.onerror = on_error;\n",
       "      element.rel = \"stylesheet\";\n",
       "      element.type = \"text/css\";\n",
       "      element.href = url;\n",
       "      console.debug(\"Bokeh: injecting link tag for BokehJS stylesheet: \", url);\n",
       "      document.body.appendChild(element);\n",
       "    }\n",
       "\n",
       "    for (var i = 0; i < js_urls.length; i++) {\n",
       "      var url = js_urls[i];\n",
       "      var element = document.createElement('script');\n",
       "      element.onload = on_load;\n",
       "      element.onerror = on_error;\n",
       "      element.async = false;\n",
       "      element.src = url;\n",
       "      console.debug(\"Bokeh: injecting script tag for BokehJS library: \", url);\n",
       "      document.head.appendChild(element);\n",
       "    }\n",
       "  };var element = document.getElementById(\"1001\");\n",
       "  if (element == null) {\n",
       "    console.error(\"Bokeh: ERROR: autoload.js configured with elementid '1001' but no matching script tag was found. \")\n",
       "    return false;\n",
       "  }\n",
       "\n",
       "  function inject_raw_css(css) {\n",
       "    const element = document.createElement(\"style\");\n",
       "    element.appendChild(document.createTextNode(css));\n",
       "    document.body.appendChild(element);\n",
       "  }\n",
       "\n",
       "  \n",
       "  var js_urls = [\"https://cdn.pydata.org/bokeh/release/bokeh-1.4.0.min.js\", \"https://cdn.pydata.org/bokeh/release/bokeh-widgets-1.4.0.min.js\", \"https://cdn.pydata.org/bokeh/release/bokeh-tables-1.4.0.min.js\", \"https://cdn.pydata.org/bokeh/release/bokeh-gl-1.4.0.min.js\"];\n",
       "  var css_urls = [];\n",
       "  \n",
       "\n",
       "  var inline_js = [\n",
       "    function(Bokeh) {\n",
       "      Bokeh.set_log_level(\"info\");\n",
       "    },\n",
       "    function(Bokeh) {\n",
       "    \n",
       "    \n",
       "    }\n",
       "  ];\n",
       "\n",
       "  function run_inline_js() {\n",
       "    \n",
       "    if (root.Bokeh !== undefined || force === true) {\n",
       "      \n",
       "    for (var i = 0; i < inline_js.length; i++) {\n",
       "      inline_js[i].call(root, root.Bokeh);\n",
       "    }\n",
       "    if (force === true) {\n",
       "        display_loaded();\n",
       "      }} else if (Date.now() < root._bokeh_timeout) {\n",
       "      setTimeout(run_inline_js, 100);\n",
       "    } else if (!root._bokeh_failed_load) {\n",
       "      console.log(\"Bokeh: BokehJS failed to load within specified timeout.\");\n",
       "      root._bokeh_failed_load = true;\n",
       "    } else if (force !== true) {\n",
       "      var cell = $(document.getElementById(\"1001\")).parents('.cell').data().cell;\n",
       "      cell.output_area.append_execute_result(NB_LOAD_WARNING)\n",
       "    }\n",
       "\n",
       "  }\n",
       "\n",
       "  if (root._bokeh_is_loading === 0) {\n",
       "    console.debug(\"Bokeh: BokehJS loaded, going straight to plotting\");\n",
       "    run_inline_js();\n",
       "  } else {\n",
       "    load_libs(css_urls, js_urls, function() {\n",
       "      console.debug(\"Bokeh: BokehJS plotting callback run at\", now());\n",
       "      run_inline_js();\n",
       "    });\n",
       "  }\n",
       "}(window));"
      ],
      "application/vnd.bokehjs_load.v0+json": "\n(function(root) {\n  function now() {\n    return new Date();\n  }\n\n  var force = true;\n\n  if (typeof root._bokeh_onload_callbacks === \"undefined\" || force === true) {\n    root._bokeh_onload_callbacks = [];\n    root._bokeh_is_loading = undefined;\n  }\n\n  \n\n  \n  if (typeof (root._bokeh_timeout) === \"undefined\" || force === true) {\n    root._bokeh_timeout = Date.now() + 5000;\n    root._bokeh_failed_load = false;\n  }\n\n  var NB_LOAD_WARNING = {'data': {'text/html':\n     \"<div style='background-color: #fdd'>\\n\"+\n     \"<p>\\n\"+\n     \"BokehJS does not appear to have successfully loaded. If loading BokehJS from CDN, this \\n\"+\n     \"may be due to a slow or bad network connection. Possible fixes:\\n\"+\n     \"</p>\\n\"+\n     \"<ul>\\n\"+\n     \"<li>re-rerun `output_notebook()` to attempt to load from CDN again, or</li>\\n\"+\n     \"<li>use INLINE resources instead, as so:</li>\\n\"+\n     \"</ul>\\n\"+\n     \"<code>\\n\"+\n     \"from bokeh.resources import INLINE\\n\"+\n     \"output_notebook(resources=INLINE)\\n\"+\n     \"</code>\\n\"+\n     \"</div>\"}};\n\n  function display_loaded() {\n    var el = document.getElementById(\"1001\");\n    if (el != null) {\n      el.textContent = \"BokehJS is loading...\";\n    }\n    if (root.Bokeh !== undefined) {\n      if (el != null) {\n        el.textContent = \"BokehJS \" + root.Bokeh.version + \" successfully loaded.\";\n      }\n    } else if (Date.now() < root._bokeh_timeout) {\n      setTimeout(display_loaded, 100)\n    }\n  }\n\n\n  function run_callbacks() {\n    try {\n      root._bokeh_onload_callbacks.forEach(function(callback) {\n        if (callback != null)\n          callback();\n      });\n    } finally {\n      delete root._bokeh_onload_callbacks\n    }\n    console.debug(\"Bokeh: all callbacks have finished\");\n  }\n\n  function load_libs(css_urls, js_urls, callback) {\n    if (css_urls == null) css_urls = [];\n    if (js_urls == null) js_urls = [];\n\n    root._bokeh_onload_callbacks.push(callback);\n    if (root._bokeh_is_loading > 0) {\n      console.debug(\"Bokeh: BokehJS is being loaded, scheduling callback at\", now());\n      return null;\n    }\n    if (js_urls == null || js_urls.length === 0) {\n      run_callbacks();\n      return null;\n    }\n    console.debug(\"Bokeh: BokehJS not loaded, scheduling load and callback at\", now());\n    root._bokeh_is_loading = css_urls.length + js_urls.length;\n\n    function on_load() {\n      root._bokeh_is_loading--;\n      if (root._bokeh_is_loading === 0) {\n        console.debug(\"Bokeh: all BokehJS libraries/stylesheets loaded\");\n        run_callbacks()\n      }\n    }\n\n    function on_error() {\n      console.error(\"failed to load \" + url);\n    }\n\n    for (var i = 0; i < css_urls.length; i++) {\n      var url = css_urls[i];\n      const element = document.createElement(\"link\");\n      element.onload = on_load;\n      element.onerror = on_error;\n      element.rel = \"stylesheet\";\n      element.type = \"text/css\";\n      element.href = url;\n      console.debug(\"Bokeh: injecting link tag for BokehJS stylesheet: \", url);\n      document.body.appendChild(element);\n    }\n\n    for (var i = 0; i < js_urls.length; i++) {\n      var url = js_urls[i];\n      var element = document.createElement('script');\n      element.onload = on_load;\n      element.onerror = on_error;\n      element.async = false;\n      element.src = url;\n      console.debug(\"Bokeh: injecting script tag for BokehJS library: \", url);\n      document.head.appendChild(element);\n    }\n  };var element = document.getElementById(\"1001\");\n  if (element == null) {\n    console.error(\"Bokeh: ERROR: autoload.js configured with elementid '1001' but no matching script tag was found. \")\n    return false;\n  }\n\n  function inject_raw_css(css) {\n    const element = document.createElement(\"style\");\n    element.appendChild(document.createTextNode(css));\n    document.body.appendChild(element);\n  }\n\n  \n  var js_urls = [\"https://cdn.pydata.org/bokeh/release/bokeh-1.4.0.min.js\", \"https://cdn.pydata.org/bokeh/release/bokeh-widgets-1.4.0.min.js\", \"https://cdn.pydata.org/bokeh/release/bokeh-tables-1.4.0.min.js\", \"https://cdn.pydata.org/bokeh/release/bokeh-gl-1.4.0.min.js\"];\n  var css_urls = [];\n  \n\n  var inline_js = [\n    function(Bokeh) {\n      Bokeh.set_log_level(\"info\");\n    },\n    function(Bokeh) {\n    \n    \n    }\n  ];\n\n  function run_inline_js() {\n    \n    if (root.Bokeh !== undefined || force === true) {\n      \n    for (var i = 0; i < inline_js.length; i++) {\n      inline_js[i].call(root, root.Bokeh);\n    }\n    if (force === true) {\n        display_loaded();\n      }} else if (Date.now() < root._bokeh_timeout) {\n      setTimeout(run_inline_js, 100);\n    } else if (!root._bokeh_failed_load) {\n      console.log(\"Bokeh: BokehJS failed to load within specified timeout.\");\n      root._bokeh_failed_load = true;\n    } else if (force !== true) {\n      var cell = $(document.getElementById(\"1001\")).parents('.cell').data().cell;\n      cell.output_area.append_execute_result(NB_LOAD_WARNING)\n    }\n\n  }\n\n  if (root._bokeh_is_loading === 0) {\n    console.debug(\"Bokeh: BokehJS loaded, going straight to plotting\");\n    run_inline_js();\n  } else {\n    load_libs(css_urls, js_urls, function() {\n      console.debug(\"Bokeh: BokehJS plotting callback run at\", now());\n      run_inline_js();\n    });\n  }\n}(window));"
     },
     "metadata": {},
     "output_type": "display_data"
    },
    {
     "data": {
      "text/html": [
       "\n",
       "\n",
       "\n",
       "\n",
       "\n",
       "\n",
       "  <div class=\"bk-root\" id=\"f3f2361f-1017-41c9-a401-96f261c634b6\" data-root-id=\"1003\"></div>\n"
      ]
     },
     "metadata": {},
     "output_type": "display_data"
    },
    {
     "data": {
      "application/javascript": [
       "(function(root) {\n",
       "  function embed_document(root) {\n",
       "    \n",
       "  var docs_json = {\"8150f166-7b4e-4b32-b5d9-43bdfe2a05ac\":{\"roots\":{\"references\":[{\"attributes\":{\"background_fill_color\":{\"value\":\"#2b2b2b\"},\"below\":[{\"id\":\"1014\",\"type\":\"CategoricalAxis\"}],\"center\":[{\"id\":\"1017\",\"type\":\"Grid\"},{\"id\":\"1022\",\"type\":\"Grid\"}],\"left\":[{\"id\":\"1018\",\"type\":\"LinearAxis\"}],\"plot_height\":350,\"plot_width\":800,\"renderers\":[{\"id\":\"1040\",\"type\":\"GlyphRenderer\"}],\"title\":{\"id\":\"1004\",\"type\":\"Title\"},\"toolbar\":{\"id\":\"1029\",\"type\":\"Toolbar\"},\"toolbar_location\":null,\"x_range\":{\"id\":\"1006\",\"type\":\"FactorRange\"},\"x_scale\":{\"id\":\"1010\",\"type\":\"CategoricalScale\"},\"y_range\":{\"id\":\"1008\",\"type\":\"DataRange1d\"},\"y_scale\":{\"id\":\"1012\",\"type\":\"LinearScale\"}},\"id\":\"1003\",\"subtype\":\"Figure\",\"type\":\"Plot\"},{\"attributes\":{},\"id\":\"1027\",\"type\":\"ResetTool\"},{\"attributes\":{\"callback\":null,\"start\":0},\"id\":\"1008\",\"type\":\"DataRange1d\"},{\"attributes\":{\"bottom_units\":\"screen\",\"fill_alpha\":{\"value\":0.5},\"fill_color\":{\"value\":\"lightgrey\"},\"left_units\":\"screen\",\"level\":\"overlay\",\"line_alpha\":{\"value\":1.0},\"line_color\":{\"value\":\"black\"},\"line_dash\":[4,4],\"line_width\":{\"value\":2},\"render_mode\":\"css\",\"right_units\":\"screen\",\"top_units\":\"screen\"},\"id\":\"1049\",\"type\":\"BoxAnnotation\"},{\"attributes\":{\"grid_line_color\":null,\"ticker\":{\"id\":\"1015\",\"type\":\"CategoricalTicker\"}},\"id\":\"1017\",\"type\":\"Grid\"},{\"attributes\":{\"formatter\":{\"id\":\"1045\",\"type\":\"BasicTickFormatter\"},\"ticker\":{\"id\":\"1019\",\"type\":\"BasicTicker\"}},\"id\":\"1018\",\"type\":\"LinearAxis\"},{\"attributes\":{},\"id\":\"1047\",\"type\":\"Selection\"},{\"attributes\":{\"fill_alpha\":{\"value\":0.1},\"fill_color\":{\"value\":\"#1f77b4\"},\"line_alpha\":{\"value\":0.1},\"line_color\":{\"value\":\"#1f77b4\"},\"top\":{\"field\":\"counts\"},\"width\":{\"value\":0.8},\"x\":{\"field\":\"counted_data\"}},\"id\":\"1039\",\"type\":\"VBar\"},{\"attributes\":{},\"id\":\"1045\",\"type\":\"BasicTickFormatter\"},{\"attributes\":{\"dimension\":1,\"grid_line_color\":null,\"ticker\":{\"id\":\"1019\",\"type\":\"BasicTicker\"}},\"id\":\"1022\",\"type\":\"Grid\"},{\"attributes\":{},\"id\":\"1024\",\"type\":\"WheelZoomTool\"},{\"attributes\":{},\"id\":\"1026\",\"type\":\"SaveTool\"},{\"attributes\":{\"factors\":[\"word1\",\"word2\",\"word3\"],\"palette\":[\"#00204C\",\"#7B7B78\",\"#FFE945\"]},\"id\":\"1036\",\"type\":\"CategoricalColorMapper\"},{\"attributes\":{},\"id\":\"1010\",\"type\":\"CategoricalScale\"},{\"attributes\":{},\"id\":\"1043\",\"type\":\"CategoricalTickFormatter\"},{\"attributes\":{\"text\":\"Title\"},\"id\":\"1004\",\"type\":\"Title\"},{\"attributes\":{\"formatter\":{\"id\":\"1043\",\"type\":\"CategoricalTickFormatter\"},\"major_label_orientation\":1.2,\"ticker\":{\"id\":\"1015\",\"type\":\"CategoricalTicker\"}},\"id\":\"1014\",\"type\":\"CategoricalAxis\"},{\"attributes\":{\"source\":{\"id\":\"1002\",\"type\":\"ColumnDataSource\"}},\"id\":\"1041\",\"type\":\"CDSView\"},{\"attributes\":{},\"id\":\"1019\",\"type\":\"BasicTicker\"},{\"attributes\":{\"data_source\":{\"id\":\"1002\",\"type\":\"ColumnDataSource\"},\"glyph\":{\"id\":\"1038\",\"type\":\"VBar\"},\"hover_glyph\":null,\"muted_glyph\":null,\"nonselection_glyph\":{\"id\":\"1039\",\"type\":\"VBar\"},\"selection_glyph\":null,\"view\":{\"id\":\"1041\",\"type\":\"CDSView\"}},\"id\":\"1040\",\"type\":\"GlyphRenderer\"},{\"attributes\":{},\"id\":\"1028\",\"type\":\"HelpTool\"},{\"attributes\":{},\"id\":\"1012\",\"type\":\"LinearScale\"},{\"attributes\":{\"fill_color\":{\"field\":\"counted_data\",\"transform\":{\"id\":\"1036\",\"type\":\"CategoricalColorMapper\"}},\"line_color\":{\"value\":\"white\"},\"top\":{\"field\":\"counts\"},\"width\":{\"value\":0.8},\"x\":{\"field\":\"counted_data\"}},\"id\":\"1038\",\"type\":\"VBar\"},{\"attributes\":{},\"id\":\"1023\",\"type\":\"PanTool\"},{\"attributes\":{},\"id\":\"1048\",\"type\":\"UnionRenderers\"},{\"attributes\":{\"callback\":null,\"factors\":[\"word1\",\"word2\",\"word3\"]},\"id\":\"1006\",\"type\":\"FactorRange\"},{\"attributes\":{\"active_drag\":\"auto\",\"active_inspect\":\"auto\",\"active_multi\":null,\"active_scroll\":\"auto\",\"active_tap\":\"auto\",\"tools\":[{\"id\":\"1023\",\"type\":\"PanTool\"},{\"id\":\"1024\",\"type\":\"WheelZoomTool\"},{\"id\":\"1025\",\"type\":\"BoxZoomTool\"},{\"id\":\"1026\",\"type\":\"SaveTool\"},{\"id\":\"1027\",\"type\":\"ResetTool\"},{\"id\":\"1028\",\"type\":\"HelpTool\"}]},\"id\":\"1029\",\"type\":\"Toolbar\"},{\"attributes\":{\"callback\":null,\"data\":{\"counted_data\":[\"word1\",\"word2\",\"word3\"],\"counts\":[10,50,100]},\"selected\":{\"id\":\"1047\",\"type\":\"Selection\"},\"selection_policy\":{\"id\":\"1048\",\"type\":\"UnionRenderers\"}},\"id\":\"1002\",\"type\":\"ColumnDataSource\"},{\"attributes\":{\"overlay\":{\"id\":\"1049\",\"type\":\"BoxAnnotation\"}},\"id\":\"1025\",\"type\":\"BoxZoomTool\"},{\"attributes\":{},\"id\":\"1015\",\"type\":\"CategoricalTicker\"}],\"root_ids\":[\"1003\"]},\"title\":\"Bokeh Application\",\"version\":\"1.4.0\"}};\n",
       "  var render_items = [{\"docid\":\"8150f166-7b4e-4b32-b5d9-43bdfe2a05ac\",\"roots\":{\"1003\":\"f3f2361f-1017-41c9-a401-96f261c634b6\"}}];\n",
       "  root.Bokeh.embed.embed_items_notebook(docs_json, render_items);\n",
       "\n",
       "  }\n",
       "  if (root.Bokeh !== undefined) {\n",
       "    embed_document(root);\n",
       "  } else {\n",
       "    var attempts = 0;\n",
       "    var timer = setInterval(function(root) {\n",
       "      if (root.Bokeh !== undefined) {\n",
       "        clearInterval(timer);\n",
       "        embed_document(root);\n",
       "      } else {\n",
       "        attempts++;\n",
       "        if (attempts > 100) {\n",
       "          clearInterval(timer);\n",
       "          console.log(\"Bokeh: ERROR: Unable to run BokehJS code because BokehJS library is missing\");\n",
       "        }\n",
       "      }\n",
       "    }, 10, root)\n",
       "  }\n",
       "})(window);"
      ],
      "application/vnd.bokehjs_exec.v0+json": ""
     },
     "metadata": {
      "application/vnd.bokehjs_exec.v0+json": {
       "id": "1003"
      }
     },
     "output_type": "display_data"
    }
   ],
   "source": [
    "barchart(['word1', 'word2', 'word3'], [10, 50, 100])"
   ]
  },
  {
   "cell_type": "markdown",
   "metadata": {},
   "source": [
    "### Pie Chart generic"
   ]
  },
  {
   "cell_type": "code",
   "execution_count": 6,
   "metadata": {},
   "outputs": [],
   "source": [
    "def piechart(df, df_items_col, df_values_col, title=\"Title\"):\n",
    "    # create columns for the angle for each slice and its colour\n",
    "    df['angle'] = df[df_values_col] / df[df_values_col].sum() * 2*pi\n",
    "    df['color'] = cividis(len(df))\n",
    "    \n",
    "    p = figure(plot_height=350, title=title, toolbar_location=None,\n",
    "           tools=\"hover\", tooltips=\"@{}: @{}\".format(df_items_col, df_values_col), x_range=(-0.5, 1.0))\n",
    "    p.wedge(x=0, y=1, radius=0.4,\n",
    "        start_angle=cumsum('angle', include_zero=True), end_angle=cumsum('angle'),\n",
    "        line_color=\"white\", fill_color='color', legend_field=df_items_col, source=df)\n",
    "\n",
    "    p.axis.axis_label=None\n",
    "    p.axis.visible=False\n",
    "    p.grid.grid_line_color = None\n",
    "\n",
    "    show(p)\n",
    "    "
   ]
  },
  {
   "cell_type": "code",
   "execution_count": 7,
   "metadata": {},
   "outputs": [
    {
     "name": "stderr",
     "output_type": "stream",
     "text": [
      "NumExpr defaulting to 8 threads.\n"
     ]
    },
    {
     "data": {
      "text/html": [
       "\n",
       "\n",
       "\n",
       "\n",
       "\n",
       "\n",
       "  <div class=\"bk-root\" id=\"49207187-d0a1-47f0-9325-e28da0220f74\" data-root-id=\"1098\"></div>\n"
      ]
     },
     "metadata": {},
     "output_type": "display_data"
    },
    {
     "data": {
      "application/javascript": [
       "(function(root) {\n",
       "  function embed_document(root) {\n",
       "    \n",
       "  var docs_json = {\"3192c3e5-e627-46f9-8e35-23ec59c9945b\":{\"roots\":{\"references\":[{\"attributes\":{\"below\":[{\"id\":\"1109\",\"type\":\"LinearAxis\"}],\"center\":[{\"id\":\"1113\",\"type\":\"Grid\"},{\"id\":\"1118\",\"type\":\"Grid\"},{\"id\":\"1135\",\"type\":\"Legend\"}],\"left\":[{\"id\":\"1114\",\"type\":\"LinearAxis\"}],\"plot_height\":350,\"renderers\":[{\"id\":\"1128\",\"type\":\"GlyphRenderer\"}],\"title\":{\"id\":\"1099\",\"type\":\"Title\"},\"toolbar\":{\"id\":\"1120\",\"type\":\"Toolbar\"},\"toolbar_location\":null,\"x_range\":{\"id\":\"1101\",\"type\":\"Range1d\"},\"x_scale\":{\"id\":\"1105\",\"type\":\"LinearScale\"},\"y_range\":{\"id\":\"1103\",\"type\":\"DataRange1d\"},\"y_scale\":{\"id\":\"1107\",\"type\":\"LinearScale\"}},\"id\":\"1098\",\"subtype\":\"Figure\",\"type\":\"Plot\"},{\"attributes\":{},\"id\":\"1110\",\"type\":\"BasicTicker\"},{\"attributes\":{\"callback\":null,\"start\":-0.5},\"id\":\"1101\",\"type\":\"Range1d\"},{\"attributes\":{\"callback\":null,\"data\":{\"angle\":{\"__ndarray__\":\"h0TnShhX5j9lcy04UsEAQKkVoV3e7AtA\",\"dtype\":\"float64\",\"shape\":[3]},\"color\":[\"#00204C\",\"#7B7B78\",\"#FFE945\"],\"index\":[0,1,2],\"items_col\":[\"item1\",\"item2\",\"item3\"],\"values_col\":[10,30,50]},\"selected\":{\"id\":\"1150\",\"type\":\"Selection\"},\"selection_policy\":{\"id\":\"1151\",\"type\":\"UnionRenderers\"}},\"id\":\"1124\",\"type\":\"ColumnDataSource\"},{\"attributes\":{\"field\":\"angle\"},\"id\":\"1123\",\"type\":\"CumSum\"},{\"attributes\":{},\"id\":\"1107\",\"type\":\"LinearScale\"},{\"attributes\":{\"data_source\":{\"id\":\"1124\",\"type\":\"ColumnDataSource\"},\"glyph\":{\"id\":\"1126\",\"type\":\"Wedge\"},\"hover_glyph\":null,\"muted_glyph\":null,\"nonselection_glyph\":{\"id\":\"1127\",\"type\":\"Wedge\"},\"selection_glyph\":null,\"view\":{\"id\":\"1129\",\"type\":\"CDSView\"}},\"id\":\"1128\",\"type\":\"GlyphRenderer\"},{\"attributes\":{},\"id\":\"1105\",\"type\":\"LinearScale\"},{\"attributes\":{\"end_angle\":{\"expr\":{\"id\":\"1123\",\"type\":\"CumSum\"},\"units\":\"rad\"},\"fill_alpha\":{\"value\":0.1},\"fill_color\":{\"value\":\"#1f77b4\"},\"line_alpha\":{\"value\":0.1},\"line_color\":{\"value\":\"#1f77b4\"},\"radius\":{\"units\":\"data\",\"value\":0.4},\"start_angle\":{\"expr\":{\"id\":\"1122\",\"type\":\"CumSum\"},\"units\":\"rad\"},\"x\":{\"value\":0},\"y\":{\"value\":1}},\"id\":\"1127\",\"type\":\"Wedge\"},{\"attributes\":{\"axis_label\":null,\"formatter\":{\"id\":\"1131\",\"type\":\"BasicTickFormatter\"},\"ticker\":{\"id\":\"1110\",\"type\":\"BasicTicker\"},\"visible\":false},\"id\":\"1109\",\"type\":\"LinearAxis\"},{\"attributes\":{},\"id\":\"1133\",\"type\":\"BasicTickFormatter\"},{\"attributes\":{\"active_drag\":\"auto\",\"active_inspect\":\"auto\",\"active_multi\":null,\"active_scroll\":\"auto\",\"active_tap\":\"auto\",\"tools\":[{\"id\":\"1119\",\"type\":\"HoverTool\"}]},\"id\":\"1120\",\"type\":\"Toolbar\"},{\"attributes\":{},\"id\":\"1115\",\"type\":\"BasicTicker\"},{\"attributes\":{\"field\":\"angle\",\"include_zero\":true},\"id\":\"1122\",\"type\":\"CumSum\"},{\"attributes\":{\"source\":{\"id\":\"1124\",\"type\":\"ColumnDataSource\"}},\"id\":\"1129\",\"type\":\"CDSView\"},{\"attributes\":{\"grid_line_color\":null,\"ticker\":{\"id\":\"1110\",\"type\":\"BasicTicker\"}},\"id\":\"1113\",\"type\":\"Grid\"},{\"attributes\":{\"items\":[{\"id\":\"1136\",\"type\":\"LegendItem\"}]},\"id\":\"1135\",\"type\":\"Legend\"},{\"attributes\":{\"label\":{\"field\":\"items_col\"},\"renderers\":[{\"id\":\"1128\",\"type\":\"GlyphRenderer\"}]},\"id\":\"1136\",\"type\":\"LegendItem\"},{\"attributes\":{\"dimension\":1,\"grid_line_color\":null,\"ticker\":{\"id\":\"1115\",\"type\":\"BasicTicker\"}},\"id\":\"1118\",\"type\":\"Grid\"},{\"attributes\":{},\"id\":\"1131\",\"type\":\"BasicTickFormatter\"},{\"attributes\":{\"text\":\"Title\"},\"id\":\"1099\",\"type\":\"Title\"},{\"attributes\":{},\"id\":\"1150\",\"type\":\"Selection\"},{\"attributes\":{\"axis_label\":null,\"formatter\":{\"id\":\"1133\",\"type\":\"BasicTickFormatter\"},\"ticker\":{\"id\":\"1115\",\"type\":\"BasicTicker\"},\"visible\":false},\"id\":\"1114\",\"type\":\"LinearAxis\"},{\"attributes\":{\"callback\":null},\"id\":\"1103\",\"type\":\"DataRange1d\"},{\"attributes\":{},\"id\":\"1151\",\"type\":\"UnionRenderers\"},{\"attributes\":{\"callback\":null,\"tooltips\":\"@items_col: @values_col\"},\"id\":\"1119\",\"type\":\"HoverTool\"},{\"attributes\":{\"end_angle\":{\"expr\":{\"id\":\"1123\",\"type\":\"CumSum\"},\"units\":\"rad\"},\"fill_color\":{\"field\":\"color\"},\"line_color\":{\"value\":\"white\"},\"radius\":{\"units\":\"data\",\"value\":0.4},\"start_angle\":{\"expr\":{\"id\":\"1122\",\"type\":\"CumSum\"},\"units\":\"rad\"},\"x\":{\"value\":0},\"y\":{\"value\":1}},\"id\":\"1126\",\"type\":\"Wedge\"}],\"root_ids\":[\"1098\"]},\"title\":\"Bokeh Application\",\"version\":\"1.4.0\"}};\n",
       "  var render_items = [{\"docid\":\"3192c3e5-e627-46f9-8e35-23ec59c9945b\",\"roots\":{\"1098\":\"49207187-d0a1-47f0-9325-e28da0220f74\"}}];\n",
       "  root.Bokeh.embed.embed_items_notebook(docs_json, render_items);\n",
       "\n",
       "  }\n",
       "  if (root.Bokeh !== undefined) {\n",
       "    embed_document(root);\n",
       "  } else {\n",
       "    var attempts = 0;\n",
       "    var timer = setInterval(function(root) {\n",
       "      if (root.Bokeh !== undefined) {\n",
       "        clearInterval(timer);\n",
       "        embed_document(root);\n",
       "      } else {\n",
       "        attempts++;\n",
       "        if (attempts > 100) {\n",
       "          clearInterval(timer);\n",
       "          console.log(\"Bokeh: ERROR: Unable to run BokehJS code because BokehJS library is missing\");\n",
       "        }\n",
       "      }\n",
       "    }, 10, root)\n",
       "  }\n",
       "})(window);"
      ],
      "application/vnd.bokehjs_exec.v0+json": ""
     },
     "metadata": {
      "application/vnd.bokehjs_exec.v0+json": {
       "id": "1098"
      }
     },
     "output_type": "display_data"
    }
   ],
   "source": [
    "porg = pd.DataFrame.from_dict({\"item1\": 10, \"item2\": 30, \"item3\": 50}, orient='index')\n",
    "porg = porg.reset_index()\n",
    "porg.columns = ['items_col', 'values_col']\n",
    "\n",
    "piechart(porg, \"items_col\", \"values_col\")"
   ]
  },
  {
   "cell_type": "markdown",
   "metadata": {},
   "source": [
    "### Line graph with range "
   ]
  },
  {
   "cell_type": "code",
   "execution_count": 8,
   "metadata": {},
   "outputs": [],
   "source": [
    "def line_range(dates, data, start_date_number=0, end_date_number=30, label=\"Label\", line_colour=\"maroon\"):\n",
    "    source = ColumnDataSource(data=dict(date=dates, data=data))\n",
    "    \n",
    "    p = figure(plot_height=300, plot_width=1000, tools=\"xpan\", toolbar_location=None,\n",
    "           x_axis_type=\"datetime\", x_axis_location=\"above\",\n",
    "           background_fill_color=\"#efefef\", x_range=(dates[start_date_number], dates[end_date_number]))\n",
    "    \n",
    "    p.line('date', 'data', source=source, color=line_colour, line_width=2)\n",
    "    p.yaxis.axis_label = label\n",
    "    \n",
    "    select = figure(title=\"Drag slider\",\n",
    "                plot_height=130, plot_width=1000, y_range=p.y_range,\n",
    "                x_axis_type=\"datetime\", y_axis_type=None,\n",
    "                tools=\"\", toolbar_location=None, \n",
    "                background_fill_color= \"#2b2b2b\")\n",
    "                #background_fill_color=\"#efefef\")\n",
    "    \n",
    "    range_tool = RangeTool(x_range=p.x_range)\n",
    "    range_tool.overlay.fill_color = \"white\"\n",
    "    range_tool.overlay.fill_alpha = 0.2\n",
    "    \n",
    "    select.line('date', 'data', source=source)\n",
    "    select.ygrid.grid_line_color = None\n",
    "    select.add_tools(range_tool)\n",
    "    select.toolbar.active_multi = range_tool\n",
    "    \n",
    "    show(column(p, select))"
   ]
  },
  {
   "cell_type": "code",
   "execution_count": 9,
   "metadata": {},
   "outputs": [
    {
     "name": "stderr",
     "output_type": "stream",
     "text": [
      "/Users/dea/opt/anaconda3/lib/python3.7/site-packages/bokeh/core/property/bases.py:237: DeprecationWarning: elementwise comparison failed; this will raise an error in the future.\n",
      "  return new == old\n",
      "/Users/dea/opt/anaconda3/lib/python3.7/site-packages/bokeh/core/property/bases.py:237: DeprecationWarning: elementwise comparison failed; this will raise an error in the future.\n",
      "  return new == old\n"
     ]
    },
    {
     "data": {
      "text/html": [
       "\n",
       "\n",
       "\n",
       "\n",
       "\n",
       "\n",
       "  <div class=\"bk-root\" id=\"04913b0a-46c9-4730-8660-d0e4540ede0a\" data-root-id=\"1248\"></div>\n"
      ]
     },
     "metadata": {},
     "output_type": "display_data"
    },
    {
     "data": {
      "application/javascript": [
       "(function(root) {\n",
       "  function embed_document(root) {\n",
       "    \n",
       "  var docs_json = {\"b35ecc43-4a19-4951-91b6-7f8068a482b8\":{\"roots\":{\"references\":[{\"attributes\":{\"children\":[{\"id\":\"1195\",\"subtype\":\"Figure\",\"type\":\"Plot\"},{\"id\":\"1222\",\"subtype\":\"Figure\",\"type\":\"Plot\"}]},\"id\":\"1248\",\"type\":\"Column\"},{\"attributes\":{},\"id\":\"1269\",\"type\":\"BasicTickFormatter\"},{\"attributes\":{\"formatter\":{\"id\":\"1267\",\"type\":\"DatetimeTickFormatter\"},\"ticker\":{\"id\":\"1205\",\"type\":\"DatetimeTicker\"}},\"id\":\"1204\",\"type\":\"DatetimeAxis\"},{\"attributes\":{\"source\":{\"id\":\"1194\",\"type\":\"ColumnDataSource\"}},\"id\":\"1245\",\"type\":\"CDSView\"},{\"attributes\":{\"days\":[1,2,3,4,5,6,7,8,9,10,11,12,13,14,15,16,17,18,19,20,21,22,23,24,25,26,27,28,29,30,31]},\"id\":\"1276\",\"type\":\"DaysTicker\"},{\"attributes\":{\"dimension\":1,\"ticker\":{\"id\":\"1210\",\"type\":\"BasicTicker\"}},\"id\":\"1213\",\"type\":\"Grid\"},{\"attributes\":{\"formatter\":{\"id\":\"1271\",\"type\":\"DatetimeTickFormatter\"},\"ticker\":{\"id\":\"1233\",\"type\":\"DatetimeTicker\"}},\"id\":\"1232\",\"type\":\"DatetimeAxis\"},{\"attributes\":{\"months\":[0,1,2,3,4,5,6,7,8,9,10,11]},\"id\":\"1280\",\"type\":\"MonthsTicker\"},{\"attributes\":{\"num_minor_ticks\":5,\"tickers\":[{\"id\":\"1273\",\"type\":\"AdaptiveTicker\"},{\"id\":\"1274\",\"type\":\"AdaptiveTicker\"},{\"id\":\"1275\",\"type\":\"AdaptiveTicker\"},{\"id\":\"1276\",\"type\":\"DaysTicker\"},{\"id\":\"1277\",\"type\":\"DaysTicker\"},{\"id\":\"1278\",\"type\":\"DaysTicker\"},{\"id\":\"1279\",\"type\":\"DaysTicker\"},{\"id\":\"1280\",\"type\":\"MonthsTicker\"},{\"id\":\"1281\",\"type\":\"MonthsTicker\"},{\"id\":\"1282\",\"type\":\"MonthsTicker\"},{\"id\":\"1283\",\"type\":\"MonthsTicker\"},{\"id\":\"1284\",\"type\":\"YearsTicker\"}]},\"id\":\"1205\",\"type\":\"DatetimeTicker\"},{\"attributes\":{},\"id\":\"1286\",\"type\":\"UnionRenderers\"},{\"attributes\":{\"active_drag\":\"auto\",\"active_inspect\":\"auto\",\"active_multi\":null,\"active_scroll\":\"auto\",\"active_tap\":\"auto\",\"tools\":[{\"id\":\"1214\",\"type\":\"PanTool\"}]},\"id\":\"1215\",\"type\":\"Toolbar\"},{\"attributes\":{\"num_minor_ticks\":5,\"tickers\":[{\"id\":\"1287\",\"type\":\"AdaptiveTicker\"},{\"id\":\"1288\",\"type\":\"AdaptiveTicker\"},{\"id\":\"1289\",\"type\":\"AdaptiveTicker\"},{\"id\":\"1290\",\"type\":\"DaysTicker\"},{\"id\":\"1291\",\"type\":\"DaysTicker\"},{\"id\":\"1292\",\"type\":\"DaysTicker\"},{\"id\":\"1293\",\"type\":\"DaysTicker\"},{\"id\":\"1294\",\"type\":\"MonthsTicker\"},{\"id\":\"1295\",\"type\":\"MonthsTicker\"},{\"id\":\"1296\",\"type\":\"MonthsTicker\"},{\"id\":\"1297\",\"type\":\"MonthsTicker\"},{\"id\":\"1298\",\"type\":\"YearsTicker\"}]},\"id\":\"1233\",\"type\":\"DatetimeTicker\"},{\"attributes\":{\"months\":[0,4,8]},\"id\":\"1282\",\"type\":\"MonthsTicker\"},{\"attributes\":{},\"id\":\"1284\",\"type\":\"YearsTicker\"},{\"attributes\":{\"ticker\":{\"id\":\"1205\",\"type\":\"DatetimeTicker\"}},\"id\":\"1208\",\"type\":\"Grid\"},{\"attributes\":{\"months\":[0,2,4,6,8,10]},\"id\":\"1281\",\"type\":\"MonthsTicker\"},{\"attributes\":{},\"id\":\"1285\",\"type\":\"Selection\"},{\"attributes\":{\"callback\":null},\"id\":\"1198\",\"type\":\"DataRange1d\"},{\"attributes\":{},\"id\":\"1210\",\"type\":\"BasicTicker\"},{\"attributes\":{\"mantissas\":[1,2,5],\"max_interval\":500.0,\"num_minor_ticks\":0},\"id\":\"1287\",\"type\":\"AdaptiveTicker\"},{\"attributes\":{\"axis_label\":\"My Label\",\"formatter\":{\"id\":\"1269\",\"type\":\"BasicTickFormatter\"},\"ticker\":{\"id\":\"1210\",\"type\":\"BasicTicker\"}},\"id\":\"1209\",\"type\":\"LinearAxis\"},{\"attributes\":{\"months\":[0,6]},\"id\":\"1297\",\"type\":\"MonthsTicker\"},{\"attributes\":{\"ticker\":{\"id\":\"1233\",\"type\":\"DatetimeTicker\"}},\"id\":\"1236\",\"type\":\"Grid\"},{\"attributes\":{\"active_drag\":\"auto\",\"active_inspect\":\"auto\",\"active_multi\":{\"id\":\"1238\",\"type\":\"RangeTool\"},\"active_scroll\":\"auto\",\"active_tap\":\"auto\",\"tools\":[{\"id\":\"1238\",\"type\":\"RangeTool\"}]},\"id\":\"1237\",\"type\":\"Toolbar\"},{\"attributes\":{\"base\":24,\"mantissas\":[1,2,4,6,8,12],\"max_interval\":43200000.0,\"min_interval\":3600000.0,\"num_minor_ticks\":0},\"id\":\"1289\",\"type\":\"AdaptiveTicker\"},{\"attributes\":{\"base\":60,\"mantissas\":[1,2,5,10,15,20,30],\"max_interval\":1800000.0,\"min_interval\":1000.0,\"num_minor_ticks\":0},\"id\":\"1288\",\"type\":\"AdaptiveTicker\"},{\"attributes\":{\"fill_alpha\":{\"value\":0.2},\"fill_color\":{\"value\":\"white\"},\"level\":\"overlay\",\"line_alpha\":{\"value\":1.0},\"line_color\":{\"value\":\"black\"},\"line_dash\":[2,2],\"line_width\":{\"value\":0.5}},\"id\":\"1239\",\"type\":\"BoxAnnotation\"},{\"attributes\":{\"callback\":null,\"end\":952128000000.0,\"start\":951868800000.0},\"id\":\"1196\",\"type\":\"Range1d\"},{\"attributes\":{\"dimensions\":\"width\"},\"id\":\"1214\",\"type\":\"PanTool\"},{\"attributes\":{\"background_fill_color\":{\"value\":\"#2b2b2b\"},\"below\":[{\"id\":\"1232\",\"type\":\"DatetimeAxis\"}],\"center\":[{\"id\":\"1236\",\"type\":\"Grid\"}],\"plot_height\":130,\"plot_width\":1000,\"renderers\":[{\"id\":\"1244\",\"type\":\"GlyphRenderer\"}],\"title\":{\"id\":\"1223\",\"type\":\"Title\"},\"toolbar\":{\"id\":\"1237\",\"type\":\"Toolbar\"},\"toolbar_location\":null,\"x_range\":{\"id\":\"1225\",\"type\":\"DataRange1d\"},\"x_scale\":{\"id\":\"1228\",\"type\":\"LinearScale\"},\"y_range\":{\"id\":\"1198\",\"type\":\"DataRange1d\"},\"y_scale\":{\"id\":\"1230\",\"type\":\"LinearScale\"}},\"id\":\"1222\",\"subtype\":\"Figure\",\"type\":\"Plot\"},{\"attributes\":{\"line_alpha\":0.1,\"line_color\":\"#1f77b4\",\"x\":{\"field\":\"date\"},\"y\":{\"field\":\"data\"}},\"id\":\"1243\",\"type\":\"Line\"},{\"attributes\":{\"base\":60,\"mantissas\":[1,2,5,10,15,20,30],\"max_interval\":1800000.0,\"min_interval\":1000.0,\"num_minor_ticks\":0},\"id\":\"1274\",\"type\":\"AdaptiveTicker\"},{\"attributes\":{\"callback\":null,\"data\":{\"data\":[100,300,100,100,300,100,100,300,20],\"date\":{\"__ndarray__\":\"AACAp/mza0IAAABznrRrQgAAgD5DtWtCAAAACui1a0IAAIDVjLZrQgAAAKExt2tCAACAbNa3a0IAAAA4e7hrQgAAgAMguWtC\",\"dtype\":\"float64\",\"shape\":[9]}},\"selected\":{\"id\":\"1285\",\"type\":\"Selection\"},\"selection_policy\":{\"id\":\"1286\",\"type\":\"UnionRenderers\"}},\"id\":\"1194\",\"type\":\"ColumnDataSource\"},{\"attributes\":{\"line_color\":\"#1f77b4\",\"x\":{\"field\":\"date\"},\"y\":{\"field\":\"data\"}},\"id\":\"1242\",\"type\":\"Line\"},{\"attributes\":{\"days\":[1,4,7,10,13,16,19,22,25,28]},\"id\":\"1277\",\"type\":\"DaysTicker\"},{\"attributes\":{\"days\":[1,2,3,4,5,6,7,8,9,10,11,12,13,14,15,16,17,18,19,20,21,22,23,24,25,26,27,28,29,30,31]},\"id\":\"1290\",\"type\":\"DaysTicker\"},{\"attributes\":{\"above\":[{\"id\":\"1204\",\"type\":\"DatetimeAxis\"}],\"background_fill_color\":{\"value\":\"#efefef\"},\"center\":[{\"id\":\"1208\",\"type\":\"Grid\"},{\"id\":\"1213\",\"type\":\"Grid\"}],\"left\":[{\"id\":\"1209\",\"type\":\"LinearAxis\"}],\"plot_height\":300,\"plot_width\":1000,\"renderers\":[{\"id\":\"1220\",\"type\":\"GlyphRenderer\"}],\"title\":{\"id\":\"1264\",\"type\":\"Title\"},\"toolbar\":{\"id\":\"1215\",\"type\":\"Toolbar\"},\"toolbar_location\":null,\"x_range\":{\"id\":\"1196\",\"type\":\"Range1d\"},\"x_scale\":{\"id\":\"1200\",\"type\":\"LinearScale\"},\"y_range\":{\"id\":\"1198\",\"type\":\"DataRange1d\"},\"y_scale\":{\"id\":\"1202\",\"type\":\"LinearScale\"}},\"id\":\"1195\",\"subtype\":\"Figure\",\"type\":\"Plot\"},{\"attributes\":{\"months\":[0,6]},\"id\":\"1283\",\"type\":\"MonthsTicker\"},{\"attributes\":{\"days\":[1,4,7,10,13,16,19,22,25,28]},\"id\":\"1291\",\"type\":\"DaysTicker\"},{\"attributes\":{\"data_source\":{\"id\":\"1194\",\"type\":\"ColumnDataSource\"},\"glyph\":{\"id\":\"1218\",\"type\":\"Line\"},\"hover_glyph\":null,\"muted_glyph\":null,\"nonselection_glyph\":{\"id\":\"1219\",\"type\":\"Line\"},\"selection_glyph\":null,\"view\":{\"id\":\"1221\",\"type\":\"CDSView\"}},\"id\":\"1220\",\"type\":\"GlyphRenderer\"},{\"attributes\":{},\"id\":\"1200\",\"type\":\"LinearScale\"},{\"attributes\":{\"line_alpha\":0.1,\"line_color\":\"#1f77b4\",\"line_width\":2,\"x\":{\"field\":\"date\"},\"y\":{\"field\":\"data\"}},\"id\":\"1219\",\"type\":\"Line\"},{\"attributes\":{},\"id\":\"1202\",\"type\":\"LinearScale\"},{\"attributes\":{},\"id\":\"1230\",\"type\":\"LinearScale\"},{\"attributes\":{\"base\":24,\"mantissas\":[1,2,4,6,8,12],\"max_interval\":43200000.0,\"min_interval\":3600000.0,\"num_minor_ticks\":0},\"id\":\"1275\",\"type\":\"AdaptiveTicker\"},{\"attributes\":{\"days\":[1,8,15,22]},\"id\":\"1278\",\"type\":\"DaysTicker\"},{\"attributes\":{\"data_source\":{\"id\":\"1194\",\"type\":\"ColumnDataSource\"},\"glyph\":{\"id\":\"1242\",\"type\":\"Line\"},\"hover_glyph\":null,\"muted_glyph\":null,\"nonselection_glyph\":{\"id\":\"1243\",\"type\":\"Line\"},\"selection_glyph\":null,\"view\":{\"id\":\"1245\",\"type\":\"CDSView\"}},\"id\":\"1244\",\"type\":\"GlyphRenderer\"},{\"attributes\":{\"mantissas\":[1,2,5],\"max_interval\":500.0,\"num_minor_ticks\":0},\"id\":\"1273\",\"type\":\"AdaptiveTicker\"},{\"attributes\":{\"days\":[1,15]},\"id\":\"1279\",\"type\":\"DaysTicker\"},{\"attributes\":{\"days\":[1,8,15,22]},\"id\":\"1292\",\"type\":\"DaysTicker\"},{\"attributes\":{\"text\":\"\"},\"id\":\"1264\",\"type\":\"Title\"},{\"attributes\":{\"source\":{\"id\":\"1194\",\"type\":\"ColumnDataSource\"}},\"id\":\"1221\",\"type\":\"CDSView\"},{\"attributes\":{\"days\":[1,15]},\"id\":\"1293\",\"type\":\"DaysTicker\"},{\"attributes\":{\"callback\":null},\"id\":\"1225\",\"type\":\"DataRange1d\"},{\"attributes\":{\"line_color\":\"deepskyblue\",\"line_width\":2,\"x\":{\"field\":\"date\"},\"y\":{\"field\":\"data\"}},\"id\":\"1218\",\"type\":\"Line\"},{\"attributes\":{\"months\":[0,1,2,3,4,5,6,7,8,9,10,11]},\"id\":\"1294\",\"type\":\"MonthsTicker\"},{\"attributes\":{},\"id\":\"1267\",\"type\":\"DatetimeTickFormatter\"},{\"attributes\":{\"overlay\":{\"id\":\"1239\",\"type\":\"BoxAnnotation\"},\"x_range\":{\"id\":\"1196\",\"type\":\"Range1d\"},\"y_range\":null},\"id\":\"1238\",\"type\":\"RangeTool\"},{\"attributes\":{},\"id\":\"1271\",\"type\":\"DatetimeTickFormatter\"},{\"attributes\":{\"months\":[0,2,4,6,8,10]},\"id\":\"1295\",\"type\":\"MonthsTicker\"},{\"attributes\":{\"text\":\"Drag slider\"},\"id\":\"1223\",\"type\":\"Title\"},{\"attributes\":{\"months\":[0,4,8]},\"id\":\"1296\",\"type\":\"MonthsTicker\"},{\"attributes\":{},\"id\":\"1298\",\"type\":\"YearsTicker\"},{\"attributes\":{},\"id\":\"1228\",\"type\":\"LinearScale\"}],\"root_ids\":[\"1248\"]},\"title\":\"Bokeh Application\",\"version\":\"1.4.0\"}};\n",
       "  var render_items = [{\"docid\":\"b35ecc43-4a19-4951-91b6-7f8068a482b8\",\"roots\":{\"1248\":\"04913b0a-46c9-4730-8660-d0e4540ede0a\"}}];\n",
       "  root.Bokeh.embed.embed_items_notebook(docs_json, render_items);\n",
       "\n",
       "  }\n",
       "  if (root.Bokeh !== undefined) {\n",
       "    embed_document(root);\n",
       "  } else {\n",
       "    var attempts = 0;\n",
       "    var timer = setInterval(function(root) {\n",
       "      if (root.Bokeh !== undefined) {\n",
       "        clearInterval(timer);\n",
       "        embed_document(root);\n",
       "      } else {\n",
       "        attempts++;\n",
       "        if (attempts > 100) {\n",
       "          clearInterval(timer);\n",
       "          console.log(\"Bokeh: ERROR: Unable to run BokehJS code because BokehJS library is missing\");\n",
       "        }\n",
       "      }\n",
       "    }, 10, root)\n",
       "  }\n",
       "})(window);"
      ],
      "application/vnd.bokehjs_exec.v0+json": ""
     },
     "metadata": {
      "application/vnd.bokehjs_exec.v0+json": {
       "id": "1248"
      }
     },
     "output_type": "display_data"
    }
   ],
   "source": [
    "dates = np.array(['2000-03-01', '2000-03-02', '2000-03-03',\n",
    "                 '2000-03-04', '2000-03-05', '2000-03-06',\n",
    "                 '2000-03-07', '2000-03-08', '2000-03-09'], dtype=np.datetime64)\n",
    "data = np.array([100, 300, 100, 100, 300, 100, 100, 300, 20])\n",
    "line_range(dates, data, 0, 3, label=\"My Label\", line_colour=\"deepskyblue\")"
   ]
  },
  {
   "cell_type": "markdown",
   "metadata": {},
   "source": [
    "# Data Processing and Cleaning "
   ]
  },
  {
   "cell_type": "markdown",
   "metadata": {},
   "source": [
    "### Basic filter out data you need from the tweet downloads"
   ]
  },
  {
   "cell_type": "code",
   "execution_count": 10,
   "metadata": {},
   "outputs": [],
   "source": [
    "# data to keep \n",
    "data_to_keep = [\n",
    "    'created_at',\n",
    "    'id',\n",
    "    'full_text',\n",
    "    'entities',\n",
    "    'media',\n",
    "    'in_reply_to_status_id',\n",
    "    'in_reply_to_user_id',\n",
    "    'is_quote_status',\n",
    "    'retweet_count',\n",
    "    'favorite_count'\n",
    "]\n",
    "\n",
    "\n",
    "def extract_useful_info(tweets, handle):\n",
    "    clean_tweets = []\n",
    "    for i in range(len(tweets)):\n",
    "        tweet = tweets[i]._json\n",
    "        clean_tweet = {\n",
    "            'created_at': tweet['created_at'],\n",
    "            'id': tweet['id'],\n",
    "            'full_text': tweet['full_text'],\n",
    "            'url': \"https://twitter.com/\"+ handle +\"/status/\" + str(tweet['id']),\n",
    "            'entities': tweet['entities'],\n",
    "            'in_reply_to_status_id': tweet['in_reply_to_status_id'],\n",
    "            'in_reply_to_user_id': tweet['in_reply_to_user_id'],\n",
    "            'is_quote_status': tweet['is_quote_status'],\n",
    "            'retweet_count': tweet['retweet_count'],\n",
    "            'favorite_count': tweet['favorite_count']     \n",
    "        }\n",
    "        clean_tweets.append(clean_tweet)\n",
    "    return clean_tweets"
   ]
  },
  {
   "cell_type": "markdown",
   "metadata": {},
   "source": [
    "### Feature extraction \n",
    "once the data is in a dataframe format "
   ]
  },
  {
   "cell_type": "code",
   "execution_count": 11,
   "metadata": {},
   "outputs": [],
   "source": [
    "def get_time_features(df):\n",
    "    df['date'] = pd.to_datetime(df['created_at'])\n",
    "    df['date'] = pd.to_datetime(df['date'])\n",
    "    df['year'] = df['date'].dt.year \n",
    "    df['month'] = df['date'].dt.month\n",
    "    df['day'] = df['date'].dt.day\n",
    "    df['hour'] = df['date'].dt.hour\n",
    "    df['weekday'] = df['date'].dt.weekday\n",
    "    df['date'] = pd.to_datetime(df['date'].apply(lambda x : str(x).split(\" \")[0]))\n",
    "    return df"
   ]
  },
  {
   "cell_type": "code",
   "execution_count": 12,
   "metadata": {},
   "outputs": [],
   "source": [
    "def get_hashtags(df):\n",
    "    df['hashtags'] = df['entities'].apply(lambda x : \";\".join(hashtag['text'] for hashtag in x['hashtags']))\n",
    "    df['number_hashtags_used'] = df['entities'].apply(lambda x : len(x['hashtags']))\n",
    "    return df"
   ]
  },
  {
   "cell_type": "code",
   "execution_count": 13,
   "metadata": {},
   "outputs": [],
   "source": [
    "# get both the screen name (handle) and name for each user mentioned in a given tweet. separated by ;\n",
    "def get_user_metnions(df):\n",
    "    df['user_mentions_handle'] = df['entities'].apply(lambda x : \";\".join([user['screen_name'] for user in x['user_mentions']]))\n",
    "    df['user_mentions_name'] = df['entities'].apply(lambda x : \";\".join([user['name'] for user in x['user_mentions']]))\n",
    "    return df"
   ]
  },
  {
   "cell_type": "code",
   "execution_count": 14,
   "metadata": {},
   "outputs": [],
   "source": [
    "# get any urls mentioned in the tweet. separated by ;\n",
    "def get_mentioned_urls(df):\n",
    "    df['mentioned_urls'] = df['entities'].apply(lambda x : \";\".join([url['expanded_url'] for url in x['urls']]))\n",
    "    return df"
   ]
  },
  {
   "cell_type": "code",
   "execution_count": 15,
   "metadata": {},
   "outputs": [],
   "source": [
    "# get a column for True or False for has any media (images or video) or not \n",
    "# derive column with all the media link separated by ;\n",
    "# deravie a column with all the media types separated by ; in the same order as the links\n",
    "def get_contains_media(df):\n",
    "    df['has_media'] = df['entities'].apply(lambda x : \"media_url\" in str(x))\n",
    "    df['media_urls'] = \"\"\n",
    "    df.loc[df['has_media'] == True, 'media_urls'] = df[df['has_media'] == True]['entities'].apply(\n",
    "        lambda x : \";\".join([media_url['media_url_https'] for media_url in x['media']]) )\n",
    "    df['media_types'] = \"\"\n",
    "    df.loc[df['has_media'] == True, 'media_types'] = df[df['has_media'] == True]['entities'].apply(\n",
    "        lambda x : \";\".join([media_type['type'] for media_type in x['media']]) )\n",
    "    \n",
    "    return df"
   ]
  },
  {
   "cell_type": "code",
   "execution_count": 16,
   "metadata": {},
   "outputs": [],
   "source": [
    "# check if the tweet is a retweet or not\n",
    "def get_is_retweet(df):   \n",
    "    df[\"is_retweet\"] = df['full_text'].apply(lambda x : \"RT\" in x)\n",
    "    return df "
   ]
  },
  {
   "cell_type": "code",
   "execution_count": 17,
   "metadata": {},
   "outputs": [],
   "source": [
    "# filter data based on time \n",
    "def filter_by_date(df):\n",
    "    df = df[df['year'] == 2020] \n",
    "    return df"
   ]
  },
  {
   "cell_type": "code",
   "execution_count": 18,
   "metadata": {},
   "outputs": [],
   "source": [
    "def prep_data(df):\n",
    "    df = get_time_features(df)\n",
    "    df = get_hashtags(df)\n",
    "    df = get_user_metnions(df)\n",
    "    df = get_mentioned_urls(df)\n",
    "    df = get_contains_media(df)\n",
    "    df = filter_by_date(df)\n",
    "    df = get_is_retweet(df)\n",
    "    return df"
   ]
  },
  {
   "cell_type": "markdown",
   "metadata": {},
   "source": [
    "## Load and transform data"
   ]
  },
  {
   "cell_type": "code",
   "execution_count": 19,
   "metadata": {},
   "outputs": [],
   "source": [
    "tweets_path = \"../Data/tweets/\""
   ]
  },
  {
   "cell_type": "code",
   "execution_count": 20,
   "metadata": {},
   "outputs": [],
   "source": [
    "# get useful json type data from the api \n",
    "# GOVERNMENT ACCOUNTS #\n",
    "tweets_ja_pm_all = pickle.load( open( tweets_path + \"tweets_kantei_nov14.p\", \"rb\" ) )\n",
    "tweets_ja_pm_all = extract_useful_info(tweets_ja_pm_all, 'kantei')\n",
    "\n",
    "tweets_uk_pm_all = pickle.load( open( tweets_path + \"tweets_10downingstreet_nov14.p\", \"rb\" ) )\n",
    "tweets_uk_pm_all = extract_useful_info(tweets_uk_pm_all, \"10DowningStreet\")"
   ]
  },
  {
   "cell_type": "raw",
   "metadata": {},
   "source": [
    "# PERSONAL ACCOUNTS #\n",
    "tweets_abe_all = pickle.load( open( tweets_path + \"tweets_abe_Apr15Oct.p\", \"rb\" ) )\n",
    "tweets_abe_all = extract_useful_info(tweets_abe_all, 'AbeShinzo')\n",
    "\n",
    "tweets_boris_all = pickle.load( open( tweets_path + \"tweets_boris_Jul19Oct.p\", \"rb\" ) )\n",
    "tweets_boris_all = extract_useful_info(tweets_boris_all, \"BorisJohnson\")"
   ]
  },
  {
   "cell_type": "code",
   "execution_count": 21,
   "metadata": {},
   "outputs": [
    {
     "name": "stderr",
     "output_type": "stream",
     "text": [
      "/Users/dea/opt/anaconda3/lib/python3.7/site-packages/ipykernel_launcher.py:3: SettingWithCopyWarning: \n",
      "A value is trying to be set on a copy of a slice from a DataFrame.\n",
      "Try using .loc[row_indexer,col_indexer] = value instead\n",
      "\n",
      "See the caveats in the documentation: https://pandas.pydata.org/pandas-docs/stable/user_guide/indexing.html#returning-a-view-versus-a-copy\n",
      "  This is separate from the ipykernel package so we can avoid doing imports until\n"
     ]
    }
   ],
   "source": [
    "# GOVERNMENT ACCOUNTS #\n",
    "# put the data into a df for each and add column for the handle so that you can merge the dfs \n",
    "tweets_ja_pm_df = pd.DataFrame(tweets_ja_pm_all).set_index(\"id\")\n",
    "tweets_ja_pm_df['account'] = 'kantei'\n",
    "tweets_ja_pm_df['account_encode'] = 'JPPM'\n",
    "\n",
    "tweets_uk_pm_df = pd.DataFrame(tweets_uk_pm_all).set_index(\"id\")\n",
    "tweets_uk_pm_df['account'] = '10DowningStreet'\n",
    "tweets_uk_pm_df['account_encode'] = 'UKPM'\n",
    "\n",
    "# merge the dfs \n",
    "tweets_df_gov = tweets_ja_pm_df.append(tweets_uk_pm_df)\n",
    "\n",
    "# added features \n",
    "df = prep_data(tweets_df_gov)"
   ]
  },
  {
   "cell_type": "code",
   "execution_count": 22,
   "metadata": {},
   "outputs": [
    {
     "data": {
      "text/plain": [
       "3296"
      ]
     },
     "execution_count": 22,
     "metadata": {},
     "output_type": "execute_result"
    }
   ],
   "source": [
    "len(df)"
   ]
  },
  {
   "cell_type": "raw",
   "metadata": {},
   "source": [
    "# PERSONAL ACCOUNTS #\n",
    "tweets_abe_df = pd.DataFrame(tweets_abe_all).set_index(\"id\")\n",
    "tweets_abe_df['account'] = 'AbeShinzo'\n",
    "tweets_abe_df['account_encode'] = 'abe'\n",
    "\n",
    "tweets_boris_df = pd.DataFrame(tweets_boris_all).set_index(\"id\")\n",
    "tweets_boris_df['account'] = 'BorisJohnson'\n",
    "tweets_boris_df['account_encode'] = 'boris'"
   ]
  },
  {
   "cell_type": "raw",
   "metadata": {},
   "source": [
    "# merge the dfs \n",
    "tweets_df_gov = tweets_ja_pm_df.append(tweets_uk_pm_df)\n",
    "tweets_df_per = tweets_abe_df.append(tweets_boris_df)\n",
    "tweets_df = tweets_df_gov.append(tweets_df_per)\n",
    "\n",
    "\n",
    "# added features \n",
    "df = prep_data(tweets_df)"
   ]
  },
  {
   "cell_type": "markdown",
   "metadata": {},
   "source": [
    "### Add translation for Japanese tweets"
   ]
  },
  {
   "cell_type": "raw",
   "metadata": {},
   "source": [
    "from google.cloud import translate_v2 as translate\n",
    "translate_client = translate.Client()"
   ]
  },
  {
   "cell_type": "code",
   "execution_count": 23,
   "metadata": {},
   "outputs": [],
   "source": [
    "def batch_translate(texts_list, target_language=\"en\"):\n",
    "    results = []\n",
    "    for text in texts_list:\n",
    "        if isinstance(text, six.binary_type):\n",
    "            text = text.decode(\"utf-8\")\n",
    "        try:\n",
    "            result = translate_client.translate(text, target_language=\"en\")[\"translatedText\"]\n",
    "            # just replace the quotes and apostophies for readability; any other cleaning should happen later if necessary\n",
    "            result = result.replace(\"&quot;\", \"'\")\n",
    "            result = result.replace(\"&#39;\", \"'\")\n",
    "        except: \n",
    "            result = \"\"\n",
    "        results.append(result)  \n",
    "    return results"
   ]
  },
  {
   "cell_type": "raw",
   "metadata": {},
   "source": [
    "translations = batch_translate(df['full_text'].tolist())"
   ]
  },
  {
   "cell_type": "raw",
   "metadata": {},
   "source": [
    "df[\"translation\"] = translations"
   ]
  },
  {
   "cell_type": "raw",
   "metadata": {},
   "source": [
    "df.to_csv(os.path.join(tweets_path, \"df_tweets_nov14.csv\"))"
   ]
  },
  {
   "cell_type": "code",
   "execution_count": 24,
   "metadata": {},
   "outputs": [],
   "source": [
    "df = pd.read_csv(os.path.join(tweets_path, \"df_tweets_nov14.csv\"), index_col=0)"
   ]
  },
  {
   "cell_type": "code",
   "execution_count": 25,
   "metadata": {},
   "outputs": [
    {
     "data": {
      "text/html": [
       "<div>\n",
       "<style scoped>\n",
       "    .dataframe tbody tr th:only-of-type {\n",
       "        vertical-align: middle;\n",
       "    }\n",
       "\n",
       "    .dataframe tbody tr th {\n",
       "        vertical-align: top;\n",
       "    }\n",
       "\n",
       "    .dataframe thead th {\n",
       "        text-align: right;\n",
       "    }\n",
       "</style>\n",
       "<table border=\"1\" class=\"dataframe\">\n",
       "  <thead>\n",
       "    <tr style=\"text-align: right;\">\n",
       "      <th></th>\n",
       "      <th>created_at</th>\n",
       "      <th>full_text</th>\n",
       "      <th>url</th>\n",
       "      <th>entities</th>\n",
       "      <th>in_reply_to_status_id</th>\n",
       "      <th>in_reply_to_user_id</th>\n",
       "      <th>is_quote_status</th>\n",
       "      <th>retweet_count</th>\n",
       "      <th>favorite_count</th>\n",
       "      <th>account</th>\n",
       "      <th>...</th>\n",
       "      <th>hashtags</th>\n",
       "      <th>number_hashtags_used</th>\n",
       "      <th>user_mentions_handle</th>\n",
       "      <th>user_mentions_name</th>\n",
       "      <th>mentioned_urls</th>\n",
       "      <th>has_media</th>\n",
       "      <th>media_urls</th>\n",
       "      <th>media_types</th>\n",
       "      <th>is_retweet</th>\n",
       "      <th>translation</th>\n",
       "    </tr>\n",
       "    <tr>\n",
       "      <th>id</th>\n",
       "      <th></th>\n",
       "      <th></th>\n",
       "      <th></th>\n",
       "      <th></th>\n",
       "      <th></th>\n",
       "      <th></th>\n",
       "      <th></th>\n",
       "      <th></th>\n",
       "      <th></th>\n",
       "      <th></th>\n",
       "      <th></th>\n",
       "      <th></th>\n",
       "      <th></th>\n",
       "      <th></th>\n",
       "      <th></th>\n",
       "      <th></th>\n",
       "      <th></th>\n",
       "      <th></th>\n",
       "      <th></th>\n",
       "      <th></th>\n",
       "      <th></th>\n",
       "    </tr>\n",
       "  </thead>\n",
       "  <tbody>\n",
       "    <tr>\n",
       "      <th>1327175518978904064</th>\n",
       "      <td>Fri Nov 13 09:04:36 +0000 2020</td>\n",
       "      <td>【加藤官房長官・記者会見】本日（11月13日）午後の動画を掲載しました。https://t....</td>\n",
       "      <td>https://twitter.com/kantei/status/132717551897...</td>\n",
       "      <td>{'hashtags': [], 'symbols': [], 'user_mentions...</td>\n",
       "      <td>NaN</td>\n",
       "      <td>NaN</td>\n",
       "      <td>False</td>\n",
       "      <td>40</td>\n",
       "      <td>296</td>\n",
       "      <td>kantei</td>\n",
       "      <td>...</td>\n",
       "      <td>NaN</td>\n",
       "      <td>0</td>\n",
       "      <td>NaN</td>\n",
       "      <td>NaN</td>\n",
       "      <td>https://www.kantei.go.jp/jp/tyoukanpress/20201...</td>\n",
       "      <td>False</td>\n",
       "      <td>NaN</td>\n",
       "      <td>NaN</td>\n",
       "      <td>False</td>\n",
       "      <td>[Chief Cabinet Secretary Kato / Press Conferen...</td>\n",
       "    </tr>\n",
       "    <tr>\n",
       "      <th>1327171179556212736</th>\n",
       "      <td>Fri Nov 13 08:47:21 +0000 2020</td>\n",
       "      <td>《総理の動き》本日（11月13日）菅総理は官邸でオンラインで開催された日メコン首脳会議に出席...</td>\n",
       "      <td>https://twitter.com/kantei/status/132717117955...</td>\n",
       "      <td>{'hashtags': [], 'symbols': [], 'user_mentions...</td>\n",
       "      <td>1.327146e+18</td>\n",
       "      <td>412940784.0</td>\n",
       "      <td>False</td>\n",
       "      <td>48</td>\n",
       "      <td>384</td>\n",
       "      <td>kantei</td>\n",
       "      <td>...</td>\n",
       "      <td>NaN</td>\n",
       "      <td>0</td>\n",
       "      <td>NaN</td>\n",
       "      <td>NaN</td>\n",
       "      <td>https://www.kantei.go.jp/jp/99_suga/actions/20...</td>\n",
       "      <td>True</td>\n",
       "      <td>https://pbs.twimg.com/media/EmsPI7UVEAAIoq7.jpg</td>\n",
       "      <td>photo</td>\n",
       "      <td>False</td>\n",
       "      <td>&amp;lt;&amp;lt; Movement of the Prime Minister &amp;gt;&amp;g...</td>\n",
       "    </tr>\n",
       "    <tr>\n",
       "      <th>1327146176064450560</th>\n",
       "      <td>Fri Nov 13 07:08:00 +0000 2020</td>\n",
       "      <td>#日メコン首脳会談\\n@sugawitter</td>\n",
       "      <td>https://twitter.com/kantei/status/132714617606...</td>\n",
       "      <td>{'hashtags': [{'text': '日メコン首脳会談', 'indices': ...</td>\n",
       "      <td>1.327146e+18</td>\n",
       "      <td>412940784.0</td>\n",
       "      <td>False</td>\n",
       "      <td>37</td>\n",
       "      <td>394</td>\n",
       "      <td>kantei</td>\n",
       "      <td>...</td>\n",
       "      <td>日メコン首脳会談</td>\n",
       "      <td>1</td>\n",
       "      <td>sugawitter</td>\n",
       "      <td>菅 義偉</td>\n",
       "      <td>NaN</td>\n",
       "      <td>False</td>\n",
       "      <td>NaN</td>\n",
       "      <td>NaN</td>\n",
       "      <td>False</td>\n",
       "      <td>#Mekong Summit Meeting @sugawitter</td>\n",
       "    </tr>\n",
       "    <tr>\n",
       "      <th>1327146172218298368</th>\n",
       "      <td>Fri Nov 13 07:07:59 +0000 2020</td>\n",
       "      <td>インド太平洋の中核であるメコン諸国🇻🇳🇰🇭🇱🇦🇲🇲🇹🇭と首脳会談を行いました。法の支配、海洋...</td>\n",
       "      <td>https://twitter.com/kantei/status/132714617221...</td>\n",
       "      <td>{'hashtags': [], 'symbols': [], 'user_mentions...</td>\n",
       "      <td>NaN</td>\n",
       "      <td>NaN</td>\n",
       "      <td>False</td>\n",
       "      <td>354</td>\n",
       "      <td>2273</td>\n",
       "      <td>kantei</td>\n",
       "      <td>...</td>\n",
       "      <td>NaN</td>\n",
       "      <td>0</td>\n",
       "      <td>NaN</td>\n",
       "      <td>NaN</td>\n",
       "      <td>NaN</td>\n",
       "      <td>True</td>\n",
       "      <td>https://pbs.twimg.com/media/Emr4TUOWEAEqjP_.jpg</td>\n",
       "      <td>photo</td>\n",
       "      <td>False</td>\n",
       "      <td>We had a summit meeting with the Mekong countr...</td>\n",
       "    </tr>\n",
       "    <tr>\n",
       "      <th>1327134798654173185</th>\n",
       "      <td>Fri Nov 13 06:22:47 +0000 2020</td>\n",
       "      <td>RT @Kantei_Saigai: https://t.co/RdelY42YII\\n\\n...</td>\n",
       "      <td>https://twitter.com/kantei/status/132713479865...</td>\n",
       "      <td>{'hashtags': [{'text': '新型コロナウイルス', 'indices':...</td>\n",
       "      <td>NaN</td>\n",
       "      <td>NaN</td>\n",
       "      <td>False</td>\n",
       "      <td>170</td>\n",
       "      <td>0</td>\n",
       "      <td>kantei</td>\n",
       "      <td>...</td>\n",
       "      <td>新型コロナウイルス;5つの場面</td>\n",
       "      <td>2</td>\n",
       "      <td>Kantei_Saigai;sugawitter</td>\n",
       "      <td>首相官邸(災害・危機管理情報);菅 義偉</td>\n",
       "      <td>https://corona.go.jp/proposal/</td>\n",
       "      <td>False</td>\n",
       "      <td>NaN</td>\n",
       "      <td>NaN</td>\n",
       "      <td>True</td>\n",
       "      <td>RT @Kantei_Saigai: https://t.co/RdelY42YII #Ne...</td>\n",
       "    </tr>\n",
       "  </tbody>\n",
       "</table>\n",
       "<p>5 rows × 27 columns</p>\n",
       "</div>"
      ],
      "text/plain": [
       "                                         created_at  \\\n",
       "id                                                    \n",
       "1327175518978904064  Fri Nov 13 09:04:36 +0000 2020   \n",
       "1327171179556212736  Fri Nov 13 08:47:21 +0000 2020   \n",
       "1327146176064450560  Fri Nov 13 07:08:00 +0000 2020   \n",
       "1327146172218298368  Fri Nov 13 07:07:59 +0000 2020   \n",
       "1327134798654173185  Fri Nov 13 06:22:47 +0000 2020   \n",
       "\n",
       "                                                             full_text  \\\n",
       "id                                                                       \n",
       "1327175518978904064  【加藤官房長官・記者会見】本日（11月13日）午後の動画を掲載しました。https://t....   \n",
       "1327171179556212736  《総理の動き》本日（11月13日）菅総理は官邸でオンラインで開催された日メコン首脳会議に出席...   \n",
       "1327146176064450560                             #日メコン首脳会談\\n@sugawitter   \n",
       "1327146172218298368  インド太平洋の中核であるメコン諸国🇻🇳🇰🇭🇱🇦🇲🇲🇹🇭と首脳会談を行いました。法の支配、海洋...   \n",
       "1327134798654173185  RT @Kantei_Saigai: https://t.co/RdelY42YII\\n\\n...   \n",
       "\n",
       "                                                                   url  \\\n",
       "id                                                                       \n",
       "1327175518978904064  https://twitter.com/kantei/status/132717551897...   \n",
       "1327171179556212736  https://twitter.com/kantei/status/132717117955...   \n",
       "1327146176064450560  https://twitter.com/kantei/status/132714617606...   \n",
       "1327146172218298368  https://twitter.com/kantei/status/132714617221...   \n",
       "1327134798654173185  https://twitter.com/kantei/status/132713479865...   \n",
       "\n",
       "                                                              entities  \\\n",
       "id                                                                       \n",
       "1327175518978904064  {'hashtags': [], 'symbols': [], 'user_mentions...   \n",
       "1327171179556212736  {'hashtags': [], 'symbols': [], 'user_mentions...   \n",
       "1327146176064450560  {'hashtags': [{'text': '日メコン首脳会談', 'indices': ...   \n",
       "1327146172218298368  {'hashtags': [], 'symbols': [], 'user_mentions...   \n",
       "1327134798654173185  {'hashtags': [{'text': '新型コロナウイルス', 'indices':...   \n",
       "\n",
       "                     in_reply_to_status_id  in_reply_to_user_id  \\\n",
       "id                                                                \n",
       "1327175518978904064                    NaN                  NaN   \n",
       "1327171179556212736           1.327146e+18          412940784.0   \n",
       "1327146176064450560           1.327146e+18          412940784.0   \n",
       "1327146172218298368                    NaN                  NaN   \n",
       "1327134798654173185                    NaN                  NaN   \n",
       "\n",
       "                     is_quote_status  retweet_count  favorite_count account  \\\n",
       "id                                                                            \n",
       "1327175518978904064            False             40             296  kantei   \n",
       "1327171179556212736            False             48             384  kantei   \n",
       "1327146176064450560            False             37             394  kantei   \n",
       "1327146172218298368            False            354            2273  kantei   \n",
       "1327134798654173185            False            170               0  kantei   \n",
       "\n",
       "                     ...         hashtags number_hashtags_used  \\\n",
       "id                   ...                                         \n",
       "1327175518978904064  ...              NaN                    0   \n",
       "1327171179556212736  ...              NaN                    0   \n",
       "1327146176064450560  ...         日メコン首脳会談                    1   \n",
       "1327146172218298368  ...              NaN                    0   \n",
       "1327134798654173185  ...  新型コロナウイルス;5つの場面                    2   \n",
       "\n",
       "                         user_mentions_handle    user_mentions_name  \\\n",
       "id                                                                    \n",
       "1327175518978904064                       NaN                   NaN   \n",
       "1327171179556212736                       NaN                   NaN   \n",
       "1327146176064450560                sugawitter                  菅 義偉   \n",
       "1327146172218298368                       NaN                   NaN   \n",
       "1327134798654173185  Kantei_Saigai;sugawitter  首相官邸(災害・危機管理情報);菅 義偉   \n",
       "\n",
       "                                                        mentioned_urls  \\\n",
       "id                                                                       \n",
       "1327175518978904064  https://www.kantei.go.jp/jp/tyoukanpress/20201...   \n",
       "1327171179556212736  https://www.kantei.go.jp/jp/99_suga/actions/20...   \n",
       "1327146176064450560                                                NaN   \n",
       "1327146172218298368                                                NaN   \n",
       "1327134798654173185                     https://corona.go.jp/proposal/   \n",
       "\n",
       "                     has_media  \\\n",
       "id                               \n",
       "1327175518978904064      False   \n",
       "1327171179556212736       True   \n",
       "1327146176064450560      False   \n",
       "1327146172218298368       True   \n",
       "1327134798654173185      False   \n",
       "\n",
       "                                                          media_urls  \\\n",
       "id                                                                     \n",
       "1327175518978904064                                              NaN   \n",
       "1327171179556212736  https://pbs.twimg.com/media/EmsPI7UVEAAIoq7.jpg   \n",
       "1327146176064450560                                              NaN   \n",
       "1327146172218298368  https://pbs.twimg.com/media/Emr4TUOWEAEqjP_.jpg   \n",
       "1327134798654173185                                              NaN   \n",
       "\n",
       "                    media_types  is_retweet  \\\n",
       "id                                            \n",
       "1327175518978904064         NaN       False   \n",
       "1327171179556212736       photo       False   \n",
       "1327146176064450560         NaN       False   \n",
       "1327146172218298368       photo       False   \n",
       "1327134798654173185         NaN        True   \n",
       "\n",
       "                                                           translation  \n",
       "id                                                                      \n",
       "1327175518978904064  [Chief Cabinet Secretary Kato / Press Conferen...  \n",
       "1327171179556212736  &lt;&lt; Movement of the Prime Minister &gt;&g...  \n",
       "1327146176064450560                 #Mekong Summit Meeting @sugawitter  \n",
       "1327146172218298368  We had a summit meeting with the Mekong countr...  \n",
       "1327134798654173185  RT @Kantei_Saigai: https://t.co/RdelY42YII #Ne...  \n",
       "\n",
       "[5 rows x 27 columns]"
      ]
     },
     "execution_count": 25,
     "metadata": {},
     "output_type": "execute_result"
    }
   ],
   "source": [
    "df.head()"
   ]
  },
  {
   "cell_type": "markdown",
   "metadata": {},
   "source": [
    "# Basic Data Exploration \n",
    "- Hashtag counts and frequencies \n",
    "- Other user mentions and frequencies \n",
    "- Links: how much they were used and where did they point to \n",
    "- Media: how much was used and what type \n",
    "- Heatmap of the tweets over time \n",
    "- Most popular and retweeted tweets \n",
    "- Least popular and retweeted tweets "
   ]
  },
  {
   "cell_type": "markdown",
   "metadata": {},
   "source": [
    "## Hashtags"
   ]
  },
  {
   "cell_type": "markdown",
   "metadata": {},
   "source": [
    "### compare hastag usage between accounts"
   ]
  },
  {
   "cell_type": "code",
   "execution_count": 26,
   "metadata": {},
   "outputs": [
    {
     "name": "stdout",
     "output_type": "stream",
     "text": [
      "Total number of hashtags used: account\n",
      "10DowningStreet    1330\n",
      "kantei              227\n",
      "Name: number_hashtags_used, dtype: int64\n"
     ]
    }
   ],
   "source": [
    "total_number_hashtags_used = df.groupby('account')['number_hashtags_used'].sum() \n",
    "print(\"Total number of hashtags used: {}\".format(total_number_hashtags_used))"
   ]
  },
  {
   "cell_type": "markdown",
   "metadata": {},
   "source": [
    "### explore all hashtags per account"
   ]
  },
  {
   "cell_type": "code",
   "execution_count": 27,
   "metadata": {},
   "outputs": [],
   "source": [
    "def get_hashtags_df(account):\n",
    "    hashtags = df[df['account'] == account]['hashtags'].replace(\"\", np.nan).dropna().tolist()\n",
    "    hashtags_list = []\n",
    "    for hashtag in hashtags:\n",
    "        hashtags_list.extend(hashtag.split(\";\"))\n",
    "    hashtags_df = pd.DataFrame.from_dict(dict(Counter(hashtags_list)), orient=\"index\", columns=['count'])\n",
    "    return hashtags_df"
   ]
  },
  {
   "cell_type": "code",
   "execution_count": 28,
   "metadata": {},
   "outputs": [],
   "source": [
    "uk_hastags_df = get_hashtags_df('10DowningStreet')\n",
    "jp_hastags_df = get_hashtags_df('kantei')\n",
    "\n",
    "boris_hastags_df = get_hashtags_df('BorisJohnson')\n",
    "abe_hastags_df = get_hashtags_df('AbeShinzo')"
   ]
  },
  {
   "cell_type": "code",
   "execution_count": 29,
   "metadata": {},
   "outputs": [],
   "source": [
    "#uk_hastags_df.sort_values(by='count', ascending=False).head(10)"
   ]
  },
  {
   "cell_type": "code",
   "execution_count": 30,
   "metadata": {},
   "outputs": [
    {
     "data": {
      "text/html": [
       "\n",
       "    <div class=\"bk-root\">\n",
       "        <a href=\"https://bokeh.org\" target=\"_blank\" class=\"bk-logo bk-logo-small bk-logo-notebook\"></a>\n",
       "        <span id=\"1518\">Loading BokehJS ...</span>\n",
       "    </div>"
      ]
     },
     "metadata": {},
     "output_type": "display_data"
    },
    {
     "data": {
      "application/javascript": [
       "\n",
       "(function(root) {\n",
       "  function now() {\n",
       "    return new Date();\n",
       "  }\n",
       "\n",
       "  var force = true;\n",
       "\n",
       "  if (typeof root._bokeh_onload_callbacks === \"undefined\" || force === true) {\n",
       "    root._bokeh_onload_callbacks = [];\n",
       "    root._bokeh_is_loading = undefined;\n",
       "  }\n",
       "\n",
       "  var JS_MIME_TYPE = 'application/javascript';\n",
       "  var HTML_MIME_TYPE = 'text/html';\n",
       "  var EXEC_MIME_TYPE = 'application/vnd.bokehjs_exec.v0+json';\n",
       "  var CLASS_NAME = 'output_bokeh rendered_html';\n",
       "\n",
       "  /**\n",
       "   * Render data to the DOM node\n",
       "   */\n",
       "  function render(props, node) {\n",
       "    var script = document.createElement(\"script\");\n",
       "    node.appendChild(script);\n",
       "  }\n",
       "\n",
       "  /**\n",
       "   * Handle when an output is cleared or removed\n",
       "   */\n",
       "  function handleClearOutput(event, handle) {\n",
       "    var cell = handle.cell;\n",
       "\n",
       "    var id = cell.output_area._bokeh_element_id;\n",
       "    var server_id = cell.output_area._bokeh_server_id;\n",
       "    // Clean up Bokeh references\n",
       "    if (id != null && id in Bokeh.index) {\n",
       "      Bokeh.index[id].model.document.clear();\n",
       "      delete Bokeh.index[id];\n",
       "    }\n",
       "\n",
       "    if (server_id !== undefined) {\n",
       "      // Clean up Bokeh references\n",
       "      var cmd = \"from bokeh.io.state import curstate; print(curstate().uuid_to_server['\" + server_id + \"'].get_sessions()[0].document.roots[0]._id)\";\n",
       "      cell.notebook.kernel.execute(cmd, {\n",
       "        iopub: {\n",
       "          output: function(msg) {\n",
       "            var id = msg.content.text.trim();\n",
       "            if (id in Bokeh.index) {\n",
       "              Bokeh.index[id].model.document.clear();\n",
       "              delete Bokeh.index[id];\n",
       "            }\n",
       "          }\n",
       "        }\n",
       "      });\n",
       "      // Destroy server and session\n",
       "      var cmd = \"import bokeh.io.notebook as ion; ion.destroy_server('\" + server_id + \"')\";\n",
       "      cell.notebook.kernel.execute(cmd);\n",
       "    }\n",
       "  }\n",
       "\n",
       "  /**\n",
       "   * Handle when a new output is added\n",
       "   */\n",
       "  function handleAddOutput(event, handle) {\n",
       "    var output_area = handle.output_area;\n",
       "    var output = handle.output;\n",
       "\n",
       "    // limit handleAddOutput to display_data with EXEC_MIME_TYPE content only\n",
       "    if ((output.output_type != \"display_data\") || (!output.data.hasOwnProperty(EXEC_MIME_TYPE))) {\n",
       "      return\n",
       "    }\n",
       "\n",
       "    var toinsert = output_area.element.find(\".\" + CLASS_NAME.split(' ')[0]);\n",
       "\n",
       "    if (output.metadata[EXEC_MIME_TYPE][\"id\"] !== undefined) {\n",
       "      toinsert[toinsert.length - 1].firstChild.textContent = output.data[JS_MIME_TYPE];\n",
       "      // store reference to embed id on output_area\n",
       "      output_area._bokeh_element_id = output.metadata[EXEC_MIME_TYPE][\"id\"];\n",
       "    }\n",
       "    if (output.metadata[EXEC_MIME_TYPE][\"server_id\"] !== undefined) {\n",
       "      var bk_div = document.createElement(\"div\");\n",
       "      bk_div.innerHTML = output.data[HTML_MIME_TYPE];\n",
       "      var script_attrs = bk_div.children[0].attributes;\n",
       "      for (var i = 0; i < script_attrs.length; i++) {\n",
       "        toinsert[toinsert.length - 1].firstChild.setAttribute(script_attrs[i].name, script_attrs[i].value);\n",
       "      }\n",
       "      // store reference to server id on output_area\n",
       "      output_area._bokeh_server_id = output.metadata[EXEC_MIME_TYPE][\"server_id\"];\n",
       "    }\n",
       "  }\n",
       "\n",
       "  function register_renderer(events, OutputArea) {\n",
       "\n",
       "    function append_mime(data, metadata, element) {\n",
       "      // create a DOM node to render to\n",
       "      var toinsert = this.create_output_subarea(\n",
       "        metadata,\n",
       "        CLASS_NAME,\n",
       "        EXEC_MIME_TYPE\n",
       "      );\n",
       "      this.keyboard_manager.register_events(toinsert);\n",
       "      // Render to node\n",
       "      var props = {data: data, metadata: metadata[EXEC_MIME_TYPE]};\n",
       "      render(props, toinsert[toinsert.length - 1]);\n",
       "      element.append(toinsert);\n",
       "      return toinsert\n",
       "    }\n",
       "\n",
       "    /* Handle when an output is cleared or removed */\n",
       "    events.on('clear_output.CodeCell', handleClearOutput);\n",
       "    events.on('delete.Cell', handleClearOutput);\n",
       "\n",
       "    /* Handle when a new output is added */\n",
       "    events.on('output_added.OutputArea', handleAddOutput);\n",
       "\n",
       "    /**\n",
       "     * Register the mime type and append_mime function with output_area\n",
       "     */\n",
       "    OutputArea.prototype.register_mime_type(EXEC_MIME_TYPE, append_mime, {\n",
       "      /* Is output safe? */\n",
       "      safe: true,\n",
       "      /* Index of renderer in `output_area.display_order` */\n",
       "      index: 0\n",
       "    });\n",
       "  }\n",
       "\n",
       "  // register the mime type if in Jupyter Notebook environment and previously unregistered\n",
       "  if (root.Jupyter !== undefined) {\n",
       "    var events = require('base/js/events');\n",
       "    var OutputArea = require('notebook/js/outputarea').OutputArea;\n",
       "\n",
       "    if (OutputArea.prototype.mime_types().indexOf(EXEC_MIME_TYPE) == -1) {\n",
       "      register_renderer(events, OutputArea);\n",
       "    }\n",
       "  }\n",
       "\n",
       "  \n",
       "  if (typeof (root._bokeh_timeout) === \"undefined\" || force === true) {\n",
       "    root._bokeh_timeout = Date.now() + 5000;\n",
       "    root._bokeh_failed_load = false;\n",
       "  }\n",
       "\n",
       "  var NB_LOAD_WARNING = {'data': {'text/html':\n",
       "     \"<div style='background-color: #fdd'>\\n\"+\n",
       "     \"<p>\\n\"+\n",
       "     \"BokehJS does not appear to have successfully loaded. If loading BokehJS from CDN, this \\n\"+\n",
       "     \"may be due to a slow or bad network connection. Possible fixes:\\n\"+\n",
       "     \"</p>\\n\"+\n",
       "     \"<ul>\\n\"+\n",
       "     \"<li>re-rerun `output_notebook()` to attempt to load from CDN again, or</li>\\n\"+\n",
       "     \"<li>use INLINE resources instead, as so:</li>\\n\"+\n",
       "     \"</ul>\\n\"+\n",
       "     \"<code>\\n\"+\n",
       "     \"from bokeh.resources import INLINE\\n\"+\n",
       "     \"output_notebook(resources=INLINE)\\n\"+\n",
       "     \"</code>\\n\"+\n",
       "     \"</div>\"}};\n",
       "\n",
       "  function display_loaded() {\n",
       "    var el = document.getElementById(\"1518\");\n",
       "    if (el != null) {\n",
       "      el.textContent = \"BokehJS is loading...\";\n",
       "    }\n",
       "    if (root.Bokeh !== undefined) {\n",
       "      if (el != null) {\n",
       "        el.textContent = \"BokehJS \" + root.Bokeh.version + \" successfully loaded.\";\n",
       "      }\n",
       "    } else if (Date.now() < root._bokeh_timeout) {\n",
       "      setTimeout(display_loaded, 100)\n",
       "    }\n",
       "  }\n",
       "\n",
       "\n",
       "  function run_callbacks() {\n",
       "    try {\n",
       "      root._bokeh_onload_callbacks.forEach(function(callback) {\n",
       "        if (callback != null)\n",
       "          callback();\n",
       "      });\n",
       "    } finally {\n",
       "      delete root._bokeh_onload_callbacks\n",
       "    }\n",
       "    console.debug(\"Bokeh: all callbacks have finished\");\n",
       "  }\n",
       "\n",
       "  function load_libs(css_urls, js_urls, callback) {\n",
       "    if (css_urls == null) css_urls = [];\n",
       "    if (js_urls == null) js_urls = [];\n",
       "\n",
       "    root._bokeh_onload_callbacks.push(callback);\n",
       "    if (root._bokeh_is_loading > 0) {\n",
       "      console.debug(\"Bokeh: BokehJS is being loaded, scheduling callback at\", now());\n",
       "      return null;\n",
       "    }\n",
       "    if (js_urls == null || js_urls.length === 0) {\n",
       "      run_callbacks();\n",
       "      return null;\n",
       "    }\n",
       "    console.debug(\"Bokeh: BokehJS not loaded, scheduling load and callback at\", now());\n",
       "    root._bokeh_is_loading = css_urls.length + js_urls.length;\n",
       "\n",
       "    function on_load() {\n",
       "      root._bokeh_is_loading--;\n",
       "      if (root._bokeh_is_loading === 0) {\n",
       "        console.debug(\"Bokeh: all BokehJS libraries/stylesheets loaded\");\n",
       "        run_callbacks()\n",
       "      }\n",
       "    }\n",
       "\n",
       "    function on_error() {\n",
       "      console.error(\"failed to load \" + url);\n",
       "    }\n",
       "\n",
       "    for (var i = 0; i < css_urls.length; i++) {\n",
       "      var url = css_urls[i];\n",
       "      const element = document.createElement(\"link\");\n",
       "      element.onload = on_load;\n",
       "      element.onerror = on_error;\n",
       "      element.rel = \"stylesheet\";\n",
       "      element.type = \"text/css\";\n",
       "      element.href = url;\n",
       "      console.debug(\"Bokeh: injecting link tag for BokehJS stylesheet: \", url);\n",
       "      document.body.appendChild(element);\n",
       "    }\n",
       "\n",
       "    for (var i = 0; i < js_urls.length; i++) {\n",
       "      var url = js_urls[i];\n",
       "      var element = document.createElement('script');\n",
       "      element.onload = on_load;\n",
       "      element.onerror = on_error;\n",
       "      element.async = false;\n",
       "      element.src = url;\n",
       "      console.debug(\"Bokeh: injecting script tag for BokehJS library: \", url);\n",
       "      document.head.appendChild(element);\n",
       "    }\n",
       "  };var element = document.getElementById(\"1518\");\n",
       "  if (element == null) {\n",
       "    console.error(\"Bokeh: ERROR: autoload.js configured with elementid '1518' but no matching script tag was found. \")\n",
       "    return false;\n",
       "  }\n",
       "\n",
       "  function inject_raw_css(css) {\n",
       "    const element = document.createElement(\"style\");\n",
       "    element.appendChild(document.createTextNode(css));\n",
       "    document.body.appendChild(element);\n",
       "  }\n",
       "\n",
       "  \n",
       "  var js_urls = [\"https://cdn.pydata.org/bokeh/release/bokeh-1.4.0.min.js\", \"https://cdn.pydata.org/bokeh/release/bokeh-widgets-1.4.0.min.js\", \"https://cdn.pydata.org/bokeh/release/bokeh-tables-1.4.0.min.js\", \"https://cdn.pydata.org/bokeh/release/bokeh-gl-1.4.0.min.js\"];\n",
       "  var css_urls = [];\n",
       "  \n",
       "\n",
       "  var inline_js = [\n",
       "    function(Bokeh) {\n",
       "      Bokeh.set_log_level(\"info\");\n",
       "    },\n",
       "    function(Bokeh) {\n",
       "    \n",
       "    \n",
       "    }\n",
       "  ];\n",
       "\n",
       "  function run_inline_js() {\n",
       "    \n",
       "    if (root.Bokeh !== undefined || force === true) {\n",
       "      \n",
       "    for (var i = 0; i < inline_js.length; i++) {\n",
       "      inline_js[i].call(root, root.Bokeh);\n",
       "    }\n",
       "    if (force === true) {\n",
       "        display_loaded();\n",
       "      }} else if (Date.now() < root._bokeh_timeout) {\n",
       "      setTimeout(run_inline_js, 100);\n",
       "    } else if (!root._bokeh_failed_load) {\n",
       "      console.log(\"Bokeh: BokehJS failed to load within specified timeout.\");\n",
       "      root._bokeh_failed_load = true;\n",
       "    } else if (force !== true) {\n",
       "      var cell = $(document.getElementById(\"1518\")).parents('.cell').data().cell;\n",
       "      cell.output_area.append_execute_result(NB_LOAD_WARNING)\n",
       "    }\n",
       "\n",
       "  }\n",
       "\n",
       "  if (root._bokeh_is_loading === 0) {\n",
       "    console.debug(\"Bokeh: BokehJS loaded, going straight to plotting\");\n",
       "    run_inline_js();\n",
       "  } else {\n",
       "    load_libs(css_urls, js_urls, function() {\n",
       "      console.debug(\"Bokeh: BokehJS plotting callback run at\", now());\n",
       "      run_inline_js();\n",
       "    });\n",
       "  }\n",
       "}(window));"
      ],
      "application/vnd.bokehjs_load.v0+json": "\n(function(root) {\n  function now() {\n    return new Date();\n  }\n\n  var force = true;\n\n  if (typeof root._bokeh_onload_callbacks === \"undefined\" || force === true) {\n    root._bokeh_onload_callbacks = [];\n    root._bokeh_is_loading = undefined;\n  }\n\n  \n\n  \n  if (typeof (root._bokeh_timeout) === \"undefined\" || force === true) {\n    root._bokeh_timeout = Date.now() + 5000;\n    root._bokeh_failed_load = false;\n  }\n\n  var NB_LOAD_WARNING = {'data': {'text/html':\n     \"<div style='background-color: #fdd'>\\n\"+\n     \"<p>\\n\"+\n     \"BokehJS does not appear to have successfully loaded. If loading BokehJS from CDN, this \\n\"+\n     \"may be due to a slow or bad network connection. Possible fixes:\\n\"+\n     \"</p>\\n\"+\n     \"<ul>\\n\"+\n     \"<li>re-rerun `output_notebook()` to attempt to load from CDN again, or</li>\\n\"+\n     \"<li>use INLINE resources instead, as so:</li>\\n\"+\n     \"</ul>\\n\"+\n     \"<code>\\n\"+\n     \"from bokeh.resources import INLINE\\n\"+\n     \"output_notebook(resources=INLINE)\\n\"+\n     \"</code>\\n\"+\n     \"</div>\"}};\n\n  function display_loaded() {\n    var el = document.getElementById(\"1518\");\n    if (el != null) {\n      el.textContent = \"BokehJS is loading...\";\n    }\n    if (root.Bokeh !== undefined) {\n      if (el != null) {\n        el.textContent = \"BokehJS \" + root.Bokeh.version + \" successfully loaded.\";\n      }\n    } else if (Date.now() < root._bokeh_timeout) {\n      setTimeout(display_loaded, 100)\n    }\n  }\n\n\n  function run_callbacks() {\n    try {\n      root._bokeh_onload_callbacks.forEach(function(callback) {\n        if (callback != null)\n          callback();\n      });\n    } finally {\n      delete root._bokeh_onload_callbacks\n    }\n    console.debug(\"Bokeh: all callbacks have finished\");\n  }\n\n  function load_libs(css_urls, js_urls, callback) {\n    if (css_urls == null) css_urls = [];\n    if (js_urls == null) js_urls = [];\n\n    root._bokeh_onload_callbacks.push(callback);\n    if (root._bokeh_is_loading > 0) {\n      console.debug(\"Bokeh: BokehJS is being loaded, scheduling callback at\", now());\n      return null;\n    }\n    if (js_urls == null || js_urls.length === 0) {\n      run_callbacks();\n      return null;\n    }\n    console.debug(\"Bokeh: BokehJS not loaded, scheduling load and callback at\", now());\n    root._bokeh_is_loading = css_urls.length + js_urls.length;\n\n    function on_load() {\n      root._bokeh_is_loading--;\n      if (root._bokeh_is_loading === 0) {\n        console.debug(\"Bokeh: all BokehJS libraries/stylesheets loaded\");\n        run_callbacks()\n      }\n    }\n\n    function on_error() {\n      console.error(\"failed to load \" + url);\n    }\n\n    for (var i = 0; i < css_urls.length; i++) {\n      var url = css_urls[i];\n      const element = document.createElement(\"link\");\n      element.onload = on_load;\n      element.onerror = on_error;\n      element.rel = \"stylesheet\";\n      element.type = \"text/css\";\n      element.href = url;\n      console.debug(\"Bokeh: injecting link tag for BokehJS stylesheet: \", url);\n      document.body.appendChild(element);\n    }\n\n    for (var i = 0; i < js_urls.length; i++) {\n      var url = js_urls[i];\n      var element = document.createElement('script');\n      element.onload = on_load;\n      element.onerror = on_error;\n      element.async = false;\n      element.src = url;\n      console.debug(\"Bokeh: injecting script tag for BokehJS library: \", url);\n      document.head.appendChild(element);\n    }\n  };var element = document.getElementById(\"1518\");\n  if (element == null) {\n    console.error(\"Bokeh: ERROR: autoload.js configured with elementid '1518' but no matching script tag was found. \")\n    return false;\n  }\n\n  function inject_raw_css(css) {\n    const element = document.createElement(\"style\");\n    element.appendChild(document.createTextNode(css));\n    document.body.appendChild(element);\n  }\n\n  \n  var js_urls = [\"https://cdn.pydata.org/bokeh/release/bokeh-1.4.0.min.js\", \"https://cdn.pydata.org/bokeh/release/bokeh-widgets-1.4.0.min.js\", \"https://cdn.pydata.org/bokeh/release/bokeh-tables-1.4.0.min.js\", \"https://cdn.pydata.org/bokeh/release/bokeh-gl-1.4.0.min.js\"];\n  var css_urls = [];\n  \n\n  var inline_js = [\n    function(Bokeh) {\n      Bokeh.set_log_level(\"info\");\n    },\n    function(Bokeh) {\n    \n    \n    }\n  ];\n\n  function run_inline_js() {\n    \n    if (root.Bokeh !== undefined || force === true) {\n      \n    for (var i = 0; i < inline_js.length; i++) {\n      inline_js[i].call(root, root.Bokeh);\n    }\n    if (force === true) {\n        display_loaded();\n      }} else if (Date.now() < root._bokeh_timeout) {\n      setTimeout(run_inline_js, 100);\n    } else if (!root._bokeh_failed_load) {\n      console.log(\"Bokeh: BokehJS failed to load within specified timeout.\");\n      root._bokeh_failed_load = true;\n    } else if (force !== true) {\n      var cell = $(document.getElementById(\"1518\")).parents('.cell').data().cell;\n      cell.output_area.append_execute_result(NB_LOAD_WARNING)\n    }\n\n  }\n\n  if (root._bokeh_is_loading === 0) {\n    console.debug(\"Bokeh: BokehJS loaded, going straight to plotting\");\n    run_inline_js();\n  } else {\n    load_libs(css_urls, js_urls, function() {\n      console.debug(\"Bokeh: BokehJS plotting callback run at\", now());\n      run_inline_js();\n    });\n  }\n}(window));"
     },
     "metadata": {},
     "output_type": "display_data"
    },
    {
     "data": {
      "text/html": [
       "\n",
       "\n",
       "\n",
       "\n",
       "\n",
       "\n",
       "  <div class=\"bk-root\" id=\"c14eae12-7a9b-4f2e-87b0-b14542396728\" data-root-id=\"1520\"></div>\n"
      ]
     },
     "metadata": {},
     "output_type": "display_data"
    },
    {
     "data": {
      "application/javascript": [
       "(function(root) {\n",
       "  function embed_document(root) {\n",
       "    \n",
       "  var docs_json = {\"d4aa50ee-ff6c-4fc9-8588-0625c5cdc63d\":{\"roots\":{\"references\":[{\"attributes\":{\"background_fill_color\":{\"value\":\"#2b2b2b\"},\"below\":[{\"id\":\"1531\",\"type\":\"CategoricalAxis\"}],\"center\":[{\"id\":\"1534\",\"type\":\"Grid\"},{\"id\":\"1539\",\"type\":\"Grid\"}],\"left\":[{\"id\":\"1535\",\"type\":\"LinearAxis\"}],\"plot_height\":350,\"plot_width\":800,\"renderers\":[{\"id\":\"1557\",\"type\":\"GlyphRenderer\"}],\"title\":{\"id\":\"1521\",\"type\":\"Title\"},\"toolbar\":{\"id\":\"1546\",\"type\":\"Toolbar\"},\"toolbar_location\":null,\"x_range\":{\"id\":\"1523\",\"type\":\"FactorRange\"},\"x_scale\":{\"id\":\"1527\",\"type\":\"CategoricalScale\"},\"y_range\":{\"id\":\"1525\",\"type\":\"DataRange1d\"},\"y_scale\":{\"id\":\"1529\",\"type\":\"LinearScale\"}},\"id\":\"1520\",\"subtype\":\"Figure\",\"type\":\"Plot\"},{\"attributes\":{\"formatter\":{\"id\":\"1611\",\"type\":\"CategoricalTickFormatter\"},\"major_label_orientation\":1.2,\"ticker\":{\"id\":\"1532\",\"type\":\"CategoricalTicker\"}},\"id\":\"1531\",\"type\":\"CategoricalAxis\"},{\"attributes\":{\"callback\":null,\"data\":{\"counted_data\":[\"coronavirus\",\"StayHomeSaveLives\",\"StayAlert\",\"Coronavirus\",\"StaySafeSaveLives\",\"HandsFaceSpace\",\"PeoplesPMQs\",\"NHSCOVID19app\",\"CoronavirusFAQs\",\"COVID19\"],\"counts\":[360,273,231,168,30,28,17,10,10,7]},\"selected\":{\"id\":\"1615\",\"type\":\"Selection\"},\"selection_policy\":{\"id\":\"1616\",\"type\":\"UnionRenderers\"}},\"id\":\"1519\",\"type\":\"ColumnDataSource\"},{\"attributes\":{\"dimension\":1,\"grid_line_color\":null,\"ticker\":{\"id\":\"1536\",\"type\":\"BasicTicker\"}},\"id\":\"1539\",\"type\":\"Grid\"},{\"attributes\":{\"fill_alpha\":{\"value\":0.1},\"fill_color\":{\"value\":\"#1f77b4\"},\"line_alpha\":{\"value\":0.1},\"line_color\":{\"value\":\"#1f77b4\"},\"top\":{\"field\":\"counts\"},\"width\":{\"value\":0.8},\"x\":{\"field\":\"counted_data\"}},\"id\":\"1556\",\"type\":\"VBar\"},{\"attributes\":{\"fill_color\":{\"field\":\"counted_data\",\"transform\":{\"id\":\"1553\",\"type\":\"CategoricalColorMapper\"}},\"line_color\":{\"value\":\"white\"},\"top\":{\"field\":\"counts\"},\"width\":{\"value\":0.8},\"x\":{\"field\":\"counted_data\"}},\"id\":\"1555\",\"type\":\"VBar\"},{\"attributes\":{},\"id\":\"1616\",\"type\":\"UnionRenderers\"},{\"attributes\":{\"overlay\":{\"id\":\"1617\",\"type\":\"BoxAnnotation\"}},\"id\":\"1542\",\"type\":\"BoxZoomTool\"},{\"attributes\":{\"factors\":[\"coronavirus\",\"StayHomeSaveLives\",\"StayAlert\",\"Coronavirus\",\"StaySafeSaveLives\",\"HandsFaceSpace\",\"PeoplesPMQs\",\"NHSCOVID19app\",\"CoronavirusFAQs\",\"COVID19\"],\"palette\":[\"#00204C\",\"#00336E\",\"#37476B\",\"#565C6C\",\"#6F7073\",\"#898578\",\"#A69C75\",\"#C3B46C\",\"#E3CD5B\",\"#FFE945\"]},\"id\":\"1553\",\"type\":\"CategoricalColorMapper\"},{\"attributes\":{},\"id\":\"1541\",\"type\":\"WheelZoomTool\"},{\"attributes\":{},\"id\":\"1545\",\"type\":\"HelpTool\"},{\"attributes\":{},\"id\":\"1613\",\"type\":\"BasicTickFormatter\"},{\"attributes\":{\"grid_line_color\":null,\"ticker\":{\"id\":\"1532\",\"type\":\"CategoricalTicker\"}},\"id\":\"1534\",\"type\":\"Grid\"},{\"attributes\":{},\"id\":\"1529\",\"type\":\"LinearScale\"},{\"attributes\":{},\"id\":\"1543\",\"type\":\"SaveTool\"},{\"attributes\":{\"data_source\":{\"id\":\"1519\",\"type\":\"ColumnDataSource\"},\"glyph\":{\"id\":\"1555\",\"type\":\"VBar\"},\"hover_glyph\":null,\"muted_glyph\":null,\"nonselection_glyph\":{\"id\":\"1556\",\"type\":\"VBar\"},\"selection_glyph\":null,\"view\":{\"id\":\"1558\",\"type\":\"CDSView\"}},\"id\":\"1557\",\"type\":\"GlyphRenderer\"},{\"attributes\":{},\"id\":\"1527\",\"type\":\"CategoricalScale\"},{\"attributes\":{\"callback\":null,\"start\":0},\"id\":\"1525\",\"type\":\"DataRange1d\"},{\"attributes\":{},\"id\":\"1544\",\"type\":\"ResetTool\"},{\"attributes\":{\"source\":{\"id\":\"1519\",\"type\":\"ColumnDataSource\"}},\"id\":\"1558\",\"type\":\"CDSView\"},{\"attributes\":{},\"id\":\"1532\",\"type\":\"CategoricalTicker\"},{\"attributes\":{\"bottom_units\":\"screen\",\"fill_alpha\":{\"value\":0.5},\"fill_color\":{\"value\":\"lightgrey\"},\"left_units\":\"screen\",\"level\":\"overlay\",\"line_alpha\":{\"value\":1.0},\"line_color\":{\"value\":\"black\"},\"line_dash\":[4,4],\"line_width\":{\"value\":2},\"render_mode\":\"css\",\"right_units\":\"screen\",\"top_units\":\"screen\"},\"id\":\"1617\",\"type\":\"BoxAnnotation\"},{\"attributes\":{\"callback\":null,\"factors\":[\"coronavirus\",\"StayHomeSaveLives\",\"StayAlert\",\"Coronavirus\",\"StaySafeSaveLives\",\"HandsFaceSpace\",\"PeoplesPMQs\",\"NHSCOVID19app\",\"CoronavirusFAQs\",\"COVID19\"]},\"id\":\"1523\",\"type\":\"FactorRange\"},{\"attributes\":{\"text\":\"Title\"},\"id\":\"1521\",\"type\":\"Title\"},{\"attributes\":{\"active_drag\":\"auto\",\"active_inspect\":\"auto\",\"active_multi\":null,\"active_scroll\":\"auto\",\"active_tap\":\"auto\",\"tools\":[{\"id\":\"1540\",\"type\":\"PanTool\"},{\"id\":\"1541\",\"type\":\"WheelZoomTool\"},{\"id\":\"1542\",\"type\":\"BoxZoomTool\"},{\"id\":\"1543\",\"type\":\"SaveTool\"},{\"id\":\"1544\",\"type\":\"ResetTool\"},{\"id\":\"1545\",\"type\":\"HelpTool\"}]},\"id\":\"1546\",\"type\":\"Toolbar\"},{\"attributes\":{\"formatter\":{\"id\":\"1613\",\"type\":\"BasicTickFormatter\"},\"ticker\":{\"id\":\"1536\",\"type\":\"BasicTicker\"}},\"id\":\"1535\",\"type\":\"LinearAxis\"},{\"attributes\":{},\"id\":\"1540\",\"type\":\"PanTool\"},{\"attributes\":{},\"id\":\"1536\",\"type\":\"BasicTicker\"},{\"attributes\":{},\"id\":\"1615\",\"type\":\"Selection\"},{\"attributes\":{},\"id\":\"1611\",\"type\":\"CategoricalTickFormatter\"}],\"root_ids\":[\"1520\"]},\"title\":\"Bokeh Application\",\"version\":\"1.4.0\"}};\n",
       "  var render_items = [{\"docid\":\"d4aa50ee-ff6c-4fc9-8588-0625c5cdc63d\",\"roots\":{\"1520\":\"c14eae12-7a9b-4f2e-87b0-b14542396728\"}}];\n",
       "  root.Bokeh.embed.embed_items_notebook(docs_json, render_items);\n",
       "\n",
       "  }\n",
       "  if (root.Bokeh !== undefined) {\n",
       "    embed_document(root);\n",
       "  } else {\n",
       "    var attempts = 0;\n",
       "    var timer = setInterval(function(root) {\n",
       "      if (root.Bokeh !== undefined) {\n",
       "        clearInterval(timer);\n",
       "        embed_document(root);\n",
       "      } else {\n",
       "        attempts++;\n",
       "        if (attempts > 100) {\n",
       "          clearInterval(timer);\n",
       "          console.log(\"Bokeh: ERROR: Unable to run BokehJS code because BokehJS library is missing\");\n",
       "        }\n",
       "      }\n",
       "    }, 10, root)\n",
       "  }\n",
       "})(window);"
      ],
      "application/vnd.bokehjs_exec.v0+json": ""
     },
     "metadata": {
      "application/vnd.bokehjs_exec.v0+json": {
       "id": "1520"
      }
     },
     "output_type": "display_data"
    }
   ],
   "source": [
    "barchart(uk_hastags_df.nlargest(10, 'count').index.tolist(), uk_hastags_df.nlargest(10, 'count')['count'])"
   ]
  },
  {
   "cell_type": "code",
   "execution_count": 31,
   "metadata": {},
   "outputs": [],
   "source": [
    "#barchart(boris_hastags_df.nlargest(10, 'count').index.tolist(), boris_hastags_df.nlargest(10, 'count')['count'])"
   ]
  },
  {
   "cell_type": "code",
   "execution_count": 32,
   "metadata": {},
   "outputs": [],
   "source": [
    "#jp_hastags_df.sort_values(by='count', ascending=False).head(10)"
   ]
  },
  {
   "cell_type": "code",
   "execution_count": 33,
   "metadata": {},
   "outputs": [
    {
     "data": {
      "text/html": [
       "\n",
       "    <div class=\"bk-root\">\n",
       "        <a href=\"https://bokeh.org\" target=\"_blank\" class=\"bk-logo bk-logo-small bk-logo-notebook\"></a>\n",
       "        <span id=\"1666\">Loading BokehJS ...</span>\n",
       "    </div>"
      ]
     },
     "metadata": {},
     "output_type": "display_data"
    },
    {
     "data": {
      "application/javascript": [
       "\n",
       "(function(root) {\n",
       "  function now() {\n",
       "    return new Date();\n",
       "  }\n",
       "\n",
       "  var force = true;\n",
       "\n",
       "  if (typeof root._bokeh_onload_callbacks === \"undefined\" || force === true) {\n",
       "    root._bokeh_onload_callbacks = [];\n",
       "    root._bokeh_is_loading = undefined;\n",
       "  }\n",
       "\n",
       "  var JS_MIME_TYPE = 'application/javascript';\n",
       "  var HTML_MIME_TYPE = 'text/html';\n",
       "  var EXEC_MIME_TYPE = 'application/vnd.bokehjs_exec.v0+json';\n",
       "  var CLASS_NAME = 'output_bokeh rendered_html';\n",
       "\n",
       "  /**\n",
       "   * Render data to the DOM node\n",
       "   */\n",
       "  function render(props, node) {\n",
       "    var script = document.createElement(\"script\");\n",
       "    node.appendChild(script);\n",
       "  }\n",
       "\n",
       "  /**\n",
       "   * Handle when an output is cleared or removed\n",
       "   */\n",
       "  function handleClearOutput(event, handle) {\n",
       "    var cell = handle.cell;\n",
       "\n",
       "    var id = cell.output_area._bokeh_element_id;\n",
       "    var server_id = cell.output_area._bokeh_server_id;\n",
       "    // Clean up Bokeh references\n",
       "    if (id != null && id in Bokeh.index) {\n",
       "      Bokeh.index[id].model.document.clear();\n",
       "      delete Bokeh.index[id];\n",
       "    }\n",
       "\n",
       "    if (server_id !== undefined) {\n",
       "      // Clean up Bokeh references\n",
       "      var cmd = \"from bokeh.io.state import curstate; print(curstate().uuid_to_server['\" + server_id + \"'].get_sessions()[0].document.roots[0]._id)\";\n",
       "      cell.notebook.kernel.execute(cmd, {\n",
       "        iopub: {\n",
       "          output: function(msg) {\n",
       "            var id = msg.content.text.trim();\n",
       "            if (id in Bokeh.index) {\n",
       "              Bokeh.index[id].model.document.clear();\n",
       "              delete Bokeh.index[id];\n",
       "            }\n",
       "          }\n",
       "        }\n",
       "      });\n",
       "      // Destroy server and session\n",
       "      var cmd = \"import bokeh.io.notebook as ion; ion.destroy_server('\" + server_id + \"')\";\n",
       "      cell.notebook.kernel.execute(cmd);\n",
       "    }\n",
       "  }\n",
       "\n",
       "  /**\n",
       "   * Handle when a new output is added\n",
       "   */\n",
       "  function handleAddOutput(event, handle) {\n",
       "    var output_area = handle.output_area;\n",
       "    var output = handle.output;\n",
       "\n",
       "    // limit handleAddOutput to display_data with EXEC_MIME_TYPE content only\n",
       "    if ((output.output_type != \"display_data\") || (!output.data.hasOwnProperty(EXEC_MIME_TYPE))) {\n",
       "      return\n",
       "    }\n",
       "\n",
       "    var toinsert = output_area.element.find(\".\" + CLASS_NAME.split(' ')[0]);\n",
       "\n",
       "    if (output.metadata[EXEC_MIME_TYPE][\"id\"] !== undefined) {\n",
       "      toinsert[toinsert.length - 1].firstChild.textContent = output.data[JS_MIME_TYPE];\n",
       "      // store reference to embed id on output_area\n",
       "      output_area._bokeh_element_id = output.metadata[EXEC_MIME_TYPE][\"id\"];\n",
       "    }\n",
       "    if (output.metadata[EXEC_MIME_TYPE][\"server_id\"] !== undefined) {\n",
       "      var bk_div = document.createElement(\"div\");\n",
       "      bk_div.innerHTML = output.data[HTML_MIME_TYPE];\n",
       "      var script_attrs = bk_div.children[0].attributes;\n",
       "      for (var i = 0; i < script_attrs.length; i++) {\n",
       "        toinsert[toinsert.length - 1].firstChild.setAttribute(script_attrs[i].name, script_attrs[i].value);\n",
       "      }\n",
       "      // store reference to server id on output_area\n",
       "      output_area._bokeh_server_id = output.metadata[EXEC_MIME_TYPE][\"server_id\"];\n",
       "    }\n",
       "  }\n",
       "\n",
       "  function register_renderer(events, OutputArea) {\n",
       "\n",
       "    function append_mime(data, metadata, element) {\n",
       "      // create a DOM node to render to\n",
       "      var toinsert = this.create_output_subarea(\n",
       "        metadata,\n",
       "        CLASS_NAME,\n",
       "        EXEC_MIME_TYPE\n",
       "      );\n",
       "      this.keyboard_manager.register_events(toinsert);\n",
       "      // Render to node\n",
       "      var props = {data: data, metadata: metadata[EXEC_MIME_TYPE]};\n",
       "      render(props, toinsert[toinsert.length - 1]);\n",
       "      element.append(toinsert);\n",
       "      return toinsert\n",
       "    }\n",
       "\n",
       "    /* Handle when an output is cleared or removed */\n",
       "    events.on('clear_output.CodeCell', handleClearOutput);\n",
       "    events.on('delete.Cell', handleClearOutput);\n",
       "\n",
       "    /* Handle when a new output is added */\n",
       "    events.on('output_added.OutputArea', handleAddOutput);\n",
       "\n",
       "    /**\n",
       "     * Register the mime type and append_mime function with output_area\n",
       "     */\n",
       "    OutputArea.prototype.register_mime_type(EXEC_MIME_TYPE, append_mime, {\n",
       "      /* Is output safe? */\n",
       "      safe: true,\n",
       "      /* Index of renderer in `output_area.display_order` */\n",
       "      index: 0\n",
       "    });\n",
       "  }\n",
       "\n",
       "  // register the mime type if in Jupyter Notebook environment and previously unregistered\n",
       "  if (root.Jupyter !== undefined) {\n",
       "    var events = require('base/js/events');\n",
       "    var OutputArea = require('notebook/js/outputarea').OutputArea;\n",
       "\n",
       "    if (OutputArea.prototype.mime_types().indexOf(EXEC_MIME_TYPE) == -1) {\n",
       "      register_renderer(events, OutputArea);\n",
       "    }\n",
       "  }\n",
       "\n",
       "  \n",
       "  if (typeof (root._bokeh_timeout) === \"undefined\" || force === true) {\n",
       "    root._bokeh_timeout = Date.now() + 5000;\n",
       "    root._bokeh_failed_load = false;\n",
       "  }\n",
       "\n",
       "  var NB_LOAD_WARNING = {'data': {'text/html':\n",
       "     \"<div style='background-color: #fdd'>\\n\"+\n",
       "     \"<p>\\n\"+\n",
       "     \"BokehJS does not appear to have successfully loaded. If loading BokehJS from CDN, this \\n\"+\n",
       "     \"may be due to a slow or bad network connection. Possible fixes:\\n\"+\n",
       "     \"</p>\\n\"+\n",
       "     \"<ul>\\n\"+\n",
       "     \"<li>re-rerun `output_notebook()` to attempt to load from CDN again, or</li>\\n\"+\n",
       "     \"<li>use INLINE resources instead, as so:</li>\\n\"+\n",
       "     \"</ul>\\n\"+\n",
       "     \"<code>\\n\"+\n",
       "     \"from bokeh.resources import INLINE\\n\"+\n",
       "     \"output_notebook(resources=INLINE)\\n\"+\n",
       "     \"</code>\\n\"+\n",
       "     \"</div>\"}};\n",
       "\n",
       "  function display_loaded() {\n",
       "    var el = document.getElementById(\"1666\");\n",
       "    if (el != null) {\n",
       "      el.textContent = \"BokehJS is loading...\";\n",
       "    }\n",
       "    if (root.Bokeh !== undefined) {\n",
       "      if (el != null) {\n",
       "        el.textContent = \"BokehJS \" + root.Bokeh.version + \" successfully loaded.\";\n",
       "      }\n",
       "    } else if (Date.now() < root._bokeh_timeout) {\n",
       "      setTimeout(display_loaded, 100)\n",
       "    }\n",
       "  }\n",
       "\n",
       "\n",
       "  function run_callbacks() {\n",
       "    try {\n",
       "      root._bokeh_onload_callbacks.forEach(function(callback) {\n",
       "        if (callback != null)\n",
       "          callback();\n",
       "      });\n",
       "    } finally {\n",
       "      delete root._bokeh_onload_callbacks\n",
       "    }\n",
       "    console.debug(\"Bokeh: all callbacks have finished\");\n",
       "  }\n",
       "\n",
       "  function load_libs(css_urls, js_urls, callback) {\n",
       "    if (css_urls == null) css_urls = [];\n",
       "    if (js_urls == null) js_urls = [];\n",
       "\n",
       "    root._bokeh_onload_callbacks.push(callback);\n",
       "    if (root._bokeh_is_loading > 0) {\n",
       "      console.debug(\"Bokeh: BokehJS is being loaded, scheduling callback at\", now());\n",
       "      return null;\n",
       "    }\n",
       "    if (js_urls == null || js_urls.length === 0) {\n",
       "      run_callbacks();\n",
       "      return null;\n",
       "    }\n",
       "    console.debug(\"Bokeh: BokehJS not loaded, scheduling load and callback at\", now());\n",
       "    root._bokeh_is_loading = css_urls.length + js_urls.length;\n",
       "\n",
       "    function on_load() {\n",
       "      root._bokeh_is_loading--;\n",
       "      if (root._bokeh_is_loading === 0) {\n",
       "        console.debug(\"Bokeh: all BokehJS libraries/stylesheets loaded\");\n",
       "        run_callbacks()\n",
       "      }\n",
       "    }\n",
       "\n",
       "    function on_error() {\n",
       "      console.error(\"failed to load \" + url);\n",
       "    }\n",
       "\n",
       "    for (var i = 0; i < css_urls.length; i++) {\n",
       "      var url = css_urls[i];\n",
       "      const element = document.createElement(\"link\");\n",
       "      element.onload = on_load;\n",
       "      element.onerror = on_error;\n",
       "      element.rel = \"stylesheet\";\n",
       "      element.type = \"text/css\";\n",
       "      element.href = url;\n",
       "      console.debug(\"Bokeh: injecting link tag for BokehJS stylesheet: \", url);\n",
       "      document.body.appendChild(element);\n",
       "    }\n",
       "\n",
       "    for (var i = 0; i < js_urls.length; i++) {\n",
       "      var url = js_urls[i];\n",
       "      var element = document.createElement('script');\n",
       "      element.onload = on_load;\n",
       "      element.onerror = on_error;\n",
       "      element.async = false;\n",
       "      element.src = url;\n",
       "      console.debug(\"Bokeh: injecting script tag for BokehJS library: \", url);\n",
       "      document.head.appendChild(element);\n",
       "    }\n",
       "  };var element = document.getElementById(\"1666\");\n",
       "  if (element == null) {\n",
       "    console.error(\"Bokeh: ERROR: autoload.js configured with elementid '1666' but no matching script tag was found. \")\n",
       "    return false;\n",
       "  }\n",
       "\n",
       "  function inject_raw_css(css) {\n",
       "    const element = document.createElement(\"style\");\n",
       "    element.appendChild(document.createTextNode(css));\n",
       "    document.body.appendChild(element);\n",
       "  }\n",
       "\n",
       "  \n",
       "  var js_urls = [\"https://cdn.pydata.org/bokeh/release/bokeh-1.4.0.min.js\", \"https://cdn.pydata.org/bokeh/release/bokeh-widgets-1.4.0.min.js\", \"https://cdn.pydata.org/bokeh/release/bokeh-tables-1.4.0.min.js\", \"https://cdn.pydata.org/bokeh/release/bokeh-gl-1.4.0.min.js\"];\n",
       "  var css_urls = [];\n",
       "  \n",
       "\n",
       "  var inline_js = [\n",
       "    function(Bokeh) {\n",
       "      Bokeh.set_log_level(\"info\");\n",
       "    },\n",
       "    function(Bokeh) {\n",
       "    \n",
       "    \n",
       "    }\n",
       "  ];\n",
       "\n",
       "  function run_inline_js() {\n",
       "    \n",
       "    if (root.Bokeh !== undefined || force === true) {\n",
       "      \n",
       "    for (var i = 0; i < inline_js.length; i++) {\n",
       "      inline_js[i].call(root, root.Bokeh);\n",
       "    }\n",
       "    if (force === true) {\n",
       "        display_loaded();\n",
       "      }} else if (Date.now() < root._bokeh_timeout) {\n",
       "      setTimeout(run_inline_js, 100);\n",
       "    } else if (!root._bokeh_failed_load) {\n",
       "      console.log(\"Bokeh: BokehJS failed to load within specified timeout.\");\n",
       "      root._bokeh_failed_load = true;\n",
       "    } else if (force !== true) {\n",
       "      var cell = $(document.getElementById(\"1666\")).parents('.cell').data().cell;\n",
       "      cell.output_area.append_execute_result(NB_LOAD_WARNING)\n",
       "    }\n",
       "\n",
       "  }\n",
       "\n",
       "  if (root._bokeh_is_loading === 0) {\n",
       "    console.debug(\"Bokeh: BokehJS loaded, going straight to plotting\");\n",
       "    run_inline_js();\n",
       "  } else {\n",
       "    load_libs(css_urls, js_urls, function() {\n",
       "      console.debug(\"Bokeh: BokehJS plotting callback run at\", now());\n",
       "      run_inline_js();\n",
       "    });\n",
       "  }\n",
       "}(window));"
      ],
      "application/vnd.bokehjs_load.v0+json": "\n(function(root) {\n  function now() {\n    return new Date();\n  }\n\n  var force = true;\n\n  if (typeof root._bokeh_onload_callbacks === \"undefined\" || force === true) {\n    root._bokeh_onload_callbacks = [];\n    root._bokeh_is_loading = undefined;\n  }\n\n  \n\n  \n  if (typeof (root._bokeh_timeout) === \"undefined\" || force === true) {\n    root._bokeh_timeout = Date.now() + 5000;\n    root._bokeh_failed_load = false;\n  }\n\n  var NB_LOAD_WARNING = {'data': {'text/html':\n     \"<div style='background-color: #fdd'>\\n\"+\n     \"<p>\\n\"+\n     \"BokehJS does not appear to have successfully loaded. If loading BokehJS from CDN, this \\n\"+\n     \"may be due to a slow or bad network connection. Possible fixes:\\n\"+\n     \"</p>\\n\"+\n     \"<ul>\\n\"+\n     \"<li>re-rerun `output_notebook()` to attempt to load from CDN again, or</li>\\n\"+\n     \"<li>use INLINE resources instead, as so:</li>\\n\"+\n     \"</ul>\\n\"+\n     \"<code>\\n\"+\n     \"from bokeh.resources import INLINE\\n\"+\n     \"output_notebook(resources=INLINE)\\n\"+\n     \"</code>\\n\"+\n     \"</div>\"}};\n\n  function display_loaded() {\n    var el = document.getElementById(\"1666\");\n    if (el != null) {\n      el.textContent = \"BokehJS is loading...\";\n    }\n    if (root.Bokeh !== undefined) {\n      if (el != null) {\n        el.textContent = \"BokehJS \" + root.Bokeh.version + \" successfully loaded.\";\n      }\n    } else if (Date.now() < root._bokeh_timeout) {\n      setTimeout(display_loaded, 100)\n    }\n  }\n\n\n  function run_callbacks() {\n    try {\n      root._bokeh_onload_callbacks.forEach(function(callback) {\n        if (callback != null)\n          callback();\n      });\n    } finally {\n      delete root._bokeh_onload_callbacks\n    }\n    console.debug(\"Bokeh: all callbacks have finished\");\n  }\n\n  function load_libs(css_urls, js_urls, callback) {\n    if (css_urls == null) css_urls = [];\n    if (js_urls == null) js_urls = [];\n\n    root._bokeh_onload_callbacks.push(callback);\n    if (root._bokeh_is_loading > 0) {\n      console.debug(\"Bokeh: BokehJS is being loaded, scheduling callback at\", now());\n      return null;\n    }\n    if (js_urls == null || js_urls.length === 0) {\n      run_callbacks();\n      return null;\n    }\n    console.debug(\"Bokeh: BokehJS not loaded, scheduling load and callback at\", now());\n    root._bokeh_is_loading = css_urls.length + js_urls.length;\n\n    function on_load() {\n      root._bokeh_is_loading--;\n      if (root._bokeh_is_loading === 0) {\n        console.debug(\"Bokeh: all BokehJS libraries/stylesheets loaded\");\n        run_callbacks()\n      }\n    }\n\n    function on_error() {\n      console.error(\"failed to load \" + url);\n    }\n\n    for (var i = 0; i < css_urls.length; i++) {\n      var url = css_urls[i];\n      const element = document.createElement(\"link\");\n      element.onload = on_load;\n      element.onerror = on_error;\n      element.rel = \"stylesheet\";\n      element.type = \"text/css\";\n      element.href = url;\n      console.debug(\"Bokeh: injecting link tag for BokehJS stylesheet: \", url);\n      document.body.appendChild(element);\n    }\n\n    for (var i = 0; i < js_urls.length; i++) {\n      var url = js_urls[i];\n      var element = document.createElement('script');\n      element.onload = on_load;\n      element.onerror = on_error;\n      element.async = false;\n      element.src = url;\n      console.debug(\"Bokeh: injecting script tag for BokehJS library: \", url);\n      document.head.appendChild(element);\n    }\n  };var element = document.getElementById(\"1666\");\n  if (element == null) {\n    console.error(\"Bokeh: ERROR: autoload.js configured with elementid '1666' but no matching script tag was found. \")\n    return false;\n  }\n\n  function inject_raw_css(css) {\n    const element = document.createElement(\"style\");\n    element.appendChild(document.createTextNode(css));\n    document.body.appendChild(element);\n  }\n\n  \n  var js_urls = [\"https://cdn.pydata.org/bokeh/release/bokeh-1.4.0.min.js\", \"https://cdn.pydata.org/bokeh/release/bokeh-widgets-1.4.0.min.js\", \"https://cdn.pydata.org/bokeh/release/bokeh-tables-1.4.0.min.js\", \"https://cdn.pydata.org/bokeh/release/bokeh-gl-1.4.0.min.js\"];\n  var css_urls = [];\n  \n\n  var inline_js = [\n    function(Bokeh) {\n      Bokeh.set_log_level(\"info\");\n    },\n    function(Bokeh) {\n    \n    \n    }\n  ];\n\n  function run_inline_js() {\n    \n    if (root.Bokeh !== undefined || force === true) {\n      \n    for (var i = 0; i < inline_js.length; i++) {\n      inline_js[i].call(root, root.Bokeh);\n    }\n    if (force === true) {\n        display_loaded();\n      }} else if (Date.now() < root._bokeh_timeout) {\n      setTimeout(run_inline_js, 100);\n    } else if (!root._bokeh_failed_load) {\n      console.log(\"Bokeh: BokehJS failed to load within specified timeout.\");\n      root._bokeh_failed_load = true;\n    } else if (force !== true) {\n      var cell = $(document.getElementById(\"1666\")).parents('.cell').data().cell;\n      cell.output_area.append_execute_result(NB_LOAD_WARNING)\n    }\n\n  }\n\n  if (root._bokeh_is_loading === 0) {\n    console.debug(\"Bokeh: BokehJS loaded, going straight to plotting\");\n    run_inline_js();\n  } else {\n    load_libs(css_urls, js_urls, function() {\n      console.debug(\"Bokeh: BokehJS plotting callback run at\", now());\n      run_inline_js();\n    });\n  }\n}(window));"
     },
     "metadata": {},
     "output_type": "display_data"
    },
    {
     "data": {
      "text/html": [
       "\n",
       "\n",
       "\n",
       "\n",
       "\n",
       "\n",
       "  <div class=\"bk-root\" id=\"daee4f48-81f7-4ab2-9ad1-460bfa24a937\" data-root-id=\"1668\"></div>\n"
      ]
     },
     "metadata": {},
     "output_type": "display_data"
    },
    {
     "data": {
      "application/javascript": [
       "(function(root) {\n",
       "  function embed_document(root) {\n",
       "    \n",
       "  var docs_json = {\"e5d17f0c-815f-46d5-bf96-2d6af527bbcf\":{\"roots\":{\"references\":[{\"attributes\":{\"background_fill_color\":{\"value\":\"#2b2b2b\"},\"below\":[{\"id\":\"1679\",\"type\":\"CategoricalAxis\"}],\"center\":[{\"id\":\"1682\",\"type\":\"Grid\"},{\"id\":\"1687\",\"type\":\"Grid\"}],\"left\":[{\"id\":\"1683\",\"type\":\"LinearAxis\"}],\"plot_height\":350,\"plot_width\":800,\"renderers\":[{\"id\":\"1705\",\"type\":\"GlyphRenderer\"}],\"title\":{\"id\":\"1669\",\"type\":\"Title\"},\"toolbar\":{\"id\":\"1694\",\"type\":\"Toolbar\"},\"toolbar_location\":null,\"x_range\":{\"id\":\"1671\",\"type\":\"FactorRange\"},\"x_scale\":{\"id\":\"1675\",\"type\":\"CategoricalScale\"},\"y_range\":{\"id\":\"1673\",\"type\":\"DataRange1d\"},\"y_scale\":{\"id\":\"1677\",\"type\":\"LinearScale\"}},\"id\":\"1668\",\"subtype\":\"Figure\",\"type\":\"Plot\"},{\"attributes\":{\"formatter\":{\"id\":\"1767\",\"type\":\"CategoricalTickFormatter\"},\"major_label_orientation\":1.2,\"ticker\":{\"id\":\"1680\",\"type\":\"CategoricalTicker\"}},\"id\":\"1679\",\"type\":\"CategoricalAxis\"},{\"attributes\":{\"overlay\":{\"id\":\"1773\",\"type\":\"BoxAnnotation\"}},\"id\":\"1690\",\"type\":\"BoxZoomTool\"},{\"attributes\":{},\"id\":\"1688\",\"type\":\"PanTool\"},{\"attributes\":{},\"id\":\"1689\",\"type\":\"WheelZoomTool\"},{\"attributes\":{},\"id\":\"1691\",\"type\":\"SaveTool\"},{\"attributes\":{\"fill_alpha\":{\"value\":0.1},\"fill_color\":{\"value\":\"#1f77b4\"},\"line_alpha\":{\"value\":0.1},\"line_color\":{\"value\":\"#1f77b4\"},\"top\":{\"field\":\"counts\"},\"width\":{\"value\":0.8},\"x\":{\"field\":\"counted_data\"}},\"id\":\"1704\",\"type\":\"VBar\"},{\"attributes\":{},\"id\":\"1684\",\"type\":\"BasicTicker\"},{\"attributes\":{\"formatter\":{\"id\":\"1769\",\"type\":\"BasicTickFormatter\"},\"ticker\":{\"id\":\"1684\",\"type\":\"BasicTicker\"}},\"id\":\"1683\",\"type\":\"LinearAxis\"},{\"attributes\":{\"source\":{\"id\":\"1667\",\"type\":\"ColumnDataSource\"}},\"id\":\"1706\",\"type\":\"CDSView\"},{\"attributes\":{},\"id\":\"1771\",\"type\":\"Selection\"},{\"attributes\":{},\"id\":\"1692\",\"type\":\"ResetTool\"},{\"attributes\":{\"text\":\"Title\"},\"id\":\"1669\",\"type\":\"Title\"},{\"attributes\":{\"fill_color\":{\"field\":\"counted_data\",\"transform\":{\"id\":\"1701\",\"type\":\"CategoricalColorMapper\"}},\"line_color\":{\"value\":\"white\"},\"top\":{\"field\":\"counts\"},\"width\":{\"value\":0.8},\"x\":{\"field\":\"counted_data\"}},\"id\":\"1703\",\"type\":\"VBar\"},{\"attributes\":{\"data_source\":{\"id\":\"1667\",\"type\":\"ColumnDataSource\"},\"glyph\":{\"id\":\"1703\",\"type\":\"VBar\"},\"hover_glyph\":null,\"muted_glyph\":null,\"nonselection_glyph\":{\"id\":\"1704\",\"type\":\"VBar\"},\"selection_glyph\":null,\"view\":{\"id\":\"1706\",\"type\":\"CDSView\"}},\"id\":\"1705\",\"type\":\"GlyphRenderer\"},{\"attributes\":{},\"id\":\"1675\",\"type\":\"CategoricalScale\"},{\"attributes\":{},\"id\":\"1767\",\"type\":\"CategoricalTickFormatter\"},{\"attributes\":{},\"id\":\"1769\",\"type\":\"BasicTickFormatter\"},{\"attributes\":{\"callback\":null,\"start\":0},\"id\":\"1673\",\"type\":\"DataRange1d\"},{\"attributes\":{\"callback\":null,\"data\":{\"counted_data\":[\"\\u65b0\\u578b\\u30b3\\u30ed\\u30ca\\u30a6\\u30a4\\u30eb\\u30b9\",\"\\u611f\\u67d3\\u75c7\",\"\\u6ce8\\u610f\\u559a\\u8d77\",\"\\u81ea\\u7531\\u3067\\u958b\\u304b\\u308c\\u305f\\u30a4\\u30f3\\u30c9\\u592a\\u5e73\\u6d0b\",\"\\u9632\\u707d\",\"\\u6771\\u65e5\\u672c\\u5927\\u9707\\u707d\\u304b\\u30899\\u5e74\",\"5\\u3064\\u306e\\u5834\\u9762\",\"\\u7d4c\\u6e08\\u8ca1\\u653f\\u8aee\\u554f\\u4f1a\\u8b70\",\"\\u30c7\\u30b8\\u30bf\\u30eb\\u5e81\",\"ASEAN\"],\"counts\":[91,22,11,5,3,3,2,2,2,2]},\"selected\":{\"id\":\"1771\",\"type\":\"Selection\"},\"selection_policy\":{\"id\":\"1772\",\"type\":\"UnionRenderers\"}},\"id\":\"1667\",\"type\":\"ColumnDataSource\"},{\"attributes\":{},\"id\":\"1693\",\"type\":\"HelpTool\"},{\"attributes\":{\"factors\":[\"\\u65b0\\u578b\\u30b3\\u30ed\\u30ca\\u30a6\\u30a4\\u30eb\\u30b9\",\"\\u611f\\u67d3\\u75c7\",\"\\u6ce8\\u610f\\u559a\\u8d77\",\"\\u81ea\\u7531\\u3067\\u958b\\u304b\\u308c\\u305f\\u30a4\\u30f3\\u30c9\\u592a\\u5e73\\u6d0b\",\"\\u9632\\u707d\",\"\\u6771\\u65e5\\u672c\\u5927\\u9707\\u707d\\u304b\\u30899\\u5e74\",\"5\\u3064\\u306e\\u5834\\u9762\",\"\\u7d4c\\u6e08\\u8ca1\\u653f\\u8aee\\u554f\\u4f1a\\u8b70\",\"\\u30c7\\u30b8\\u30bf\\u30eb\\u5e81\",\"ASEAN\"],\"palette\":[\"#00204C\",\"#00336E\",\"#37476B\",\"#565C6C\",\"#6F7073\",\"#898578\",\"#A69C75\",\"#C3B46C\",\"#E3CD5B\",\"#FFE945\"]},\"id\":\"1701\",\"type\":\"CategoricalColorMapper\"},{\"attributes\":{},\"id\":\"1677\",\"type\":\"LinearScale\"},{\"attributes\":{\"callback\":null,\"factors\":[\"\\u65b0\\u578b\\u30b3\\u30ed\\u30ca\\u30a6\\u30a4\\u30eb\\u30b9\",\"\\u611f\\u67d3\\u75c7\",\"\\u6ce8\\u610f\\u559a\\u8d77\",\"\\u81ea\\u7531\\u3067\\u958b\\u304b\\u308c\\u305f\\u30a4\\u30f3\\u30c9\\u592a\\u5e73\\u6d0b\",\"\\u9632\\u707d\",\"\\u6771\\u65e5\\u672c\\u5927\\u9707\\u707d\\u304b\\u30899\\u5e74\",\"5\\u3064\\u306e\\u5834\\u9762\",\"\\u7d4c\\u6e08\\u8ca1\\u653f\\u8aee\\u554f\\u4f1a\\u8b70\",\"\\u30c7\\u30b8\\u30bf\\u30eb\\u5e81\",\"ASEAN\"]},\"id\":\"1671\",\"type\":\"FactorRange\"},{\"attributes\":{},\"id\":\"1680\",\"type\":\"CategoricalTicker\"},{\"attributes\":{\"dimension\":1,\"grid_line_color\":null,\"ticker\":{\"id\":\"1684\",\"type\":\"BasicTicker\"}},\"id\":\"1687\",\"type\":\"Grid\"},{\"attributes\":{\"bottom_units\":\"screen\",\"fill_alpha\":{\"value\":0.5},\"fill_color\":{\"value\":\"lightgrey\"},\"left_units\":\"screen\",\"level\":\"overlay\",\"line_alpha\":{\"value\":1.0},\"line_color\":{\"value\":\"black\"},\"line_dash\":[4,4],\"line_width\":{\"value\":2},\"render_mode\":\"css\",\"right_units\":\"screen\",\"top_units\":\"screen\"},\"id\":\"1773\",\"type\":\"BoxAnnotation\"},{\"attributes\":{\"active_drag\":\"auto\",\"active_inspect\":\"auto\",\"active_multi\":null,\"active_scroll\":\"auto\",\"active_tap\":\"auto\",\"tools\":[{\"id\":\"1688\",\"type\":\"PanTool\"},{\"id\":\"1689\",\"type\":\"WheelZoomTool\"},{\"id\":\"1690\",\"type\":\"BoxZoomTool\"},{\"id\":\"1691\",\"type\":\"SaveTool\"},{\"id\":\"1692\",\"type\":\"ResetTool\"},{\"id\":\"1693\",\"type\":\"HelpTool\"}]},\"id\":\"1694\",\"type\":\"Toolbar\"},{\"attributes\":{\"grid_line_color\":null,\"ticker\":{\"id\":\"1680\",\"type\":\"CategoricalTicker\"}},\"id\":\"1682\",\"type\":\"Grid\"},{\"attributes\":{},\"id\":\"1772\",\"type\":\"UnionRenderers\"}],\"root_ids\":[\"1668\"]},\"title\":\"Bokeh Application\",\"version\":\"1.4.0\"}};\n",
       "  var render_items = [{\"docid\":\"e5d17f0c-815f-46d5-bf96-2d6af527bbcf\",\"roots\":{\"1668\":\"daee4f48-81f7-4ab2-9ad1-460bfa24a937\"}}];\n",
       "  root.Bokeh.embed.embed_items_notebook(docs_json, render_items);\n",
       "\n",
       "  }\n",
       "  if (root.Bokeh !== undefined) {\n",
       "    embed_document(root);\n",
       "  } else {\n",
       "    var attempts = 0;\n",
       "    var timer = setInterval(function(root) {\n",
       "      if (root.Bokeh !== undefined) {\n",
       "        clearInterval(timer);\n",
       "        embed_document(root);\n",
       "      } else {\n",
       "        attempts++;\n",
       "        if (attempts > 100) {\n",
       "          clearInterval(timer);\n",
       "          console.log(\"Bokeh: ERROR: Unable to run BokehJS code because BokehJS library is missing\");\n",
       "        }\n",
       "      }\n",
       "    }, 10, root)\n",
       "  }\n",
       "})(window);"
      ],
      "application/vnd.bokehjs_exec.v0+json": ""
     },
     "metadata": {
      "application/vnd.bokehjs_exec.v0+json": {
       "id": "1668"
      }
     },
     "output_type": "display_data"
    }
   ],
   "source": [
    "barchart(jp_hastags_df.nlargest(10, 'count').index.tolist(), jp_hastags_df.nlargest(10, 'count')['count'])"
   ]
  },
  {
   "cell_type": "code",
   "execution_count": 34,
   "metadata": {},
   "outputs": [],
   "source": [
    "#barchart(abe_hastags_df.nlargest(10, 'count').index.tolist(), abe_hastags_df.nlargest(10, 'count')['count'])"
   ]
  },
  {
   "cell_type": "markdown",
   "metadata": {},
   "source": [
    "### hashtags trending over time - TODO "
   ]
  },
  {
   "cell_type": "markdown",
   "metadata": {},
   "source": [
    "## User Mentions"
   ]
  },
  {
   "cell_type": "code",
   "execution_count": 35,
   "metadata": {},
   "outputs": [],
   "source": [
    "def get_usermentions_df(account):\n",
    "    mentions = df[df['account'] == account]['user_mentions_name'].replace(\"\", np.nan).dropna().tolist()\n",
    "    mentions_list = []\n",
    "    for mention in mentions:\n",
    "        mentions_list.extend(mention.split(\";\"))\n",
    "    mentions_df = pd.DataFrame.from_dict(dict(Counter(mentions_list)), orient=\"index\", columns=['count'])\n",
    "    return mentions_df"
   ]
  },
  {
   "cell_type": "code",
   "execution_count": 36,
   "metadata": {},
   "outputs": [],
   "source": [
    "uk_usermentions_df = get_usermentions_df(\"10DowningStreet\")\n",
    "jp_usermentions_df = get_usermentions_df(\"kantei\")"
   ]
  },
  {
   "cell_type": "code",
   "execution_count": 37,
   "metadata": {},
   "outputs": [
    {
     "data": {
      "text/html": [
       "<div>\n",
       "<style scoped>\n",
       "    .dataframe tbody tr th:only-of-type {\n",
       "        vertical-align: middle;\n",
       "    }\n",
       "\n",
       "    .dataframe tbody tr th {\n",
       "        vertical-align: top;\n",
       "    }\n",
       "\n",
       "    .dataframe thead th {\n",
       "        text-align: right;\n",
       "    }\n",
       "</style>\n",
       "<table border=\"1\" class=\"dataframe\">\n",
       "  <thead>\n",
       "    <tr style=\"text-align: right;\">\n",
       "      <th></th>\n",
       "      <th>count</th>\n",
       "    </tr>\n",
       "  </thead>\n",
       "  <tbody>\n",
       "    <tr>\n",
       "      <th>Boris Johnson</th>\n",
       "      <td>388</td>\n",
       "    </tr>\n",
       "    <tr>\n",
       "      <th>Department of Health and Social Care</th>\n",
       "      <td>50</td>\n",
       "    </tr>\n",
       "    <tr>\n",
       "      <th>Matt Hancock</th>\n",
       "      <td>40</td>\n",
       "    </tr>\n",
       "    <tr>\n",
       "      <th>Professor Chris Whitty</th>\n",
       "      <td>39</td>\n",
       "    </tr>\n",
       "    <tr>\n",
       "      <th>HM Treasury</th>\n",
       "      <td>38</td>\n",
       "    </tr>\n",
       "    <tr>\n",
       "      <th>Sir Patrick Vallance</th>\n",
       "      <td>30</td>\n",
       "    </tr>\n",
       "    <tr>\n",
       "      <th>NHS England and NHS Improvement</th>\n",
       "      <td>28</td>\n",
       "    </tr>\n",
       "    <tr>\n",
       "      <th>Rishi Sunak</th>\n",
       "      <td>22</td>\n",
       "    </tr>\n",
       "    <tr>\n",
       "      <th>Dominic Raab</th>\n",
       "      <td>21</td>\n",
       "    </tr>\n",
       "    <tr>\n",
       "      <th>Department for Education</th>\n",
       "      <td>16</td>\n",
       "    </tr>\n",
       "  </tbody>\n",
       "</table>\n",
       "</div>"
      ],
      "text/plain": [
       "                                      count\n",
       "Boris Johnson                           388\n",
       "Department of Health and Social Care     50\n",
       "Matt Hancock                             40\n",
       "Professor Chris Whitty                   39\n",
       "HM Treasury                              38\n",
       "Sir Patrick Vallance                     30\n",
       "NHS England and NHS Improvement          28\n",
       "Rishi Sunak                              22\n",
       "Dominic Raab                             21\n",
       "Department for Education                 16"
      ]
     },
     "execution_count": 37,
     "metadata": {},
     "output_type": "execute_result"
    }
   ],
   "source": [
    "uk_usermentions_df.nlargest(10, 'count')"
   ]
  },
  {
   "cell_type": "code",
   "execution_count": 38,
   "metadata": {},
   "outputs": [
    {
     "data": {
      "text/html": [
       "\n",
       "    <div class=\"bk-root\">\n",
       "        <a href=\"https://bokeh.org\" target=\"_blank\" class=\"bk-logo bk-logo-small bk-logo-notebook\"></a>\n",
       "        <span id=\"1822\">Loading BokehJS ...</span>\n",
       "    </div>"
      ]
     },
     "metadata": {},
     "output_type": "display_data"
    },
    {
     "data": {
      "application/javascript": [
       "\n",
       "(function(root) {\n",
       "  function now() {\n",
       "    return new Date();\n",
       "  }\n",
       "\n",
       "  var force = true;\n",
       "\n",
       "  if (typeof root._bokeh_onload_callbacks === \"undefined\" || force === true) {\n",
       "    root._bokeh_onload_callbacks = [];\n",
       "    root._bokeh_is_loading = undefined;\n",
       "  }\n",
       "\n",
       "  var JS_MIME_TYPE = 'application/javascript';\n",
       "  var HTML_MIME_TYPE = 'text/html';\n",
       "  var EXEC_MIME_TYPE = 'application/vnd.bokehjs_exec.v0+json';\n",
       "  var CLASS_NAME = 'output_bokeh rendered_html';\n",
       "\n",
       "  /**\n",
       "   * Render data to the DOM node\n",
       "   */\n",
       "  function render(props, node) {\n",
       "    var script = document.createElement(\"script\");\n",
       "    node.appendChild(script);\n",
       "  }\n",
       "\n",
       "  /**\n",
       "   * Handle when an output is cleared or removed\n",
       "   */\n",
       "  function handleClearOutput(event, handle) {\n",
       "    var cell = handle.cell;\n",
       "\n",
       "    var id = cell.output_area._bokeh_element_id;\n",
       "    var server_id = cell.output_area._bokeh_server_id;\n",
       "    // Clean up Bokeh references\n",
       "    if (id != null && id in Bokeh.index) {\n",
       "      Bokeh.index[id].model.document.clear();\n",
       "      delete Bokeh.index[id];\n",
       "    }\n",
       "\n",
       "    if (server_id !== undefined) {\n",
       "      // Clean up Bokeh references\n",
       "      var cmd = \"from bokeh.io.state import curstate; print(curstate().uuid_to_server['\" + server_id + \"'].get_sessions()[0].document.roots[0]._id)\";\n",
       "      cell.notebook.kernel.execute(cmd, {\n",
       "        iopub: {\n",
       "          output: function(msg) {\n",
       "            var id = msg.content.text.trim();\n",
       "            if (id in Bokeh.index) {\n",
       "              Bokeh.index[id].model.document.clear();\n",
       "              delete Bokeh.index[id];\n",
       "            }\n",
       "          }\n",
       "        }\n",
       "      });\n",
       "      // Destroy server and session\n",
       "      var cmd = \"import bokeh.io.notebook as ion; ion.destroy_server('\" + server_id + \"')\";\n",
       "      cell.notebook.kernel.execute(cmd);\n",
       "    }\n",
       "  }\n",
       "\n",
       "  /**\n",
       "   * Handle when a new output is added\n",
       "   */\n",
       "  function handleAddOutput(event, handle) {\n",
       "    var output_area = handle.output_area;\n",
       "    var output = handle.output;\n",
       "\n",
       "    // limit handleAddOutput to display_data with EXEC_MIME_TYPE content only\n",
       "    if ((output.output_type != \"display_data\") || (!output.data.hasOwnProperty(EXEC_MIME_TYPE))) {\n",
       "      return\n",
       "    }\n",
       "\n",
       "    var toinsert = output_area.element.find(\".\" + CLASS_NAME.split(' ')[0]);\n",
       "\n",
       "    if (output.metadata[EXEC_MIME_TYPE][\"id\"] !== undefined) {\n",
       "      toinsert[toinsert.length - 1].firstChild.textContent = output.data[JS_MIME_TYPE];\n",
       "      // store reference to embed id on output_area\n",
       "      output_area._bokeh_element_id = output.metadata[EXEC_MIME_TYPE][\"id\"];\n",
       "    }\n",
       "    if (output.metadata[EXEC_MIME_TYPE][\"server_id\"] !== undefined) {\n",
       "      var bk_div = document.createElement(\"div\");\n",
       "      bk_div.innerHTML = output.data[HTML_MIME_TYPE];\n",
       "      var script_attrs = bk_div.children[0].attributes;\n",
       "      for (var i = 0; i < script_attrs.length; i++) {\n",
       "        toinsert[toinsert.length - 1].firstChild.setAttribute(script_attrs[i].name, script_attrs[i].value);\n",
       "      }\n",
       "      // store reference to server id on output_area\n",
       "      output_area._bokeh_server_id = output.metadata[EXEC_MIME_TYPE][\"server_id\"];\n",
       "    }\n",
       "  }\n",
       "\n",
       "  function register_renderer(events, OutputArea) {\n",
       "\n",
       "    function append_mime(data, metadata, element) {\n",
       "      // create a DOM node to render to\n",
       "      var toinsert = this.create_output_subarea(\n",
       "        metadata,\n",
       "        CLASS_NAME,\n",
       "        EXEC_MIME_TYPE\n",
       "      );\n",
       "      this.keyboard_manager.register_events(toinsert);\n",
       "      // Render to node\n",
       "      var props = {data: data, metadata: metadata[EXEC_MIME_TYPE]};\n",
       "      render(props, toinsert[toinsert.length - 1]);\n",
       "      element.append(toinsert);\n",
       "      return toinsert\n",
       "    }\n",
       "\n",
       "    /* Handle when an output is cleared or removed */\n",
       "    events.on('clear_output.CodeCell', handleClearOutput);\n",
       "    events.on('delete.Cell', handleClearOutput);\n",
       "\n",
       "    /* Handle when a new output is added */\n",
       "    events.on('output_added.OutputArea', handleAddOutput);\n",
       "\n",
       "    /**\n",
       "     * Register the mime type and append_mime function with output_area\n",
       "     */\n",
       "    OutputArea.prototype.register_mime_type(EXEC_MIME_TYPE, append_mime, {\n",
       "      /* Is output safe? */\n",
       "      safe: true,\n",
       "      /* Index of renderer in `output_area.display_order` */\n",
       "      index: 0\n",
       "    });\n",
       "  }\n",
       "\n",
       "  // register the mime type if in Jupyter Notebook environment and previously unregistered\n",
       "  if (root.Jupyter !== undefined) {\n",
       "    var events = require('base/js/events');\n",
       "    var OutputArea = require('notebook/js/outputarea').OutputArea;\n",
       "\n",
       "    if (OutputArea.prototype.mime_types().indexOf(EXEC_MIME_TYPE) == -1) {\n",
       "      register_renderer(events, OutputArea);\n",
       "    }\n",
       "  }\n",
       "\n",
       "  \n",
       "  if (typeof (root._bokeh_timeout) === \"undefined\" || force === true) {\n",
       "    root._bokeh_timeout = Date.now() + 5000;\n",
       "    root._bokeh_failed_load = false;\n",
       "  }\n",
       "\n",
       "  var NB_LOAD_WARNING = {'data': {'text/html':\n",
       "     \"<div style='background-color: #fdd'>\\n\"+\n",
       "     \"<p>\\n\"+\n",
       "     \"BokehJS does not appear to have successfully loaded. If loading BokehJS from CDN, this \\n\"+\n",
       "     \"may be due to a slow or bad network connection. Possible fixes:\\n\"+\n",
       "     \"</p>\\n\"+\n",
       "     \"<ul>\\n\"+\n",
       "     \"<li>re-rerun `output_notebook()` to attempt to load from CDN again, or</li>\\n\"+\n",
       "     \"<li>use INLINE resources instead, as so:</li>\\n\"+\n",
       "     \"</ul>\\n\"+\n",
       "     \"<code>\\n\"+\n",
       "     \"from bokeh.resources import INLINE\\n\"+\n",
       "     \"output_notebook(resources=INLINE)\\n\"+\n",
       "     \"</code>\\n\"+\n",
       "     \"</div>\"}};\n",
       "\n",
       "  function display_loaded() {\n",
       "    var el = document.getElementById(\"1822\");\n",
       "    if (el != null) {\n",
       "      el.textContent = \"BokehJS is loading...\";\n",
       "    }\n",
       "    if (root.Bokeh !== undefined) {\n",
       "      if (el != null) {\n",
       "        el.textContent = \"BokehJS \" + root.Bokeh.version + \" successfully loaded.\";\n",
       "      }\n",
       "    } else if (Date.now() < root._bokeh_timeout) {\n",
       "      setTimeout(display_loaded, 100)\n",
       "    }\n",
       "  }\n",
       "\n",
       "\n",
       "  function run_callbacks() {\n",
       "    try {\n",
       "      root._bokeh_onload_callbacks.forEach(function(callback) {\n",
       "        if (callback != null)\n",
       "          callback();\n",
       "      });\n",
       "    } finally {\n",
       "      delete root._bokeh_onload_callbacks\n",
       "    }\n",
       "    console.debug(\"Bokeh: all callbacks have finished\");\n",
       "  }\n",
       "\n",
       "  function load_libs(css_urls, js_urls, callback) {\n",
       "    if (css_urls == null) css_urls = [];\n",
       "    if (js_urls == null) js_urls = [];\n",
       "\n",
       "    root._bokeh_onload_callbacks.push(callback);\n",
       "    if (root._bokeh_is_loading > 0) {\n",
       "      console.debug(\"Bokeh: BokehJS is being loaded, scheduling callback at\", now());\n",
       "      return null;\n",
       "    }\n",
       "    if (js_urls == null || js_urls.length === 0) {\n",
       "      run_callbacks();\n",
       "      return null;\n",
       "    }\n",
       "    console.debug(\"Bokeh: BokehJS not loaded, scheduling load and callback at\", now());\n",
       "    root._bokeh_is_loading = css_urls.length + js_urls.length;\n",
       "\n",
       "    function on_load() {\n",
       "      root._bokeh_is_loading--;\n",
       "      if (root._bokeh_is_loading === 0) {\n",
       "        console.debug(\"Bokeh: all BokehJS libraries/stylesheets loaded\");\n",
       "        run_callbacks()\n",
       "      }\n",
       "    }\n",
       "\n",
       "    function on_error() {\n",
       "      console.error(\"failed to load \" + url);\n",
       "    }\n",
       "\n",
       "    for (var i = 0; i < css_urls.length; i++) {\n",
       "      var url = css_urls[i];\n",
       "      const element = document.createElement(\"link\");\n",
       "      element.onload = on_load;\n",
       "      element.onerror = on_error;\n",
       "      element.rel = \"stylesheet\";\n",
       "      element.type = \"text/css\";\n",
       "      element.href = url;\n",
       "      console.debug(\"Bokeh: injecting link tag for BokehJS stylesheet: \", url);\n",
       "      document.body.appendChild(element);\n",
       "    }\n",
       "\n",
       "    for (var i = 0; i < js_urls.length; i++) {\n",
       "      var url = js_urls[i];\n",
       "      var element = document.createElement('script');\n",
       "      element.onload = on_load;\n",
       "      element.onerror = on_error;\n",
       "      element.async = false;\n",
       "      element.src = url;\n",
       "      console.debug(\"Bokeh: injecting script tag for BokehJS library: \", url);\n",
       "      document.head.appendChild(element);\n",
       "    }\n",
       "  };var element = document.getElementById(\"1822\");\n",
       "  if (element == null) {\n",
       "    console.error(\"Bokeh: ERROR: autoload.js configured with elementid '1822' but no matching script tag was found. \")\n",
       "    return false;\n",
       "  }\n",
       "\n",
       "  function inject_raw_css(css) {\n",
       "    const element = document.createElement(\"style\");\n",
       "    element.appendChild(document.createTextNode(css));\n",
       "    document.body.appendChild(element);\n",
       "  }\n",
       "\n",
       "  \n",
       "  var js_urls = [\"https://cdn.pydata.org/bokeh/release/bokeh-1.4.0.min.js\", \"https://cdn.pydata.org/bokeh/release/bokeh-widgets-1.4.0.min.js\", \"https://cdn.pydata.org/bokeh/release/bokeh-tables-1.4.0.min.js\", \"https://cdn.pydata.org/bokeh/release/bokeh-gl-1.4.0.min.js\"];\n",
       "  var css_urls = [];\n",
       "  \n",
       "\n",
       "  var inline_js = [\n",
       "    function(Bokeh) {\n",
       "      Bokeh.set_log_level(\"info\");\n",
       "    },\n",
       "    function(Bokeh) {\n",
       "    \n",
       "    \n",
       "    }\n",
       "  ];\n",
       "\n",
       "  function run_inline_js() {\n",
       "    \n",
       "    if (root.Bokeh !== undefined || force === true) {\n",
       "      \n",
       "    for (var i = 0; i < inline_js.length; i++) {\n",
       "      inline_js[i].call(root, root.Bokeh);\n",
       "    }\n",
       "    if (force === true) {\n",
       "        display_loaded();\n",
       "      }} else if (Date.now() < root._bokeh_timeout) {\n",
       "      setTimeout(run_inline_js, 100);\n",
       "    } else if (!root._bokeh_failed_load) {\n",
       "      console.log(\"Bokeh: BokehJS failed to load within specified timeout.\");\n",
       "      root._bokeh_failed_load = true;\n",
       "    } else if (force !== true) {\n",
       "      var cell = $(document.getElementById(\"1822\")).parents('.cell').data().cell;\n",
       "      cell.output_area.append_execute_result(NB_LOAD_WARNING)\n",
       "    }\n",
       "\n",
       "  }\n",
       "\n",
       "  if (root._bokeh_is_loading === 0) {\n",
       "    console.debug(\"Bokeh: BokehJS loaded, going straight to plotting\");\n",
       "    run_inline_js();\n",
       "  } else {\n",
       "    load_libs(css_urls, js_urls, function() {\n",
       "      console.debug(\"Bokeh: BokehJS plotting callback run at\", now());\n",
       "      run_inline_js();\n",
       "    });\n",
       "  }\n",
       "}(window));"
      ],
      "application/vnd.bokehjs_load.v0+json": "\n(function(root) {\n  function now() {\n    return new Date();\n  }\n\n  var force = true;\n\n  if (typeof root._bokeh_onload_callbacks === \"undefined\" || force === true) {\n    root._bokeh_onload_callbacks = [];\n    root._bokeh_is_loading = undefined;\n  }\n\n  \n\n  \n  if (typeof (root._bokeh_timeout) === \"undefined\" || force === true) {\n    root._bokeh_timeout = Date.now() + 5000;\n    root._bokeh_failed_load = false;\n  }\n\n  var NB_LOAD_WARNING = {'data': {'text/html':\n     \"<div style='background-color: #fdd'>\\n\"+\n     \"<p>\\n\"+\n     \"BokehJS does not appear to have successfully loaded. If loading BokehJS from CDN, this \\n\"+\n     \"may be due to a slow or bad network connection. Possible fixes:\\n\"+\n     \"</p>\\n\"+\n     \"<ul>\\n\"+\n     \"<li>re-rerun `output_notebook()` to attempt to load from CDN again, or</li>\\n\"+\n     \"<li>use INLINE resources instead, as so:</li>\\n\"+\n     \"</ul>\\n\"+\n     \"<code>\\n\"+\n     \"from bokeh.resources import INLINE\\n\"+\n     \"output_notebook(resources=INLINE)\\n\"+\n     \"</code>\\n\"+\n     \"</div>\"}};\n\n  function display_loaded() {\n    var el = document.getElementById(\"1822\");\n    if (el != null) {\n      el.textContent = \"BokehJS is loading...\";\n    }\n    if (root.Bokeh !== undefined) {\n      if (el != null) {\n        el.textContent = \"BokehJS \" + root.Bokeh.version + \" successfully loaded.\";\n      }\n    } else if (Date.now() < root._bokeh_timeout) {\n      setTimeout(display_loaded, 100)\n    }\n  }\n\n\n  function run_callbacks() {\n    try {\n      root._bokeh_onload_callbacks.forEach(function(callback) {\n        if (callback != null)\n          callback();\n      });\n    } finally {\n      delete root._bokeh_onload_callbacks\n    }\n    console.debug(\"Bokeh: all callbacks have finished\");\n  }\n\n  function load_libs(css_urls, js_urls, callback) {\n    if (css_urls == null) css_urls = [];\n    if (js_urls == null) js_urls = [];\n\n    root._bokeh_onload_callbacks.push(callback);\n    if (root._bokeh_is_loading > 0) {\n      console.debug(\"Bokeh: BokehJS is being loaded, scheduling callback at\", now());\n      return null;\n    }\n    if (js_urls == null || js_urls.length === 0) {\n      run_callbacks();\n      return null;\n    }\n    console.debug(\"Bokeh: BokehJS not loaded, scheduling load and callback at\", now());\n    root._bokeh_is_loading = css_urls.length + js_urls.length;\n\n    function on_load() {\n      root._bokeh_is_loading--;\n      if (root._bokeh_is_loading === 0) {\n        console.debug(\"Bokeh: all BokehJS libraries/stylesheets loaded\");\n        run_callbacks()\n      }\n    }\n\n    function on_error() {\n      console.error(\"failed to load \" + url);\n    }\n\n    for (var i = 0; i < css_urls.length; i++) {\n      var url = css_urls[i];\n      const element = document.createElement(\"link\");\n      element.onload = on_load;\n      element.onerror = on_error;\n      element.rel = \"stylesheet\";\n      element.type = \"text/css\";\n      element.href = url;\n      console.debug(\"Bokeh: injecting link tag for BokehJS stylesheet: \", url);\n      document.body.appendChild(element);\n    }\n\n    for (var i = 0; i < js_urls.length; i++) {\n      var url = js_urls[i];\n      var element = document.createElement('script');\n      element.onload = on_load;\n      element.onerror = on_error;\n      element.async = false;\n      element.src = url;\n      console.debug(\"Bokeh: injecting script tag for BokehJS library: \", url);\n      document.head.appendChild(element);\n    }\n  };var element = document.getElementById(\"1822\");\n  if (element == null) {\n    console.error(\"Bokeh: ERROR: autoload.js configured with elementid '1822' but no matching script tag was found. \")\n    return false;\n  }\n\n  function inject_raw_css(css) {\n    const element = document.createElement(\"style\");\n    element.appendChild(document.createTextNode(css));\n    document.body.appendChild(element);\n  }\n\n  \n  var js_urls = [\"https://cdn.pydata.org/bokeh/release/bokeh-1.4.0.min.js\", \"https://cdn.pydata.org/bokeh/release/bokeh-widgets-1.4.0.min.js\", \"https://cdn.pydata.org/bokeh/release/bokeh-tables-1.4.0.min.js\", \"https://cdn.pydata.org/bokeh/release/bokeh-gl-1.4.0.min.js\"];\n  var css_urls = [];\n  \n\n  var inline_js = [\n    function(Bokeh) {\n      Bokeh.set_log_level(\"info\");\n    },\n    function(Bokeh) {\n    \n    \n    }\n  ];\n\n  function run_inline_js() {\n    \n    if (root.Bokeh !== undefined || force === true) {\n      \n    for (var i = 0; i < inline_js.length; i++) {\n      inline_js[i].call(root, root.Bokeh);\n    }\n    if (force === true) {\n        display_loaded();\n      }} else if (Date.now() < root._bokeh_timeout) {\n      setTimeout(run_inline_js, 100);\n    } else if (!root._bokeh_failed_load) {\n      console.log(\"Bokeh: BokehJS failed to load within specified timeout.\");\n      root._bokeh_failed_load = true;\n    } else if (force !== true) {\n      var cell = $(document.getElementById(\"1822\")).parents('.cell').data().cell;\n      cell.output_area.append_execute_result(NB_LOAD_WARNING)\n    }\n\n  }\n\n  if (root._bokeh_is_loading === 0) {\n    console.debug(\"Bokeh: BokehJS loaded, going straight to plotting\");\n    run_inline_js();\n  } else {\n    load_libs(css_urls, js_urls, function() {\n      console.debug(\"Bokeh: BokehJS plotting callback run at\", now());\n      run_inline_js();\n    });\n  }\n}(window));"
     },
     "metadata": {},
     "output_type": "display_data"
    },
    {
     "data": {
      "text/html": [
       "\n",
       "\n",
       "\n",
       "\n",
       "\n",
       "\n",
       "  <div class=\"bk-root\" id=\"4ae1c317-c916-4b42-bce9-dceba522c7d1\" data-root-id=\"1824\"></div>\n"
      ]
     },
     "metadata": {},
     "output_type": "display_data"
    },
    {
     "data": {
      "application/javascript": [
       "(function(root) {\n",
       "  function embed_document(root) {\n",
       "    \n",
       "  var docs_json = {\"95d11d68-6309-4350-8e59-c433ca7df3fe\":{\"roots\":{\"references\":[{\"attributes\":{\"background_fill_color\":{\"value\":\"#2b2b2b\"},\"below\":[{\"id\":\"1835\",\"type\":\"CategoricalAxis\"}],\"center\":[{\"id\":\"1838\",\"type\":\"Grid\"},{\"id\":\"1843\",\"type\":\"Grid\"}],\"left\":[{\"id\":\"1839\",\"type\":\"LinearAxis\"}],\"plot_height\":350,\"plot_width\":800,\"renderers\":[{\"id\":\"1861\",\"type\":\"GlyphRenderer\"}],\"title\":{\"id\":\"1825\",\"type\":\"Title\"},\"toolbar\":{\"id\":\"1850\",\"type\":\"Toolbar\"},\"toolbar_location\":null,\"x_range\":{\"id\":\"1827\",\"type\":\"FactorRange\"},\"x_scale\":{\"id\":\"1831\",\"type\":\"CategoricalScale\"},\"y_range\":{\"id\":\"1829\",\"type\":\"DataRange1d\"},\"y_scale\":{\"id\":\"1833\",\"type\":\"LinearScale\"}},\"id\":\"1824\",\"subtype\":\"Figure\",\"type\":\"Plot\"},{\"attributes\":{\"fill_color\":{\"field\":\"counted_data\",\"transform\":{\"id\":\"1857\",\"type\":\"CategoricalColorMapper\"}},\"line_color\":{\"value\":\"white\"},\"top\":{\"field\":\"counts\"},\"width\":{\"value\":0.8},\"x\":{\"field\":\"counted_data\"}},\"id\":\"1859\",\"type\":\"VBar\"},{\"attributes\":{},\"id\":\"1848\",\"type\":\"ResetTool\"},{\"attributes\":{},\"id\":\"1836\",\"type\":\"CategoricalTicker\"},{\"attributes\":{\"text\":\"Title\"},\"id\":\"1825\",\"type\":\"Title\"},{\"attributes\":{},\"id\":\"1931\",\"type\":\"CategoricalTickFormatter\"},{\"attributes\":{},\"id\":\"1833\",\"type\":\"LinearScale\"},{\"attributes\":{\"dimension\":1,\"grid_line_color\":null,\"ticker\":{\"id\":\"1840\",\"type\":\"BasicTicker\"}},\"id\":\"1843\",\"type\":\"Grid\"},{\"attributes\":{\"factors\":[\"Boris Johnson\",\"Department of Health and Social Care\",\"Matt Hancock\",\"Professor Chris Whitty\",\"HM Treasury\",\"Sir Patrick Vallance\",\"NHS England and NHS Improvement\",\"Rishi Sunak\",\"Dominic Raab\",\"Department for Education\"],\"palette\":[\"#00204C\",\"#00336E\",\"#37476B\",\"#565C6C\",\"#6F7073\",\"#898578\",\"#A69C75\",\"#C3B46C\",\"#E3CD5B\",\"#FFE945\"]},\"id\":\"1857\",\"type\":\"CategoricalColorMapper\"},{\"attributes\":{},\"id\":\"1840\",\"type\":\"BasicTicker\"},{\"attributes\":{},\"id\":\"1933\",\"type\":\"BasicTickFormatter\"},{\"attributes\":{},\"id\":\"1936\",\"type\":\"UnionRenderers\"},{\"attributes\":{\"data_source\":{\"id\":\"1823\",\"type\":\"ColumnDataSource\"},\"glyph\":{\"id\":\"1859\",\"type\":\"VBar\"},\"hover_glyph\":null,\"muted_glyph\":null,\"nonselection_glyph\":{\"id\":\"1860\",\"type\":\"VBar\"},\"selection_glyph\":null,\"view\":{\"id\":\"1862\",\"type\":\"CDSView\"}},\"id\":\"1861\",\"type\":\"GlyphRenderer\"},{\"attributes\":{\"grid_line_color\":null,\"ticker\":{\"id\":\"1836\",\"type\":\"CategoricalTicker\"}},\"id\":\"1838\",\"type\":\"Grid\"},{\"attributes\":{},\"id\":\"1844\",\"type\":\"PanTool\"},{\"attributes\":{\"callback\":null,\"data\":{\"counted_data\":[\"Boris Johnson\",\"Department of Health and Social Care\",\"Matt Hancock\",\"Professor Chris Whitty\",\"HM Treasury\",\"Sir Patrick Vallance\",\"NHS England and NHS Improvement\",\"Rishi Sunak\",\"Dominic Raab\",\"Department for Education\"],\"counts\":[388,50,40,39,38,30,28,22,21,16]},\"selected\":{\"id\":\"1935\",\"type\":\"Selection\"},\"selection_policy\":{\"id\":\"1936\",\"type\":\"UnionRenderers\"}},\"id\":\"1823\",\"type\":\"ColumnDataSource\"},{\"attributes\":{\"formatter\":{\"id\":\"1931\",\"type\":\"CategoricalTickFormatter\"},\"major_label_orientation\":1.2,\"ticker\":{\"id\":\"1836\",\"type\":\"CategoricalTicker\"}},\"id\":\"1835\",\"type\":\"CategoricalAxis\"},{\"attributes\":{\"bottom_units\":\"screen\",\"fill_alpha\":{\"value\":0.5},\"fill_color\":{\"value\":\"lightgrey\"},\"left_units\":\"screen\",\"level\":\"overlay\",\"line_alpha\":{\"value\":1.0},\"line_color\":{\"value\":\"black\"},\"line_dash\":[4,4],\"line_width\":{\"value\":2},\"render_mode\":\"css\",\"right_units\":\"screen\",\"top_units\":\"screen\"},\"id\":\"1937\",\"type\":\"BoxAnnotation\"},{\"attributes\":{},\"id\":\"1847\",\"type\":\"SaveTool\"},{\"attributes\":{},\"id\":\"1845\",\"type\":\"WheelZoomTool\"},{\"attributes\":{\"source\":{\"id\":\"1823\",\"type\":\"ColumnDataSource\"}},\"id\":\"1862\",\"type\":\"CDSView\"},{\"attributes\":{},\"id\":\"1935\",\"type\":\"Selection\"},{\"attributes\":{\"callback\":null,\"start\":0},\"id\":\"1829\",\"type\":\"DataRange1d\"},{\"attributes\":{\"formatter\":{\"id\":\"1933\",\"type\":\"BasicTickFormatter\"},\"ticker\":{\"id\":\"1840\",\"type\":\"BasicTicker\"}},\"id\":\"1839\",\"type\":\"LinearAxis\"},{\"attributes\":{\"active_drag\":\"auto\",\"active_inspect\":\"auto\",\"active_multi\":null,\"active_scroll\":\"auto\",\"active_tap\":\"auto\",\"tools\":[{\"id\":\"1844\",\"type\":\"PanTool\"},{\"id\":\"1845\",\"type\":\"WheelZoomTool\"},{\"id\":\"1846\",\"type\":\"BoxZoomTool\"},{\"id\":\"1847\",\"type\":\"SaveTool\"},{\"id\":\"1848\",\"type\":\"ResetTool\"},{\"id\":\"1849\",\"type\":\"HelpTool\"}]},\"id\":\"1850\",\"type\":\"Toolbar\"},{\"attributes\":{\"fill_alpha\":{\"value\":0.1},\"fill_color\":{\"value\":\"#1f77b4\"},\"line_alpha\":{\"value\":0.1},\"line_color\":{\"value\":\"#1f77b4\"},\"top\":{\"field\":\"counts\"},\"width\":{\"value\":0.8},\"x\":{\"field\":\"counted_data\"}},\"id\":\"1860\",\"type\":\"VBar\"},{\"attributes\":{\"callback\":null,\"factors\":[\"Boris Johnson\",\"Department of Health and Social Care\",\"Matt Hancock\",\"Professor Chris Whitty\",\"HM Treasury\",\"Sir Patrick Vallance\",\"NHS England and NHS Improvement\",\"Rishi Sunak\",\"Dominic Raab\",\"Department for Education\"]},\"id\":\"1827\",\"type\":\"FactorRange\"},{\"attributes\":{},\"id\":\"1831\",\"type\":\"CategoricalScale\"},{\"attributes\":{\"overlay\":{\"id\":\"1937\",\"type\":\"BoxAnnotation\"}},\"id\":\"1846\",\"type\":\"BoxZoomTool\"},{\"attributes\":{},\"id\":\"1849\",\"type\":\"HelpTool\"}],\"root_ids\":[\"1824\"]},\"title\":\"Bokeh Application\",\"version\":\"1.4.0\"}};\n",
       "  var render_items = [{\"docid\":\"95d11d68-6309-4350-8e59-c433ca7df3fe\",\"roots\":{\"1824\":\"4ae1c317-c916-4b42-bce9-dceba522c7d1\"}}];\n",
       "  root.Bokeh.embed.embed_items_notebook(docs_json, render_items);\n",
       "\n",
       "  }\n",
       "  if (root.Bokeh !== undefined) {\n",
       "    embed_document(root);\n",
       "  } else {\n",
       "    var attempts = 0;\n",
       "    var timer = setInterval(function(root) {\n",
       "      if (root.Bokeh !== undefined) {\n",
       "        clearInterval(timer);\n",
       "        embed_document(root);\n",
       "      } else {\n",
       "        attempts++;\n",
       "        if (attempts > 100) {\n",
       "          clearInterval(timer);\n",
       "          console.log(\"Bokeh: ERROR: Unable to run BokehJS code because BokehJS library is missing\");\n",
       "        }\n",
       "      }\n",
       "    }, 10, root)\n",
       "  }\n",
       "})(window);"
      ],
      "application/vnd.bokehjs_exec.v0+json": ""
     },
     "metadata": {
      "application/vnd.bokehjs_exec.v0+json": {
       "id": "1824"
      }
     },
     "output_type": "display_data"
    }
   ],
   "source": [
    "barchart(uk_usermentions_df.nlargest(10, 'count').index.tolist(), uk_usermentions_df.nlargest(10, 'count')['count'])"
   ]
  },
  {
   "cell_type": "code",
   "execution_count": 39,
   "metadata": {},
   "outputs": [
    {
     "data": {
      "text/html": [
       "<div>\n",
       "<style scoped>\n",
       "    .dataframe tbody tr th:only-of-type {\n",
       "        vertical-align: middle;\n",
       "    }\n",
       "\n",
       "    .dataframe tbody tr th {\n",
       "        vertical-align: top;\n",
       "    }\n",
       "\n",
       "    .dataframe thead th {\n",
       "        text-align: right;\n",
       "    }\n",
       "</style>\n",
       "<table border=\"1\" class=\"dataframe\">\n",
       "  <thead>\n",
       "    <tr style=\"text-align: right;\">\n",
       "      <th></th>\n",
       "      <th>count</th>\n",
       "    </tr>\n",
       "  </thead>\n",
       "  <tbody>\n",
       "    <tr>\n",
       "      <th>首相官邸(災害・危機管理情報)</th>\n",
       "      <td>205</td>\n",
       "    </tr>\n",
       "    <tr>\n",
       "      <th>菅 義偉</th>\n",
       "      <td>33</td>\n",
       "    </tr>\n",
       "    <tr>\n",
       "      <th>首相官邸</th>\n",
       "      <td>3</td>\n",
       "    </tr>\n",
       "    <tr>\n",
       "      <th>Joe Biden</th>\n",
       "      <td>2</td>\n",
       "    </tr>\n",
       "    <tr>\n",
       "      <th>Kamala Harris</th>\n",
       "      <td>2</td>\n",
       "    </tr>\n",
       "    <tr>\n",
       "      <th>caféふぅ</th>\n",
       "      <td>2</td>\n",
       "    </tr>\n",
       "    <tr>\n",
       "      <th>新型コロナウイルス感染症対策推進室（内閣官房）</th>\n",
       "      <td>2</td>\n",
       "    </tr>\n",
       "    <tr>\n",
       "      <th>総務省</th>\n",
       "      <td>1</td>\n",
       "    </tr>\n",
       "    <tr>\n",
       "      <th>Joko Widodo</th>\n",
       "      <td>1</td>\n",
       "    </tr>\n",
       "    <tr>\n",
       "      <th>World Economic Forum</th>\n",
       "      <td>1</td>\n",
       "    </tr>\n",
       "  </tbody>\n",
       "</table>\n",
       "</div>"
      ],
      "text/plain": [
       "                         count\n",
       "首相官邸(災害・危機管理情報)            205\n",
       "菅 義偉                        33\n",
       "首相官邸                         3\n",
       "Joe Biden                    2\n",
       "Kamala Harris                2\n",
       "caféふぅ                       2\n",
       "新型コロナウイルス感染症対策推進室（内閣官房）      2\n",
       "総務省                          1\n",
       "Joko Widodo                  1\n",
       "World Economic Forum         1"
      ]
     },
     "execution_count": 39,
     "metadata": {},
     "output_type": "execute_result"
    }
   ],
   "source": [
    "jp_usermentions_df.nlargest(10, \"count\")"
   ]
  },
  {
   "cell_type": "code",
   "execution_count": 40,
   "metadata": {},
   "outputs": [
    {
     "data": {
      "text/html": [
       "\n",
       "    <div class=\"bk-root\">\n",
       "        <a href=\"https://bokeh.org\" target=\"_blank\" class=\"bk-logo bk-logo-small bk-logo-notebook\"></a>\n",
       "        <span id=\"1986\">Loading BokehJS ...</span>\n",
       "    </div>"
      ]
     },
     "metadata": {},
     "output_type": "display_data"
    },
    {
     "data": {
      "application/javascript": [
       "\n",
       "(function(root) {\n",
       "  function now() {\n",
       "    return new Date();\n",
       "  }\n",
       "\n",
       "  var force = true;\n",
       "\n",
       "  if (typeof root._bokeh_onload_callbacks === \"undefined\" || force === true) {\n",
       "    root._bokeh_onload_callbacks = [];\n",
       "    root._bokeh_is_loading = undefined;\n",
       "  }\n",
       "\n",
       "  var JS_MIME_TYPE = 'application/javascript';\n",
       "  var HTML_MIME_TYPE = 'text/html';\n",
       "  var EXEC_MIME_TYPE = 'application/vnd.bokehjs_exec.v0+json';\n",
       "  var CLASS_NAME = 'output_bokeh rendered_html';\n",
       "\n",
       "  /**\n",
       "   * Render data to the DOM node\n",
       "   */\n",
       "  function render(props, node) {\n",
       "    var script = document.createElement(\"script\");\n",
       "    node.appendChild(script);\n",
       "  }\n",
       "\n",
       "  /**\n",
       "   * Handle when an output is cleared or removed\n",
       "   */\n",
       "  function handleClearOutput(event, handle) {\n",
       "    var cell = handle.cell;\n",
       "\n",
       "    var id = cell.output_area._bokeh_element_id;\n",
       "    var server_id = cell.output_area._bokeh_server_id;\n",
       "    // Clean up Bokeh references\n",
       "    if (id != null && id in Bokeh.index) {\n",
       "      Bokeh.index[id].model.document.clear();\n",
       "      delete Bokeh.index[id];\n",
       "    }\n",
       "\n",
       "    if (server_id !== undefined) {\n",
       "      // Clean up Bokeh references\n",
       "      var cmd = \"from bokeh.io.state import curstate; print(curstate().uuid_to_server['\" + server_id + \"'].get_sessions()[0].document.roots[0]._id)\";\n",
       "      cell.notebook.kernel.execute(cmd, {\n",
       "        iopub: {\n",
       "          output: function(msg) {\n",
       "            var id = msg.content.text.trim();\n",
       "            if (id in Bokeh.index) {\n",
       "              Bokeh.index[id].model.document.clear();\n",
       "              delete Bokeh.index[id];\n",
       "            }\n",
       "          }\n",
       "        }\n",
       "      });\n",
       "      // Destroy server and session\n",
       "      var cmd = \"import bokeh.io.notebook as ion; ion.destroy_server('\" + server_id + \"')\";\n",
       "      cell.notebook.kernel.execute(cmd);\n",
       "    }\n",
       "  }\n",
       "\n",
       "  /**\n",
       "   * Handle when a new output is added\n",
       "   */\n",
       "  function handleAddOutput(event, handle) {\n",
       "    var output_area = handle.output_area;\n",
       "    var output = handle.output;\n",
       "\n",
       "    // limit handleAddOutput to display_data with EXEC_MIME_TYPE content only\n",
       "    if ((output.output_type != \"display_data\") || (!output.data.hasOwnProperty(EXEC_MIME_TYPE))) {\n",
       "      return\n",
       "    }\n",
       "\n",
       "    var toinsert = output_area.element.find(\".\" + CLASS_NAME.split(' ')[0]);\n",
       "\n",
       "    if (output.metadata[EXEC_MIME_TYPE][\"id\"] !== undefined) {\n",
       "      toinsert[toinsert.length - 1].firstChild.textContent = output.data[JS_MIME_TYPE];\n",
       "      // store reference to embed id on output_area\n",
       "      output_area._bokeh_element_id = output.metadata[EXEC_MIME_TYPE][\"id\"];\n",
       "    }\n",
       "    if (output.metadata[EXEC_MIME_TYPE][\"server_id\"] !== undefined) {\n",
       "      var bk_div = document.createElement(\"div\");\n",
       "      bk_div.innerHTML = output.data[HTML_MIME_TYPE];\n",
       "      var script_attrs = bk_div.children[0].attributes;\n",
       "      for (var i = 0; i < script_attrs.length; i++) {\n",
       "        toinsert[toinsert.length - 1].firstChild.setAttribute(script_attrs[i].name, script_attrs[i].value);\n",
       "      }\n",
       "      // store reference to server id on output_area\n",
       "      output_area._bokeh_server_id = output.metadata[EXEC_MIME_TYPE][\"server_id\"];\n",
       "    }\n",
       "  }\n",
       "\n",
       "  function register_renderer(events, OutputArea) {\n",
       "\n",
       "    function append_mime(data, metadata, element) {\n",
       "      // create a DOM node to render to\n",
       "      var toinsert = this.create_output_subarea(\n",
       "        metadata,\n",
       "        CLASS_NAME,\n",
       "        EXEC_MIME_TYPE\n",
       "      );\n",
       "      this.keyboard_manager.register_events(toinsert);\n",
       "      // Render to node\n",
       "      var props = {data: data, metadata: metadata[EXEC_MIME_TYPE]};\n",
       "      render(props, toinsert[toinsert.length - 1]);\n",
       "      element.append(toinsert);\n",
       "      return toinsert\n",
       "    }\n",
       "\n",
       "    /* Handle when an output is cleared or removed */\n",
       "    events.on('clear_output.CodeCell', handleClearOutput);\n",
       "    events.on('delete.Cell', handleClearOutput);\n",
       "\n",
       "    /* Handle when a new output is added */\n",
       "    events.on('output_added.OutputArea', handleAddOutput);\n",
       "\n",
       "    /**\n",
       "     * Register the mime type and append_mime function with output_area\n",
       "     */\n",
       "    OutputArea.prototype.register_mime_type(EXEC_MIME_TYPE, append_mime, {\n",
       "      /* Is output safe? */\n",
       "      safe: true,\n",
       "      /* Index of renderer in `output_area.display_order` */\n",
       "      index: 0\n",
       "    });\n",
       "  }\n",
       "\n",
       "  // register the mime type if in Jupyter Notebook environment and previously unregistered\n",
       "  if (root.Jupyter !== undefined) {\n",
       "    var events = require('base/js/events');\n",
       "    var OutputArea = require('notebook/js/outputarea').OutputArea;\n",
       "\n",
       "    if (OutputArea.prototype.mime_types().indexOf(EXEC_MIME_TYPE) == -1) {\n",
       "      register_renderer(events, OutputArea);\n",
       "    }\n",
       "  }\n",
       "\n",
       "  \n",
       "  if (typeof (root._bokeh_timeout) === \"undefined\" || force === true) {\n",
       "    root._bokeh_timeout = Date.now() + 5000;\n",
       "    root._bokeh_failed_load = false;\n",
       "  }\n",
       "\n",
       "  var NB_LOAD_WARNING = {'data': {'text/html':\n",
       "     \"<div style='background-color: #fdd'>\\n\"+\n",
       "     \"<p>\\n\"+\n",
       "     \"BokehJS does not appear to have successfully loaded. If loading BokehJS from CDN, this \\n\"+\n",
       "     \"may be due to a slow or bad network connection. Possible fixes:\\n\"+\n",
       "     \"</p>\\n\"+\n",
       "     \"<ul>\\n\"+\n",
       "     \"<li>re-rerun `output_notebook()` to attempt to load from CDN again, or</li>\\n\"+\n",
       "     \"<li>use INLINE resources instead, as so:</li>\\n\"+\n",
       "     \"</ul>\\n\"+\n",
       "     \"<code>\\n\"+\n",
       "     \"from bokeh.resources import INLINE\\n\"+\n",
       "     \"output_notebook(resources=INLINE)\\n\"+\n",
       "     \"</code>\\n\"+\n",
       "     \"</div>\"}};\n",
       "\n",
       "  function display_loaded() {\n",
       "    var el = document.getElementById(\"1986\");\n",
       "    if (el != null) {\n",
       "      el.textContent = \"BokehJS is loading...\";\n",
       "    }\n",
       "    if (root.Bokeh !== undefined) {\n",
       "      if (el != null) {\n",
       "        el.textContent = \"BokehJS \" + root.Bokeh.version + \" successfully loaded.\";\n",
       "      }\n",
       "    } else if (Date.now() < root._bokeh_timeout) {\n",
       "      setTimeout(display_loaded, 100)\n",
       "    }\n",
       "  }\n",
       "\n",
       "\n",
       "  function run_callbacks() {\n",
       "    try {\n",
       "      root._bokeh_onload_callbacks.forEach(function(callback) {\n",
       "        if (callback != null)\n",
       "          callback();\n",
       "      });\n",
       "    } finally {\n",
       "      delete root._bokeh_onload_callbacks\n",
       "    }\n",
       "    console.debug(\"Bokeh: all callbacks have finished\");\n",
       "  }\n",
       "\n",
       "  function load_libs(css_urls, js_urls, callback) {\n",
       "    if (css_urls == null) css_urls = [];\n",
       "    if (js_urls == null) js_urls = [];\n",
       "\n",
       "    root._bokeh_onload_callbacks.push(callback);\n",
       "    if (root._bokeh_is_loading > 0) {\n",
       "      console.debug(\"Bokeh: BokehJS is being loaded, scheduling callback at\", now());\n",
       "      return null;\n",
       "    }\n",
       "    if (js_urls == null || js_urls.length === 0) {\n",
       "      run_callbacks();\n",
       "      return null;\n",
       "    }\n",
       "    console.debug(\"Bokeh: BokehJS not loaded, scheduling load and callback at\", now());\n",
       "    root._bokeh_is_loading = css_urls.length + js_urls.length;\n",
       "\n",
       "    function on_load() {\n",
       "      root._bokeh_is_loading--;\n",
       "      if (root._bokeh_is_loading === 0) {\n",
       "        console.debug(\"Bokeh: all BokehJS libraries/stylesheets loaded\");\n",
       "        run_callbacks()\n",
       "      }\n",
       "    }\n",
       "\n",
       "    function on_error() {\n",
       "      console.error(\"failed to load \" + url);\n",
       "    }\n",
       "\n",
       "    for (var i = 0; i < css_urls.length; i++) {\n",
       "      var url = css_urls[i];\n",
       "      const element = document.createElement(\"link\");\n",
       "      element.onload = on_load;\n",
       "      element.onerror = on_error;\n",
       "      element.rel = \"stylesheet\";\n",
       "      element.type = \"text/css\";\n",
       "      element.href = url;\n",
       "      console.debug(\"Bokeh: injecting link tag for BokehJS stylesheet: \", url);\n",
       "      document.body.appendChild(element);\n",
       "    }\n",
       "\n",
       "    for (var i = 0; i < js_urls.length; i++) {\n",
       "      var url = js_urls[i];\n",
       "      var element = document.createElement('script');\n",
       "      element.onload = on_load;\n",
       "      element.onerror = on_error;\n",
       "      element.async = false;\n",
       "      element.src = url;\n",
       "      console.debug(\"Bokeh: injecting script tag for BokehJS library: \", url);\n",
       "      document.head.appendChild(element);\n",
       "    }\n",
       "  };var element = document.getElementById(\"1986\");\n",
       "  if (element == null) {\n",
       "    console.error(\"Bokeh: ERROR: autoload.js configured with elementid '1986' but no matching script tag was found. \")\n",
       "    return false;\n",
       "  }\n",
       "\n",
       "  function inject_raw_css(css) {\n",
       "    const element = document.createElement(\"style\");\n",
       "    element.appendChild(document.createTextNode(css));\n",
       "    document.body.appendChild(element);\n",
       "  }\n",
       "\n",
       "  \n",
       "  var js_urls = [\"https://cdn.pydata.org/bokeh/release/bokeh-1.4.0.min.js\", \"https://cdn.pydata.org/bokeh/release/bokeh-widgets-1.4.0.min.js\", \"https://cdn.pydata.org/bokeh/release/bokeh-tables-1.4.0.min.js\", \"https://cdn.pydata.org/bokeh/release/bokeh-gl-1.4.0.min.js\"];\n",
       "  var css_urls = [];\n",
       "  \n",
       "\n",
       "  var inline_js = [\n",
       "    function(Bokeh) {\n",
       "      Bokeh.set_log_level(\"info\");\n",
       "    },\n",
       "    function(Bokeh) {\n",
       "    \n",
       "    \n",
       "    }\n",
       "  ];\n",
       "\n",
       "  function run_inline_js() {\n",
       "    \n",
       "    if (root.Bokeh !== undefined || force === true) {\n",
       "      \n",
       "    for (var i = 0; i < inline_js.length; i++) {\n",
       "      inline_js[i].call(root, root.Bokeh);\n",
       "    }\n",
       "    if (force === true) {\n",
       "        display_loaded();\n",
       "      }} else if (Date.now() < root._bokeh_timeout) {\n",
       "      setTimeout(run_inline_js, 100);\n",
       "    } else if (!root._bokeh_failed_load) {\n",
       "      console.log(\"Bokeh: BokehJS failed to load within specified timeout.\");\n",
       "      root._bokeh_failed_load = true;\n",
       "    } else if (force !== true) {\n",
       "      var cell = $(document.getElementById(\"1986\")).parents('.cell').data().cell;\n",
       "      cell.output_area.append_execute_result(NB_LOAD_WARNING)\n",
       "    }\n",
       "\n",
       "  }\n",
       "\n",
       "  if (root._bokeh_is_loading === 0) {\n",
       "    console.debug(\"Bokeh: BokehJS loaded, going straight to plotting\");\n",
       "    run_inline_js();\n",
       "  } else {\n",
       "    load_libs(css_urls, js_urls, function() {\n",
       "      console.debug(\"Bokeh: BokehJS plotting callback run at\", now());\n",
       "      run_inline_js();\n",
       "    });\n",
       "  }\n",
       "}(window));"
      ],
      "application/vnd.bokehjs_load.v0+json": "\n(function(root) {\n  function now() {\n    return new Date();\n  }\n\n  var force = true;\n\n  if (typeof root._bokeh_onload_callbacks === \"undefined\" || force === true) {\n    root._bokeh_onload_callbacks = [];\n    root._bokeh_is_loading = undefined;\n  }\n\n  \n\n  \n  if (typeof (root._bokeh_timeout) === \"undefined\" || force === true) {\n    root._bokeh_timeout = Date.now() + 5000;\n    root._bokeh_failed_load = false;\n  }\n\n  var NB_LOAD_WARNING = {'data': {'text/html':\n     \"<div style='background-color: #fdd'>\\n\"+\n     \"<p>\\n\"+\n     \"BokehJS does not appear to have successfully loaded. If loading BokehJS from CDN, this \\n\"+\n     \"may be due to a slow or bad network connection. Possible fixes:\\n\"+\n     \"</p>\\n\"+\n     \"<ul>\\n\"+\n     \"<li>re-rerun `output_notebook()` to attempt to load from CDN again, or</li>\\n\"+\n     \"<li>use INLINE resources instead, as so:</li>\\n\"+\n     \"</ul>\\n\"+\n     \"<code>\\n\"+\n     \"from bokeh.resources import INLINE\\n\"+\n     \"output_notebook(resources=INLINE)\\n\"+\n     \"</code>\\n\"+\n     \"</div>\"}};\n\n  function display_loaded() {\n    var el = document.getElementById(\"1986\");\n    if (el != null) {\n      el.textContent = \"BokehJS is loading...\";\n    }\n    if (root.Bokeh !== undefined) {\n      if (el != null) {\n        el.textContent = \"BokehJS \" + root.Bokeh.version + \" successfully loaded.\";\n      }\n    } else if (Date.now() < root._bokeh_timeout) {\n      setTimeout(display_loaded, 100)\n    }\n  }\n\n\n  function run_callbacks() {\n    try {\n      root._bokeh_onload_callbacks.forEach(function(callback) {\n        if (callback != null)\n          callback();\n      });\n    } finally {\n      delete root._bokeh_onload_callbacks\n    }\n    console.debug(\"Bokeh: all callbacks have finished\");\n  }\n\n  function load_libs(css_urls, js_urls, callback) {\n    if (css_urls == null) css_urls = [];\n    if (js_urls == null) js_urls = [];\n\n    root._bokeh_onload_callbacks.push(callback);\n    if (root._bokeh_is_loading > 0) {\n      console.debug(\"Bokeh: BokehJS is being loaded, scheduling callback at\", now());\n      return null;\n    }\n    if (js_urls == null || js_urls.length === 0) {\n      run_callbacks();\n      return null;\n    }\n    console.debug(\"Bokeh: BokehJS not loaded, scheduling load and callback at\", now());\n    root._bokeh_is_loading = css_urls.length + js_urls.length;\n\n    function on_load() {\n      root._bokeh_is_loading--;\n      if (root._bokeh_is_loading === 0) {\n        console.debug(\"Bokeh: all BokehJS libraries/stylesheets loaded\");\n        run_callbacks()\n      }\n    }\n\n    function on_error() {\n      console.error(\"failed to load \" + url);\n    }\n\n    for (var i = 0; i < css_urls.length; i++) {\n      var url = css_urls[i];\n      const element = document.createElement(\"link\");\n      element.onload = on_load;\n      element.onerror = on_error;\n      element.rel = \"stylesheet\";\n      element.type = \"text/css\";\n      element.href = url;\n      console.debug(\"Bokeh: injecting link tag for BokehJS stylesheet: \", url);\n      document.body.appendChild(element);\n    }\n\n    for (var i = 0; i < js_urls.length; i++) {\n      var url = js_urls[i];\n      var element = document.createElement('script');\n      element.onload = on_load;\n      element.onerror = on_error;\n      element.async = false;\n      element.src = url;\n      console.debug(\"Bokeh: injecting script tag for BokehJS library: \", url);\n      document.head.appendChild(element);\n    }\n  };var element = document.getElementById(\"1986\");\n  if (element == null) {\n    console.error(\"Bokeh: ERROR: autoload.js configured with elementid '1986' but no matching script tag was found. \")\n    return false;\n  }\n\n  function inject_raw_css(css) {\n    const element = document.createElement(\"style\");\n    element.appendChild(document.createTextNode(css));\n    document.body.appendChild(element);\n  }\n\n  \n  var js_urls = [\"https://cdn.pydata.org/bokeh/release/bokeh-1.4.0.min.js\", \"https://cdn.pydata.org/bokeh/release/bokeh-widgets-1.4.0.min.js\", \"https://cdn.pydata.org/bokeh/release/bokeh-tables-1.4.0.min.js\", \"https://cdn.pydata.org/bokeh/release/bokeh-gl-1.4.0.min.js\"];\n  var css_urls = [];\n  \n\n  var inline_js = [\n    function(Bokeh) {\n      Bokeh.set_log_level(\"info\");\n    },\n    function(Bokeh) {\n    \n    \n    }\n  ];\n\n  function run_inline_js() {\n    \n    if (root.Bokeh !== undefined || force === true) {\n      \n    for (var i = 0; i < inline_js.length; i++) {\n      inline_js[i].call(root, root.Bokeh);\n    }\n    if (force === true) {\n        display_loaded();\n      }} else if (Date.now() < root._bokeh_timeout) {\n      setTimeout(run_inline_js, 100);\n    } else if (!root._bokeh_failed_load) {\n      console.log(\"Bokeh: BokehJS failed to load within specified timeout.\");\n      root._bokeh_failed_load = true;\n    } else if (force !== true) {\n      var cell = $(document.getElementById(\"1986\")).parents('.cell').data().cell;\n      cell.output_area.append_execute_result(NB_LOAD_WARNING)\n    }\n\n  }\n\n  if (root._bokeh_is_loading === 0) {\n    console.debug(\"Bokeh: BokehJS loaded, going straight to plotting\");\n    run_inline_js();\n  } else {\n    load_libs(css_urls, js_urls, function() {\n      console.debug(\"Bokeh: BokehJS plotting callback run at\", now());\n      run_inline_js();\n    });\n  }\n}(window));"
     },
     "metadata": {},
     "output_type": "display_data"
    },
    {
     "data": {
      "text/html": [
       "\n",
       "\n",
       "\n",
       "\n",
       "\n",
       "\n",
       "  <div class=\"bk-root\" id=\"2a86a8bd-e1ed-44c4-8791-ebb6b6dcd44b\" data-root-id=\"1988\"></div>\n"
      ]
     },
     "metadata": {},
     "output_type": "display_data"
    },
    {
     "data": {
      "application/javascript": [
       "(function(root) {\n",
       "  function embed_document(root) {\n",
       "    \n",
       "  var docs_json = {\"5b5f99f2-8853-4412-8f27-e2b43bb0e47b\":{\"roots\":{\"references\":[{\"attributes\":{\"background_fill_color\":{\"value\":\"#2b2b2b\"},\"below\":[{\"id\":\"1999\",\"type\":\"CategoricalAxis\"}],\"center\":[{\"id\":\"2002\",\"type\":\"Grid\"},{\"id\":\"2007\",\"type\":\"Grid\"}],\"left\":[{\"id\":\"2003\",\"type\":\"LinearAxis\"}],\"plot_height\":350,\"plot_width\":800,\"renderers\":[{\"id\":\"2025\",\"type\":\"GlyphRenderer\"}],\"title\":{\"id\":\"1989\",\"type\":\"Title\"},\"toolbar\":{\"id\":\"2014\",\"type\":\"Toolbar\"},\"toolbar_location\":null,\"x_range\":{\"id\":\"1991\",\"type\":\"FactorRange\"},\"x_scale\":{\"id\":\"1995\",\"type\":\"CategoricalScale\"},\"y_range\":{\"id\":\"1993\",\"type\":\"DataRange1d\"},\"y_scale\":{\"id\":\"1997\",\"type\":\"LinearScale\"}},\"id\":\"1988\",\"subtype\":\"Figure\",\"type\":\"Plot\"},{\"attributes\":{},\"id\":\"2008\",\"type\":\"PanTool\"},{\"attributes\":{},\"id\":\"1995\",\"type\":\"CategoricalScale\"},{\"attributes\":{},\"id\":\"2108\",\"type\":\"UnionRenderers\"},{\"attributes\":{\"source\":{\"id\":\"1987\",\"type\":\"ColumnDataSource\"}},\"id\":\"2026\",\"type\":\"CDSView\"},{\"attributes\":{},\"id\":\"2012\",\"type\":\"ResetTool\"},{\"attributes\":{},\"id\":\"2105\",\"type\":\"BasicTickFormatter\"},{\"attributes\":{\"callback\":null,\"data\":{\"counted_data\":[\"\\u9996\\u76f8\\u5b98\\u90b8(\\u707d\\u5bb3\\u30fb\\u5371\\u6a5f\\u7ba1\\u7406\\u60c5\\u5831)\",\"\\u83c5 \\u7fa9\\u5049\",\"\\u9996\\u76f8\\u5b98\\u90b8\"],\"counts\":[205,33,3]},\"selected\":{\"id\":\"2107\",\"type\":\"Selection\"},\"selection_policy\":{\"id\":\"2108\",\"type\":\"UnionRenderers\"}},\"id\":\"1987\",\"type\":\"ColumnDataSource\"},{\"attributes\":{},\"id\":\"2000\",\"type\":\"CategoricalTicker\"},{\"attributes\":{\"fill_color\":{\"field\":\"counted_data\",\"transform\":{\"id\":\"2021\",\"type\":\"CategoricalColorMapper\"}},\"line_color\":{\"value\":\"white\"},\"top\":{\"field\":\"counts\"},\"width\":{\"value\":0.8},\"x\":{\"field\":\"counted_data\"}},\"id\":\"2023\",\"type\":\"VBar\"},{\"attributes\":{\"dimension\":1,\"grid_line_color\":null,\"ticker\":{\"id\":\"2004\",\"type\":\"BasicTicker\"}},\"id\":\"2007\",\"type\":\"Grid\"},{\"attributes\":{\"active_drag\":\"auto\",\"active_inspect\":\"auto\",\"active_multi\":null,\"active_scroll\":\"auto\",\"active_tap\":\"auto\",\"tools\":[{\"id\":\"2008\",\"type\":\"PanTool\"},{\"id\":\"2009\",\"type\":\"WheelZoomTool\"},{\"id\":\"2010\",\"type\":\"BoxZoomTool\"},{\"id\":\"2011\",\"type\":\"SaveTool\"},{\"id\":\"2012\",\"type\":\"ResetTool\"},{\"id\":\"2013\",\"type\":\"HelpTool\"}]},\"id\":\"2014\",\"type\":\"Toolbar\"},{\"attributes\":{\"bottom_units\":\"screen\",\"fill_alpha\":{\"value\":0.5},\"fill_color\":{\"value\":\"lightgrey\"},\"left_units\":\"screen\",\"level\":\"overlay\",\"line_alpha\":{\"value\":1.0},\"line_color\":{\"value\":\"black\"},\"line_dash\":[4,4],\"line_width\":{\"value\":2},\"render_mode\":\"css\",\"right_units\":\"screen\",\"top_units\":\"screen\"},\"id\":\"2109\",\"type\":\"BoxAnnotation\"},{\"attributes\":{\"factors\":[\"\\u9996\\u76f8\\u5b98\\u90b8(\\u707d\\u5bb3\\u30fb\\u5371\\u6a5f\\u7ba1\\u7406\\u60c5\\u5831)\",\"\\u83c5 \\u7fa9\\u5049\",\"\\u9996\\u76f8\\u5b98\\u90b8\"],\"palette\":[\"#00204C\",\"#7B7B78\",\"#FFE945\"]},\"id\":\"2021\",\"type\":\"CategoricalColorMapper\"},{\"attributes\":{},\"id\":\"2107\",\"type\":\"Selection\"},{\"attributes\":{},\"id\":\"2011\",\"type\":\"SaveTool\"},{\"attributes\":{},\"id\":\"2004\",\"type\":\"BasicTicker\"},{\"attributes\":{\"overlay\":{\"id\":\"2109\",\"type\":\"BoxAnnotation\"}},\"id\":\"2010\",\"type\":\"BoxZoomTool\"},{\"attributes\":{\"formatter\":{\"id\":\"2105\",\"type\":\"BasicTickFormatter\"},\"ticker\":{\"id\":\"2004\",\"type\":\"BasicTicker\"}},\"id\":\"2003\",\"type\":\"LinearAxis\"},{\"attributes\":{\"fill_alpha\":{\"value\":0.1},\"fill_color\":{\"value\":\"#1f77b4\"},\"line_alpha\":{\"value\":0.1},\"line_color\":{\"value\":\"#1f77b4\"},\"top\":{\"field\":\"counts\"},\"width\":{\"value\":0.8},\"x\":{\"field\":\"counted_data\"}},\"id\":\"2024\",\"type\":\"VBar\"},{\"attributes\":{\"formatter\":{\"id\":\"2103\",\"type\":\"CategoricalTickFormatter\"},\"major_label_orientation\":1.2,\"ticker\":{\"id\":\"2000\",\"type\":\"CategoricalTicker\"}},\"id\":\"1999\",\"type\":\"CategoricalAxis\"},{\"attributes\":{},\"id\":\"2103\",\"type\":\"CategoricalTickFormatter\"},{\"attributes\":{},\"id\":\"2009\",\"type\":\"WheelZoomTool\"},{\"attributes\":{},\"id\":\"1997\",\"type\":\"LinearScale\"},{\"attributes\":{},\"id\":\"2013\",\"type\":\"HelpTool\"},{\"attributes\":{\"data_source\":{\"id\":\"1987\",\"type\":\"ColumnDataSource\"},\"glyph\":{\"id\":\"2023\",\"type\":\"VBar\"},\"hover_glyph\":null,\"muted_glyph\":null,\"nonselection_glyph\":{\"id\":\"2024\",\"type\":\"VBar\"},\"selection_glyph\":null,\"view\":{\"id\":\"2026\",\"type\":\"CDSView\"}},\"id\":\"2025\",\"type\":\"GlyphRenderer\"},{\"attributes\":{\"grid_line_color\":null,\"ticker\":{\"id\":\"2000\",\"type\":\"CategoricalTicker\"}},\"id\":\"2002\",\"type\":\"Grid\"},{\"attributes\":{\"callback\":null,\"factors\":[\"\\u9996\\u76f8\\u5b98\\u90b8(\\u707d\\u5bb3\\u30fb\\u5371\\u6a5f\\u7ba1\\u7406\\u60c5\\u5831)\",\"\\u83c5 \\u7fa9\\u5049\",\"\\u9996\\u76f8\\u5b98\\u90b8\"]},\"id\":\"1991\",\"type\":\"FactorRange\"},{\"attributes\":{\"text\":\"Title\"},\"id\":\"1989\",\"type\":\"Title\"},{\"attributes\":{\"callback\":null,\"start\":0},\"id\":\"1993\",\"type\":\"DataRange1d\"}],\"root_ids\":[\"1988\"]},\"title\":\"Bokeh Application\",\"version\":\"1.4.0\"}};\n",
       "  var render_items = [{\"docid\":\"5b5f99f2-8853-4412-8f27-e2b43bb0e47b\",\"roots\":{\"1988\":\"2a86a8bd-e1ed-44c4-8791-ebb6b6dcd44b\"}}];\n",
       "  root.Bokeh.embed.embed_items_notebook(docs_json, render_items);\n",
       "\n",
       "  }\n",
       "  if (root.Bokeh !== undefined) {\n",
       "    embed_document(root);\n",
       "  } else {\n",
       "    var attempts = 0;\n",
       "    var timer = setInterval(function(root) {\n",
       "      if (root.Bokeh !== undefined) {\n",
       "        clearInterval(timer);\n",
       "        embed_document(root);\n",
       "      } else {\n",
       "        attempts++;\n",
       "        if (attempts > 100) {\n",
       "          clearInterval(timer);\n",
       "          console.log(\"Bokeh: ERROR: Unable to run BokehJS code because BokehJS library is missing\");\n",
       "        }\n",
       "      }\n",
       "    }, 10, root)\n",
       "  }\n",
       "})(window);"
      ],
      "application/vnd.bokehjs_exec.v0+json": ""
     },
     "metadata": {
      "application/vnd.bokehjs_exec.v0+json": {
       "id": "1988"
      }
     },
     "output_type": "display_data"
    }
   ],
   "source": [
    "barchart(jp_usermentions_df.nlargest(3, 'count').index.tolist(), jp_usermentions_df.nlargest(3, 'count')['count'])"
   ]
  },
  {
   "cell_type": "markdown",
   "metadata": {},
   "source": [
    "## Links in posts"
   ]
  },
  {
   "cell_type": "code",
   "execution_count": 41,
   "metadata": {},
   "outputs": [],
   "source": [
    "def get_mentioned_urls(account):\n",
    "    mentioned_fullurls = df[df['account']==account]['mentioned_urls'].replace(\"\", np.nan).dropna().tolist()\n",
    "    mentioned_urls = []\n",
    "    for url in mentioned_fullurls:\n",
    "        if url.startswith(\"https://\"):\n",
    "            try:\n",
    "                mentioned_urls.append(re.search(r'https://(.*?)/', url).group(1))\n",
    "            except:\n",
    "                mentioned_urls.append(re.search(r'https://(.*?)', url).group(1))\n",
    "\n",
    "        elif url.startswith(\"http://\"):\n",
    "            try:\n",
    "                mentioned_urls.append(re.search(r'http://(.*?)/', url).group(1))\n",
    "            except:\n",
    "                mentioned_urls.append(re.search(r'http://(.*?)', url).group(1))\n",
    "\n",
    "        elif url.startswith(\"www.\"):\n",
    "            try:\n",
    "                mentioned_urls.append(re.search(r'www.(.*?)/', url).group(1))\n",
    "            except:\n",
    "                mentioned_urls.append(re.search(r'www.(.*?)', url).group(1))\n",
    "\n",
    "        else:\n",
    "            mentioned_urls.append(url)\n",
    "            \n",
    "            \n",
    "    mentioned_urls_df = pd.DataFrame.from_dict(dict(Counter(mentioned_urls)), orient=\"index\", columns=['count'])\n",
    "    return mentioned_urls_df\n",
    "            "
   ]
  },
  {
   "cell_type": "code",
   "execution_count": 42,
   "metadata": {},
   "outputs": [],
   "source": [
    "uk_mentioned_urls_df = get_mentioned_urls(\"10DowningStreet\")"
   ]
  },
  {
   "cell_type": "code",
   "execution_count": 43,
   "metadata": {},
   "outputs": [
    {
     "data": {
      "text/html": [
       "<div>\n",
       "<style scoped>\n",
       "    .dataframe tbody tr th:only-of-type {\n",
       "        vertical-align: middle;\n",
       "    }\n",
       "\n",
       "    .dataframe tbody tr th {\n",
       "        vertical-align: top;\n",
       "    }\n",
       "\n",
       "    .dataframe thead th {\n",
       "        text-align: right;\n",
       "    }\n",
       "</style>\n",
       "<table border=\"1\" class=\"dataframe\">\n",
       "  <thead>\n",
       "    <tr style=\"text-align: right;\">\n",
       "      <th></th>\n",
       "      <th>count</th>\n",
       "    </tr>\n",
       "  </thead>\n",
       "  <tbody>\n",
       "    <tr>\n",
       "      <th>www.gov.uk</th>\n",
       "      <td>510</td>\n",
       "    </tr>\n",
       "    <tr>\n",
       "      <th>twitter.com</th>\n",
       "      <td>126</td>\n",
       "    </tr>\n",
       "    <tr>\n",
       "      <th>www.nhs.uk</th>\n",
       "      <td>48</td>\n",
       "    </tr>\n",
       "    <tr>\n",
       "      <th>nhs.uk</th>\n",
       "      <td>43</td>\n",
       "    </tr>\n",
       "    <tr>\n",
       "      <th>gov.uk</th>\n",
       "      <td>38</td>\n",
       "    </tr>\n",
       "    <tr>\n",
       "      <th>www.pscp.tv</th>\n",
       "      <td>7</td>\n",
       "    </tr>\n",
       "    <tr>\n",
       "      <th></th>\n",
       "      <td>6</td>\n",
       "    </tr>\n",
       "    <tr>\n",
       "      <th>NHS.uk</th>\n",
       "      <td>5</td>\n",
       "    </tr>\n",
       "    <tr>\n",
       "      <th>coronavirus.data.gov.uk</th>\n",
       "      <td>3</td>\n",
       "    </tr>\n",
       "    <tr>\n",
       "      <th>www.facebook.com</th>\n",
       "      <td>3</td>\n",
       "    </tr>\n",
       "  </tbody>\n",
       "</table>\n",
       "</div>"
      ],
      "text/plain": [
       "                         count\n",
       "www.gov.uk                 510\n",
       "twitter.com                126\n",
       "www.nhs.uk                  48\n",
       "nhs.uk                      43\n",
       "gov.uk                      38\n",
       "www.pscp.tv                  7\n",
       "                             6\n",
       "NHS.uk                       5\n",
       "coronavirus.data.gov.uk      3\n",
       "www.facebook.com             3"
      ]
     },
     "execution_count": 43,
     "metadata": {},
     "output_type": "execute_result"
    }
   ],
   "source": [
    "uk_mentioned_urls_df.nlargest(10, 'count')"
   ]
  },
  {
   "cell_type": "code",
   "execution_count": 44,
   "metadata": {},
   "outputs": [],
   "source": [
    "ja_mentioned_urls_df = get_mentioned_urls(\"kantei\")"
   ]
  },
  {
   "cell_type": "code",
   "execution_count": 45,
   "metadata": {},
   "outputs": [
    {
     "data": {
      "text/html": [
       "<div>\n",
       "<style scoped>\n",
       "    .dataframe tbody tr th:only-of-type {\n",
       "        vertical-align: middle;\n",
       "    }\n",
       "\n",
       "    .dataframe tbody tr th {\n",
       "        vertical-align: top;\n",
       "    }\n",
       "\n",
       "    .dataframe thead th {\n",
       "        text-align: right;\n",
       "    }\n",
       "</style>\n",
       "<table border=\"1\" class=\"dataframe\">\n",
       "  <thead>\n",
       "    <tr style=\"text-align: right;\">\n",
       "      <th></th>\n",
       "      <th>count</th>\n",
       "    </tr>\n",
       "  </thead>\n",
       "  <tbody>\n",
       "    <tr>\n",
       "      <th>www.kantei.go.jp</th>\n",
       "      <td>692</td>\n",
       "    </tr>\n",
       "    <tr>\n",
       "      <th>www.facebook.com</th>\n",
       "      <td>43</td>\n",
       "    </tr>\n",
       "    <tr>\n",
       "      <th>twitter.com</th>\n",
       "      <td>20</td>\n",
       "    </tr>\n",
       "    <tr>\n",
       "      <th>www.anzen.mofa.go.jp</th>\n",
       "      <td>19</td>\n",
       "    </tr>\n",
       "    <tr>\n",
       "      <th>instagram.com</th>\n",
       "      <td>14</td>\n",
       "    </tr>\n",
       "    <tr>\n",
       "      <th>facebook.com</th>\n",
       "      <td>13</td>\n",
       "    </tr>\n",
       "    <tr>\n",
       "      <th>www.pscp.tv</th>\n",
       "      <td>6</td>\n",
       "    </tr>\n",
       "    <tr>\n",
       "      <th>www.instagram.com</th>\n",
       "      <td>4</td>\n",
       "    </tr>\n",
       "    <tr>\n",
       "      <th>www.mhlw.go.jp</th>\n",
       "      <td>3</td>\n",
       "    </tr>\n",
       "    <tr>\n",
       "      <th>corona.go.jp</th>\n",
       "      <td>1</td>\n",
       "    </tr>\n",
       "  </tbody>\n",
       "</table>\n",
       "</div>"
      ],
      "text/plain": [
       "                      count\n",
       "www.kantei.go.jp        692\n",
       "www.facebook.com         43\n",
       "twitter.com              20\n",
       "www.anzen.mofa.go.jp     19\n",
       "instagram.com            14\n",
       "facebook.com             13\n",
       "www.pscp.tv               6\n",
       "www.instagram.com         4\n",
       "www.mhlw.go.jp            3\n",
       "corona.go.jp              1"
      ]
     },
     "execution_count": 45,
     "metadata": {},
     "output_type": "execute_result"
    }
   ],
   "source": [
    "ja_mentioned_urls_df.nlargest(10, 'count')"
   ]
  },
  {
   "cell_type": "markdown",
   "metadata": {},
   "source": [
    "## Media usage"
   ]
  },
  {
   "cell_type": "markdown",
   "metadata": {},
   "source": [
    "### compare media usage across accounts"
   ]
  },
  {
   "cell_type": "code",
   "execution_count": 46,
   "metadata": {},
   "outputs": [
    {
     "name": "stdout",
     "output_type": "stream",
     "text": [
      "Number of posts with media in them: account\n",
      "10DowningStreet    1612.0\n",
      "kantei              417.0\n",
      "Name: has_media, dtype: float64\n",
      "\n",
      "\n",
      "Proportion of posts with media in them: account\n",
      "10DowningStreet    0.720608\n",
      "kantei             0.393768\n",
      "Name: has_media, dtype: float64\n"
     ]
    }
   ],
   "source": [
    "number_posts_with_media = df.groupby('account')['has_media'].sum()\n",
    "prop_posts_with_media = df.groupby('account')['has_media'].sum() / df.groupby('account')['has_media'].count()\n",
    "print(\"Number of posts with media in them: {}\".format(number_posts_with_media))\n",
    "print(\"\\n\")\n",
    "print(\"Proportion of posts with media in them: {}\".format(prop_posts_with_media))"
   ]
  },
  {
   "cell_type": "markdown",
   "metadata": {},
   "source": [
    "#### Media usage in UK posts vs JP posts"
   ]
  },
  {
   "cell_type": "code",
   "execution_count": 47,
   "metadata": {},
   "outputs": [
    {
     "data": {
      "text/html": [
       "\n",
       "\n",
       "\n",
       "\n",
       "\n",
       "\n",
       "  <div class=\"bk-root\" id=\"459a4fce-fdb6-413d-bffc-b66ec24ceead\" data-root-id=\"2158\"></div>\n"
      ]
     },
     "metadata": {},
     "output_type": "display_data"
    },
    {
     "data": {
      "application/javascript": [
       "(function(root) {\n",
       "  function embed_document(root) {\n",
       "    \n",
       "  var docs_json = {\"1055a4b5-093c-4281-89bc-15769aabe8bf\":{\"roots\":{\"references\":[{\"attributes\":{\"below\":[{\"id\":\"2169\",\"type\":\"LinearAxis\"}],\"center\":[{\"id\":\"2173\",\"type\":\"Grid\"},{\"id\":\"2178\",\"type\":\"Grid\"},{\"id\":\"2195\",\"type\":\"Legend\"}],\"left\":[{\"id\":\"2174\",\"type\":\"LinearAxis\"}],\"plot_height\":350,\"renderers\":[{\"id\":\"2188\",\"type\":\"GlyphRenderer\"}],\"title\":{\"id\":\"2159\",\"type\":\"Title\"},\"toolbar\":{\"id\":\"2180\",\"type\":\"Toolbar\"},\"toolbar_location\":null,\"x_range\":{\"id\":\"2161\",\"type\":\"Range1d\"},\"x_scale\":{\"id\":\"2165\",\"type\":\"LinearScale\"},\"y_range\":{\"id\":\"2163\",\"type\":\"DataRange1d\"},\"y_scale\":{\"id\":\"2167\",\"type\":\"LinearScale\"}},\"id\":\"2158\",\"subtype\":\"Figure\",\"type\":\"Plot\"},{\"attributes\":{\"field\":\"angle\"},\"id\":\"2183\",\"type\":\"CumSum\"},{\"attributes\":{},\"id\":\"2170\",\"type\":\"BasicTicker\"},{\"attributes\":{},\"id\":\"2175\",\"type\":\"BasicTicker\"},{\"attributes\":{},\"id\":\"2285\",\"type\":\"Selection\"},{\"attributes\":{\"end_angle\":{\"expr\":{\"id\":\"2183\",\"type\":\"CumSum\"},\"units\":\"rad\"},\"fill_alpha\":{\"value\":0.1},\"fill_color\":{\"value\":\"#1f77b4\"},\"line_alpha\":{\"value\":0.1},\"line_color\":{\"value\":\"#1f77b4\"},\"radius\":{\"units\":\"data\",\"value\":0.4},\"start_angle\":{\"expr\":{\"id\":\"2182\",\"type\":\"CumSum\"},\"units\":\"rad\"},\"x\":{\"value\":0},\"y\":{\"value\":1}},\"id\":\"2187\",\"type\":\"Wedge\"},{\"attributes\":{\"grid_line_color\":null,\"ticker\":{\"id\":\"2170\",\"type\":\"BasicTicker\"}},\"id\":\"2173\",\"type\":\"Grid\"},{\"attributes\":{\"data_source\":{\"id\":\"2184\",\"type\":\"ColumnDataSource\"},\"glyph\":{\"id\":\"2186\",\"type\":\"Wedge\"},\"hover_glyph\":null,\"muted_glyph\":null,\"nonselection_glyph\":{\"id\":\"2187\",\"type\":\"Wedge\"},\"selection_glyph\":null,\"view\":{\"id\":\"2189\",\"type\":\"CDSView\"}},\"id\":\"2188\",\"type\":\"GlyphRenderer\"},{\"attributes\":{},\"id\":\"2167\",\"type\":\"LinearScale\"},{\"attributes\":{\"field\":\"angle\",\"include_zero\":true},\"id\":\"2182\",\"type\":\"CumSum\"},{\"attributes\":{\"axis_label\":null,\"formatter\":{\"id\":\"2191\",\"type\":\"BasicTickFormatter\"},\"ticker\":{\"id\":\"2170\",\"type\":\"BasicTicker\"},\"visible\":false},\"id\":\"2169\",\"type\":\"LinearAxis\"},{\"attributes\":{},\"id\":\"2165\",\"type\":\"LinearScale\"},{\"attributes\":{\"callback\":null,\"start\":-0.5},\"id\":\"2161\",\"type\":\"Range1d\"},{\"attributes\":{\"dimension\":1,\"grid_line_color\":null,\"ticker\":{\"id\":\"2175\",\"type\":\"BasicTicker\"}},\"id\":\"2178\",\"type\":\"Grid\"},{\"attributes\":{},\"id\":\"2193\",\"type\":\"BasicTickFormatter\"},{\"attributes\":{\"active_drag\":\"auto\",\"active_inspect\":\"auto\",\"active_multi\":null,\"active_scroll\":\"auto\",\"active_tap\":\"auto\",\"tools\":[{\"id\":\"2179\",\"type\":\"HoverTool\"}]},\"id\":\"2180\",\"type\":\"Toolbar\"},{\"attributes\":{\"end_angle\":{\"expr\":{\"id\":\"2183\",\"type\":\"CumSum\"},\"units\":\"rad\"},\"fill_color\":{\"field\":\"color\"},\"line_color\":{\"value\":\"white\"},\"radius\":{\"units\":\"data\",\"value\":0.4},\"start_angle\":{\"expr\":{\"id\":\"2182\",\"type\":\"CumSum\"},\"units\":\"rad\"},\"x\":{\"value\":0},\"y\":{\"value\":1}},\"id\":\"2186\",\"type\":\"Wedge\"},{\"attributes\":{\"axis_label\":null,\"formatter\":{\"id\":\"2193\",\"type\":\"BasicTickFormatter\"},\"ticker\":{\"id\":\"2175\",\"type\":\"BasicTicker\"},\"visible\":false},\"id\":\"2174\",\"type\":\"LinearAxis\"},{\"attributes\":{\"callback\":null,\"tooltips\":\"@index: @has_media\"},\"id\":\"2179\",\"type\":\"HoverTool\"},{\"attributes\":{},\"id\":\"2286\",\"type\":\"UnionRenderers\"},{\"attributes\":{},\"id\":\"2191\",\"type\":\"BasicTickFormatter\"},{\"attributes\":{\"source\":{\"id\":\"2184\",\"type\":\"ColumnDataSource\"}},\"id\":\"2189\",\"type\":\"CDSView\"},{\"attributes\":{\"text\":\"Does the post have an image or video in it -- UK\"},\"id\":\"2159\",\"type\":\"Title\"},{\"attributes\":{\"callback\":null},\"id\":\"2163\",\"type\":\"DataRange1d\"},{\"attributes\":{\"label\":{\"field\":\"index\"},\"renderers\":[{\"id\":\"2188\",\"type\":\"GlyphRenderer\"}]},\"id\":\"2196\",\"type\":\"LegendItem\"},{\"attributes\":{\"items\":[{\"id\":\"2196\",\"type\":\"LegendItem\"}]},\"id\":\"2195\",\"type\":\"Legend\"},{\"attributes\":{\"callback\":null,\"data\":{\"angle\":{\"__ndarray__\":\"nQ354WAcEkDsfSzJaRb8Pw==\",\"dtype\":\"float64\",\"shape\":[2]},\"color\":[\"#00204C\",\"#FFE945\"],\"has_media\":[1612,625],\"index\":[true,false],\"level_0\":[0,1]},\"selected\":{\"id\":\"2285\",\"type\":\"Selection\"},\"selection_policy\":{\"id\":\"2286\",\"type\":\"UnionRenderers\"}},\"id\":\"2184\",\"type\":\"ColumnDataSource\"}],\"root_ids\":[\"2158\"]},\"title\":\"Bokeh Application\",\"version\":\"1.4.0\"}};\n",
       "  var render_items = [{\"docid\":\"1055a4b5-093c-4281-89bc-15769aabe8bf\",\"roots\":{\"2158\":\"459a4fce-fdb6-413d-bffc-b66ec24ceead\"}}];\n",
       "  root.Bokeh.embed.embed_items_notebook(docs_json, render_items);\n",
       "\n",
       "  }\n",
       "  if (root.Bokeh !== undefined) {\n",
       "    embed_document(root);\n",
       "  } else {\n",
       "    var attempts = 0;\n",
       "    var timer = setInterval(function(root) {\n",
       "      if (root.Bokeh !== undefined) {\n",
       "        clearInterval(timer);\n",
       "        embed_document(root);\n",
       "      } else {\n",
       "        attempts++;\n",
       "        if (attempts > 100) {\n",
       "          clearInterval(timer);\n",
       "          console.log(\"Bokeh: ERROR: Unable to run BokehJS code because BokehJS library is missing\");\n",
       "        }\n",
       "      }\n",
       "    }, 10, root)\n",
       "  }\n",
       "})(window);"
      ],
      "application/vnd.bokehjs_exec.v0+json": ""
     },
     "metadata": {
      "application/vnd.bokehjs_exec.v0+json": {
       "id": "2158"
      }
     },
     "output_type": "display_data"
    }
   ],
   "source": [
    "uk_media = pd.DataFrame(df[df['account']=='10DowningStreet']['has_media'].value_counts()).reset_index()\n",
    "piechart(uk_media, \"index\", \"has_media\", \"Does the post have an image or video in it -- UK\")"
   ]
  },
  {
   "cell_type": "code",
   "execution_count": 48,
   "metadata": {},
   "outputs": [],
   "source": [
    "#boris_media = pd.DataFrame(df[df['account']=='BorisJohnson']['has_media'].value_counts()).reset_index()\n",
    "#piechart(boris_media, \"index\", \"has_media\", \"Does the post have an image or video in it -- Boris Johnson\")"
   ]
  },
  {
   "cell_type": "code",
   "execution_count": 49,
   "metadata": {},
   "outputs": [
    {
     "data": {
      "text/html": [
       "\n",
       "\n",
       "\n",
       "\n",
       "\n",
       "\n",
       "  <div class=\"bk-root\" id=\"c2944e17-9b3a-4ade-9c91-068038f1ca33\" data-root-id=\"2329\"></div>\n"
      ]
     },
     "metadata": {},
     "output_type": "display_data"
    },
    {
     "data": {
      "application/javascript": [
       "(function(root) {\n",
       "  function embed_document(root) {\n",
       "    \n",
       "  var docs_json = {\"12cd87b0-685a-4cce-8c02-ecc33c6d47d1\":{\"roots\":{\"references\":[{\"attributes\":{\"below\":[{\"id\":\"2340\",\"type\":\"LinearAxis\"}],\"center\":[{\"id\":\"2344\",\"type\":\"Grid\"},{\"id\":\"2349\",\"type\":\"Grid\"},{\"id\":\"2366\",\"type\":\"Legend\"}],\"left\":[{\"id\":\"2345\",\"type\":\"LinearAxis\"}],\"plot_height\":350,\"renderers\":[{\"id\":\"2359\",\"type\":\"GlyphRenderer\"}],\"title\":{\"id\":\"2330\",\"type\":\"Title\"},\"toolbar\":{\"id\":\"2351\",\"type\":\"Toolbar\"},\"toolbar_location\":null,\"x_range\":{\"id\":\"2332\",\"type\":\"Range1d\"},\"x_scale\":{\"id\":\"2336\",\"type\":\"LinearScale\"},\"y_range\":{\"id\":\"2334\",\"type\":\"DataRange1d\"},\"y_scale\":{\"id\":\"2338\",\"type\":\"LinearScale\"}},\"id\":\"2329\",\"subtype\":\"Figure\",\"type\":\"Plot\"},{\"attributes\":{\"grid_line_color\":null,\"ticker\":{\"id\":\"2341\",\"type\":\"BasicTicker\"}},\"id\":\"2344\",\"type\":\"Grid\"},{\"attributes\":{\"end_angle\":{\"expr\":{\"id\":\"2354\",\"type\":\"CumSum\"},\"units\":\"rad\"},\"fill_alpha\":{\"value\":0.1},\"fill_color\":{\"value\":\"#1f77b4\"},\"line_alpha\":{\"value\":0.1},\"line_color\":{\"value\":\"#1f77b4\"},\"radius\":{\"units\":\"data\",\"value\":0.4},\"start_angle\":{\"expr\":{\"id\":\"2353\",\"type\":\"CumSum\"},\"units\":\"rad\"},\"x\":{\"value\":0},\"y\":{\"value\":1}},\"id\":\"2358\",\"type\":\"Wedge\"},{\"attributes\":{\"data_source\":{\"id\":\"2355\",\"type\":\"ColumnDataSource\"},\"glyph\":{\"id\":\"2357\",\"type\":\"Wedge\"},\"hover_glyph\":null,\"muted_glyph\":null,\"nonselection_glyph\":{\"id\":\"2358\",\"type\":\"Wedge\"},\"selection_glyph\":null,\"view\":{\"id\":\"2360\",\"type\":\"CDSView\"}},\"id\":\"2359\",\"type\":\"GlyphRenderer\"},{\"attributes\":{\"callback\":null},\"id\":\"2334\",\"type\":\"DataRange1d\"},{\"attributes\":{},\"id\":\"2464\",\"type\":\"UnionRenderers\"},{\"attributes\":{\"end_angle\":{\"expr\":{\"id\":\"2354\",\"type\":\"CumSum\"},\"units\":\"rad\"},\"fill_color\":{\"field\":\"color\"},\"line_color\":{\"value\":\"white\"},\"radius\":{\"units\":\"data\",\"value\":0.4},\"start_angle\":{\"expr\":{\"id\":\"2353\",\"type\":\"CumSum\"},\"units\":\"rad\"},\"x\":{\"value\":0},\"y\":{\"value\":1}},\"id\":\"2357\",\"type\":\"Wedge\"},{\"attributes\":{\"dimension\":1,\"grid_line_color\":null,\"ticker\":{\"id\":\"2346\",\"type\":\"BasicTicker\"}},\"id\":\"2349\",\"type\":\"Grid\"},{\"attributes\":{\"field\":\"angle\"},\"id\":\"2354\",\"type\":\"CumSum\"},{\"attributes\":{},\"id\":\"2346\",\"type\":\"BasicTicker\"},{\"attributes\":{\"source\":{\"id\":\"2355\",\"type\":\"ColumnDataSource\"}},\"id\":\"2360\",\"type\":\"CDSView\"},{\"attributes\":{},\"id\":\"2362\",\"type\":\"BasicTickFormatter\"},{\"attributes\":{},\"id\":\"2364\",\"type\":\"BasicTickFormatter\"},{\"attributes\":{\"field\":\"angle\",\"include_zero\":true},\"id\":\"2353\",\"type\":\"CumSum\"},{\"attributes\":{},\"id\":\"2336\",\"type\":\"LinearScale\"},{\"attributes\":{\"axis_label\":null,\"formatter\":{\"id\":\"2362\",\"type\":\"BasicTickFormatter\"},\"ticker\":{\"id\":\"2341\",\"type\":\"BasicTicker\"},\"visible\":false},\"id\":\"2340\",\"type\":\"LinearAxis\"},{\"attributes\":{\"axis_label\":null,\"formatter\":{\"id\":\"2364\",\"type\":\"BasicTickFormatter\"},\"ticker\":{\"id\":\"2346\",\"type\":\"BasicTicker\"},\"visible\":false},\"id\":\"2345\",\"type\":\"LinearAxis\"},{\"attributes\":{},\"id\":\"2463\",\"type\":\"Selection\"},{\"attributes\":{\"label\":{\"field\":\"index\"},\"renderers\":[{\"id\":\"2359\",\"type\":\"GlyphRenderer\"}]},\"id\":\"2367\",\"type\":\"LegendItem\"},{\"attributes\":{\"active_drag\":\"auto\",\"active_inspect\":\"auto\",\"active_multi\":null,\"active_scroll\":\"auto\",\"active_tap\":\"auto\",\"tools\":[{\"id\":\"2350\",\"type\":\"HoverTool\"}]},\"id\":\"2351\",\"type\":\"Toolbar\"},{\"attributes\":{\"callback\":null,\"data\":{\"angle\":{\"__ndarray__\":\"O5SPnPl4DkD2xfgL/coDQA==\",\"dtype\":\"float64\",\"shape\":[2]},\"color\":[\"#00204C\",\"#FFE945\"],\"has_media\":[642,417],\"index\":[false,true],\"level_0\":[0,1]},\"selected\":{\"id\":\"2463\",\"type\":\"Selection\"},\"selection_policy\":{\"id\":\"2464\",\"type\":\"UnionRenderers\"}},\"id\":\"2355\",\"type\":\"ColumnDataSource\"},{\"attributes\":{},\"id\":\"2338\",\"type\":\"LinearScale\"},{\"attributes\":{\"text\":\"Does the post have an image or video in it -- JP\"},\"id\":\"2330\",\"type\":\"Title\"},{\"attributes\":{},\"id\":\"2341\",\"type\":\"BasicTicker\"},{\"attributes\":{\"callback\":null,\"tooltips\":\"@index: @has_media\"},\"id\":\"2350\",\"type\":\"HoverTool\"},{\"attributes\":{\"items\":[{\"id\":\"2367\",\"type\":\"LegendItem\"}]},\"id\":\"2366\",\"type\":\"Legend\"},{\"attributes\":{\"callback\":null,\"start\":-0.5},\"id\":\"2332\",\"type\":\"Range1d\"}],\"root_ids\":[\"2329\"]},\"title\":\"Bokeh Application\",\"version\":\"1.4.0\"}};\n",
       "  var render_items = [{\"docid\":\"12cd87b0-685a-4cce-8c02-ecc33c6d47d1\",\"roots\":{\"2329\":\"c2944e17-9b3a-4ade-9c91-068038f1ca33\"}}];\n",
       "  root.Bokeh.embed.embed_items_notebook(docs_json, render_items);\n",
       "\n",
       "  }\n",
       "  if (root.Bokeh !== undefined) {\n",
       "    embed_document(root);\n",
       "  } else {\n",
       "    var attempts = 0;\n",
       "    var timer = setInterval(function(root) {\n",
       "      if (root.Bokeh !== undefined) {\n",
       "        clearInterval(timer);\n",
       "        embed_document(root);\n",
       "      } else {\n",
       "        attempts++;\n",
       "        if (attempts > 100) {\n",
       "          clearInterval(timer);\n",
       "          console.log(\"Bokeh: ERROR: Unable to run BokehJS code because BokehJS library is missing\");\n",
       "        }\n",
       "      }\n",
       "    }, 10, root)\n",
       "  }\n",
       "})(window);"
      ],
      "application/vnd.bokehjs_exec.v0+json": ""
     },
     "metadata": {
      "application/vnd.bokehjs_exec.v0+json": {
       "id": "2329"
      }
     },
     "output_type": "display_data"
    }
   ],
   "source": [
    "jp_media = pd.DataFrame(df[df['account']=='kantei']['has_media'].value_counts()).reset_index()\n",
    "piechart(jp_media, \"index\", \"has_media\", \"Does the post have an image or video in it -- JP\")"
   ]
  },
  {
   "cell_type": "code",
   "execution_count": 50,
   "metadata": {},
   "outputs": [],
   "source": [
    "#abe_media = pd.DataFrame(df[df['account']=='AbeShinzo']['has_media'].value_counts()).reset_index()\n",
    "#piechart(abe_media, \"index\", \"has_media\", \"Does the post have an image or video in it -- Shinzo Abe\")"
   ]
  },
  {
   "cell_type": "markdown",
   "metadata": {},
   "source": [
    "### download all the images used in posts"
   ]
  },
  {
   "cell_type": "raw",
   "metadata": {},
   "source": [
    "# download all the UK PM images \n",
    "for img_url, post_id in zip(df[df['account']=='10DowningStreet']['media_urls'].replace(\"\", np.nan).dropna().tolist(),\n",
    "                           df[df['account']=='10DowningStreet']['media_urls'].replace(\"\", np.nan).dropna().index.tolist()):\n",
    "    urlretrieve(img_url, \"images/10DowningStreet/\"+\"img_{}\".format(post_id)+\".jpg\") "
   ]
  },
  {
   "cell_type": "raw",
   "metadata": {},
   "source": [
    "# download all the Boris images \n",
    "for img_url, post_id in zip(df[df['account']=='BorisJohnson']['media_urls'].replace(\"\", np.nan).dropna().tolist(),\n",
    "                           df[df['account']=='BorisJohnson']['media_urls'].replace(\"\", np.nan).dropna().index.tolist()):\n",
    "    urlretrieve(img_url, \"images/BorisJohnson/\"+\"img_{}\".format(post_id)+\".jpg\") "
   ]
  },
  {
   "cell_type": "raw",
   "metadata": {},
   "source": [
    "# download all the JP PM images\n",
    "for img_url, post_id in zip(df[df['account']=='kantei']['media_urls'].replace(\"\", np.nan).dropna().tolist(),\n",
    "                           df[df['account']=='kantei']['media_urls'].replace(\"\", np.nan).dropna().index.tolist()):\n",
    "    urlretrieve(img_url, \"images/kantei/\"+\"img_{}\".format(post_id)+\".jpg\") "
   ]
  },
  {
   "cell_type": "raw",
   "metadata": {},
   "source": [
    "# download all the Abe images\n",
    "for img_url, post_id in zip(df[df['account']=='AbeShinzo']['media_urls'].replace(\"\", np.nan).dropna().tolist(),\n",
    "                           df[df['account']=='AbeShinzo']['media_urls'].replace(\"\", np.nan).dropna().index.tolist()):\n",
    "    urlretrieve(img_url, \"images/AbeShinzo/\"+\"img_{}\".format(post_id)+\".jpg\") "
   ]
  },
  {
   "cell_type": "markdown",
   "metadata": {},
   "source": [
    "Add the local image urls to the dataframe "
   ]
  },
  {
   "cell_type": "code",
   "execution_count": 51,
   "metadata": {},
   "outputs": [],
   "source": [
    "df['image_path_local'] = \"\"\n",
    "for filename in os.listdir(\"images/10DowningStreet\"):\n",
    "    if filename.endswith(\".jpg\"):\n",
    "        image_path = \"images/10DowningStreet/\" + filename\n",
    "        image_id = int(filename.split(\"img_\")[1].split(\".jpg\")[0])\n",
    "        df.loc[image_id, 'image_path_local'] = image_path\n",
    "        \n",
    "for filename in os.listdir(\"images/kantei\"):\n",
    "    if filename.endswith(\".jpg\"):\n",
    "        image_path = \"images/kantei/\" + filename\n",
    "        image_id = int(filename.split(\"img_\")[1].split(\".jpg\")[0])\n",
    "        df.loc[image_id, 'image_path_local'] = image_path\n",
    "        \n",
    "for filename in os.listdir(\"images/BorisJohnson\"):\n",
    "    if filename.endswith(\".jpg\"):\n",
    "        image_path = \"images/BorisJohnson/\" + filename\n",
    "        image_id = int(filename.split(\"img_\")[1].split(\".jpg\")[0])\n",
    "        df.loc[image_id, 'image_path_local'] = image_path\n",
    "        \n",
    "for filename in os.listdir(\"images/AbeShinzo\"):\n",
    "    if filename.endswith(\".jpg\"):\n",
    "        image_path = \"images/AbeShinzo/\" + filename\n",
    "        image_id = int(filename.split(\"img_\")[1].split(\".jpg\")[0])\n",
    "        df.loc[image_id, 'image_path_local'] = image_path"
   ]
  },
  {
   "cell_type": "markdown",
   "metadata": {},
   "source": [
    "### colograms of the images - comparison across accounts"
   ]
  },
  {
   "cell_type": "markdown",
   "metadata": {},
   "source": [
    "Idea: make something like a histogram of the images, where each day is coloured by the average image colour for that day, or grey if there was no image"
   ]
  },
  {
   "cell_type": "raw",
   "metadata": {},
   "source": [
    "# Example of colorgram usage\n",
    "# Extract 6 colors from an image.\n",
    "colors = colorgram.extract(uk_random_images.tolist()[0], 6)\n",
    "first_color = colors[0]\n",
    "rgb = first_color.rgb # e.g. (255, 151, 210)\n",
    "hsl = first_color.hsl # e.g. (230, 255, 203)\n",
    "proportion  = first_color.proportion # e.g. 0.34\n"
   ]
  },
  {
   "cell_type": "code",
   "execution_count": 52,
   "metadata": {},
   "outputs": [],
   "source": [
    "def get_palette_for_img(img_url, num_colours=6):\n",
    "    palette = []\n",
    "    colours = colorgram.extract(img_url, num_colours)\n",
    "    for colour in colours:\n",
    "        rgb = colour.rgb\n",
    "        palette.append(rgb)\n",
    "    return palette"
   ]
  },
  {
   "cell_type": "code",
   "execution_count": 53,
   "metadata": {},
   "outputs": [],
   "source": [
    "def display_colour_palette(palette):\n",
    "    palette = np.array(palette)[np.newaxis, :, :]\n",
    "    plt.imshow(palette);\n",
    "    plt.axis('off');\n",
    "    plt.show();"
   ]
  },
  {
   "cell_type": "markdown",
   "metadata": {},
   "source": [
    "Generate random palette sample for some of the UK images "
   ]
  },
  {
   "cell_type": "code",
   "execution_count": 54,
   "metadata": {},
   "outputs": [
    {
     "data": {
      "image/png": "[encoded data removed]",
      "text/plain": [
       "<Figure size 432x288 with 1 Axes>"
      ]
     },
     "metadata": {
      "needs_background": "light"
     },
     "output_type": "display_data"
    },
    {
     "data": {
      "image/png": "[encoded data removed]",
      "text/plain": [
       "<Figure size 432x288 with 1 Axes>"
      ]
     },
     "metadata": {
      "needs_background": "light"
     },
     "output_type": "display_data"
    },
    {
     "data": {
      "image/png": "[encoded data removed]",
      "text/plain": [
       "<Figure size 432x288 with 1 Axes>"
      ]
     },
     "metadata": {
      "needs_background": "light"
     },
     "output_type": "display_data"
    },
    {
     "data": {
      "image/png": "[encoded data removed]",
      "text/plain": [
       "<Figure size 432x288 with 1 Axes>"
      ]
     },
     "metadata": {
      "needs_background": "light"
     },
     "output_type": "display_data"
    },
    {
     "data": {
      "image/png": "[encoded data removed]",
      "text/plain": [
       "<Figure size 432x288 with 1 Axes>"
      ]
     },
     "metadata": {
      "needs_background": "light"
     },
     "output_type": "display_data"
    },
    {
     "data": {
      "image/png": "[encoded data removed]",
      "text/plain": [
       "<Figure size 432x288 with 1 Axes>"
      ]
     },
     "metadata": {
      "needs_background": "light"
     },
     "output_type": "display_data"
    },
    {
     "data": {
      "image/png": "[encoded data removed]",
      "text/plain": [
       "<Figure size 432x288 with 1 Axes>"
      ]
     },
     "metadata": {
      "needs_background": "light"
     },
     "output_type": "display_data"
    },
    {
     "data": {
      "image/png": "[encoded data removed]",
      "text/plain": [
       "<Figure size 432x288 with 1 Axes>"
      ]
     },
     "metadata": {
      "needs_background": "light"
     },
     "output_type": "display_data"
    },
    {
     "data": {
      "image/png": "[encoded data removed]",
      "text/plain": [
       "<Figure size 432x288 with 1 Axes>"
      ]
     },
     "metadata": {
      "needs_background": "light"
     },
     "output_type": "display_data"
    },
    {
     "data": {
      "image/png": "[encoded data removed]",
      "text/plain": [
       "<Figure size 432x288 with 1 Axes>"
      ]
     },
     "metadata": {
      "needs_background": "light"
     },
     "output_type": "display_data"
    },
    {
     "data": {
      "image/png": "[encoded data removed]",
      "text/plain": [
       "<Figure size 432x288 with 1 Axes>"
      ]
     },
     "metadata": {
      "needs_background": "light"
     },
     "output_type": "display_data"
    },
    {
     "data": {
      "image/png": "[encoded data removed]",
      "text/plain": [
       "<Figure size 432x288 with 1 Axes>"
      ]
     },
     "metadata": {
      "needs_background": "light"
     },
     "output_type": "display_data"
    },
    {
     "data": {
      "image/png": "[encoded data removed]",
      "text/plain": [
       "<Figure size 432x288 with 1 Axes>"
      ]
     },
     "metadata": {
      "needs_background": "light"
     },
     "output_type": "display_data"
    },
    {
     "data": {
      "image/png": "[encoded data removed]",
      "text/plain": [
       "<Figure size 432x288 with 1 Axes>"
      ]
     },
     "metadata": {
      "needs_background": "light"
     },
     "output_type": "display_data"
    },
    {
     "data": {
      "image/png": "[encoded data removed]",
      "text/plain": [
       "<Figure size 432x288 with 1 Axes>"
      ]
     },
     "metadata": {
      "needs_background": "light"
     },
     "output_type": "display_data"
    },
    {
     "data": {
      "image/png": "[encoded data removed]",
      "text/plain": [
       "<Figure size 432x288 with 1 Axes>"
      ]
     },
     "metadata": {
      "needs_background": "light"
     },
     "output_type": "display_data"
    },
    {
     "data": {
      "image/png": "[encoded data removed]",
      "text/plain": [
       "<Figure size 432x288 with 1 Axes>"
      ]
     },
     "metadata": {
      "needs_background": "light"
     },
     "output_type": "display_data"
    },
    {
     "data": {
      "image/png": "[encoded data removed]",
      "text/plain": [
       "<Figure size 432x288 with 1 Axes>"
      ]
     },
     "metadata": {
      "needs_background": "light"
     },
     "output_type": "display_data"
    },
    {
     "data": {
      "image/png": "[encoded data removed]",
      "text/plain": [
       "<Figure size 432x288 with 1 Axes>"
      ]
     },
     "metadata": {
      "needs_background": "light"
     },
     "output_type": "display_data"
    },
    {
     "data": {
      "image/png": "[encoded data removed]",
      "text/plain": [
       "<Figure size 432x288 with 1 Axes>"
      ]
     },
     "metadata": {
      "needs_background": "light"
     },
     "output_type": "display_data"
    }
   ],
   "source": [
    "uk_random_images = df[df['account']=='10DowningStreet']['image_path_local'].replace(\"\", np.nan).dropna().sample(20).tolist()\n",
    "for img in uk_random_images:\n",
    "    palette = get_palette_for_img(img, 3)\n",
    "    display_colour_palette(palette)"
   ]
  },
  {
   "cell_type": "markdown",
   "metadata": {},
   "source": [
    "Generate random palette for Boris images "
   ]
  },
  {
   "cell_type": "raw",
   "metadata": {},
   "source": [
    "boris_random_images = df[df['account']=='BorisJohnson']['image_path_local'].replace(\"\", np.nan).dropna().sample(5).tolist()\n",
    "for img in boris_random_images:\n",
    "    palette = get_palette_for_img(img, 3)\n",
    "    display_colour_palette(palette)"
   ]
  },
  {
   "cell_type": "markdown",
   "metadata": {},
   "source": [
    "Generate random palette sample for the JA images"
   ]
  },
  {
   "cell_type": "code",
   "execution_count": 56,
   "metadata": {},
   "outputs": [
    {
     "data": {
      "image/png": "[encoded data removed]",
      "text/plain": [
       "<Figure size 432x288 with 1 Axes>"
      ]
     },
     "metadata": {
      "needs_background": "light"
     },
     "output_type": "display_data"
    },
    {
     "data": {
      "image/png": "[encoded data removed]",
      "text/plain": [
       "<Figure size 432x288 with 1 Axes>"
      ]
     },
     "metadata": {
      "needs_background": "light"
     },
     "output_type": "display_data"
    },
    {
     "data": {
      "image/png": "[encoded data removed]",
      "text/plain": [
       "<Figure size 432x288 with 1 Axes>"
      ]
     },
     "metadata": {
      "needs_background": "light"
     },
     "output_type": "display_data"
    },
    {
     "data": {
      "image/png": "[encoded data removed]",
      "text/plain": [
       "<Figure size 432x288 with 1 Axes>"
      ]
     },
     "metadata": {
      "needs_background": "light"
     },
     "output_type": "display_data"
    },
    {
     "data": {
      "image/png": "[encoded data removed]",
      "text/plain": [
       "<Figure size 432x288 with 1 Axes>"
      ]
     },
     "metadata": {
      "needs_background": "light"
     },
     "output_type": "display_data"
    },
    {
     "data": {
      "image/png": "[encoded data removed]",
      "text/plain": [
       "<Figure size 432x288 with 1 Axes>"
      ]
     },
     "metadata": {
      "needs_background": "light"
     },
     "output_type": "display_data"
    },
    {
     "data": {
      "image/png": "[encoded data removed]",
      "text/plain": [
       "<Figure size 432x288 with 1 Axes>"
      ]
     },
     "metadata": {
      "needs_background": "light"
     },
     "output_type": "display_data"
    },
    {
     "data": {
      "image/png": "[encoded data removed]",
      "text/plain": [
       "<Figure size 432x288 with 1 Axes>"
      ]
     },
     "metadata": {
      "needs_background": "light"
     },
     "output_type": "display_data"
    },
    {
     "data": {
      "image/png": "[encoded data removed]",
      "text/plain": [
       "<Figure size 432x288 with 1 Axes>"
      ]
     },
     "metadata": {
      "needs_background": "light"
     },
     "output_type": "display_data"
    },
    {
     "data": {
      "image/png": "[encoded data removed]",
      "text/plain": [
       "<Figure size 432x288 with 1 Axes>"
      ]
     },
     "metadata": {
      "needs_background": "light"
     },
     "output_type": "display_data"
    },
    {
     "data": {
      "image/png": "[encoded data removed]",
      "text/plain": [
       "<Figure size 432x288 with 1 Axes>"
      ]
     },
     "metadata": {
      "needs_background": "light"
     },
     "output_type": "display_data"
    },
    {
     "data": {
      "image/png": "[encoded data removed]",
      "text/plain": [
       "<Figure size 432x288 with 1 Axes>"
      ]
     },
     "metadata": {
      "needs_background": "light"
     },
     "output_type": "display_data"
    },
    {
     "data": {
      "image/png": "[encoded data removed]",
      "text/plain": [
       "<Figure size 432x288 with 1 Axes>"
      ]
     },
     "metadata": {
      "needs_background": "light"
     },
     "output_type": "display_data"
    },
    {
     "data": {
      "image/png": "[encoded data removed]",
      "text/plain": [
       "<Figure size 432x288 with 1 Axes>"
      ]
     },
     "metadata": {
      "needs_background": "light"
     },
     "output_type": "display_data"
    },
    {
     "data": {
      "image/png": "[encoded data removed]",
      "text/plain": [
       "<Figure size 432x288 with 1 Axes>"
      ]
     },
     "metadata": {
      "needs_background": "light"
     },
     "output_type": "display_data"
    },
    {
     "data": {
      "image/png": "[encoded data removed]",
      "text/plain": [
       "<Figure size 432x288 with 1 Axes>"
      ]
     },
     "metadata": {
      "needs_background": "light"
     },
     "output_type": "display_data"
    },
    {
     "data": {
      "image/png": "[encoded data removed]",
      "text/plain": [
       "<Figure size 432x288 with 1 Axes>"
      ]
     },
     "metadata": {
      "needs_background": "light"
     },
     "output_type": "display_data"
    },
    {
     "data": {
      "image/png": "[encoded data removed]",
      "text/plain": [
       "<Figure size 432x288 with 1 Axes>"
      ]
     },
     "metadata": {
      "needs_background": "light"
     },
     "output_type": "display_data"
    },
    {
     "data": {
      "image/png": "[encoded data removed]",
      "text/plain": [
       "<Figure size 432x288 with 1 Axes>"
      ]
     },
     "metadata": {
      "needs_background": "light"
     },
     "output_type": "display_data"
    },
    {
     "data": {
      "image/png": "[encoded data removed]",
      "text/plain": [
       "<Figure size 432x288 with 1 Axes>"
      ]
     },
     "metadata": {
      "needs_background": "light"
     },
     "output_type": "display_data"
    }
   ],
   "source": [
    "ja_random_images = df[df['account']=='kantei']['image_path_local'].replace(\"\", np.nan).dropna().sample(20).tolist()\n",
    "for img in ja_random_images:\n",
    "    palette = get_palette_for_img(img, 3)\n",
    "    display_colour_palette(palette)"
   ]
  },
  {
   "cell_type": "markdown",
   "metadata": {},
   "source": [
    "Generate random palette sample for Abe images "
   ]
  },
  {
   "cell_type": "raw",
   "metadata": {},
   "source": [
    "abe_random_images = df[df['account']=='AbeShinzo']['image_path_local'].replace(\"\", np.nan).dropna().sample(5).tolist()\n",
    "for img in abe_random_images:\n",
    "    palette = get_palette_for_img(img, 3)\n",
    "    display_colour_palette(palette)"
   ]
  },
  {
   "cell_type": "markdown",
   "metadata": {},
   "source": [
    "## Tweets over time "
   ]
  },
  {
   "cell_type": "code",
   "execution_count": 57,
   "metadata": {},
   "outputs": [],
   "source": [
    "uk_num_tweets_per_day = df[df['account']=='10DowningStreet'].groupby(\"date\")['full_text'].count()\n",
    "jp_num_tweets_per_day = df[df['account']=='kantei'].groupby(\"date\")['full_text'].count()\n",
    "\n",
    "boris_num_tweets_per_day = df[df['account']=='BorisJohnson'].groupby(\"date\")['full_text'].count()\n",
    "abe_num_tweets_per_day = df[df['account']=='AbeShinzo'].groupby(\"date\")['full_text'].count()"
   ]
  },
  {
   "cell_type": "markdown",
   "metadata": {},
   "source": [
    "### UK"
   ]
  },
  {
   "cell_type": "code",
   "execution_count": 58,
   "metadata": {},
   "outputs": [
    {
     "name": "stderr",
     "output_type": "stream",
     "text": [
      "/Users/dea/opt/anaconda3/lib/python3.7/site-packages/bokeh/core/property/bases.py:237: DeprecationWarning: elementwise comparison failed; this will raise an error in the future.\n",
      "  return new == old\n",
      "/Users/dea/opt/anaconda3/lib/python3.7/site-packages/bokeh/core/property/bases.py:237: DeprecationWarning: elementwise comparison failed; this will raise an error in the future.\n",
      "  return new == old\n"
     ]
    },
    {
     "data": {
      "text/html": [
       "\n",
       "\n",
       "\n",
       "\n",
       "\n",
       "\n",
       "  <div class=\"bk-root\" id=\"f32d79f4-8c25-451f-925c-b84672b9e500\" data-root-id=\"2561\"></div>\n"
      ]
     },
     "metadata": {},
     "output_type": "display_data"
    },
    {
     "data": {
      "application/javascript": [
       "(function(root) {\n",
       "  function embed_document(root) {\n",
       "    \n",
       "  var docs_json = {\"9c7f0738-b442-401e-8a35-4afea262c9de\":{\"roots\":{\"references\":[{\"attributes\":{\"children\":[{\"id\":\"2508\",\"subtype\":\"Figure\",\"type\":\"Plot\"},{\"id\":\"2535\",\"subtype\":\"Figure\",\"type\":\"Plot\"}]},\"id\":\"2561\",\"type\":\"Column\"},{\"attributes\":{\"base\":60,\"mantissas\":[1,2,5,10,15,20,30],\"max_interval\":1800000.0,\"min_interval\":1000.0,\"num_minor_ticks\":0},\"id\":\"2669\",\"type\":\"AdaptiveTicker\"},{\"attributes\":{\"days\":[1,15]},\"id\":\"2674\",\"type\":\"DaysTicker\"},{\"attributes\":{},\"id\":\"2693\",\"type\":\"YearsTicker\"},{\"attributes\":{\"formatter\":{\"id\":\"2666\",\"type\":\"DatetimeTickFormatter\"},\"ticker\":{\"id\":\"2546\",\"type\":\"DatetimeTicker\"}},\"id\":\"2545\",\"type\":\"DatetimeAxis\"},{\"attributes\":{},\"id\":\"2666\",\"type\":\"DatetimeTickFormatter\"},{\"attributes\":{\"months\":[0,4,8]},\"id\":\"2691\",\"type\":\"MonthsTicker\"},{\"attributes\":{},\"id\":\"2541\",\"type\":\"LinearScale\"},{\"attributes\":{\"dimensions\":\"width\"},\"id\":\"2527\",\"type\":\"PanTool\"},{\"attributes\":{\"data_source\":{\"id\":\"2507\",\"type\":\"ColumnDataSource\"},\"glyph\":{\"id\":\"2555\",\"type\":\"Line\"},\"hover_glyph\":null,\"muted_glyph\":null,\"nonselection_glyph\":{\"id\":\"2556\",\"type\":\"Line\"},\"selection_glyph\":null,\"view\":{\"id\":\"2558\",\"type\":\"CDSView\"}},\"id\":\"2557\",\"type\":\"GlyphRenderer\"},{\"attributes\":{\"callback\":null},\"id\":\"2538\",\"type\":\"DataRange1d\"},{\"attributes\":{\"months\":[0,2,4,6,8,10]},\"id\":\"2690\",\"type\":\"MonthsTicker\"},{\"attributes\":{\"formatter\":{\"id\":\"2662\",\"type\":\"DatetimeTickFormatter\"},\"ticker\":{\"id\":\"2518\",\"type\":\"DatetimeTicker\"}},\"id\":\"2517\",\"type\":\"DatetimeAxis\"},{\"attributes\":{},\"id\":\"2543\",\"type\":\"LinearScale\"},{\"attributes\":{\"line_color\":\"#1f77b4\",\"x\":{\"field\":\"date\"},\"y\":{\"field\":\"data\"}},\"id\":\"2555\",\"type\":\"Line\"},{\"attributes\":{\"months\":[0,1,2,3,4,5,6,7,8,9,10,11]},\"id\":\"2689\",\"type\":\"MonthsTicker\"},{\"attributes\":{\"days\":[1,15]},\"id\":\"2688\",\"type\":\"DaysTicker\"},{\"attributes\":{},\"id\":\"2662\",\"type\":\"DatetimeTickFormatter\"},{\"attributes\":{\"days\":[1,8,15,22]},\"id\":\"2687\",\"type\":\"DaysTicker\"},{\"attributes\":{\"days\":[1,4,7,10,13,16,19,22,25,28]},\"id\":\"2686\",\"type\":\"DaysTicker\"},{\"attributes\":{\"data_source\":{\"id\":\"2507\",\"type\":\"ColumnDataSource\"},\"glyph\":{\"id\":\"2531\",\"type\":\"Line\"},\"hover_glyph\":null,\"muted_glyph\":null,\"nonselection_glyph\":{\"id\":\"2532\",\"type\":\"Line\"},\"selection_glyph\":null,\"view\":{\"id\":\"2534\",\"type\":\"CDSView\"}},\"id\":\"2533\",\"type\":\"GlyphRenderer\"},{\"attributes\":{\"base\":24,\"mantissas\":[1,2,4,6,8,12],\"max_interval\":43200000.0,\"min_interval\":3600000.0,\"num_minor_ticks\":0},\"id\":\"2670\",\"type\":\"AdaptiveTicker\"},{\"attributes\":{\"days\":[1,2,3,4,5,6,7,8,9,10,11,12,13,14,15,16,17,18,19,20,21,22,23,24,25,26,27,28,29,30,31]},\"id\":\"2685\",\"type\":\"DaysTicker\"},{\"attributes\":{\"num_minor_ticks\":5,\"tickers\":[{\"id\":\"2668\",\"type\":\"AdaptiveTicker\"},{\"id\":\"2669\",\"type\":\"AdaptiveTicker\"},{\"id\":\"2670\",\"type\":\"AdaptiveTicker\"},{\"id\":\"2671\",\"type\":\"DaysTicker\"},{\"id\":\"2672\",\"type\":\"DaysTicker\"},{\"id\":\"2673\",\"type\":\"DaysTicker\"},{\"id\":\"2674\",\"type\":\"DaysTicker\"},{\"id\":\"2675\",\"type\":\"MonthsTicker\"},{\"id\":\"2676\",\"type\":\"MonthsTicker\"},{\"id\":\"2677\",\"type\":\"MonthsTicker\"},{\"id\":\"2678\",\"type\":\"MonthsTicker\"},{\"id\":\"2679\",\"type\":\"YearsTicker\"}]},\"id\":\"2518\",\"type\":\"DatetimeTicker\"},{\"attributes\":{\"days\":[1,4,7,10,13,16,19,22,25,28]},\"id\":\"2672\",\"type\":\"DaysTicker\"},{\"attributes\":{\"background_fill_color\":{\"value\":\"#2b2b2b\"},\"below\":[{\"id\":\"2545\",\"type\":\"DatetimeAxis\"}],\"center\":[{\"id\":\"2549\",\"type\":\"Grid\"}],\"plot_height\":130,\"plot_width\":1000,\"renderers\":[{\"id\":\"2557\",\"type\":\"GlyphRenderer\"}],\"title\":{\"id\":\"2536\",\"type\":\"Title\"},\"toolbar\":{\"id\":\"2550\",\"type\":\"Toolbar\"},\"toolbar_location\":null,\"x_range\":{\"id\":\"2538\",\"type\":\"DataRange1d\"},\"x_scale\":{\"id\":\"2541\",\"type\":\"LinearScale\"},\"y_range\":{\"id\":\"2511\",\"type\":\"DataRange1d\"},\"y_scale\":{\"id\":\"2543\",\"type\":\"LinearScale\"}},\"id\":\"2535\",\"subtype\":\"Figure\",\"type\":\"Plot\"},{\"attributes\":{\"months\":[0,2,4,6,8,10]},\"id\":\"2676\",\"type\":\"MonthsTicker\"},{\"attributes\":{\"dimension\":1,\"ticker\":{\"id\":\"2523\",\"type\":\"BasicTicker\"}},\"id\":\"2526\",\"type\":\"Grid\"},{\"attributes\":{\"text\":\"\"},\"id\":\"2659\",\"type\":\"Title\"},{\"attributes\":{\"base\":24,\"mantissas\":[1,2,4,6,8,12],\"max_interval\":43200000.0,\"min_interval\":3600000.0,\"num_minor_ticks\":0},\"id\":\"2684\",\"type\":\"AdaptiveTicker\"},{\"attributes\":{\"text\":\"Drag slider\"},\"id\":\"2536\",\"type\":\"Title\"},{\"attributes\":{\"callback\":null,\"data\":{\"data\":[1,1,1,1,1,2,2,1,3,1,4,3,1,1,4,6,7,4,2,3,2,4,3,5,6,6,2,2,2,6,1,4,5,2,25,2,2,3,3,2,1,1,1,1,5,1,3,6,1,3,4,2,4,3,14,5,4,2,1,3,14,17,8,16,7,11,9,9,12,17,4,12,5,9,11,11,16,18,18,15,7,10,20,19,15,18,16,10,13,15,17,26,13,15,13,20,9,18,12,13,14,8,15,16,20,16,15,10,13,18,15,17,12,12,9,15,19,16,16,10,11,11,11,18,15,14,10,11,6,7,10,12,15,11,12,13,8,12,10,14,17,9,6,10,6,10,9,7,9,7,6,9,13,11,10,8,1,9,10,6,5,5,11,5,5,13,8,7,5,13,9,5,11,13,8,6,5,3,4,2,5,4,8,2,3,5,6,7,4,7,4,4,2,6,6,3,9,4,3,1,5,4,8,7,4,4,2,2,5,5,14,6,2,1,4,4,7,4,5,7,5,3,7,4,6,3,5,5,3,5,3,6,4,3,4,5,8,5,8,4,5,4,8,6,4,7,6,5,12,7,9,10,8,6,4,6,9,17,9,6,3,3,6,1,2,7,6,5,4,18,3,6,12,13,5,10,2,13,5,16,3,3,1,5,3,3,5,2,12,2,5,2,8,4,3,8,4,2,6,4,3],\"date\":{\"__ndarray__\":\"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\",\"dtype\":\"float64\",\"shape\":[301]}},\"selected\":{\"id\":\"2680\",\"type\":\"Selection\"},\"selection_policy\":{\"id\":\"2681\",\"type\":\"UnionRenderers\"}},\"id\":\"2507\",\"type\":\"ColumnDataSource\"},{\"attributes\":{\"base\":60,\"mantissas\":[1,2,5,10,15,20,30],\"max_interval\":1800000.0,\"min_interval\":1000.0,\"num_minor_ticks\":0},\"id\":\"2683\",\"type\":\"AdaptiveTicker\"},{\"attributes\":{\"active_drag\":\"auto\",\"active_inspect\":\"auto\",\"active_multi\":null,\"active_scroll\":\"auto\",\"active_tap\":\"auto\",\"tools\":[{\"id\":\"2527\",\"type\":\"PanTool\"}]},\"id\":\"2528\",\"type\":\"Toolbar\"},{\"attributes\":{\"mantissas\":[1,2,5],\"max_interval\":500.0,\"num_minor_ticks\":0},\"id\":\"2668\",\"type\":\"AdaptiveTicker\"},{\"attributes\":{\"months\":[0,4,8]},\"id\":\"2677\",\"type\":\"MonthsTicker\"},{\"attributes\":{\"above\":[{\"id\":\"2517\",\"type\":\"DatetimeAxis\"}],\"background_fill_color\":{\"value\":\"#efefef\"},\"center\":[{\"id\":\"2521\",\"type\":\"Grid\"},{\"id\":\"2526\",\"type\":\"Grid\"}],\"left\":[{\"id\":\"2522\",\"type\":\"LinearAxis\"}],\"plot_height\":300,\"plot_width\":1000,\"renderers\":[{\"id\":\"2533\",\"type\":\"GlyphRenderer\"}],\"title\":{\"id\":\"2659\",\"type\":\"Title\"},\"toolbar\":{\"id\":\"2528\",\"type\":\"Toolbar\"},\"toolbar_location\":null,\"x_range\":{\"id\":\"2509\",\"type\":\"Range1d\"},\"x_scale\":{\"id\":\"2513\",\"type\":\"LinearScale\"},\"y_range\":{\"id\":\"2511\",\"type\":\"DataRange1d\"},\"y_scale\":{\"id\":\"2515\",\"type\":\"LinearScale\"}},\"id\":\"2508\",\"subtype\":\"Figure\",\"type\":\"Plot\"},{\"attributes\":{\"active_drag\":\"auto\",\"active_inspect\":\"auto\",\"active_multi\":{\"id\":\"2551\",\"type\":\"RangeTool\"},\"active_scroll\":\"auto\",\"active_tap\":\"auto\",\"tools\":[{\"id\":\"2551\",\"type\":\"RangeTool\"}]},\"id\":\"2550\",\"type\":\"Toolbar\"},{\"attributes\":{\"days\":[1,2,3,4,5,6,7,8,9,10,11,12,13,14,15,16,17,18,19,20,21,22,23,24,25,26,27,28,29,30,31]},\"id\":\"2671\",\"type\":\"DaysTicker\"},{\"attributes\":{\"source\":{\"id\":\"2507\",\"type\":\"ColumnDataSource\"}},\"id\":\"2558\",\"type\":\"CDSView\"},{\"attributes\":{\"fill_alpha\":{\"value\":0.2},\"fill_color\":{\"value\":\"white\"},\"level\":\"overlay\",\"line_alpha\":{\"value\":1.0},\"line_color\":{\"value\":\"black\"},\"line_dash\":[2,2],\"line_width\":{\"value\":0.5}},\"id\":\"2552\",\"type\":\"BoxAnnotation\"},{\"attributes\":{\"overlay\":{\"id\":\"2552\",\"type\":\"BoxAnnotation\"},\"x_range\":{\"id\":\"2509\",\"type\":\"Range1d\"},\"y_range\":null},\"id\":\"2551\",\"type\":\"RangeTool\"},{\"attributes\":{\"days\":[1,8,15,22]},\"id\":\"2673\",\"type\":\"DaysTicker\"},{\"attributes\":{\"mantissas\":[1,2,5],\"max_interval\":500.0,\"num_minor_ticks\":0},\"id\":\"2682\",\"type\":\"AdaptiveTicker\"},{\"attributes\":{\"callback\":null,\"end\":1580860800000.0,\"start\":1577836800000.0},\"id\":\"2509\",\"type\":\"Range1d\"},{\"attributes\":{\"line_alpha\":0.1,\"line_color\":\"#1f77b4\",\"x\":{\"field\":\"date\"},\"y\":{\"field\":\"data\"}},\"id\":\"2556\",\"type\":\"Line\"},{\"attributes\":{},\"id\":\"2680\",\"type\":\"Selection\"},{\"attributes\":{\"line_alpha\":0.1,\"line_color\":\"#1f77b4\",\"line_width\":2,\"x\":{\"field\":\"date\"},\"y\":{\"field\":\"data\"}},\"id\":\"2532\",\"type\":\"Line\"},{\"attributes\":{},\"id\":\"2515\",\"type\":\"LinearScale\"},{\"attributes\":{\"ticker\":{\"id\":\"2546\",\"type\":\"DatetimeTicker\"}},\"id\":\"2549\",\"type\":\"Grid\"},{\"attributes\":{\"line_color\":\"deepskyblue\",\"line_width\":2,\"x\":{\"field\":\"date\"},\"y\":{\"field\":\"data\"}},\"id\":\"2531\",\"type\":\"Line\"},{\"attributes\":{},\"id\":\"2664\",\"type\":\"BasicTickFormatter\"},{\"attributes\":{\"source\":{\"id\":\"2507\",\"type\":\"ColumnDataSource\"}},\"id\":\"2534\",\"type\":\"CDSView\"},{\"attributes\":{},\"id\":\"2523\",\"type\":\"BasicTicker\"},{\"attributes\":{},\"id\":\"2679\",\"type\":\"YearsTicker\"},{\"attributes\":{},\"id\":\"2681\",\"type\":\"UnionRenderers\"},{\"attributes\":{\"callback\":null},\"id\":\"2511\",\"type\":\"DataRange1d\"},{\"attributes\":{\"num_minor_ticks\":5,\"tickers\":[{\"id\":\"2682\",\"type\":\"AdaptiveTicker\"},{\"id\":\"2683\",\"type\":\"AdaptiveTicker\"},{\"id\":\"2684\",\"type\":\"AdaptiveTicker\"},{\"id\":\"2685\",\"type\":\"DaysTicker\"},{\"id\":\"2686\",\"type\":\"DaysTicker\"},{\"id\":\"2687\",\"type\":\"DaysTicker\"},{\"id\":\"2688\",\"type\":\"DaysTicker\"},{\"id\":\"2689\",\"type\":\"MonthsTicker\"},{\"id\":\"2690\",\"type\":\"MonthsTicker\"},{\"id\":\"2691\",\"type\":\"MonthsTicker\"},{\"id\":\"2692\",\"type\":\"MonthsTicker\"},{\"id\":\"2693\",\"type\":\"YearsTicker\"}]},\"id\":\"2546\",\"type\":\"DatetimeTicker\"},{\"attributes\":{\"months\":[0,6]},\"id\":\"2678\",\"type\":\"MonthsTicker\"},{\"attributes\":{},\"id\":\"2513\",\"type\":\"LinearScale\"},{\"attributes\":{\"ticker\":{\"id\":\"2518\",\"type\":\"DatetimeTicker\"}},\"id\":\"2521\",\"type\":\"Grid\"},{\"attributes\":{\"axis_label\":\"UK PM tweets in 20202\",\"formatter\":{\"id\":\"2664\",\"type\":\"BasicTickFormatter\"},\"ticker\":{\"id\":\"2523\",\"type\":\"BasicTicker\"}},\"id\":\"2522\",\"type\":\"LinearAxis\"},{\"attributes\":{\"months\":[0,1,2,3,4,5,6,7,8,9,10,11]},\"id\":\"2675\",\"type\":\"MonthsTicker\"},{\"attributes\":{\"months\":[0,6]},\"id\":\"2692\",\"type\":\"MonthsTicker\"}],\"root_ids\":[\"2561\"]},\"title\":\"Bokeh Application\",\"version\":\"1.4.0\"}};\n",
       "  var render_items = [{\"docid\":\"9c7f0738-b442-401e-8a35-4afea262c9de\",\"roots\":{\"2561\":\"f32d79f4-8c25-451f-925c-b84672b9e500\"}}];\n",
       "  root.Bokeh.embed.embed_items_notebook(docs_json, render_items);\n",
       "\n",
       "  }\n",
       "  if (root.Bokeh !== undefined) {\n",
       "    embed_document(root);\n",
       "  } else {\n",
       "    var attempts = 0;\n",
       "    var timer = setInterval(function(root) {\n",
       "      if (root.Bokeh !== undefined) {\n",
       "        clearInterval(timer);\n",
       "        embed_document(root);\n",
       "      } else {\n",
       "        attempts++;\n",
       "        if (attempts > 100) {\n",
       "          clearInterval(timer);\n",
       "          console.log(\"Bokeh: ERROR: Unable to run BokehJS code because BokehJS library is missing\");\n",
       "        }\n",
       "      }\n",
       "    }, 10, root)\n",
       "  }\n",
       "})(window);"
      ],
      "application/vnd.bokehjs_exec.v0+json": ""
     },
     "metadata": {
      "application/vnd.bokehjs_exec.v0+json": {
       "id": "2561"
      }
     },
     "output_type": "display_data"
    }
   ],
   "source": [
    "dates = np.array(uk_num_tweets_per_day.index.tolist(), dtype=np.datetime64)\n",
    "data = np.array(uk_num_tweets_per_day.tolist())\n",
    "line_range(dates, data, label=\"UK PM tweets in 20202\", line_colour=\"deepskyblue\")"
   ]
  },
  {
   "cell_type": "raw",
   "metadata": {},
   "source": [
    "calmap.calendarplot(uk_num_tweets_per_day, fig_kws=dict(figsize=(20, 20)))"
   ]
  },
  {
   "cell_type": "code",
   "execution_count": 64,
   "metadata": {},
   "outputs": [
    {
     "data": {
      "text/plain": [
       "<matplotlib.image.AxesImage at 0x7fa90a94f390>"
      ]
     },
     "execution_count": 64,
     "metadata": {},
     "output_type": "execute_result"
    },
    {
     "data": {
      "image/png": "[encoded data removed]",
      "text/plain": [
       "<Figure size 1200x800 with 1 Axes>"
      ]
     },
     "metadata": {},
     "output_type": "display_data"
    }
   ],
   "source": [
    "pil_im = Image.open('resources/uk_cases.png', 'r')\n",
    "fig=plt.figure(figsize=(12,8), dpi= 100, facecolor='w', edgecolor='k')\n",
    "imshow(np.asarray(pil_im))"
   ]
  },
  {
   "cell_type": "markdown",
   "metadata": {},
   "source": [
    "### JP"
   ]
  },
  {
   "cell_type": "code",
   "execution_count": 62,
   "metadata": {},
   "outputs": [
    {
     "name": "stderr",
     "output_type": "stream",
     "text": [
      "/Users/dea/opt/anaconda3/lib/python3.7/site-packages/bokeh/core/property/bases.py:237: DeprecationWarning: elementwise comparison failed; this will raise an error in the future.\n",
      "  return new == old\n",
      "/Users/dea/opt/anaconda3/lib/python3.7/site-packages/bokeh/core/property/bases.py:237: DeprecationWarning: elementwise comparison failed; this will raise an error in the future.\n",
      "  return new == old\n"
     ]
    },
    {
     "data": {
      "text/html": [
       "\n",
       "\n",
       "\n",
       "\n",
       "\n",
       "\n",
       "  <div class=\"bk-root\" id=\"59b76c14-6e7c-46f1-b18c-06b207a691a8\" data-root-id=\"2967\"></div>\n"
      ]
     },
     "metadata": {},
     "output_type": "display_data"
    },
    {
     "data": {
      "application/javascript": [
       "(function(root) {\n",
       "  function embed_document(root) {\n",
       "    \n",
       "  var docs_json = {\"5c3f0e54-a136-4fe5-8945-62ac6c873db4\":{\"roots\":{\"references\":[{\"attributes\":{\"children\":[{\"id\":\"2914\",\"subtype\":\"Figure\",\"type\":\"Plot\"},{\"id\":\"2941\",\"subtype\":\"Figure\",\"type\":\"Plot\"}]},\"id\":\"2967\",\"type\":\"Column\"},{\"attributes\":{},\"id\":\"2921\",\"type\":\"LinearScale\"},{\"attributes\":{},\"id\":\"2919\",\"type\":\"LinearScale\"},{\"attributes\":{\"months\":[0,1,2,3,4,5,6,7,8,9,10,11]},\"id\":\"3131\",\"type\":\"MonthsTicker\"},{\"attributes\":{\"callback\":null},\"id\":\"2944\",\"type\":\"DataRange1d\"},{\"attributes\":{\"days\":[1,15]},\"id\":\"3130\",\"type\":\"DaysTicker\"},{\"attributes\":{\"days\":[1,8,15,22]},\"id\":\"3129\",\"type\":\"DaysTicker\"},{\"attributes\":{\"mantissas\":[1,2,5],\"max_interval\":500.0,\"num_minor_ticks\":0},\"id\":\"3124\",\"type\":\"AdaptiveTicker\"},{\"attributes\":{},\"id\":\"3122\",\"type\":\"Selection\"},{\"attributes\":{\"base\":60,\"mantissas\":[1,2,5,10,15,20,30],\"max_interval\":1800000.0,\"min_interval\":1000.0,\"num_minor_ticks\":0},\"id\":\"3125\",\"type\":\"AdaptiveTicker\"},{\"attributes\":{\"months\":[0,2,4,6,8,10]},\"id\":\"3132\",\"type\":\"MonthsTicker\"},{\"attributes\":{\"ticker\":{\"id\":\"2952\",\"type\":\"DatetimeTicker\"}},\"id\":\"2955\",\"type\":\"Grid\"},{\"attributes\":{},\"id\":\"3135\",\"type\":\"YearsTicker\"},{\"attributes\":{\"base\":60,\"mantissas\":[1,2,5,10,15,20,30],\"max_interval\":1800000.0,\"min_interval\":1000.0,\"num_minor_ticks\":0},\"id\":\"3111\",\"type\":\"AdaptiveTicker\"},{\"attributes\":{\"months\":[0,1,2,3,4,5,6,7,8,9,10,11]},\"id\":\"3117\",\"type\":\"MonthsTicker\"},{\"attributes\":{\"days\":[1,4,7,10,13,16,19,22,25,28]},\"id\":\"3128\",\"type\":\"DaysTicker\"},{\"attributes\":{\"data_source\":{\"id\":\"2913\",\"type\":\"ColumnDataSource\"},\"glyph\":{\"id\":\"2961\",\"type\":\"Line\"},\"hover_glyph\":null,\"muted_glyph\":null,\"nonselection_glyph\":{\"id\":\"2962\",\"type\":\"Line\"},\"selection_glyph\":null,\"view\":{\"id\":\"2964\",\"type\":\"CDSView\"}},\"id\":\"2963\",\"type\":\"GlyphRenderer\"},{\"attributes\":{\"months\":[0,6]},\"id\":\"3134\",\"type\":\"MonthsTicker\"},{\"attributes\":{},\"id\":\"3104\",\"type\":\"DatetimeTickFormatter\"},{\"attributes\":{\"source\":{\"id\":\"2913\",\"type\":\"ColumnDataSource\"}},\"id\":\"2964\",\"type\":\"CDSView\"},{\"attributes\":{},\"id\":\"3108\",\"type\":\"DatetimeTickFormatter\"},{\"attributes\":{\"days\":[1,4,7,10,13,16,19,22,25,28]},\"id\":\"3114\",\"type\":\"DaysTicker\"},{\"attributes\":{\"months\":[0,2,4,6,8,10]},\"id\":\"3118\",\"type\":\"MonthsTicker\"},{\"attributes\":{\"months\":[0,4,8]},\"id\":\"3119\",\"type\":\"MonthsTicker\"},{\"attributes\":{\"base\":24,\"mantissas\":[1,2,4,6,8,12],\"max_interval\":43200000.0,\"min_interval\":3600000.0,\"num_minor_ticks\":0},\"id\":\"3126\",\"type\":\"AdaptiveTicker\"},{\"attributes\":{},\"id\":\"3106\",\"type\":\"BasicTickFormatter\"},{\"attributes\":{\"num_minor_ticks\":5,\"tickers\":[{\"id\":\"3124\",\"type\":\"AdaptiveTicker\"},{\"id\":\"3125\",\"type\":\"AdaptiveTicker\"},{\"id\":\"3126\",\"type\":\"AdaptiveTicker\"},{\"id\":\"3127\",\"type\":\"DaysTicker\"},{\"id\":\"3128\",\"type\":\"DaysTicker\"},{\"id\":\"3129\",\"type\":\"DaysTicker\"},{\"id\":\"3130\",\"type\":\"DaysTicker\"},{\"id\":\"3131\",\"type\":\"MonthsTicker\"},{\"id\":\"3132\",\"type\":\"MonthsTicker\"},{\"id\":\"3133\",\"type\":\"MonthsTicker\"},{\"id\":\"3134\",\"type\":\"MonthsTicker\"},{\"id\":\"3135\",\"type\":\"YearsTicker\"}]},\"id\":\"2952\",\"type\":\"DatetimeTicker\"},{\"attributes\":{\"base\":24,\"mantissas\":[1,2,4,6,8,12],\"max_interval\":43200000.0,\"min_interval\":3600000.0,\"num_minor_ticks\":0},\"id\":\"3112\",\"type\":\"AdaptiveTicker\"},{\"attributes\":{\"months\":[0,6]},\"id\":\"3120\",\"type\":\"MonthsTicker\"},{\"attributes\":{},\"id\":\"3123\",\"type\":\"UnionRenderers\"},{\"attributes\":{\"overlay\":{\"id\":\"2958\",\"type\":\"BoxAnnotation\"},\"x_range\":{\"id\":\"2915\",\"type\":\"Range1d\"},\"y_range\":null},\"id\":\"2957\",\"type\":\"RangeTool\"},{\"attributes\":{\"days\":[1,2,3,4,5,6,7,8,9,10,11,12,13,14,15,16,17,18,19,20,21,22,23,24,25,26,27,28,29,30,31]},\"id\":\"3127\",\"type\":\"DaysTicker\"},{\"attributes\":{\"background_fill_color\":{\"value\":\"#2b2b2b\"},\"below\":[{\"id\":\"2951\",\"type\":\"DatetimeAxis\"}],\"center\":[{\"id\":\"2955\",\"type\":\"Grid\"}],\"plot_height\":130,\"plot_width\":1000,\"renderers\":[{\"id\":\"2963\",\"type\":\"GlyphRenderer\"}],\"title\":{\"id\":\"2942\",\"type\":\"Title\"},\"toolbar\":{\"id\":\"2956\",\"type\":\"Toolbar\"},\"toolbar_location\":null,\"x_range\":{\"id\":\"2944\",\"type\":\"DataRange1d\"},\"x_scale\":{\"id\":\"2947\",\"type\":\"LinearScale\"},\"y_range\":{\"id\":\"2917\",\"type\":\"DataRange1d\"},\"y_scale\":{\"id\":\"2949\",\"type\":\"LinearScale\"}},\"id\":\"2941\",\"subtype\":\"Figure\",\"type\":\"Plot\"},{\"attributes\":{\"line_color\":\"#1f77b4\",\"x\":{\"field\":\"date\"},\"y\":{\"field\":\"data\"}},\"id\":\"2961\",\"type\":\"Line\"},{\"attributes\":{\"line_alpha\":0.1,\"line_color\":\"#1f77b4\",\"x\":{\"field\":\"date\"},\"y\":{\"field\":\"data\"}},\"id\":\"2962\",\"type\":\"Line\"},{\"attributes\":{\"mantissas\":[1,2,5],\"max_interval\":500.0,\"num_minor_ticks\":0},\"id\":\"3110\",\"type\":\"AdaptiveTicker\"},{\"attributes\":{\"days\":[1,15]},\"id\":\"3116\",\"type\":\"DaysTicker\"},{\"attributes\":{\"months\":[0,4,8]},\"id\":\"3133\",\"type\":\"MonthsTicker\"},{\"attributes\":{\"text\":\"\"},\"id\":\"3101\",\"type\":\"Title\"},{\"attributes\":{\"axis_label\":\"JP PM tweets in 2020\",\"formatter\":{\"id\":\"3106\",\"type\":\"BasicTickFormatter\"},\"ticker\":{\"id\":\"2929\",\"type\":\"BasicTicker\"}},\"id\":\"2928\",\"type\":\"LinearAxis\"},{\"attributes\":{},\"id\":\"2947\",\"type\":\"LinearScale\"},{\"attributes\":{\"formatter\":{\"id\":\"3108\",\"type\":\"DatetimeTickFormatter\"},\"ticker\":{\"id\":\"2952\",\"type\":\"DatetimeTicker\"}},\"id\":\"2951\",\"type\":\"DatetimeAxis\"},{\"attributes\":{\"line_alpha\":0.1,\"line_color\":\"#1f77b4\",\"line_width\":2,\"x\":{\"field\":\"date\"},\"y\":{\"field\":\"data\"}},\"id\":\"2938\",\"type\":\"Line\"},{\"attributes\":{},\"id\":\"2929\",\"type\":\"BasicTicker\"},{\"attributes\":{\"days\":[1,8,15,22]},\"id\":\"3115\",\"type\":\"DaysTicker\"},{\"attributes\":{},\"id\":\"2949\",\"type\":\"LinearScale\"},{\"attributes\":{\"data_source\":{\"id\":\"2913\",\"type\":\"ColumnDataSource\"},\"glyph\":{\"id\":\"2937\",\"type\":\"Line\"},\"hover_glyph\":null,\"muted_glyph\":null,\"nonselection_glyph\":{\"id\":\"2938\",\"type\":\"Line\"},\"selection_glyph\":null,\"view\":{\"id\":\"2940\",\"type\":\"CDSView\"}},\"id\":\"2939\",\"type\":\"GlyphRenderer\"},{\"attributes\":{\"fill_alpha\":{\"value\":0.2},\"fill_color\":{\"value\":\"white\"},\"level\":\"overlay\",\"line_alpha\":{\"value\":1.0},\"line_color\":{\"value\":\"black\"},\"line_dash\":[2,2],\"line_width\":{\"value\":0.5}},\"id\":\"2958\",\"type\":\"BoxAnnotation\"},{\"attributes\":{\"ticker\":{\"id\":\"2924\",\"type\":\"DatetimeTicker\"}},\"id\":\"2927\",\"type\":\"Grid\"},{\"attributes\":{\"active_drag\":\"auto\",\"active_inspect\":\"auto\",\"active_multi\":null,\"active_scroll\":\"auto\",\"active_tap\":\"auto\",\"tools\":[{\"id\":\"2933\",\"type\":\"PanTool\"}]},\"id\":\"2934\",\"type\":\"Toolbar\"},{\"attributes\":{\"source\":{\"id\":\"2913\",\"type\":\"ColumnDataSource\"}},\"id\":\"2940\",\"type\":\"CDSView\"},{\"attributes\":{\"above\":[{\"id\":\"2923\",\"type\":\"DatetimeAxis\"}],\"background_fill_color\":{\"value\":\"#efefef\"},\"center\":[{\"id\":\"2927\",\"type\":\"Grid\"},{\"id\":\"2932\",\"type\":\"Grid\"}],\"left\":[{\"id\":\"2928\",\"type\":\"LinearAxis\"}],\"plot_height\":300,\"plot_width\":1000,\"renderers\":[{\"id\":\"2939\",\"type\":\"GlyphRenderer\"}],\"title\":{\"id\":\"3101\",\"type\":\"Title\"},\"toolbar\":{\"id\":\"2934\",\"type\":\"Toolbar\"},\"toolbar_location\":null,\"x_range\":{\"id\":\"2915\",\"type\":\"Range1d\"},\"x_scale\":{\"id\":\"2919\",\"type\":\"LinearScale\"},\"y_range\":{\"id\":\"2917\",\"type\":\"DataRange1d\"},\"y_scale\":{\"id\":\"2921\",\"type\":\"LinearScale\"}},\"id\":\"2914\",\"subtype\":\"Figure\",\"type\":\"Plot\"},{\"attributes\":{\"callback\":null},\"id\":\"2917\",\"type\":\"DataRange1d\"},{\"attributes\":{\"text\":\"Drag slider\"},\"id\":\"2942\",\"type\":\"Title\"},{\"attributes\":{\"num_minor_ticks\":5,\"tickers\":[{\"id\":\"3110\",\"type\":\"AdaptiveTicker\"},{\"id\":\"3111\",\"type\":\"AdaptiveTicker\"},{\"id\":\"3112\",\"type\":\"AdaptiveTicker\"},{\"id\":\"3113\",\"type\":\"DaysTicker\"},{\"id\":\"3114\",\"type\":\"DaysTicker\"},{\"id\":\"3115\",\"type\":\"DaysTicker\"},{\"id\":\"3116\",\"type\":\"DaysTicker\"},{\"id\":\"3117\",\"type\":\"MonthsTicker\"},{\"id\":\"3118\",\"type\":\"MonthsTicker\"},{\"id\":\"3119\",\"type\":\"MonthsTicker\"},{\"id\":\"3120\",\"type\":\"MonthsTicker\"},{\"id\":\"3121\",\"type\":\"YearsTicker\"}]},\"id\":\"2924\",\"type\":\"DatetimeTicker\"},{\"attributes\":{\"callback\":null,\"data\":{\"data\":[2,5,3,5,4,3,3,2,5,4,4,4,8,2,4,6,6,2,8,3,7,7,3,3,2,2,3,4,4,6,8,3,2,5,1,6,5,15,1,6,2,5,4,5,2,5,7,5,5,4,5,5,2,6,4,7,6,8,1,5,13,11,14,2,4,5,5,8,4,7,1,4,4,4,4,13,5,9,2,7,8,2,2,8,8,3,4,3,5,2,5,4,7,8,1,3,2,6,6,5,2,3,3,3,4,1,3,2,4,2,2,3,5,3,2,2,5,2,5,4,1,4,3,3,6,3,1,3,4,2,2,2,1,2,2,2,3,3,3,2,3,4,6,3,5,3,3,4,4,5,5,4,4,1,3,3,4,3,4,3,2,5,4,6,4,2,8,2,2,2,2,9,2,2,1,5,2,4,2,1,1,2,2,5,2,1,2,2,7,1,4,2,2,3,2,2,3,3,2,9,1,1,2,3,18,5,8,1,1,5,5,7,6,2,5,5,3,4,2,8,6,3,2,1,2,5,4,6,9,6,12,10,6,7,8,2,6,3,3,2,8,5,4,3,2,3,3,3,7,9,6,6,8],\"date\":{\"__ndarray__\":\"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\",\"dtype\":\"float64\",\"shape\":[253]}},\"selected\":{\"id\":\"3122\",\"type\":\"Selection\"},\"selection_policy\":{\"id\":\"3123\",\"type\":\"UnionRenderers\"}},\"id\":\"2913\",\"type\":\"ColumnDataSource\"},{\"attributes\":{\"dimension\":1,\"ticker\":{\"id\":\"2929\",\"type\":\"BasicTicker\"}},\"id\":\"2932\",\"type\":\"Grid\"},{\"attributes\":{\"dimensions\":\"width\"},\"id\":\"2933\",\"type\":\"PanTool\"},{\"attributes\":{\"days\":[1,2,3,4,5,6,7,8,9,10,11,12,13,14,15,16,17,18,19,20,21,22,23,24,25,26,27,28,29,30,31]},\"id\":\"3113\",\"type\":\"DaysTicker\"},{\"attributes\":{},\"id\":\"3121\",\"type\":\"YearsTicker\"},{\"attributes\":{\"formatter\":{\"id\":\"3104\",\"type\":\"DatetimeTickFormatter\"},\"ticker\":{\"id\":\"2924\",\"type\":\"DatetimeTicker\"}},\"id\":\"2923\",\"type\":\"DatetimeAxis\"},{\"attributes\":{\"active_drag\":\"auto\",\"active_inspect\":\"auto\",\"active_multi\":{\"id\":\"2957\",\"type\":\"RangeTool\"},\"active_scroll\":\"auto\",\"active_tap\":\"auto\",\"tools\":[{\"id\":\"2957\",\"type\":\"RangeTool\"}]},\"id\":\"2956\",\"type\":\"Toolbar\"},{\"attributes\":{\"callback\":null,\"end\":1580947200000.0,\"start\":1577836800000.0},\"id\":\"2915\",\"type\":\"Range1d\"},{\"attributes\":{\"line_color\":\"maroon\",\"line_width\":2,\"x\":{\"field\":\"date\"},\"y\":{\"field\":\"data\"}},\"id\":\"2937\",\"type\":\"Line\"}],\"root_ids\":[\"2967\"]},\"title\":\"Bokeh Application\",\"version\":\"1.4.0\"}};\n",
       "  var render_items = [{\"docid\":\"5c3f0e54-a136-4fe5-8945-62ac6c873db4\",\"roots\":{\"2967\":\"59b76c14-6e7c-46f1-b18c-06b207a691a8\"}}];\n",
       "  root.Bokeh.embed.embed_items_notebook(docs_json, render_items);\n",
       "\n",
       "  }\n",
       "  if (root.Bokeh !== undefined) {\n",
       "    embed_document(root);\n",
       "  } else {\n",
       "    var attempts = 0;\n",
       "    var timer = setInterval(function(root) {\n",
       "      if (root.Bokeh !== undefined) {\n",
       "        clearInterval(timer);\n",
       "        embed_document(root);\n",
       "      } else {\n",
       "        attempts++;\n",
       "        if (attempts > 100) {\n",
       "          clearInterval(timer);\n",
       "          console.log(\"Bokeh: ERROR: Unable to run BokehJS code because BokehJS library is missing\");\n",
       "        }\n",
       "      }\n",
       "    }, 10, root)\n",
       "  }\n",
       "})(window);"
      ],
      "application/vnd.bokehjs_exec.v0+json": ""
     },
     "metadata": {
      "application/vnd.bokehjs_exec.v0+json": {
       "id": "2967"
      }
     },
     "output_type": "display_data"
    }
   ],
   "source": [
    "dates = np.array(jp_num_tweets_per_day.index.tolist(), dtype=np.datetime64)\n",
    "data = np.array(jp_num_tweets_per_day.tolist())\n",
    "line_range(dates, data, label=\"JP PM tweets in 2020\", line_colour=\"maroon\")"
   ]
  },
  {
   "cell_type": "raw",
   "metadata": {},
   "source": [
    "calmap.calendarplot(jp_num_tweets_per_day, fig_kws=dict(figsize=(20, 20)))"
   ]
  },
  {
   "cell_type": "code",
   "execution_count": 63,
   "metadata": {},
   "outputs": [
    {
     "data": {
      "text/plain": [
       "(<Figure size 1440x1440 with 1 Axes>,\n",
       " array([<matplotlib.axes._subplots.AxesSubplot object at 0x7f8af54f34d0>],\n",
       "       dtype=object))"
      ]
     },
     "execution_count": 63,
     "metadata": {},
     "output_type": "execute_result"
    },
    {
     "data": {
      "image/png": "[encoded data removed]",
      "text/plain": [
       "<Figure size 1440x1440 with 1 Axes>"
      ]
     },
     "metadata": {
      "needs_background": "light"
     },
     "output_type": "display_data"
    }
   ],
   "source": [
    "calmap.calendarplot(abe_num_tweets_per_day, fig_kws=dict(figsize=(20, 20)))"
   ]
  },
  {
   "cell_type": "code",
   "execution_count": 65,
   "metadata": {},
   "outputs": [
    {
     "data": {
      "text/plain": [
       "<matplotlib.image.AxesImage at 0x7fa903306d90>"
      ]
     },
     "execution_count": 65,
     "metadata": {},
     "output_type": "execute_result"
    },
    {
     "data": {
      "image/png": "[encoded data removed]",
      "text/plain": [
       "<Figure size 1200x800 with 1 Axes>"
      ]
     },
     "metadata": {},
     "output_type": "display_data"
    }
   ],
   "source": [
    "pil_im = Image.open('resources/jp_cases.png', 'r')\n",
    "fig=plt.figure(figsize=(12,8), dpi= 100, facecolor='w', edgecolor='k')\n",
    "imshow(np.asarray(pil_im))"
   ]
  },
  {
   "cell_type": "markdown",
   "metadata": {},
   "source": [
    "## Most and least popular tweets per account "
   ]
  },
  {
   "cell_type": "markdown",
   "metadata": {},
   "source": [
    "### by likes "
   ]
  },
  {
   "cell_type": "markdown",
   "metadata": {},
   "source": [
    "UK - retweet posts allowed"
   ]
  },
  {
   "cell_type": "code",
   "execution_count": 66,
   "metadata": {},
   "outputs": [
    {
     "data": {
      "text/plain": [
       "['RT @BorisJohnson: Over the last 24 hours I have developed mild symptoms and tested positive for coronavirus.\\n\\nI am now self-isolating, but…',\n",
       " 'RT @BorisJohnson: It is hard to find the words to express my debt to the NHS for saving my life.\\n\\nThe efforts of millions of people across…',\n",
       " 'RT @BorisJohnson: Congratulations @JoeBiden and @KamalaHarris https://t.co/xrpE99W4c4',\n",
       " 'RT @BorisJohnson: Tonight we have left the EU - an extraordinary turning point in the life of this country. Let us come together now to mak…',\n",
       " 'RT @BorisJohnson: The Withdrawal Agreement has received\\xa0Royal Assent and is now law. We will leave the EU on January 31st 🇬🇧',\n",
       " 'RT @BorisJohnson: On behalf of the whole country, I want to thank all the incredible nurses, doctors, NHS support staff &amp; carers who are wo…',\n",
       " \"RT @BorisJohnson: To those going against the advice we're getting from our experts, you're not only putting your own life and the lives of…\",\n",
       " 'RT @BorisJohnson: I just spoke to @JoeBiden to congratulate him on his election. I look forward to strengthening the partnership between ou…',\n",
       " \"RT @BorisJohnson: Thank you to everyone who is saving lives by staying at home this weekend. \\n\\nI know it's tough, but if we all work togeth…\",\n",
       " 'PM @BorisJohnson gives an important update on #coronavirus \\n#StayHomeSaveLives https://t.co/MQo2EVVDcD']"
      ]
     },
     "execution_count": 66,
     "metadata": {},
     "output_type": "execute_result"
    }
   ],
   "source": [
    "df[df['account']=='10DowningStreet'].nlargest(10, \"retweet_count\")['full_text'].tolist()"
   ]
  },
  {
   "cell_type": "markdown",
   "metadata": {},
   "source": [
    "UK - without the retweet posts"
   ]
  },
  {
   "cell_type": "code",
   "execution_count": 67,
   "metadata": {},
   "outputs": [
    {
     "data": {
      "text/plain": [
       "['PM @BorisJohnson gives an important update on #coronavirus \\n#StayHomeSaveLives https://t.co/MQo2EVVDcD',\n",
       " 'Retweet to spread the word. \\n\\n#StayHomeSaveLives https://t.co/DAvuxlCMUj',\n",
       " 'PM @BorisJohnson is writing to every UK household to urge them to stay at home, protect the NHS and save lives. \\n\\n#StayHomeSaveLives https://t.co/GMNPqEl10d',\n",
       " 'Don’t break the rules. If you do, it won’t just impact you. \\n\\n#StayHomeSaveLives https://t.co/P0BBoJAk0y',\n",
       " 'PM @BorisJohnson has announced that everyone must now stay at home except in exceptional circumstances, to protect our NHS and save lives. https://t.co/Pkus4Ep7g6',\n",
       " 'If you are going for a walk outside or doing grocery shopping, make sure you stay two metres apart from others at all times.\\n\\n#StaySafeSaveLives https://t.co/6HadWseENg',\n",
       " 'The government is texting people across the UK to tell them they must stay at home to protect the NHS and save lives.\\n\\nRetweet to spread the word #StayHomeSaveLives https://t.co/faz4vynPq1',\n",
       " 'Today is the day the UK is leaving the EU. https://t.co/Zuhzl0l5sT',\n",
       " 'Dr Jenny Harries, Deputy Chief Medical Officer, came into Downing Street to answer some of the most commonly asked questions on coronavirus. https://t.co/KCdeHsaz6a',\n",
       " 'WATCH LIVE: PM @BorisJohnson makes a statement outside 10 Downing Street https://t.co/rTLBCBzvDo']"
      ]
     },
     "execution_count": 67,
     "metadata": {},
     "output_type": "execute_result"
    }
   ],
   "source": [
    "df[(df['account']=='10DowningStreet') & (df['is_retweet'] == False)].nlargest(10, \"retweet_count\")['full_text'].tolist()"
   ]
  },
  {
   "cell_type": "markdown",
   "metadata": {},
   "source": [
    "JP - retweets allowed"
   ]
  },
  {
   "cell_type": "code",
   "execution_count": 68,
   "metadata": {},
   "outputs": [
    {
     "data": {
      "text/plain": [
       "['官邸スタッフです。\\n本日、安倍内閣が総辞職するにあたり、安倍総理からのメッセージです。 https://t.co/5OxHj0rnZJ',\n",
       " 'RT @Kantei_Saigai: 【お知らせ】特別定額給付金に関するご案内を掲載しました。\\n・一人当たり10万円を給付\\n・申込方法やよくあるご質問についてのご案内\\n・給付金に便乗した詐欺にご注意\\n\\n定額給付金の詳細・チラシは▼\\nhttps://t.co/6VqWfFaOgs…',\n",
       " 'RT @Kantei_Saigai: 【#新型コロナウイルス】新型インフルエンザ等対策特別措置法、緊急事態宣言について掲載しています。\\n緊急事態宣言が行われた場合、\\n・欧米におけるロックダウンのように都市が封鎖されますか？\\n・外出できなくなりますか？\\n等掲載しています。\\n\\n詳細…',\n",
       " 'RT @Kantei_Saigai: 【#新型コロナウイルス】本日（4月7日）、下記の通り緊急事態宣言を発出しました。\\n\\u3000期間：令和2年4月7日～5月6日\\n\\u3000区域：東京都、神奈川県、埼玉県、千葉県、大阪府、兵庫県、福岡県\\u3000の7都府県\\n国民の皆様におかれては、十分なご協力をお願い…',\n",
       " 'RT @Kantei_Saigai: 【#新型コロナウイルス】本日（4月16日）、下記の通り緊急事態宣言の対象を拡大しました。\\n\\u3000期間：令和2年4月16日～5月6日\\n\\u3000区域：全都道府県\\n国民の皆様におかれては、引き続きのご協力をお願いいたします。',\n",
       " 'RT @Kantei_Saigai: 【注意喚起】間もなくゴールデンウィークを迎えます。#新型コロナウイルス の感染拡大を防ぐため、人との接触を避けてください。\\n・帰省、旅行を控える\\n・近場の外出でも密集・密接を避ける\\n・買物の際は少人数・最小限の回数に\\n医療現場や多くの命を守…',\n",
       " 'RT @Kantei_Saigai: 【#注意喚起】#新型コロナウイルス を含む #感染症 対策のチラシをHPに掲載しました。\\n会社・学校や人の集まる場所での掲示、周知など、用途に限らずご自由に転載・印刷してお使いいただき、身近な方へもぜひお知らせください。\\n \\nこちらからダウ…',\n",
       " 'RT @Kantei_Saigai: 【注意喚起】#新型コロナウイルス 感染症に乗じた詐欺が発生しています。\\n「助成金が出るので口座を登録してほしい」等の不審な電話やメール等を受けた際は、最寄りの警察署や警察相談専用電話「#9110」、または消費者ホットライン「188」までご相…',\n",
       " '【お知らせ】本日（3月28日）18時00分頃より、安倍総理の記者会見を本アカウントなどでライブ配信する予定です。ぜひご覧ください。\\nFacebook：https://t.co/nwsd1UGvXO\\nYouTube：https://t.co/cmAxWg96rN\\nInstagram：https://t.co/do2nwewxbU（別アングル） https://t.co/z0u8M4NNdA',\n",
       " '【お知らせ】本日（9月16日）第99代内閣総理大臣に菅義偉が指名されました。 https://t.co/MsESMdkZeI']"
      ]
     },
     "execution_count": 68,
     "metadata": {},
     "output_type": "execute_result"
    }
   ],
   "source": [
    "df[df['account']=='kantei'].nlargest(10, \"retweet_count\")['full_text'].tolist()"
   ]
  },
  {
   "cell_type": "markdown",
   "metadata": {},
   "source": [
    "JP - without the retweets "
   ]
  },
  {
   "cell_type": "code",
   "execution_count": 69,
   "metadata": {},
   "outputs": [
    {
     "data": {
      "text/plain": [
       "['官邸スタッフです。\\n本日、安倍内閣が総辞職するにあたり、安倍総理からのメッセージです。 https://t.co/5OxHj0rnZJ',\n",
       " '【お知らせ】本日（3月28日）18時00分頃より、安倍総理の記者会見を本アカウントなどでライブ配信する予定です。ぜひご覧ください。\\nFacebook：https://t.co/nwsd1UGvXO\\nYouTube：https://t.co/cmAxWg96rN\\nInstagram：https://t.co/do2nwewxbU（別アングル） https://t.co/z0u8M4NNdA',\n",
       " '【お知らせ】本日（9月16日）第99代内閣総理大臣に菅義偉が指名されました。 https://t.co/MsESMdkZeI',\n",
       " '【SNS更新】「医療従事者をはじめ、新型コロナウイルス感染症への対応に全力を尽くして下さっている皆様に、敬意と感謝の気持ちを込めて、明日、航空自衛隊のブルーインパルスが、東京都上空を飛行します。」総理メッセージの続きは\\nhttps://t.co/fxOlNUt06N\\nhttps://t.co/zgt2cpWdzb https://t.co/wsOvkPd0Bo',\n",
       " '安倍内閣総理大臣記者会見 https://t.co/bhqpVS2k6Y',\n",
       " '安倍内閣総理大臣記者会見 https://t.co/4RhBQLt4fK',\n",
       " '菅総理は、最初の訪問先としてベトナムのハノイに到着し、空港で歓迎の出迎えを受けました。 https://t.co/glYghvsJg0',\n",
       " '【お知らせ】本日（4月7日）19時00分頃より、安倍総理の記者会見を本アカウントなどでライブ配信する予定です。ぜひご覧ください。\\nFacebook：https://t.co/nwsd1UGvXO\\nYouTube：https://t.co/cmAxWg96rN\\nInstagram：https://t.co/do2nwewxbU（別アングル） https://t.co/WMeEM1VJ9u',\n",
       " '《総理の動き》本日（9月16日）安倍内閣は総辞職しました。この日の閣議で、閣僚の辞表を取りまとめて総辞職を決定した後、内閣総辞職に当たっての内閣総理大臣談話を発出しました。安倍総理は、スタッフたちに見送られながら総理大臣官邸を後にしました。https://t.co/VF18e2Zd92 https://t.co/Z4Ev2NDYCr',\n",
       " '本日、ポンペオ米国国務長官の表敬を受けた後、日米豪印外相会合に参加する米・豪・印の３外相の表敬を受けました。自由で開かれたインド太平洋を実現すべく、しっかり連携していくことを確認しました。 https://t.co/RDEXnJncTd']"
      ]
     },
     "execution_count": 69,
     "metadata": {},
     "output_type": "execute_result"
    }
   ],
   "source": [
    "df[(df['account']=='kantei') & (df['is_retweet'] == False)].nlargest(10, \"retweet_count\")['full_text'].tolist()"
   ]
  },
  {
   "cell_type": "markdown",
   "metadata": {},
   "source": [
    "### by retweets "
   ]
  },
  {
   "cell_type": "code",
   "execution_count": 70,
   "metadata": {},
   "outputs": [
    {
     "data": {
      "text/plain": [
       "['PM @BorisJohnson gives an important update on #coronavirus \\n#StayHomeSaveLives https://t.co/MQo2EVVDcD',\n",
       " 'PM @BorisJohnson is writing to every UK household to urge them to stay at home, protect the NHS and save lives. \\n\\n#StayHomeSaveLives https://t.co/GMNPqEl10d',\n",
       " 'Today is the day the UK is leaving the EU. https://t.co/Zuhzl0l5sT',\n",
       " 'This evening, Prime Minister @BorisJohnson took part in the weekly Audience of Her Majesty The Queen by telephone from his Downing Street office. https://t.co/coXSH78CoR',\n",
       " 'WATCH LIVE: PM @BorisJohnson makes a statement outside 10 Downing Street https://t.co/rTLBCBzvDo',\n",
       " 'PM @BorisJohnson has announced that everyone must now stay at home except in exceptional circumstances, to protect our NHS and save lives. https://t.co/Pkus4Ep7g6',\n",
       " '\"What shampoo do you use?\" - PM @BorisJohnson answers your questions for #PeoplesPMQs https://t.co/Szy7PpN58h',\n",
       " 'If you are going for a walk outside or doing grocery shopping, make sure you stay two metres apart from others at all times.\\n\\n#StaySafeSaveLives https://t.co/6HadWseENg',\n",
       " 'We will remember them.\\n\\n#LestWeForget https://t.co/jpTt3FmyzF',\n",
       " 'We can control the virus if we all #StayAlert:\\n\\n🏠 Stay home as much as possible\\n👩\\u200d💻 Work from home if you can\\n🚫 Limit contact with others \\n↔️ Keep your distance if you go out\\n🧼 Wash your hands\\n🌡 Self-isolate if you or anyone in your household has symptoms']"
      ]
     },
     "execution_count": 70,
     "metadata": {},
     "output_type": "execute_result"
    }
   ],
   "source": [
    "df[df['account']=='10DowningStreet'].nlargest(10, \"favorite_count\")['full_text'].tolist()"
   ]
  },
  {
   "cell_type": "code",
   "execution_count": 71,
   "metadata": {},
   "outputs": [
    {
     "data": {
      "text/plain": [
       "[]"
      ]
     },
     "execution_count": 71,
     "metadata": {},
     "output_type": "execute_result"
    }
   ],
   "source": [
    "df[df['account']=='BorisJohnson'].nlargest(10, \"favorite_count\")['full_text'].tolist()"
   ]
  },
  {
   "cell_type": "code",
   "execution_count": 72,
   "metadata": {},
   "outputs": [
    {
     "data": {
      "text/plain": [
       "['官邸スタッフです。\\n本日、安倍内閣が総辞職するにあたり、安倍総理からのメッセージです。 https://t.co/5OxHj0rnZJ',\n",
       " '【お知らせ】本日（9月16日）第99代内閣総理大臣に菅義偉が指名されました。 https://t.co/MsESMdkZeI',\n",
       " '【SNS更新】「医療従事者をはじめ、新型コロナウイルス感染症への対応に全力を尽くして下さっている皆様に、敬意と感謝の気持ちを込めて、明日、航空自衛隊のブルーインパルスが、東京都上空を飛行します。」総理メッセージの続きは\\nhttps://t.co/fxOlNUt06N\\nhttps://t.co/zgt2cpWdzb https://t.co/wsOvkPd0Bo',\n",
       " '菅総理は、最初の訪問先としてベトナムのハノイに到着し、空港で歓迎の出迎えを受けました。 https://t.co/glYghvsJg0',\n",
       " '《総理の動き》本日（9月16日）安倍内閣は総辞職しました。この日の閣議で、閣僚の辞表を取りまとめて総辞職を決定した後、内閣総辞職に当たっての内閣総理大臣談話を発出しました。安倍総理は、スタッフたちに見送られながら総理大臣官邸を後にしました。https://t.co/VF18e2Zd92 https://t.co/Z4Ev2NDYCr',\n",
       " '【SNS更新】「菅義偉です。本日、第99代内閣総理大臣に就任いたしました。行政の縦割り、既得権益、悪しき前例主義を打破し、規制改革を進め、「国民のために働く内閣」をつくります。」\\n#菅内閣 #第99代内閣総理大臣\\n#国民のために働く内閣\\nhttps://t.co/KkbG161gsU\\nhttps://t.co/r57MD4r7bf https://t.co/3m1GnvEpnz',\n",
       " '菅総理は、訪問中のベトナムにおいて、歓迎式典で盛大な出迎えを受けました。 https://t.co/7n1dJKCd5X',\n",
       " '本日、ポンペオ米国国務長官の表敬を受けた後、日米豪印外相会合に参加する米・豪・印の３外相の表敬を受けました。自由で開かれたインド太平洋を実現すべく、しっかり連携していくことを確認しました。 https://t.co/RDEXnJncTd',\n",
       " '本日、自衛隊の殉職隊員追悼式に参列し、2,001柱の御霊の前で、追悼の誠を捧げました。\\nここに祀られた御霊は、我が国の平和と独立を守るため、職務の遂行に全身全霊を捧げた、かけがえのない自衛隊員です。 https://t.co/jSNIYinoAB',\n",
       " '本日、立皇嗣宣明の儀が挙行され、文仁親王殿下が皇嗣であることが内外に宣明されました。改めて皇室の一層の御繁栄をお祈り申し上げました。\\n\\n#立皇嗣宣明の儀\\n@sugawitter https://t.co/I3JqCh0aM3']"
      ]
     },
     "execution_count": 72,
     "metadata": {},
     "output_type": "execute_result"
    }
   ],
   "source": [
    "df[df['account']=='kantei'].nlargest(10, \"favorite_count\")['full_text'].tolist()"
   ]
  },
  {
   "cell_type": "code",
   "execution_count": 73,
   "metadata": {},
   "outputs": [
    {
     "data": {
      "text/plain": [
       "[]"
      ]
     },
     "execution_count": 73,
     "metadata": {},
     "output_type": "execute_result"
    }
   ],
   "source": [
    "df[df['account']=='AbeShinzo'].nlargest(10, \"favorite_count\")['full_text'].tolist()"
   ]
  },
  {
   "cell_type": "markdown",
   "metadata": {},
   "source": [
    "# Text Exploration "
   ]
  },
  {
   "cell_type": "code",
   "execution_count": 73,
   "metadata": {},
   "outputs": [],
   "source": [
    "uk_tweets = df[df['account']=='10DowningStreet']\n",
    "# by default it's probably best not to use retweets in the text analysis \n",
    "uk_tweets_noRT = uk_tweets[~uk_tweets['full_text'].str.contains(\"RT\")]\n",
    "\n",
    "boris_tweets = df[df['account']=='BorisJohnson']\n",
    "# by default it's probably best not to use retweets in the text analysis \n",
    "boris_tweets_noRT = boris_tweets[~boris_tweets['full_text'].str.contains(\"RT\")]"
   ]
  },
  {
   "cell_type": "code",
   "execution_count": 74,
   "metadata": {},
   "outputs": [],
   "source": [
    "jp_tweets = df[df['account']=='kantei']\n",
    "# by default it's probably best not to use retweets in the text analysis \n",
    "jp_tweets_noRT = jp_tweets[~jp_tweets['full_text'].str.contains(\"RT\")]\n",
    "\n",
    "abe_tweets = df[df['account']=='AbeShinzo']\n",
    "# by default it's probably best not to use retweets in the text analysis \n",
    "abe_tweets_noRT = abe_tweets[~abe_tweets['full_text'].str.contains(\"RT\")]"
   ]
  },
  {
   "cell_type": "code",
   "execution_count": 75,
   "metadata": {},
   "outputs": [
    {
     "data": {
      "text/plain": [
       "0.792"
      ]
     },
     "execution_count": 75,
     "metadata": {},
     "output_type": "execute_result"
    }
   ],
   "source": [
    "len(jp_tweets_noRT) / len(jp_tweets)"
   ]
  },
  {
   "cell_type": "code",
   "execution_count": 76,
   "metadata": {},
   "outputs": [
    {
     "data": {
      "text/plain": [
       "0.8330266789328427"
      ]
     },
     "execution_count": 76,
     "metadata": {},
     "output_type": "execute_result"
    }
   ],
   "source": [
    "len(uk_tweets_noRT) / len(uk_tweets)"
   ]
  },
  {
   "cell_type": "markdown",
   "metadata": {},
   "source": [
    "## Text cleaning and pre-processing"
   ]
  },
  {
   "cell_type": "markdown",
   "metadata": {},
   "source": [
    "### Japanese-specific "
   ]
  },
  {
   "cell_type": "markdown",
   "metadata": {},
   "source": [
    "### tokenizing Japanese text "
   ]
  },
  {
   "cell_type": "code",
   "execution_count": 77,
   "metadata": {},
   "outputs": [],
   "source": [
    "# Nagisa: Takes in a document, returns the list of words\n",
    "def tokenize_jp_nagisa(text):\n",
    "    doc = nagisa.tagging(spacy_stopword_removal(text))\n",
    "    return doc.words"
   ]
  },
  {
   "cell_type": "code",
   "execution_count": 78,
   "metadata": {},
   "outputs": [],
   "source": [
    "# Spacy: Takes in a document, returns the list of words\n",
    "def tokenize_jp_spacy(text, remove_stopwords=True):\n",
    "    if remove_stopwords: \n",
    "        doc = nlp_ja((text))\n",
    "    else:\n",
    "        doc = nlp_ja(text)\n",
    "    tokens = [token.text for token in doc if token.is_stop==False]    \n",
    "    return tokens"
   ]
  },
  {
   "cell_type": "markdown",
   "metadata": {},
   "source": [
    "### Tweet-specific "
   ]
  },
  {
   "cell_type": "code",
   "execution_count": 79,
   "metadata": {},
   "outputs": [],
   "source": [
    "import preprocessor as p"
   ]
  },
  {
   "cell_type": "code",
   "execution_count": 80,
   "metadata": {},
   "outputs": [],
   "source": [
    "# set the option of what you want to remove from the tweets \n",
    "# as a default we want to keep the hashtags and mentions and exclude the urls and emoji\n",
    "def clean_tweets(exclude_urls=True, exclude_emoji=True, exclude_hashtags=False, exclude_mentions=False):\n",
    "    if exclude_urls and not exclude_emoji:\n",
    "        p.set_options(p.OPT.URL)\n",
    "    elif exclude_urls and exclude_emoji:\n",
    "        p.set_options(p.OPT.URL, p.OPT.EMOJI)\n",
    "    elif exclude_urls and exclude_emoji and exclude_hashtags and exclude_mentions:   \n",
    "        p.set_options(p.OPT.URL, p.OPT.EMOJI, p.OPT.HASHTAG, p.OPT.MENTION) "
   ]
  },
  {
   "cell_type": "code",
   "execution_count": 81,
   "metadata": {},
   "outputs": [],
   "source": [
    "clean_tweets()"
   ]
  },
  {
   "cell_type": "code",
   "execution_count": 82,
   "metadata": {},
   "outputs": [
    {
     "data": {
      "text/plain": [
       "'Preprocessor is #awesome'"
      ]
     },
     "execution_count": 82,
     "metadata": {},
     "output_type": "execute_result"
    }
   ],
   "source": [
    "p.clean('Preprocessor is #awesome 👍 https://github.com/s/preprocessor')"
   ]
  },
  {
   "cell_type": "code",
   "execution_count": 83,
   "metadata": {},
   "outputs": [],
   "source": [
    "def get_emoji(tweet): \n",
    "    import preprocessor as p\n",
    "    emojis = []\n",
    "    parsed_tweet = p.parse(tweet) \n",
    "    if str(parsed_tweet.emojis) != 'None':\n",
    "        for i in range(len(parsed_tweet.emojis)):        \n",
    "            emojis.append(parsed_tweet.emojis[i].match)\n",
    "        return emojis\n",
    "    else:\n",
    "        return np.nan"
   ]
  },
  {
   "cell_type": "code",
   "execution_count": 84,
   "metadata": {},
   "outputs": [],
   "source": [
    "#get_emoji('Preprocessor is #awesome 👍 👍 👍 https://github.com/s/preprocessor')"
   ]
  },
  {
   "cell_type": "code",
   "execution_count": 85,
   "metadata": {},
   "outputs": [],
   "source": [
    "# helper function to get all the emoji from all the tweets\n",
    "def get_emoji_from_tweets(df):\n",
    "    emoji = df['full_text'].apply(lambda x : get_emoji(x))\n",
    "    emoji = emoji.dropna().tolist()\n",
    "    emoji = [item for sublist in emoji for item in sublist]\n",
    "    emoji = pd.DataFrame.from_dict(dict(Counter(emoji)), orient='index', columns=['count'])\n",
    "    return emoji.sort_values(by='count', ascending=False)"
   ]
  },
  {
   "cell_type": "code",
   "execution_count": 86,
   "metadata": {},
   "outputs": [],
   "source": [
    "uk_emoji = get_emoji_from_tweets(uk_tweets_noRT)\n",
    "jp_emoji = get_emoji_from_tweets(jp_tweets_noRT)\n",
    "\n",
    "boris_emoji = get_emoji_from_tweets(boris_tweets_noRT)\n",
    "abe_emoji = get_emoji_from_tweets(abe_tweets_noRT)"
   ]
  },
  {
   "cell_type": "code",
   "execution_count": 87,
   "metadata": {},
   "outputs": [
    {
     "name": "stdout",
     "output_type": "stream",
     "text": [
      "Number of emoji in UK posts: 1149\n",
      "Number of emoji in JP posts: 0\n",
      "Number of emoji in Boris posts: 28\n",
      "Number of emoji in Abe posts: 0\n"
     ]
    }
   ],
   "source": [
    "print(\"Number of emoji in UK posts: {}\".format(uk_emoji['count'].sum()))\n",
    "print(\"Number of emoji in JP posts: {}\".format(jp_emoji['count'].sum()))\n",
    "\n",
    "print(\"Number of emoji in Boris posts: {}\".format(boris_emoji['count'].sum()))\n",
    "print(\"Number of emoji in Abe posts: {}\".format(abe_emoji['count'].sum()))"
   ]
  },
  {
   "cell_type": "code",
   "execution_count": 88,
   "metadata": {},
   "outputs": [
    {
     "data": {
      "text/html": [
       "<div>\n",
       "<style scoped>\n",
       "    .dataframe tbody tr th:only-of-type {\n",
       "        vertical-align: middle;\n",
       "    }\n",
       "\n",
       "    .dataframe tbody tr th {\n",
       "        vertical-align: top;\n",
       "    }\n",
       "\n",
       "    .dataframe thead th {\n",
       "        text-align: right;\n",
       "    }\n",
       "</style>\n",
       "<table border=\"1\" class=\"dataframe\">\n",
       "  <thead>\n",
       "    <tr style=\"text-align: right;\">\n",
       "      <th></th>\n",
       "      <th>count</th>\n",
       "    </tr>\n",
       "  </thead>\n",
       "  <tbody>\n",
       "    <tr>\n",
       "      <th>🔵</th>\n",
       "      <td>744</td>\n",
       "    </tr>\n",
       "    <tr>\n",
       "      <th>➡</th>\n",
       "      <td>137</td>\n",
       "    </tr>\n",
       "    <tr>\n",
       "      <th>⚫</th>\n",
       "      <td>35</td>\n",
       "    </tr>\n",
       "    <tr>\n",
       "      <th>😷</th>\n",
       "      <td>24</td>\n",
       "    </tr>\n",
       "    <tr>\n",
       "      <th>🏠</th>\n",
       "      <td>15</td>\n",
       "    </tr>\n",
       "    <tr>\n",
       "      <th>🔴</th>\n",
       "      <td>13</td>\n",
       "    </tr>\n",
       "    <tr>\n",
       "      <th>💙</th>\n",
       "      <td>13</td>\n",
       "    </tr>\n",
       "    <tr>\n",
       "      <th>👐</th>\n",
       "      <td>10</td>\n",
       "    </tr>\n",
       "    <tr>\n",
       "      <th>❓</th>\n",
       "      <td>8</td>\n",
       "    </tr>\n",
       "    <tr>\n",
       "      <th>👇</th>\n",
       "      <td>8</td>\n",
       "    </tr>\n",
       "  </tbody>\n",
       "</table>\n",
       "</div>"
      ],
      "text/plain": [
       "   count\n",
       "🔵    744\n",
       "➡    137\n",
       "⚫     35\n",
       "😷     24\n",
       "🏠     15\n",
       "🔴     13\n",
       "💙     13\n",
       "👐     10\n",
       "❓      8\n",
       "👇      8"
      ]
     },
     "execution_count": 88,
     "metadata": {},
     "output_type": "execute_result"
    }
   ],
   "source": [
    "uk_emoji.head(10)"
   ]
  },
  {
   "cell_type": "code",
   "execution_count": 89,
   "metadata": {},
   "outputs": [
    {
     "data": {
      "text/html": [
       "<div>\n",
       "<style scoped>\n",
       "    .dataframe tbody tr th:only-of-type {\n",
       "        vertical-align: middle;\n",
       "    }\n",
       "\n",
       "    .dataframe tbody tr th {\n",
       "        vertical-align: top;\n",
       "    }\n",
       "\n",
       "    .dataframe thead th {\n",
       "        text-align: right;\n",
       "    }\n",
       "</style>\n",
       "<table border=\"1\" class=\"dataframe\">\n",
       "  <thead>\n",
       "    <tr style=\"text-align: right;\">\n",
       "      <th></th>\n",
       "      <th>count</th>\n",
       "    </tr>\n",
       "  </thead>\n",
       "  <tbody>\n",
       "    <tr>\n",
       "      <th>⚫</th>\n",
       "      <td>6</td>\n",
       "    </tr>\n",
       "    <tr>\n",
       "      <th>🔵</th>\n",
       "      <td>3</td>\n",
       "    </tr>\n",
       "    <tr>\n",
       "      <th>🎙</th>\n",
       "      <td>3</td>\n",
       "    </tr>\n",
       "    <tr>\n",
       "      <th>💬</th>\n",
       "      <td>3</td>\n",
       "    </tr>\n",
       "    <tr>\n",
       "      <th>➡</th>\n",
       "      <td>2</td>\n",
       "    </tr>\n",
       "    <tr>\n",
       "      <th>🏠</th>\n",
       "      <td>2</td>\n",
       "    </tr>\n",
       "    <tr>\n",
       "      <th>🏥</th>\n",
       "      <td>2</td>\n",
       "    </tr>\n",
       "    <tr>\n",
       "      <th>🌍</th>\n",
       "      <td>1</td>\n",
       "    </tr>\n",
       "    <tr>\n",
       "      <th>👏</th>\n",
       "      <td>1</td>\n",
       "    </tr>\n",
       "    <tr>\n",
       "      <th>♥</th>\n",
       "      <td>1</td>\n",
       "    </tr>\n",
       "  </tbody>\n",
       "</table>\n",
       "</div>"
      ],
      "text/plain": [
       "   count\n",
       "⚫      6\n",
       "🔵      3\n",
       "🎙      3\n",
       "💬      3\n",
       "➡      2\n",
       "🏠      2\n",
       "🏥      2\n",
       "🌍      1\n",
       "👏      1\n",
       "♥      1"
      ]
     },
     "execution_count": 89,
     "metadata": {},
     "output_type": "execute_result"
    }
   ],
   "source": [
    "boris_emoji.head(10)"
   ]
  },
  {
   "cell_type": "markdown",
   "metadata": {},
   "source": [
    "### Text -> bag of words"
   ]
  },
  {
   "cell_type": "code",
   "execution_count": 90,
   "metadata": {},
   "outputs": [],
   "source": [
    "def text_to_bow_en(text):\n",
    "    '''\n",
    "    convert text to just lowercase words\n",
    "    '''\n",
    "    # optional if dealing with strings which might contain nan \n",
    "    if text == np.nan:\n",
    "        return text \n",
    "    else: \n",
    "        text = str(text).lower()\n",
    "        text = re.sub('\\n', ' ', text) \n",
    "        text = re.sub('<br>', ' ', text) \n",
    "        # remove non alphanumeric characters\n",
    "        regex = re.compile('[^0-9a-zA-Z- ]')\n",
    "        text = regex.sub('', text)\n",
    "        text = re.sub(' +', ' ', text).strip()\n",
    "        return text"
   ]
  },
  {
   "cell_type": "code",
   "execution_count": 91,
   "metadata": {},
   "outputs": [],
   "source": [
    "def text_to_bow_ja(text):\n",
    "    characters_to_remove = \"。！？「」、【】《》（）・\"\n",
    "    pattern = \"[\" + characters_to_remove + \"]\"\n",
    "\n",
    "    if text == np.nan:\n",
    "        return text \n",
    "    else: \n",
    "        # just in case there are non-Japanese words\n",
    "        text = str(text).lower()\n",
    "        # remove new lines and html remnants\n",
    "        text = re.sub('\\n', ' ', text) \n",
    "        text = re.sub('<br>', ' ', text) \n",
    "        # remove multiple spaces\n",
    "        text = re.sub(' +', ' ', text).strip()\n",
    "        # optional - remove punctuation \n",
    "        text = re.sub(pattern, \"\", text)\n",
    "        # very simple link removal \n",
    "        text = re.sub(r\"http\\S+\", \"\", text)\n",
    "        return text"
   ]
  },
  {
   "cell_type": "markdown",
   "metadata": {},
   "source": [
    "### stopword removal"
   ]
  },
  {
   "cell_type": "code",
   "execution_count": 92,
   "metadata": {},
   "outputs": [],
   "source": [
    "# Stop words removal with spacy but without lemmatizing \n",
    "def spacy_stopword_removal(text, nlp, language=\"en\"):\n",
    "    doc = nlp((text))\n",
    "    doc_tokens = []\n",
    "    for token in doc:\n",
    "        if token.is_stop == False:\n",
    "            doc_tokens.append(token.text)\n",
    "    if language == \"en\":\n",
    "        lemmatized_text = \" \".join(doc_tokens)\n",
    "    elif language == 'ja':\n",
    "        lemmatized_text = \"\".join(doc_tokens)\n",
    "    return lemmatized_text"
   ]
  },
  {
   "cell_type": "markdown",
   "metadata": {},
   "source": [
    "### lemmatisation "
   ]
  },
  {
   "cell_type": "code",
   "execution_count": 93,
   "metadata": {},
   "outputs": [],
   "source": [
    "# For a single string\n",
    "def spacy_lemmatize_text(text):\n",
    "    doc = nlp(text_to_bow(text))\n",
    "    doc_tokens = []\n",
    "    for token in doc:\n",
    "        if token.is_stop == False:\n",
    "            doc_tokens.append(token.lemma_)\n",
    "    lemmatized_text = \"\".join(doc_tokens)\n",
    "    return lemmatized_text"
   ]
  },
  {
   "cell_type": "markdown",
   "metadata": {},
   "source": [
    "### --> Clean the text \n",
    "Important: the tweepy cleaning api doesn't seem to work with japanese text -- will need to fix this for later model training \n",
    "- 1. clean the tweet with tweepy, which removed urls and emoji but leaves # and @\n",
    "- 2. clean with text_to_bow which leaves only words and lowercases everything and removed the # and @ signs \n",
    "- 3. remove stopwords "
   ]
  },
  {
   "cell_type": "code",
   "execution_count": 94,
   "metadata": {},
   "outputs": [
    {
     "name": "stderr",
     "output_type": "stream",
     "text": [
      "/Users/dea/opt/anaconda3/lib/python3.7/site-packages/ipykernel_launcher.py:4: SettingWithCopyWarning: \n",
      "A value is trying to be set on a copy of a slice from a DataFrame.\n",
      "Try using .loc[row_indexer,col_indexer] = value instead\n",
      "\n",
      "See the caveats in the documentation: https://pandas.pydata.org/pandas-docs/stable/user_guide/indexing.html#returning-a-view-versus-a-copy\n",
      "  after removing the cwd from sys.path.\n"
     ]
    }
   ],
   "source": [
    "uk_tweets_noRT_cleaned = uk_tweets_noRT['full_text'].apply(lambda x : \n",
    "        spacy_stopword_removal(text_to_bow_en(p.clean(x)), nlp_en, \"en\")\n",
    "    )\n",
    "uk_tweets_noRT['full_text_cleaned'] = uk_tweets_noRT_cleaned"
   ]
  },
  {
   "cell_type": "code",
   "execution_count": 95,
   "metadata": {},
   "outputs": [
    {
     "name": "stderr",
     "output_type": "stream",
     "text": [
      "/Users/dea/opt/anaconda3/lib/python3.7/site-packages/ipykernel_launcher.py:4: SettingWithCopyWarning: \n",
      "A value is trying to be set on a copy of a slice from a DataFrame.\n",
      "Try using .loc[row_indexer,col_indexer] = value instead\n",
      "\n",
      "See the caveats in the documentation: https://pandas.pydata.org/pandas-docs/stable/user_guide/indexing.html#returning-a-view-versus-a-copy\n",
      "  after removing the cwd from sys.path.\n"
     ]
    }
   ],
   "source": [
    "jp_tweets_noRT_cleaned = jp_tweets_noRT['full_text'].apply(lambda x : \n",
    "        spacy_stopword_removal(text_to_bow_ja(x), nlp_ja, \"ja\")\n",
    "    )\n",
    "jp_tweets_noRT['full_text_cleaned'] = jp_tweets_noRT_cleaned"
   ]
  },
  {
   "cell_type": "code",
   "execution_count": 96,
   "metadata": {},
   "outputs": [
    {
     "data": {
      "text/plain": [
       "['総理動き本日10月30日菅総理官邸地球温暖化対策推進本部開催まし2050年カーボンニュートラル挑戦日本新た成長戦略挑戦産業構造経済社会発展つなげ経済環境好循環生み出しいき思い挨拶全文',\n",
       " '#温暖化対策推進本部#地球温暖化対策計画#2050年#カーボンニュートラル@sugawitter',\n",
       " '2050年カーボンニュートラル挑戦日本新た成長戦略挑戦産業構造経済社会発展つなげ経済環境好循環生み出しいき思い温暖化対策推進本部開催全閣僚対し地球温暖化対策計画見直し加速指示まし',\n",
       " '坂井官房副長官記者会見本日10月30日午後動画掲載まし',\n",
       " '坂井官房副長官記者会見本日10月30日午前動画掲載まし']"
      ]
     },
     "execution_count": 96,
     "metadata": {},
     "output_type": "execute_result"
    }
   ],
   "source": [
    "jp_tweets_noRT_cleaned.head(5).tolist()"
   ]
  },
  {
   "cell_type": "markdown",
   "metadata": {},
   "source": [
    "## Bag of Words "
   ]
  },
  {
   "cell_type": "code",
   "execution_count": 97,
   "metadata": {},
   "outputs": [],
   "source": [
    "class BagOfWords:\n",
    "    def __init__(self, data, max_df, min_df, stop_words, ngram_range, change_tokenizer=False, tokenizer=None) :\n",
    "        self.data = data\n",
    "        self.max_df = max_df \n",
    "        self.min_df = min_df \n",
    "        self.stop_words = stop_words \n",
    "        self.ngram_range = ngram_range \n",
    "        if change_tokenizer == True: \n",
    "            self.MyCountVectorizer = CountVectorizer(\n",
    "                tokenizer=tokenizer,\n",
    "                max_df=self.max_df, \n",
    "                min_df=self.min_df, \n",
    "                stop_words=self.stop_words, \n",
    "                ngram_range=self.ngram_range)\n",
    "        else:   \n",
    "            self.MyCountVectorizer = CountVectorizer(\n",
    "                max_df=self.max_df, \n",
    "                min_df=self.min_df, \n",
    "                stop_words=self.stop_words, \n",
    "                ngram_range=self.ngram_range)\n",
    "        # init the empty vars \n",
    "        self.X = \"\"\n",
    "        self.feature_names = \"\"\n",
    "        self.counts = \"\"\n",
    "        self.df_counts = \"\"\n",
    "        self.dict_counts = \"\"\n",
    "        self.wordcloud = \"\"\n",
    "        self.p = \"\"\n",
    "        \n",
    "    #fit the count vectorizer \n",
    "    def fit_transform(self):\n",
    "        self.X = self.MyCountVectorizer.fit_transform(self.data)\n",
    "\n",
    "    def get_feature_names(self):\n",
    "        self.feature_names = self.MyCountVectorizer.get_feature_names()\n",
    "\n",
    "    def get_bow_feature_counts(self): \n",
    "        self.counts = self.X.toarray().sum(axis=0)\n",
    "        # create a df with feature names and counts \n",
    "        self.df_counts = pd.DataFrame({\"feature_names\": self.feature_names, \"counts\": self.counts}).sort_values(by=\"counts\", ascending=False)\n",
    "\n",
    "    # get the data into a dict format of {word: freq} type to feed into the wordcloud \n",
    "    def prep_for_wordcloud(self):\n",
    "        _dict_counts = self.df_counts.set_index(\"feature_names\").to_dict(orient=\"index\")\n",
    "        self.dict_counts = {}\n",
    "        for keyword, count in _dict_counts.items():\n",
    "            self.dict_counts[keyword] = count['counts']\n",
    "\n",
    "    # visualise the word cloud\n",
    "    def viz_wordcloud(self, background_color=\"black\", max_words=200, width=700, height=400):\n",
    "        self.wordcloud = WordCloud(background_color=background_color, max_words=max_words, width=width, height=height)\n",
    "        self.wordcloud.generate_from_frequencies(self.dict_counts)\n",
    "        #self.wordcloud.to_image()\n",
    "            \n",
    "        # bar chart of word frequencies \n",
    "    def barchart_wordfreq(self, \n",
    "                              num_top_features=30,\n",
    "                              output_here=True, save_filename=\"plot\", \n",
    "                              plot_height=350, plot_width=800, title=\"Title\", bgcolor = \"#2b2b2b\"):\n",
    "\n",
    "        counted_data = self.df_counts.nlargest(num_top_features, \"counts\")[\"feature_names\"].tolist()\n",
    "        counts = self.df_counts.nlargest(num_top_features, \"counts\")[\"counts\"].tolist()\n",
    "        # either display in the notebook or save file \n",
    "        if output_here:\n",
    "            output_notebook()\n",
    "        else:\n",
    "            output_file(save_filename+\".html\")\n",
    "\n",
    "        source = ColumnDataSource(data=dict(counted_data=counted_data, counts=counts))\n",
    "        self.p = figure(x_range=counted_data, plot_height=plot_height, plot_width=plot_width, toolbar_location=None, title=title)\n",
    "\n",
    "        self.p.vbar(x='counted_data',\n",
    "               top='counts', \n",
    "               width=0.8, \n",
    "               source=source, \n",
    "               line_color='white', \n",
    "               fill_color=factor_cmap('counted_data', palette=cividis(len(counted_data)), factors=counted_data))\n",
    "\n",
    "        self.p.xgrid.grid_line_color = None\n",
    "        self.p.ygrid.grid_line_color = None\n",
    "        self.p.y_range.start = 0\n",
    "        self.p.xaxis.major_label_orientation = 1.2\n",
    "        #p.y_range.end = 5000\n",
    "        self.p.background_fill_color = bgcolor\n",
    "        show(self.p)"
   ]
  },
  {
   "cell_type": "markdown",
   "metadata": {},
   "source": [
    "### --> Bag of Words English"
   ]
  },
  {
   "cell_type": "code",
   "execution_count": 98,
   "metadata": {},
   "outputs": [],
   "source": [
    "# initialize the count vectorizer \n",
    "data_uk = uk_tweets_noRT['full_text_cleaned'].tolist()\n",
    "bow_uk = BagOfWords(data=data_uk, max_df=0.98, min_df=0.005, ngram_range=(1, 1),\n",
    "                    stop_words=None, change_tokenizer=False)\n",
    "# fit transform and get the fit-transformed matrix of word frequencies\n",
    "bow_uk.fit_transform() #bow_bow.X\n",
    "# get the feature names \n",
    "bow_uk.get_feature_names() #bow.feature_names\n",
    "# get the feature counts \n",
    "bow_uk.get_bow_feature_counts() #bow.df_counts"
   ]
  },
  {
   "cell_type": "code",
   "execution_count": 99,
   "metadata": {},
   "outputs": [
    {
     "name": "stdout",
     "output_type": "stream",
     "text": [
      "Number of features: 407\n"
     ]
    }
   ],
   "source": [
    "print(\"Number of features: {}\".format(len(bow_uk.feature_names)))"
   ]
  },
  {
   "cell_type": "code",
   "execution_count": 100,
   "metadata": {},
   "outputs": [
    {
     "data": {
      "text/html": [
       "\n",
       "    <div class=\"bk-root\">\n",
       "        <a href=\"https://bokeh.org\" target=\"_blank\" class=\"bk-logo bk-logo-small bk-logo-notebook\"></a>\n",
       "        <span id=\"3988\">Loading BokehJS ...</span>\n",
       "    </div>"
      ]
     },
     "metadata": {},
     "output_type": "display_data"
    },
    {
     "data": {
      "application/javascript": [
       "\n",
       "(function(root) {\n",
       "  function now() {\n",
       "    return new Date();\n",
       "  }\n",
       "\n",
       "  var force = true;\n",
       "\n",
       "  if (typeof root._bokeh_onload_callbacks === \"undefined\" || force === true) {\n",
       "    root._bokeh_onload_callbacks = [];\n",
       "    root._bokeh_is_loading = undefined;\n",
       "  }\n",
       "\n",
       "  var JS_MIME_TYPE = 'application/javascript';\n",
       "  var HTML_MIME_TYPE = 'text/html';\n",
       "  var EXEC_MIME_TYPE = 'application/vnd.bokehjs_exec.v0+json';\n",
       "  var CLASS_NAME = 'output_bokeh rendered_html';\n",
       "\n",
       "  /**\n",
       "   * Render data to the DOM node\n",
       "   */\n",
       "  function render(props, node) {\n",
       "    var script = document.createElement(\"script\");\n",
       "    node.appendChild(script);\n",
       "  }\n",
       "\n",
       "  /**\n",
       "   * Handle when an output is cleared or removed\n",
       "   */\n",
       "  function handleClearOutput(event, handle) {\n",
       "    var cell = handle.cell;\n",
       "\n",
       "    var id = cell.output_area._bokeh_element_id;\n",
       "    var server_id = cell.output_area._bokeh_server_id;\n",
       "    // Clean up Bokeh references\n",
       "    if (id != null && id in Bokeh.index) {\n",
       "      Bokeh.index[id].model.document.clear();\n",
       "      delete Bokeh.index[id];\n",
       "    }\n",
       "\n",
       "    if (server_id !== undefined) {\n",
       "      // Clean up Bokeh references\n",
       "      var cmd = \"from bokeh.io.state import curstate; print(curstate().uuid_to_server['\" + server_id + \"'].get_sessions()[0].document.roots[0]._id)\";\n",
       "      cell.notebook.kernel.execute(cmd, {\n",
       "        iopub: {\n",
       "          output: function(msg) {\n",
       "            var id = msg.content.text.trim();\n",
       "            if (id in Bokeh.index) {\n",
       "              Bokeh.index[id].model.document.clear();\n",
       "              delete Bokeh.index[id];\n",
       "            }\n",
       "          }\n",
       "        }\n",
       "      });\n",
       "      // Destroy server and session\n",
       "      var cmd = \"import bokeh.io.notebook as ion; ion.destroy_server('\" + server_id + \"')\";\n",
       "      cell.notebook.kernel.execute(cmd);\n",
       "    }\n",
       "  }\n",
       "\n",
       "  /**\n",
       "   * Handle when a new output is added\n",
       "   */\n",
       "  function handleAddOutput(event, handle) {\n",
       "    var output_area = handle.output_area;\n",
       "    var output = handle.output;\n",
       "\n",
       "    // limit handleAddOutput to display_data with EXEC_MIME_TYPE content only\n",
       "    if ((output.output_type != \"display_data\") || (!output.data.hasOwnProperty(EXEC_MIME_TYPE))) {\n",
       "      return\n",
       "    }\n",
       "\n",
       "    var toinsert = output_area.element.find(\".\" + CLASS_NAME.split(' ')[0]);\n",
       "\n",
       "    if (output.metadata[EXEC_MIME_TYPE][\"id\"] !== undefined) {\n",
       "      toinsert[toinsert.length - 1].firstChild.textContent = output.data[JS_MIME_TYPE];\n",
       "      // store reference to embed id on output_area\n",
       "      output_area._bokeh_element_id = output.metadata[EXEC_MIME_TYPE][\"id\"];\n",
       "    }\n",
       "    if (output.metadata[EXEC_MIME_TYPE][\"server_id\"] !== undefined) {\n",
       "      var bk_div = document.createElement(\"div\");\n",
       "      bk_div.innerHTML = output.data[HTML_MIME_TYPE];\n",
       "      var script_attrs = bk_div.children[0].attributes;\n",
       "      for (var i = 0; i < script_attrs.length; i++) {\n",
       "        toinsert[toinsert.length - 1].firstChild.setAttribute(script_attrs[i].name, script_attrs[i].value);\n",
       "      }\n",
       "      // store reference to server id on output_area\n",
       "      output_area._bokeh_server_id = output.metadata[EXEC_MIME_TYPE][\"server_id\"];\n",
       "    }\n",
       "  }\n",
       "\n",
       "  function register_renderer(events, OutputArea) {\n",
       "\n",
       "    function append_mime(data, metadata, element) {\n",
       "      // create a DOM node to render to\n",
       "      var toinsert = this.create_output_subarea(\n",
       "        metadata,\n",
       "        CLASS_NAME,\n",
       "        EXEC_MIME_TYPE\n",
       "      );\n",
       "      this.keyboard_manager.register_events(toinsert);\n",
       "      // Render to node\n",
       "      var props = {data: data, metadata: metadata[EXEC_MIME_TYPE]};\n",
       "      render(props, toinsert[toinsert.length - 1]);\n",
       "      element.append(toinsert);\n",
       "      return toinsert\n",
       "    }\n",
       "\n",
       "    /* Handle when an output is cleared or removed */\n",
       "    events.on('clear_output.CodeCell', handleClearOutput);\n",
       "    events.on('delete.Cell', handleClearOutput);\n",
       "\n",
       "    /* Handle when a new output is added */\n",
       "    events.on('output_added.OutputArea', handleAddOutput);\n",
       "\n",
       "    /**\n",
       "     * Register the mime type and append_mime function with output_area\n",
       "     */\n",
       "    OutputArea.prototype.register_mime_type(EXEC_MIME_TYPE, append_mime, {\n",
       "      /* Is output safe? */\n",
       "      safe: true,\n",
       "      /* Index of renderer in `output_area.display_order` */\n",
       "      index: 0\n",
       "    });\n",
       "  }\n",
       "\n",
       "  // register the mime type if in Jupyter Notebook environment and previously unregistered\n",
       "  if (root.Jupyter !== undefined) {\n",
       "    var events = require('base/js/events');\n",
       "    var OutputArea = require('notebook/js/outputarea').OutputArea;\n",
       "\n",
       "    if (OutputArea.prototype.mime_types().indexOf(EXEC_MIME_TYPE) == -1) {\n",
       "      register_renderer(events, OutputArea);\n",
       "    }\n",
       "  }\n",
       "\n",
       "  \n",
       "  if (typeof (root._bokeh_timeout) === \"undefined\" || force === true) {\n",
       "    root._bokeh_timeout = Date.now() + 5000;\n",
       "    root._bokeh_failed_load = false;\n",
       "  }\n",
       "\n",
       "  var NB_LOAD_WARNING = {'data': {'text/html':\n",
       "     \"<div style='background-color: #fdd'>\\n\"+\n",
       "     \"<p>\\n\"+\n",
       "     \"BokehJS does not appear to have successfully loaded. If loading BokehJS from CDN, this \\n\"+\n",
       "     \"may be due to a slow or bad network connection. Possible fixes:\\n\"+\n",
       "     \"</p>\\n\"+\n",
       "     \"<ul>\\n\"+\n",
       "     \"<li>re-rerun `output_notebook()` to attempt to load from CDN again, or</li>\\n\"+\n",
       "     \"<li>use INLINE resources instead, as so:</li>\\n\"+\n",
       "     \"</ul>\\n\"+\n",
       "     \"<code>\\n\"+\n",
       "     \"from bokeh.resources import INLINE\\n\"+\n",
       "     \"output_notebook(resources=INLINE)\\n\"+\n",
       "     \"</code>\\n\"+\n",
       "     \"</div>\"}};\n",
       "\n",
       "  function display_loaded() {\n",
       "    var el = document.getElementById(\"3988\");\n",
       "    if (el != null) {\n",
       "      el.textContent = \"BokehJS is loading...\";\n",
       "    }\n",
       "    if (root.Bokeh !== undefined) {\n",
       "      if (el != null) {\n",
       "        el.textContent = \"BokehJS \" + root.Bokeh.version + \" successfully loaded.\";\n",
       "      }\n",
       "    } else if (Date.now() < root._bokeh_timeout) {\n",
       "      setTimeout(display_loaded, 100)\n",
       "    }\n",
       "  }\n",
       "\n",
       "\n",
       "  function run_callbacks() {\n",
       "    try {\n",
       "      root._bokeh_onload_callbacks.forEach(function(callback) {\n",
       "        if (callback != null)\n",
       "          callback();\n",
       "      });\n",
       "    } finally {\n",
       "      delete root._bokeh_onload_callbacks\n",
       "    }\n",
       "    console.debug(\"Bokeh: all callbacks have finished\");\n",
       "  }\n",
       "\n",
       "  function load_libs(css_urls, js_urls, callback) {\n",
       "    if (css_urls == null) css_urls = [];\n",
       "    if (js_urls == null) js_urls = [];\n",
       "\n",
       "    root._bokeh_onload_callbacks.push(callback);\n",
       "    if (root._bokeh_is_loading > 0) {\n",
       "      console.debug(\"Bokeh: BokehJS is being loaded, scheduling callback at\", now());\n",
       "      return null;\n",
       "    }\n",
       "    if (js_urls == null || js_urls.length === 0) {\n",
       "      run_callbacks();\n",
       "      return null;\n",
       "    }\n",
       "    console.debug(\"Bokeh: BokehJS not loaded, scheduling load and callback at\", now());\n",
       "    root._bokeh_is_loading = css_urls.length + js_urls.length;\n",
       "\n",
       "    function on_load() {\n",
       "      root._bokeh_is_loading--;\n",
       "      if (root._bokeh_is_loading === 0) {\n",
       "        console.debug(\"Bokeh: all BokehJS libraries/stylesheets loaded\");\n",
       "        run_callbacks()\n",
       "      }\n",
       "    }\n",
       "\n",
       "    function on_error() {\n",
       "      console.error(\"failed to load \" + url);\n",
       "    }\n",
       "\n",
       "    for (var i = 0; i < css_urls.length; i++) {\n",
       "      var url = css_urls[i];\n",
       "      const element = document.createElement(\"link\");\n",
       "      element.onload = on_load;\n",
       "      element.onerror = on_error;\n",
       "      element.rel = \"stylesheet\";\n",
       "      element.type = \"text/css\";\n",
       "      element.href = url;\n",
       "      console.debug(\"Bokeh: injecting link tag for BokehJS stylesheet: \", url);\n",
       "      document.body.appendChild(element);\n",
       "    }\n",
       "\n",
       "    for (var i = 0; i < js_urls.length; i++) {\n",
       "      var url = js_urls[i];\n",
       "      var element = document.createElement('script');\n",
       "      element.onload = on_load;\n",
       "      element.onerror = on_error;\n",
       "      element.async = false;\n",
       "      element.src = url;\n",
       "      console.debug(\"Bokeh: injecting script tag for BokehJS library: \", url);\n",
       "      document.head.appendChild(element);\n",
       "    }\n",
       "  };var element = document.getElementById(\"3988\");\n",
       "  if (element == null) {\n",
       "    console.error(\"Bokeh: ERROR: autoload.js configured with elementid '3988' but no matching script tag was found. \")\n",
       "    return false;\n",
       "  }\n",
       "\n",
       "  function inject_raw_css(css) {\n",
       "    const element = document.createElement(\"style\");\n",
       "    element.appendChild(document.createTextNode(css));\n",
       "    document.body.appendChild(element);\n",
       "  }\n",
       "\n",
       "  \n",
       "  var js_urls = [\"https://cdn.pydata.org/bokeh/release/bokeh-1.4.0.min.js\", \"https://cdn.pydata.org/bokeh/release/bokeh-widgets-1.4.0.min.js\", \"https://cdn.pydata.org/bokeh/release/bokeh-tables-1.4.0.min.js\", \"https://cdn.pydata.org/bokeh/release/bokeh-gl-1.4.0.min.js\"];\n",
       "  var css_urls = [];\n",
       "  \n",
       "\n",
       "  var inline_js = [\n",
       "    function(Bokeh) {\n",
       "      Bokeh.set_log_level(\"info\");\n",
       "    },\n",
       "    function(Bokeh) {\n",
       "    \n",
       "    \n",
       "    }\n",
       "  ];\n",
       "\n",
       "  function run_inline_js() {\n",
       "    \n",
       "    if (root.Bokeh !== undefined || force === true) {\n",
       "      \n",
       "    for (var i = 0; i < inline_js.length; i++) {\n",
       "      inline_js[i].call(root, root.Bokeh);\n",
       "    }\n",
       "    if (force === true) {\n",
       "        display_loaded();\n",
       "      }} else if (Date.now() < root._bokeh_timeout) {\n",
       "      setTimeout(run_inline_js, 100);\n",
       "    } else if (!root._bokeh_failed_load) {\n",
       "      console.log(\"Bokeh: BokehJS failed to load within specified timeout.\");\n",
       "      root._bokeh_failed_load = true;\n",
       "    } else if (force !== true) {\n",
       "      var cell = $(document.getElementById(\"3988\")).parents('.cell').data().cell;\n",
       "      cell.output_area.append_execute_result(NB_LOAD_WARNING)\n",
       "    }\n",
       "\n",
       "  }\n",
       "\n",
       "  if (root._bokeh_is_loading === 0) {\n",
       "    console.debug(\"Bokeh: BokehJS loaded, going straight to plotting\");\n",
       "    run_inline_js();\n",
       "  } else {\n",
       "    load_libs(css_urls, js_urls, function() {\n",
       "      console.debug(\"Bokeh: BokehJS plotting callback run at\", now());\n",
       "      run_inline_js();\n",
       "    });\n",
       "  }\n",
       "}(window));"
      ],
      "application/vnd.bokehjs_load.v0+json": "\n(function(root) {\n  function now() {\n    return new Date();\n  }\n\n  var force = true;\n\n  if (typeof root._bokeh_onload_callbacks === \"undefined\" || force === true) {\n    root._bokeh_onload_callbacks = [];\n    root._bokeh_is_loading = undefined;\n  }\n\n  \n\n  \n  if (typeof (root._bokeh_timeout) === \"undefined\" || force === true) {\n    root._bokeh_timeout = Date.now() + 5000;\n    root._bokeh_failed_load = false;\n  }\n\n  var NB_LOAD_WARNING = {'data': {'text/html':\n     \"<div style='background-color: #fdd'>\\n\"+\n     \"<p>\\n\"+\n     \"BokehJS does not appear to have successfully loaded. If loading BokehJS from CDN, this \\n\"+\n     \"may be due to a slow or bad network connection. Possible fixes:\\n\"+\n     \"</p>\\n\"+\n     \"<ul>\\n\"+\n     \"<li>re-rerun `output_notebook()` to attempt to load from CDN again, or</li>\\n\"+\n     \"<li>use INLINE resources instead, as so:</li>\\n\"+\n     \"</ul>\\n\"+\n     \"<code>\\n\"+\n     \"from bokeh.resources import INLINE\\n\"+\n     \"output_notebook(resources=INLINE)\\n\"+\n     \"</code>\\n\"+\n     \"</div>\"}};\n\n  function display_loaded() {\n    var el = document.getElementById(\"3988\");\n    if (el != null) {\n      el.textContent = \"BokehJS is loading...\";\n    }\n    if (root.Bokeh !== undefined) {\n      if (el != null) {\n        el.textContent = \"BokehJS \" + root.Bokeh.version + \" successfully loaded.\";\n      }\n    } else if (Date.now() < root._bokeh_timeout) {\n      setTimeout(display_loaded, 100)\n    }\n  }\n\n\n  function run_callbacks() {\n    try {\n      root._bokeh_onload_callbacks.forEach(function(callback) {\n        if (callback != null)\n          callback();\n      });\n    } finally {\n      delete root._bokeh_onload_callbacks\n    }\n    console.debug(\"Bokeh: all callbacks have finished\");\n  }\n\n  function load_libs(css_urls, js_urls, callback) {\n    if (css_urls == null) css_urls = [];\n    if (js_urls == null) js_urls = [];\n\n    root._bokeh_onload_callbacks.push(callback);\n    if (root._bokeh_is_loading > 0) {\n      console.debug(\"Bokeh: BokehJS is being loaded, scheduling callback at\", now());\n      return null;\n    }\n    if (js_urls == null || js_urls.length === 0) {\n      run_callbacks();\n      return null;\n    }\n    console.debug(\"Bokeh: BokehJS not loaded, scheduling load and callback at\", now());\n    root._bokeh_is_loading = css_urls.length + js_urls.length;\n\n    function on_load() {\n      root._bokeh_is_loading--;\n      if (root._bokeh_is_loading === 0) {\n        console.debug(\"Bokeh: all BokehJS libraries/stylesheets loaded\");\n        run_callbacks()\n      }\n    }\n\n    function on_error() {\n      console.error(\"failed to load \" + url);\n    }\n\n    for (var i = 0; i < css_urls.length; i++) {\n      var url = css_urls[i];\n      const element = document.createElement(\"link\");\n      element.onload = on_load;\n      element.onerror = on_error;\n      element.rel = \"stylesheet\";\n      element.type = \"text/css\";\n      element.href = url;\n      console.debug(\"Bokeh: injecting link tag for BokehJS stylesheet: \", url);\n      document.body.appendChild(element);\n    }\n\n    for (var i = 0; i < js_urls.length; i++) {\n      var url = js_urls[i];\n      var element = document.createElement('script');\n      element.onload = on_load;\n      element.onerror = on_error;\n      element.async = false;\n      element.src = url;\n      console.debug(\"Bokeh: injecting script tag for BokehJS library: \", url);\n      document.head.appendChild(element);\n    }\n  };var element = document.getElementById(\"3988\");\n  if (element == null) {\n    console.error(\"Bokeh: ERROR: autoload.js configured with elementid '3988' but no matching script tag was found. \")\n    return false;\n  }\n\n  function inject_raw_css(css) {\n    const element = document.createElement(\"style\");\n    element.appendChild(document.createTextNode(css));\n    document.body.appendChild(element);\n  }\n\n  \n  var js_urls = [\"https://cdn.pydata.org/bokeh/release/bokeh-1.4.0.min.js\", \"https://cdn.pydata.org/bokeh/release/bokeh-widgets-1.4.0.min.js\", \"https://cdn.pydata.org/bokeh/release/bokeh-tables-1.4.0.min.js\", \"https://cdn.pydata.org/bokeh/release/bokeh-gl-1.4.0.min.js\"];\n  var css_urls = [];\n  \n\n  var inline_js = [\n    function(Bokeh) {\n      Bokeh.set_log_level(\"info\");\n    },\n    function(Bokeh) {\n    \n    \n    }\n  ];\n\n  function run_inline_js() {\n    \n    if (root.Bokeh !== undefined || force === true) {\n      \n    for (var i = 0; i < inline_js.length; i++) {\n      inline_js[i].call(root, root.Bokeh);\n    }\n    if (force === true) {\n        display_loaded();\n      }} else if (Date.now() < root._bokeh_timeout) {\n      setTimeout(run_inline_js, 100);\n    } else if (!root._bokeh_failed_load) {\n      console.log(\"Bokeh: BokehJS failed to load within specified timeout.\");\n      root._bokeh_failed_load = true;\n    } else if (force !== true) {\n      var cell = $(document.getElementById(\"3988\")).parents('.cell').data().cell;\n      cell.output_area.append_execute_result(NB_LOAD_WARNING)\n    }\n\n  }\n\n  if (root._bokeh_is_loading === 0) {\n    console.debug(\"Bokeh: BokehJS loaded, going straight to plotting\");\n    run_inline_js();\n  } else {\n    load_libs(css_urls, js_urls, function() {\n      console.debug(\"Bokeh: BokehJS plotting callback run at\", now());\n      run_inline_js();\n    });\n  }\n}(window));"
     },
     "metadata": {},
     "output_type": "display_data"
    },
    {
     "data": {
      "text/html": [
       "\n",
       "\n",
       "\n",
       "\n",
       "\n",
       "\n",
       "  <div class=\"bk-root\" id=\"2a7efdca-c239-4d07-acae-4246d0a34311\" data-root-id=\"3990\"></div>\n"
      ]
     },
     "metadata": {},
     "output_type": "display_data"
    },
    {
     "data": {
      "application/javascript": [
       "(function(root) {\n",
       "  function embed_document(root) {\n",
       "    \n",
       "  var docs_json = {\"8e5fbb4c-8c40-4f9a-9723-2de57976a973\":{\"roots\":{\"references\":[{\"attributes\":{\"background_fill_color\":{\"value\":\"#2b2b2b\"},\"below\":[{\"id\":\"4001\",\"type\":\"CategoricalAxis\"}],\"center\":[{\"id\":\"4004\",\"type\":\"Grid\"},{\"id\":\"4009\",\"type\":\"Grid\"}],\"left\":[{\"id\":\"4005\",\"type\":\"LinearAxis\"}],\"plot_height\":350,\"plot_width\":700,\"renderers\":[{\"id\":\"4027\",\"type\":\"GlyphRenderer\"}],\"title\":{\"id\":\"3991\",\"type\":\"Title\"},\"toolbar\":{\"id\":\"4016\",\"type\":\"Toolbar\"},\"toolbar_location\":null,\"x_range\":{\"id\":\"3993\",\"type\":\"FactorRange\"},\"x_scale\":{\"id\":\"3997\",\"type\":\"CategoricalScale\"},\"y_range\":{\"id\":\"3995\",\"type\":\"DataRange1d\"},\"y_scale\":{\"id\":\"3999\",\"type\":\"LinearScale\"}},\"id\":\"3990\",\"subtype\":\"Figure\",\"type\":\"Plot\"},{\"attributes\":{\"formatter\":{\"id\":\"4223\",\"type\":\"CategoricalTickFormatter\"},\"major_label_orientation\":1.2,\"ticker\":{\"id\":\"4002\",\"type\":\"CategoricalTicker\"}},\"id\":\"4001\",\"type\":\"CategoricalAxis\"},{\"attributes\":{},\"id\":\"4225\",\"type\":\"UnionRenderers\"},{\"attributes\":{},\"id\":\"4015\",\"type\":\"HelpTool\"},{\"attributes\":{},\"id\":\"4014\",\"type\":\"ResetTool\"},{\"attributes\":{},\"id\":\"4226\",\"type\":\"Selection\"},{\"attributes\":{\"bottom_units\":\"screen\",\"fill_alpha\":{\"value\":0.5},\"fill_color\":{\"value\":\"lightgrey\"},\"left_units\":\"screen\",\"level\":\"overlay\",\"line_alpha\":{\"value\":1.0},\"line_color\":{\"value\":\"black\"},\"line_dash\":[4,4],\"line_width\":{\"value\":2},\"render_mode\":\"css\",\"right_units\":\"screen\",\"top_units\":\"screen\"},\"id\":\"4227\",\"type\":\"BoxAnnotation\"},{\"attributes\":{},\"id\":\"4013\",\"type\":\"SaveTool\"},{\"attributes\":{\"overlay\":{\"id\":\"4227\",\"type\":\"BoxAnnotation\"}},\"id\":\"4012\",\"type\":\"BoxZoomTool\"},{\"attributes\":{},\"id\":\"4011\",\"type\":\"WheelZoomTool\"},{\"attributes\":{\"source\":{\"id\":\"3989\",\"type\":\"ColumnDataSource\"}},\"id\":\"4028\",\"type\":\"CDSView\"},{\"attributes\":{},\"id\":\"4010\",\"type\":\"PanTool\"},{\"attributes\":{\"callback\":null,\"data\":{\"counted_data\":[\"coronavirus\",\"conference\",\"press\",\"uk\",\"covid\",\"2020\",\"stayhomesavelives\",\"home\",\"people\",\"19\",\"stay\",\"stayalert\",\"borisjohnson\",\"slides\",\"new\",\"england\",\"pm\",\"nhs\",\"live\",\"protect\"],\"counts\":[719,319,319,309,297,274,266,251,249,247,245,230,196,190,189,189,171,168,156,139]},\"selected\":{\"id\":\"4226\",\"type\":\"Selection\"},\"selection_policy\":{\"id\":\"4225\",\"type\":\"UnionRenderers\"}},\"id\":\"3989\",\"type\":\"ColumnDataSource\"},{\"attributes\":{\"fill_alpha\":{\"value\":0.1},\"fill_color\":{\"value\":\"#1f77b4\"},\"line_alpha\":{\"value\":0.1},\"line_color\":{\"value\":\"#1f77b4\"},\"top\":{\"field\":\"counts\"},\"width\":{\"value\":0.8},\"x\":{\"field\":\"counted_data\"}},\"id\":\"4026\",\"type\":\"VBar\"},{\"attributes\":{},\"id\":\"4006\",\"type\":\"BasicTicker\"},{\"attributes\":{\"active_drag\":\"auto\",\"active_inspect\":\"auto\",\"active_multi\":null,\"active_scroll\":\"auto\",\"active_tap\":\"auto\",\"tools\":[{\"id\":\"4010\",\"type\":\"PanTool\"},{\"id\":\"4011\",\"type\":\"WheelZoomTool\"},{\"id\":\"4012\",\"type\":\"BoxZoomTool\"},{\"id\":\"4013\",\"type\":\"SaveTool\"},{\"id\":\"4014\",\"type\":\"ResetTool\"},{\"id\":\"4015\",\"type\":\"HelpTool\"}]},\"id\":\"4016\",\"type\":\"Toolbar\"},{\"attributes\":{\"callback\":null,\"start\":0},\"id\":\"3995\",\"type\":\"DataRange1d\"},{\"attributes\":{\"data_source\":{\"id\":\"3989\",\"type\":\"ColumnDataSource\"},\"glyph\":{\"id\":\"4025\",\"type\":\"VBar\"},\"hover_glyph\":null,\"muted_glyph\":null,\"nonselection_glyph\":{\"id\":\"4026\",\"type\":\"VBar\"},\"selection_glyph\":null,\"view\":{\"id\":\"4028\",\"type\":\"CDSView\"}},\"id\":\"4027\",\"type\":\"GlyphRenderer\"},{\"attributes\":{},\"id\":\"4223\",\"type\":\"CategoricalTickFormatter\"},{\"attributes\":{\"grid_line_color\":null,\"ticker\":{\"id\":\"4002\",\"type\":\"CategoricalTicker\"}},\"id\":\"4004\",\"type\":\"Grid\"},{\"attributes\":{\"factors\":[\"coronavirus\",\"conference\",\"press\",\"uk\",\"covid\",\"2020\",\"stayhomesavelives\",\"home\",\"people\",\"19\",\"stay\",\"stayalert\",\"borisjohnson\",\"slides\",\"new\",\"england\",\"pm\",\"nhs\",\"live\",\"protect\"],\"palette\":[\"#00204C\",\"#002963\",\"#00316F\",\"#1E3C6C\",\"#33456B\",\"#444F6B\",\"#51586C\",\"#5E626E\",\"#6A6C71\",\"#757575\",\"#828078\",\"#8F8A78\",\"#9D9577\",\"#AAA074\",\"#B8AB70\",\"#C7B76A\",\"#D5C263\",\"#E5CF5A\",\"#F4DC4E\",\"#FFE945\"]},\"id\":\"4023\",\"type\":\"CategoricalColorMapper\"},{\"attributes\":{\"fill_color\":{\"field\":\"counted_data\",\"transform\":{\"id\":\"4023\",\"type\":\"CategoricalColorMapper\"}},\"line_color\":{\"value\":\"white\"},\"top\":{\"field\":\"counts\"},\"width\":{\"value\":0.8},\"x\":{\"field\":\"counted_data\"}},\"id\":\"4025\",\"type\":\"VBar\"},{\"attributes\":{\"text\":\"Title\"},\"id\":\"3991\",\"type\":\"Title\"},{\"attributes\":{\"callback\":null,\"factors\":[\"coronavirus\",\"conference\",\"press\",\"uk\",\"covid\",\"2020\",\"stayhomesavelives\",\"home\",\"people\",\"19\",\"stay\",\"stayalert\",\"borisjohnson\",\"slides\",\"new\",\"england\",\"pm\",\"nhs\",\"live\",\"protect\"]},\"id\":\"3993\",\"type\":\"FactorRange\"},{\"attributes\":{},\"id\":\"3997\",\"type\":\"CategoricalScale\"},{\"attributes\":{\"formatter\":{\"id\":\"4221\",\"type\":\"BasicTickFormatter\"},\"ticker\":{\"id\":\"4006\",\"type\":\"BasicTicker\"}},\"id\":\"4005\",\"type\":\"LinearAxis\"},{\"attributes\":{\"dimension\":1,\"grid_line_color\":null,\"ticker\":{\"id\":\"4006\",\"type\":\"BasicTicker\"}},\"id\":\"4009\",\"type\":\"Grid\"},{\"attributes\":{},\"id\":\"3999\",\"type\":\"LinearScale\"},{\"attributes\":{},\"id\":\"4002\",\"type\":\"CategoricalTicker\"},{\"attributes\":{},\"id\":\"4221\",\"type\":\"BasicTickFormatter\"}],\"root_ids\":[\"3990\"]},\"title\":\"Bokeh Application\",\"version\":\"1.4.0\"}};\n",
       "  var render_items = [{\"docid\":\"8e5fbb4c-8c40-4f9a-9723-2de57976a973\",\"roots\":{\"3990\":\"2a7efdca-c239-4d07-acae-4246d0a34311\"}}];\n",
       "  root.Bokeh.embed.embed_items_notebook(docs_json, render_items);\n",
       "\n",
       "  }\n",
       "  if (root.Bokeh !== undefined) {\n",
       "    embed_document(root);\n",
       "  } else {\n",
       "    var attempts = 0;\n",
       "    var timer = setInterval(function(root) {\n",
       "      if (root.Bokeh !== undefined) {\n",
       "        clearInterval(timer);\n",
       "        embed_document(root);\n",
       "      } else {\n",
       "        attempts++;\n",
       "        if (attempts > 100) {\n",
       "          clearInterval(timer);\n",
       "          console.log(\"Bokeh: ERROR: Unable to run BokehJS code because BokehJS library is missing\");\n",
       "        }\n",
       "      }\n",
       "    }, 10, root)\n",
       "  }\n",
       "})(window);"
      ],
      "application/vnd.bokehjs_exec.v0+json": ""
     },
     "metadata": {
      "application/vnd.bokehjs_exec.v0+json": {
       "id": "3990"
      }
     },
     "output_type": "display_data"
    }
   ],
   "source": [
    "bow_uk.barchart_wordfreq(num_top_features=20, plot_width=700)\n"
   ]
  },
  {
   "cell_type": "code",
   "execution_count": 101,
   "metadata": {},
   "outputs": [
    {
     "data": {
      "image/png": "[encoded data removed]",
      "text/plain": [
       "<PIL.Image.Image image mode=RGB size=700x400 at 0x7F8B41DADA50>"
      ]
     },
     "execution_count": 101,
     "metadata": {},
     "output_type": "execute_result"
    }
   ],
   "source": [
    "# wordcloud \n",
    "bow_uk.prep_for_wordcloud()\n",
    "bow_uk.viz_wordcloud()\n",
    "bow_uk.wordcloud.to_image()"
   ]
  },
  {
   "cell_type": "markdown",
   "metadata": {},
   "source": [
    "### --> Bag of Words Japanese "
   ]
  },
  {
   "cell_type": "code",
   "execution_count": 102,
   "metadata": {},
   "outputs": [],
   "source": [
    "# initialize the count vectorizer \n",
    "data_jp = jp_tweets_noRT['full_text_cleaned'].tolist()\n",
    "bow_ja = BagOfWords(data=data_jp, max_df=0.98, min_df=0.005, ngram_range=(1, 1),\n",
    "                    stop_words=None, change_tokenizer=True, tokenizer=tokenize_jp_spacy)\n",
    "# fit transform and get the fit-transformed matrix of word frequencies\n",
    "bow_ja.fit_transform() #bow_bow.X\n",
    "# get the feature names \n",
    "bow_ja.get_feature_names() #bow.feature_names\n",
    "# get the feature counts \n",
    "bow_ja.get_bow_feature_counts() #bow.df_counts"
   ]
  },
  {
   "cell_type": "code",
   "execution_count": 103,
   "metadata": {},
   "outputs": [
    {
     "name": "stdout",
     "output_type": "stream",
     "text": [
      "Number of features: 467\n"
     ]
    }
   ],
   "source": [
    "print(\"Number of features: {}\".format(len(bow_ja.feature_names)))"
   ]
  },
  {
   "cell_type": "code",
   "execution_count": 104,
   "metadata": {},
   "outputs": [],
   "source": [
    "# wordcloud \n",
    "bow_ja.prep_for_wordcloud()\n",
    "bow_ja.viz_wordcloud()\n",
    "#bow_ja.wordcloud.to_image()"
   ]
  },
  {
   "cell_type": "code",
   "execution_count": 105,
   "metadata": {},
   "outputs": [
    {
     "data": {
      "text/html": [
       "\n",
       "    <div class=\"bk-root\">\n",
       "        <a href=\"https://bokeh.org\" target=\"_blank\" class=\"bk-logo bk-logo-small bk-logo-notebook\"></a>\n",
       "        <span id=\"4276\">Loading BokehJS ...</span>\n",
       "    </div>"
      ]
     },
     "metadata": {},
     "output_type": "display_data"
    },
    {
     "data": {
      "application/javascript": [
       "\n",
       "(function(root) {\n",
       "  function now() {\n",
       "    return new Date();\n",
       "  }\n",
       "\n",
       "  var force = true;\n",
       "\n",
       "  if (typeof root._bokeh_onload_callbacks === \"undefined\" || force === true) {\n",
       "    root._bokeh_onload_callbacks = [];\n",
       "    root._bokeh_is_loading = undefined;\n",
       "  }\n",
       "\n",
       "  var JS_MIME_TYPE = 'application/javascript';\n",
       "  var HTML_MIME_TYPE = 'text/html';\n",
       "  var EXEC_MIME_TYPE = 'application/vnd.bokehjs_exec.v0+json';\n",
       "  var CLASS_NAME = 'output_bokeh rendered_html';\n",
       "\n",
       "  /**\n",
       "   * Render data to the DOM node\n",
       "   */\n",
       "  function render(props, node) {\n",
       "    var script = document.createElement(\"script\");\n",
       "    node.appendChild(script);\n",
       "  }\n",
       "\n",
       "  /**\n",
       "   * Handle when an output is cleared or removed\n",
       "   */\n",
       "  function handleClearOutput(event, handle) {\n",
       "    var cell = handle.cell;\n",
       "\n",
       "    var id = cell.output_area._bokeh_element_id;\n",
       "    var server_id = cell.output_area._bokeh_server_id;\n",
       "    // Clean up Bokeh references\n",
       "    if (id != null && id in Bokeh.index) {\n",
       "      Bokeh.index[id].model.document.clear();\n",
       "      delete Bokeh.index[id];\n",
       "    }\n",
       "\n",
       "    if (server_id !== undefined) {\n",
       "      // Clean up Bokeh references\n",
       "      var cmd = \"from bokeh.io.state import curstate; print(curstate().uuid_to_server['\" + server_id + \"'].get_sessions()[0].document.roots[0]._id)\";\n",
       "      cell.notebook.kernel.execute(cmd, {\n",
       "        iopub: {\n",
       "          output: function(msg) {\n",
       "            var id = msg.content.text.trim();\n",
       "            if (id in Bokeh.index) {\n",
       "              Bokeh.index[id].model.document.clear();\n",
       "              delete Bokeh.index[id];\n",
       "            }\n",
       "          }\n",
       "        }\n",
       "      });\n",
       "      // Destroy server and session\n",
       "      var cmd = \"import bokeh.io.notebook as ion; ion.destroy_server('\" + server_id + \"')\";\n",
       "      cell.notebook.kernel.execute(cmd);\n",
       "    }\n",
       "  }\n",
       "\n",
       "  /**\n",
       "   * Handle when a new output is added\n",
       "   */\n",
       "  function handleAddOutput(event, handle) {\n",
       "    var output_area = handle.output_area;\n",
       "    var output = handle.output;\n",
       "\n",
       "    // limit handleAddOutput to display_data with EXEC_MIME_TYPE content only\n",
       "    if ((output.output_type != \"display_data\") || (!output.data.hasOwnProperty(EXEC_MIME_TYPE))) {\n",
       "      return\n",
       "    }\n",
       "\n",
       "    var toinsert = output_area.element.find(\".\" + CLASS_NAME.split(' ')[0]);\n",
       "\n",
       "    if (output.metadata[EXEC_MIME_TYPE][\"id\"] !== undefined) {\n",
       "      toinsert[toinsert.length - 1].firstChild.textContent = output.data[JS_MIME_TYPE];\n",
       "      // store reference to embed id on output_area\n",
       "      output_area._bokeh_element_id = output.metadata[EXEC_MIME_TYPE][\"id\"];\n",
       "    }\n",
       "    if (output.metadata[EXEC_MIME_TYPE][\"server_id\"] !== undefined) {\n",
       "      var bk_div = document.createElement(\"div\");\n",
       "      bk_div.innerHTML = output.data[HTML_MIME_TYPE];\n",
       "      var script_attrs = bk_div.children[0].attributes;\n",
       "      for (var i = 0; i < script_attrs.length; i++) {\n",
       "        toinsert[toinsert.length - 1].firstChild.setAttribute(script_attrs[i].name, script_attrs[i].value);\n",
       "      }\n",
       "      // store reference to server id on output_area\n",
       "      output_area._bokeh_server_id = output.metadata[EXEC_MIME_TYPE][\"server_id\"];\n",
       "    }\n",
       "  }\n",
       "\n",
       "  function register_renderer(events, OutputArea) {\n",
       "\n",
       "    function append_mime(data, metadata, element) {\n",
       "      // create a DOM node to render to\n",
       "      var toinsert = this.create_output_subarea(\n",
       "        metadata,\n",
       "        CLASS_NAME,\n",
       "        EXEC_MIME_TYPE\n",
       "      );\n",
       "      this.keyboard_manager.register_events(toinsert);\n",
       "      // Render to node\n",
       "      var props = {data: data, metadata: metadata[EXEC_MIME_TYPE]};\n",
       "      render(props, toinsert[toinsert.length - 1]);\n",
       "      element.append(toinsert);\n",
       "      return toinsert\n",
       "    }\n",
       "\n",
       "    /* Handle when an output is cleared or removed */\n",
       "    events.on('clear_output.CodeCell', handleClearOutput);\n",
       "    events.on('delete.Cell', handleClearOutput);\n",
       "\n",
       "    /* Handle when a new output is added */\n",
       "    events.on('output_added.OutputArea', handleAddOutput);\n",
       "\n",
       "    /**\n",
       "     * Register the mime type and append_mime function with output_area\n",
       "     */\n",
       "    OutputArea.prototype.register_mime_type(EXEC_MIME_TYPE, append_mime, {\n",
       "      /* Is output safe? */\n",
       "      safe: true,\n",
       "      /* Index of renderer in `output_area.display_order` */\n",
       "      index: 0\n",
       "    });\n",
       "  }\n",
       "\n",
       "  // register the mime type if in Jupyter Notebook environment and previously unregistered\n",
       "  if (root.Jupyter !== undefined) {\n",
       "    var events = require('base/js/events');\n",
       "    var OutputArea = require('notebook/js/outputarea').OutputArea;\n",
       "\n",
       "    if (OutputArea.prototype.mime_types().indexOf(EXEC_MIME_TYPE) == -1) {\n",
       "      register_renderer(events, OutputArea);\n",
       "    }\n",
       "  }\n",
       "\n",
       "  \n",
       "  if (typeof (root._bokeh_timeout) === \"undefined\" || force === true) {\n",
       "    root._bokeh_timeout = Date.now() + 5000;\n",
       "    root._bokeh_failed_load = false;\n",
       "  }\n",
       "\n",
       "  var NB_LOAD_WARNING = {'data': {'text/html':\n",
       "     \"<div style='background-color: #fdd'>\\n\"+\n",
       "     \"<p>\\n\"+\n",
       "     \"BokehJS does not appear to have successfully loaded. If loading BokehJS from CDN, this \\n\"+\n",
       "     \"may be due to a slow or bad network connection. Possible fixes:\\n\"+\n",
       "     \"</p>\\n\"+\n",
       "     \"<ul>\\n\"+\n",
       "     \"<li>re-rerun `output_notebook()` to attempt to load from CDN again, or</li>\\n\"+\n",
       "     \"<li>use INLINE resources instead, as so:</li>\\n\"+\n",
       "     \"</ul>\\n\"+\n",
       "     \"<code>\\n\"+\n",
       "     \"from bokeh.resources import INLINE\\n\"+\n",
       "     \"output_notebook(resources=INLINE)\\n\"+\n",
       "     \"</code>\\n\"+\n",
       "     \"</div>\"}};\n",
       "\n",
       "  function display_loaded() {\n",
       "    var el = document.getElementById(\"4276\");\n",
       "    if (el != null) {\n",
       "      el.textContent = \"BokehJS is loading...\";\n",
       "    }\n",
       "    if (root.Bokeh !== undefined) {\n",
       "      if (el != null) {\n",
       "        el.textContent = \"BokehJS \" + root.Bokeh.version + \" successfully loaded.\";\n",
       "      }\n",
       "    } else if (Date.now() < root._bokeh_timeout) {\n",
       "      setTimeout(display_loaded, 100)\n",
       "    }\n",
       "  }\n",
       "\n",
       "\n",
       "  function run_callbacks() {\n",
       "    try {\n",
       "      root._bokeh_onload_callbacks.forEach(function(callback) {\n",
       "        if (callback != null)\n",
       "          callback();\n",
       "      });\n",
       "    } finally {\n",
       "      delete root._bokeh_onload_callbacks\n",
       "    }\n",
       "    console.debug(\"Bokeh: all callbacks have finished\");\n",
       "  }\n",
       "\n",
       "  function load_libs(css_urls, js_urls, callback) {\n",
       "    if (css_urls == null) css_urls = [];\n",
       "    if (js_urls == null) js_urls = [];\n",
       "\n",
       "    root._bokeh_onload_callbacks.push(callback);\n",
       "    if (root._bokeh_is_loading > 0) {\n",
       "      console.debug(\"Bokeh: BokehJS is being loaded, scheduling callback at\", now());\n",
       "      return null;\n",
       "    }\n",
       "    if (js_urls == null || js_urls.length === 0) {\n",
       "      run_callbacks();\n",
       "      return null;\n",
       "    }\n",
       "    console.debug(\"Bokeh: BokehJS not loaded, scheduling load and callback at\", now());\n",
       "    root._bokeh_is_loading = css_urls.length + js_urls.length;\n",
       "\n",
       "    function on_load() {\n",
       "      root._bokeh_is_loading--;\n",
       "      if (root._bokeh_is_loading === 0) {\n",
       "        console.debug(\"Bokeh: all BokehJS libraries/stylesheets loaded\");\n",
       "        run_callbacks()\n",
       "      }\n",
       "    }\n",
       "\n",
       "    function on_error() {\n",
       "      console.error(\"failed to load \" + url);\n",
       "    }\n",
       "\n",
       "    for (var i = 0; i < css_urls.length; i++) {\n",
       "      var url = css_urls[i];\n",
       "      const element = document.createElement(\"link\");\n",
       "      element.onload = on_load;\n",
       "      element.onerror = on_error;\n",
       "      element.rel = \"stylesheet\";\n",
       "      element.type = \"text/css\";\n",
       "      element.href = url;\n",
       "      console.debug(\"Bokeh: injecting link tag for BokehJS stylesheet: \", url);\n",
       "      document.body.appendChild(element);\n",
       "    }\n",
       "\n",
       "    for (var i = 0; i < js_urls.length; i++) {\n",
       "      var url = js_urls[i];\n",
       "      var element = document.createElement('script');\n",
       "      element.onload = on_load;\n",
       "      element.onerror = on_error;\n",
       "      element.async = false;\n",
       "      element.src = url;\n",
       "      console.debug(\"Bokeh: injecting script tag for BokehJS library: \", url);\n",
       "      document.head.appendChild(element);\n",
       "    }\n",
       "  };var element = document.getElementById(\"4276\");\n",
       "  if (element == null) {\n",
       "    console.error(\"Bokeh: ERROR: autoload.js configured with elementid '4276' but no matching script tag was found. \")\n",
       "    return false;\n",
       "  }\n",
       "\n",
       "  function inject_raw_css(css) {\n",
       "    const element = document.createElement(\"style\");\n",
       "    element.appendChild(document.createTextNode(css));\n",
       "    document.body.appendChild(element);\n",
       "  }\n",
       "\n",
       "  \n",
       "  var js_urls = [\"https://cdn.pydata.org/bokeh/release/bokeh-1.4.0.min.js\", \"https://cdn.pydata.org/bokeh/release/bokeh-widgets-1.4.0.min.js\", \"https://cdn.pydata.org/bokeh/release/bokeh-tables-1.4.0.min.js\", \"https://cdn.pydata.org/bokeh/release/bokeh-gl-1.4.0.min.js\"];\n",
       "  var css_urls = [];\n",
       "  \n",
       "\n",
       "  var inline_js = [\n",
       "    function(Bokeh) {\n",
       "      Bokeh.set_log_level(\"info\");\n",
       "    },\n",
       "    function(Bokeh) {\n",
       "    \n",
       "    \n",
       "    }\n",
       "  ];\n",
       "\n",
       "  function run_inline_js() {\n",
       "    \n",
       "    if (root.Bokeh !== undefined || force === true) {\n",
       "      \n",
       "    for (var i = 0; i < inline_js.length; i++) {\n",
       "      inline_js[i].call(root, root.Bokeh);\n",
       "    }\n",
       "    if (force === true) {\n",
       "        display_loaded();\n",
       "      }} else if (Date.now() < root._bokeh_timeout) {\n",
       "      setTimeout(run_inline_js, 100);\n",
       "    } else if (!root._bokeh_failed_load) {\n",
       "      console.log(\"Bokeh: BokehJS failed to load within specified timeout.\");\n",
       "      root._bokeh_failed_load = true;\n",
       "    } else if (force !== true) {\n",
       "      var cell = $(document.getElementById(\"4276\")).parents('.cell').data().cell;\n",
       "      cell.output_area.append_execute_result(NB_LOAD_WARNING)\n",
       "    }\n",
       "\n",
       "  }\n",
       "\n",
       "  if (root._bokeh_is_loading === 0) {\n",
       "    console.debug(\"Bokeh: BokehJS loaded, going straight to plotting\");\n",
       "    run_inline_js();\n",
       "  } else {\n",
       "    load_libs(css_urls, js_urls, function() {\n",
       "      console.debug(\"Bokeh: BokehJS plotting callback run at\", now());\n",
       "      run_inline_js();\n",
       "    });\n",
       "  }\n",
       "}(window));"
      ],
      "application/vnd.bokehjs_load.v0+json": "\n(function(root) {\n  function now() {\n    return new Date();\n  }\n\n  var force = true;\n\n  if (typeof root._bokeh_onload_callbacks === \"undefined\" || force === true) {\n    root._bokeh_onload_callbacks = [];\n    root._bokeh_is_loading = undefined;\n  }\n\n  \n\n  \n  if (typeof (root._bokeh_timeout) === \"undefined\" || force === true) {\n    root._bokeh_timeout = Date.now() + 5000;\n    root._bokeh_failed_load = false;\n  }\n\n  var NB_LOAD_WARNING = {'data': {'text/html':\n     \"<div style='background-color: #fdd'>\\n\"+\n     \"<p>\\n\"+\n     \"BokehJS does not appear to have successfully loaded. If loading BokehJS from CDN, this \\n\"+\n     \"may be due to a slow or bad network connection. Possible fixes:\\n\"+\n     \"</p>\\n\"+\n     \"<ul>\\n\"+\n     \"<li>re-rerun `output_notebook()` to attempt to load from CDN again, or</li>\\n\"+\n     \"<li>use INLINE resources instead, as so:</li>\\n\"+\n     \"</ul>\\n\"+\n     \"<code>\\n\"+\n     \"from bokeh.resources import INLINE\\n\"+\n     \"output_notebook(resources=INLINE)\\n\"+\n     \"</code>\\n\"+\n     \"</div>\"}};\n\n  function display_loaded() {\n    var el = document.getElementById(\"4276\");\n    if (el != null) {\n      el.textContent = \"BokehJS is loading...\";\n    }\n    if (root.Bokeh !== undefined) {\n      if (el != null) {\n        el.textContent = \"BokehJS \" + root.Bokeh.version + \" successfully loaded.\";\n      }\n    } else if (Date.now() < root._bokeh_timeout) {\n      setTimeout(display_loaded, 100)\n    }\n  }\n\n\n  function run_callbacks() {\n    try {\n      root._bokeh_onload_callbacks.forEach(function(callback) {\n        if (callback != null)\n          callback();\n      });\n    } finally {\n      delete root._bokeh_onload_callbacks\n    }\n    console.debug(\"Bokeh: all callbacks have finished\");\n  }\n\n  function load_libs(css_urls, js_urls, callback) {\n    if (css_urls == null) css_urls = [];\n    if (js_urls == null) js_urls = [];\n\n    root._bokeh_onload_callbacks.push(callback);\n    if (root._bokeh_is_loading > 0) {\n      console.debug(\"Bokeh: BokehJS is being loaded, scheduling callback at\", now());\n      return null;\n    }\n    if (js_urls == null || js_urls.length === 0) {\n      run_callbacks();\n      return null;\n    }\n    console.debug(\"Bokeh: BokehJS not loaded, scheduling load and callback at\", now());\n    root._bokeh_is_loading = css_urls.length + js_urls.length;\n\n    function on_load() {\n      root._bokeh_is_loading--;\n      if (root._bokeh_is_loading === 0) {\n        console.debug(\"Bokeh: all BokehJS libraries/stylesheets loaded\");\n        run_callbacks()\n      }\n    }\n\n    function on_error() {\n      console.error(\"failed to load \" + url);\n    }\n\n    for (var i = 0; i < css_urls.length; i++) {\n      var url = css_urls[i];\n      const element = document.createElement(\"link\");\n      element.onload = on_load;\n      element.onerror = on_error;\n      element.rel = \"stylesheet\";\n      element.type = \"text/css\";\n      element.href = url;\n      console.debug(\"Bokeh: injecting link tag for BokehJS stylesheet: \", url);\n      document.body.appendChild(element);\n    }\n\n    for (var i = 0; i < js_urls.length; i++) {\n      var url = js_urls[i];\n      var element = document.createElement('script');\n      element.onload = on_load;\n      element.onerror = on_error;\n      element.async = false;\n      element.src = url;\n      console.debug(\"Bokeh: injecting script tag for BokehJS library: \", url);\n      document.head.appendChild(element);\n    }\n  };var element = document.getElementById(\"4276\");\n  if (element == null) {\n    console.error(\"Bokeh: ERROR: autoload.js configured with elementid '4276' but no matching script tag was found. \")\n    return false;\n  }\n\n  function inject_raw_css(css) {\n    const element = document.createElement(\"style\");\n    element.appendChild(document.createTextNode(css));\n    document.body.appendChild(element);\n  }\n\n  \n  var js_urls = [\"https://cdn.pydata.org/bokeh/release/bokeh-1.4.0.min.js\", \"https://cdn.pydata.org/bokeh/release/bokeh-widgets-1.4.0.min.js\", \"https://cdn.pydata.org/bokeh/release/bokeh-tables-1.4.0.min.js\", \"https://cdn.pydata.org/bokeh/release/bokeh-gl-1.4.0.min.js\"];\n  var css_urls = [];\n  \n\n  var inline_js = [\n    function(Bokeh) {\n      Bokeh.set_log_level(\"info\");\n    },\n    function(Bokeh) {\n    \n    \n    }\n  ];\n\n  function run_inline_js() {\n    \n    if (root.Bokeh !== undefined || force === true) {\n      \n    for (var i = 0; i < inline_js.length; i++) {\n      inline_js[i].call(root, root.Bokeh);\n    }\n    if (force === true) {\n        display_loaded();\n      }} else if (Date.now() < root._bokeh_timeout) {\n      setTimeout(run_inline_js, 100);\n    } else if (!root._bokeh_failed_load) {\n      console.log(\"Bokeh: BokehJS failed to load within specified timeout.\");\n      root._bokeh_failed_load = true;\n    } else if (force !== true) {\n      var cell = $(document.getElementById(\"4276\")).parents('.cell').data().cell;\n      cell.output_area.append_execute_result(NB_LOAD_WARNING)\n    }\n\n  }\n\n  if (root._bokeh_is_loading === 0) {\n    console.debug(\"Bokeh: BokehJS loaded, going straight to plotting\");\n    run_inline_js();\n  } else {\n    load_libs(css_urls, js_urls, function() {\n      console.debug(\"Bokeh: BokehJS plotting callback run at\", now());\n      run_inline_js();\n    });\n  }\n}(window));"
     },
     "metadata": {},
     "output_type": "display_data"
    },
    {
     "data": {
      "text/html": [
       "\n",
       "\n",
       "\n",
       "\n",
       "\n",
       "\n",
       "  <div class=\"bk-root\" id=\"f4089244-af0e-4bfd-9073-17eecc6ece46\" data-root-id=\"4278\"></div>\n"
      ]
     },
     "metadata": {},
     "output_type": "display_data"
    },
    {
     "data": {
      "application/javascript": [
       "(function(root) {\n",
       "  function embed_document(root) {\n",
       "    \n",
       "  var docs_json = {\"9fad8646-337c-4850-b4d6-5dcd7a3bdcff\":{\"roots\":{\"references\":[{\"attributes\":{\"background_fill_color\":{\"value\":\"#2b2b2b\"},\"below\":[{\"id\":\"4289\",\"type\":\"CategoricalAxis\"}],\"center\":[{\"id\":\"4292\",\"type\":\"Grid\"},{\"id\":\"4297\",\"type\":\"Grid\"}],\"left\":[{\"id\":\"4293\",\"type\":\"LinearAxis\"}],\"plot_height\":350,\"plot_width\":700,\"renderers\":[{\"id\":\"4315\",\"type\":\"GlyphRenderer\"}],\"title\":{\"id\":\"4279\",\"type\":\"Title\"},\"toolbar\":{\"id\":\"4304\",\"type\":\"Toolbar\"},\"toolbar_location\":null,\"x_range\":{\"id\":\"4281\",\"type\":\"FactorRange\"},\"x_scale\":{\"id\":\"4285\",\"type\":\"CategoricalScale\"},\"y_range\":{\"id\":\"4283\",\"type\":\"DataRange1d\"},\"y_scale\":{\"id\":\"4287\",\"type\":\"LinearScale\"}},\"id\":\"4278\",\"subtype\":\"Figure\",\"type\":\"Plot\"},{\"attributes\":{},\"id\":\"4303\",\"type\":\"HelpTool\"},{\"attributes\":{\"callback\":null,\"data\":{\"counted_data\":[\"\\u307e\\u3057\",\"\\u65e5\",\"\\u6708\",\"\\u7dcf\\u7406\",\"\\u672c\\u65e5\",\"\\u4f1a\\u898b\",\"\\u8a18\\u8005\",\"\\u63b2\\u8f09\",\"\\u5b98\\u623f\",\"\\u9577\\u5b98\",\"\\u52d5\\u753b\",\"\\u83c5\",\"\\u52d5\\u304d\",\"\\u5b89\\u500d\",\"\\u5b98\\u90b8\",\"\\u5348\\u524d\",\"\\u4f1a\\u8b70\",\"\\u5348\\u5f8c\",\"\\u767a\\u8a00\",\"\\u5192\\u982d\"],\"counts\":[814,625,625,619,550,417,388,376,364,363,358,357,246,230,218,187,177,168,125,119]},\"selected\":{\"id\":\"4522\",\"type\":\"Selection\"},\"selection_policy\":{\"id\":\"4521\",\"type\":\"UnionRenderers\"}},\"id\":\"4277\",\"type\":\"ColumnDataSource\"},{\"attributes\":{},\"id\":\"4517\",\"type\":\"BasicTickFormatter\"},{\"attributes\":{\"text\":\"Title\"},\"id\":\"4279\",\"type\":\"Title\"},{\"attributes\":{},\"id\":\"4521\",\"type\":\"UnionRenderers\"},{\"attributes\":{},\"id\":\"4519\",\"type\":\"CategoricalTickFormatter\"},{\"attributes\":{\"fill_alpha\":{\"value\":0.1},\"fill_color\":{\"value\":\"#1f77b4\"},\"line_alpha\":{\"value\":0.1},\"line_color\":{\"value\":\"#1f77b4\"},\"top\":{\"field\":\"counts\"},\"width\":{\"value\":0.8},\"x\":{\"field\":\"counted_data\"}},\"id\":\"4314\",\"type\":\"VBar\"},{\"attributes\":{\"factors\":[\"\\u307e\\u3057\",\"\\u65e5\",\"\\u6708\",\"\\u7dcf\\u7406\",\"\\u672c\\u65e5\",\"\\u4f1a\\u898b\",\"\\u8a18\\u8005\",\"\\u63b2\\u8f09\",\"\\u5b98\\u623f\",\"\\u9577\\u5b98\",\"\\u52d5\\u753b\",\"\\u83c5\",\"\\u52d5\\u304d\",\"\\u5b89\\u500d\",\"\\u5b98\\u90b8\",\"\\u5348\\u524d\",\"\\u4f1a\\u8b70\",\"\\u5348\\u5f8c\",\"\\u767a\\u8a00\",\"\\u5192\\u982d\"],\"palette\":[\"#00204C\",\"#002963\",\"#00316F\",\"#1E3C6C\",\"#33456B\",\"#444F6B\",\"#51586C\",\"#5E626E\",\"#6A6C71\",\"#757575\",\"#828078\",\"#8F8A78\",\"#9D9577\",\"#AAA074\",\"#B8AB70\",\"#C7B76A\",\"#D5C263\",\"#E5CF5A\",\"#F4DC4E\",\"#FFE945\"]},\"id\":\"4311\",\"type\":\"CategoricalColorMapper\"},{\"attributes\":{\"data_source\":{\"id\":\"4277\",\"type\":\"ColumnDataSource\"},\"glyph\":{\"id\":\"4313\",\"type\":\"VBar\"},\"hover_glyph\":null,\"muted_glyph\":null,\"nonselection_glyph\":{\"id\":\"4314\",\"type\":\"VBar\"},\"selection_glyph\":null,\"view\":{\"id\":\"4316\",\"type\":\"CDSView\"}},\"id\":\"4315\",\"type\":\"GlyphRenderer\"},{\"attributes\":{},\"id\":\"4522\",\"type\":\"Selection\"},{\"attributes\":{\"dimension\":1,\"grid_line_color\":null,\"ticker\":{\"id\":\"4294\",\"type\":\"BasicTicker\"}},\"id\":\"4297\",\"type\":\"Grid\"},{\"attributes\":{},\"id\":\"4290\",\"type\":\"CategoricalTicker\"},{\"attributes\":{\"callback\":null,\"start\":0},\"id\":\"4283\",\"type\":\"DataRange1d\"},{\"attributes\":{},\"id\":\"4285\",\"type\":\"CategoricalScale\"},{\"attributes\":{},\"id\":\"4298\",\"type\":\"PanTool\"},{\"attributes\":{\"formatter\":{\"id\":\"4517\",\"type\":\"BasicTickFormatter\"},\"ticker\":{\"id\":\"4294\",\"type\":\"BasicTicker\"}},\"id\":\"4293\",\"type\":\"LinearAxis\"},{\"attributes\":{\"bottom_units\":\"screen\",\"fill_alpha\":{\"value\":0.5},\"fill_color\":{\"value\":\"lightgrey\"},\"left_units\":\"screen\",\"level\":\"overlay\",\"line_alpha\":{\"value\":1.0},\"line_color\":{\"value\":\"black\"},\"line_dash\":[4,4],\"line_width\":{\"value\":2},\"render_mode\":\"css\",\"right_units\":\"screen\",\"top_units\":\"screen\"},\"id\":\"4523\",\"type\":\"BoxAnnotation\"},{\"attributes\":{\"active_drag\":\"auto\",\"active_inspect\":\"auto\",\"active_multi\":null,\"active_scroll\":\"auto\",\"active_tap\":\"auto\",\"tools\":[{\"id\":\"4298\",\"type\":\"PanTool\"},{\"id\":\"4299\",\"type\":\"WheelZoomTool\"},{\"id\":\"4300\",\"type\":\"BoxZoomTool\"},{\"id\":\"4301\",\"type\":\"SaveTool\"},{\"id\":\"4302\",\"type\":\"ResetTool\"},{\"id\":\"4303\",\"type\":\"HelpTool\"}]},\"id\":\"4304\",\"type\":\"Toolbar\"},{\"attributes\":{\"formatter\":{\"id\":\"4519\",\"type\":\"CategoricalTickFormatter\"},\"major_label_orientation\":1.2,\"ticker\":{\"id\":\"4290\",\"type\":\"CategoricalTicker\"}},\"id\":\"4289\",\"type\":\"CategoricalAxis\"},{\"attributes\":{},\"id\":\"4302\",\"type\":\"ResetTool\"},{\"attributes\":{},\"id\":\"4287\",\"type\":\"LinearScale\"},{\"attributes\":{\"source\":{\"id\":\"4277\",\"type\":\"ColumnDataSource\"}},\"id\":\"4316\",\"type\":\"CDSView\"},{\"attributes\":{},\"id\":\"4299\",\"type\":\"WheelZoomTool\"},{\"attributes\":{},\"id\":\"4301\",\"type\":\"SaveTool\"},{\"attributes\":{\"grid_line_color\":null,\"ticker\":{\"id\":\"4290\",\"type\":\"CategoricalTicker\"}},\"id\":\"4292\",\"type\":\"Grid\"},{\"attributes\":{\"callback\":null,\"factors\":[\"\\u307e\\u3057\",\"\\u65e5\",\"\\u6708\",\"\\u7dcf\\u7406\",\"\\u672c\\u65e5\",\"\\u4f1a\\u898b\",\"\\u8a18\\u8005\",\"\\u63b2\\u8f09\",\"\\u5b98\\u623f\",\"\\u9577\\u5b98\",\"\\u52d5\\u753b\",\"\\u83c5\",\"\\u52d5\\u304d\",\"\\u5b89\\u500d\",\"\\u5b98\\u90b8\",\"\\u5348\\u524d\",\"\\u4f1a\\u8b70\",\"\\u5348\\u5f8c\",\"\\u767a\\u8a00\",\"\\u5192\\u982d\"]},\"id\":\"4281\",\"type\":\"FactorRange\"},{\"attributes\":{},\"id\":\"4294\",\"type\":\"BasicTicker\"},{\"attributes\":{\"fill_color\":{\"field\":\"counted_data\",\"transform\":{\"id\":\"4311\",\"type\":\"CategoricalColorMapper\"}},\"line_color\":{\"value\":\"white\"},\"top\":{\"field\":\"counts\"},\"width\":{\"value\":0.8},\"x\":{\"field\":\"counted_data\"}},\"id\":\"4313\",\"type\":\"VBar\"},{\"attributes\":{\"overlay\":{\"id\":\"4523\",\"type\":\"BoxAnnotation\"}},\"id\":\"4300\",\"type\":\"BoxZoomTool\"}],\"root_ids\":[\"4278\"]},\"title\":\"Bokeh Application\",\"version\":\"1.4.0\"}};\n",
       "  var render_items = [{\"docid\":\"9fad8646-337c-4850-b4d6-5dcd7a3bdcff\",\"roots\":{\"4278\":\"f4089244-af0e-4bfd-9073-17eecc6ece46\"}}];\n",
       "  root.Bokeh.embed.embed_items_notebook(docs_json, render_items);\n",
       "\n",
       "  }\n",
       "  if (root.Bokeh !== undefined) {\n",
       "    embed_document(root);\n",
       "  } else {\n",
       "    var attempts = 0;\n",
       "    var timer = setInterval(function(root) {\n",
       "      if (root.Bokeh !== undefined) {\n",
       "        clearInterval(timer);\n",
       "        embed_document(root);\n",
       "      } else {\n",
       "        attempts++;\n",
       "        if (attempts > 100) {\n",
       "          clearInterval(timer);\n",
       "          console.log(\"Bokeh: ERROR: Unable to run BokehJS code because BokehJS library is missing\");\n",
       "        }\n",
       "      }\n",
       "    }, 10, root)\n",
       "  }\n",
       "})(window);"
      ],
      "application/vnd.bokehjs_exec.v0+json": ""
     },
     "metadata": {
      "application/vnd.bokehjs_exec.v0+json": {
       "id": "4278"
      }
     },
     "output_type": "display_data"
    }
   ],
   "source": [
    "bow_ja.barchart_wordfreq(num_top_features=20, plot_width=700)\n",
    "#show(bow.p)"
   ]
  },
  {
   "cell_type": "code",
   "execution_count": 106,
   "metadata": {},
   "outputs": [],
   "source": [
    "# initialize the count vectorizer \n",
    "bow_2grams_ja = BagOfWords(data=data_jp, max_df=0.999, min_df=0.001, ngram_range=(2, 2),\n",
    "                    stop_words=None, change_tokenizer=True, tokenizer=tokenize_jp_spacy)\n",
    "bow_2grams_ja.fit_transform() #bow_bow.X\n",
    "bow_2grams_ja.get_feature_names() #bow.feature_names\n",
    "bow_2grams_ja.get_bow_feature_counts() #bow.df_counts"
   ]
  },
  {
   "cell_type": "code",
   "execution_count": 107,
   "metadata": {},
   "outputs": [
    {
     "data": {
      "text/html": [
       "\n",
       "    <div class=\"bk-root\">\n",
       "        <a href=\"https://bokeh.org\" target=\"_blank\" class=\"bk-logo bk-logo-small bk-logo-notebook\"></a>\n",
       "        <span id=\"4572\">Loading BokehJS ...</span>\n",
       "    </div>"
      ]
     },
     "metadata": {},
     "output_type": "display_data"
    },
    {
     "data": {
      "application/javascript": [
       "\n",
       "(function(root) {\n",
       "  function now() {\n",
       "    return new Date();\n",
       "  }\n",
       "\n",
       "  var force = true;\n",
       "\n",
       "  if (typeof root._bokeh_onload_callbacks === \"undefined\" || force === true) {\n",
       "    root._bokeh_onload_callbacks = [];\n",
       "    root._bokeh_is_loading = undefined;\n",
       "  }\n",
       "\n",
       "  var JS_MIME_TYPE = 'application/javascript';\n",
       "  var HTML_MIME_TYPE = 'text/html';\n",
       "  var EXEC_MIME_TYPE = 'application/vnd.bokehjs_exec.v0+json';\n",
       "  var CLASS_NAME = 'output_bokeh rendered_html';\n",
       "\n",
       "  /**\n",
       "   * Render data to the DOM node\n",
       "   */\n",
       "  function render(props, node) {\n",
       "    var script = document.createElement(\"script\");\n",
       "    node.appendChild(script);\n",
       "  }\n",
       "\n",
       "  /**\n",
       "   * Handle when an output is cleared or removed\n",
       "   */\n",
       "  function handleClearOutput(event, handle) {\n",
       "    var cell = handle.cell;\n",
       "\n",
       "    var id = cell.output_area._bokeh_element_id;\n",
       "    var server_id = cell.output_area._bokeh_server_id;\n",
       "    // Clean up Bokeh references\n",
       "    if (id != null && id in Bokeh.index) {\n",
       "      Bokeh.index[id].model.document.clear();\n",
       "      delete Bokeh.index[id];\n",
       "    }\n",
       "\n",
       "    if (server_id !== undefined) {\n",
       "      // Clean up Bokeh references\n",
       "      var cmd = \"from bokeh.io.state import curstate; print(curstate().uuid_to_server['\" + server_id + \"'].get_sessions()[0].document.roots[0]._id)\";\n",
       "      cell.notebook.kernel.execute(cmd, {\n",
       "        iopub: {\n",
       "          output: function(msg) {\n",
       "            var id = msg.content.text.trim();\n",
       "            if (id in Bokeh.index) {\n",
       "              Bokeh.index[id].model.document.clear();\n",
       "              delete Bokeh.index[id];\n",
       "            }\n",
       "          }\n",
       "        }\n",
       "      });\n",
       "      // Destroy server and session\n",
       "      var cmd = \"import bokeh.io.notebook as ion; ion.destroy_server('\" + server_id + \"')\";\n",
       "      cell.notebook.kernel.execute(cmd);\n",
       "    }\n",
       "  }\n",
       "\n",
       "  /**\n",
       "   * Handle when a new output is added\n",
       "   */\n",
       "  function handleAddOutput(event, handle) {\n",
       "    var output_area = handle.output_area;\n",
       "    var output = handle.output;\n",
       "\n",
       "    // limit handleAddOutput to display_data with EXEC_MIME_TYPE content only\n",
       "    if ((output.output_type != \"display_data\") || (!output.data.hasOwnProperty(EXEC_MIME_TYPE))) {\n",
       "      return\n",
       "    }\n",
       "\n",
       "    var toinsert = output_area.element.find(\".\" + CLASS_NAME.split(' ')[0]);\n",
       "\n",
       "    if (output.metadata[EXEC_MIME_TYPE][\"id\"] !== undefined) {\n",
       "      toinsert[toinsert.length - 1].firstChild.textContent = output.data[JS_MIME_TYPE];\n",
       "      // store reference to embed id on output_area\n",
       "      output_area._bokeh_element_id = output.metadata[EXEC_MIME_TYPE][\"id\"];\n",
       "    }\n",
       "    if (output.metadata[EXEC_MIME_TYPE][\"server_id\"] !== undefined) {\n",
       "      var bk_div = document.createElement(\"div\");\n",
       "      bk_div.innerHTML = output.data[HTML_MIME_TYPE];\n",
       "      var script_attrs = bk_div.children[0].attributes;\n",
       "      for (var i = 0; i < script_attrs.length; i++) {\n",
       "        toinsert[toinsert.length - 1].firstChild.setAttribute(script_attrs[i].name, script_attrs[i].value);\n",
       "      }\n",
       "      // store reference to server id on output_area\n",
       "      output_area._bokeh_server_id = output.metadata[EXEC_MIME_TYPE][\"server_id\"];\n",
       "    }\n",
       "  }\n",
       "\n",
       "  function register_renderer(events, OutputArea) {\n",
       "\n",
       "    function append_mime(data, metadata, element) {\n",
       "      // create a DOM node to render to\n",
       "      var toinsert = this.create_output_subarea(\n",
       "        metadata,\n",
       "        CLASS_NAME,\n",
       "        EXEC_MIME_TYPE\n",
       "      );\n",
       "      this.keyboard_manager.register_events(toinsert);\n",
       "      // Render to node\n",
       "      var props = {data: data, metadata: metadata[EXEC_MIME_TYPE]};\n",
       "      render(props, toinsert[toinsert.length - 1]);\n",
       "      element.append(toinsert);\n",
       "      return toinsert\n",
       "    }\n",
       "\n",
       "    /* Handle when an output is cleared or removed */\n",
       "    events.on('clear_output.CodeCell', handleClearOutput);\n",
       "    events.on('delete.Cell', handleClearOutput);\n",
       "\n",
       "    /* Handle when a new output is added */\n",
       "    events.on('output_added.OutputArea', handleAddOutput);\n",
       "\n",
       "    /**\n",
       "     * Register the mime type and append_mime function with output_area\n",
       "     */\n",
       "    OutputArea.prototype.register_mime_type(EXEC_MIME_TYPE, append_mime, {\n",
       "      /* Is output safe? */\n",
       "      safe: true,\n",
       "      /* Index of renderer in `output_area.display_order` */\n",
       "      index: 0\n",
       "    });\n",
       "  }\n",
       "\n",
       "  // register the mime type if in Jupyter Notebook environment and previously unregistered\n",
       "  if (root.Jupyter !== undefined) {\n",
       "    var events = require('base/js/events');\n",
       "    var OutputArea = require('notebook/js/outputarea').OutputArea;\n",
       "\n",
       "    if (OutputArea.prototype.mime_types().indexOf(EXEC_MIME_TYPE) == -1) {\n",
       "      register_renderer(events, OutputArea);\n",
       "    }\n",
       "  }\n",
       "\n",
       "  \n",
       "  if (typeof (root._bokeh_timeout) === \"undefined\" || force === true) {\n",
       "    root._bokeh_timeout = Date.now() + 5000;\n",
       "    root._bokeh_failed_load = false;\n",
       "  }\n",
       "\n",
       "  var NB_LOAD_WARNING = {'data': {'text/html':\n",
       "     \"<div style='background-color: #fdd'>\\n\"+\n",
       "     \"<p>\\n\"+\n",
       "     \"BokehJS does not appear to have successfully loaded. If loading BokehJS from CDN, this \\n\"+\n",
       "     \"may be due to a slow or bad network connection. Possible fixes:\\n\"+\n",
       "     \"</p>\\n\"+\n",
       "     \"<ul>\\n\"+\n",
       "     \"<li>re-rerun `output_notebook()` to attempt to load from CDN again, or</li>\\n\"+\n",
       "     \"<li>use INLINE resources instead, as so:</li>\\n\"+\n",
       "     \"</ul>\\n\"+\n",
       "     \"<code>\\n\"+\n",
       "     \"from bokeh.resources import INLINE\\n\"+\n",
       "     \"output_notebook(resources=INLINE)\\n\"+\n",
       "     \"</code>\\n\"+\n",
       "     \"</div>\"}};\n",
       "\n",
       "  function display_loaded() {\n",
       "    var el = document.getElementById(\"4572\");\n",
       "    if (el != null) {\n",
       "      el.textContent = \"BokehJS is loading...\";\n",
       "    }\n",
       "    if (root.Bokeh !== undefined) {\n",
       "      if (el != null) {\n",
       "        el.textContent = \"BokehJS \" + root.Bokeh.version + \" successfully loaded.\";\n",
       "      }\n",
       "    } else if (Date.now() < root._bokeh_timeout) {\n",
       "      setTimeout(display_loaded, 100)\n",
       "    }\n",
       "  }\n",
       "\n",
       "\n",
       "  function run_callbacks() {\n",
       "    try {\n",
       "      root._bokeh_onload_callbacks.forEach(function(callback) {\n",
       "        if (callback != null)\n",
       "          callback();\n",
       "      });\n",
       "    } finally {\n",
       "      delete root._bokeh_onload_callbacks\n",
       "    }\n",
       "    console.debug(\"Bokeh: all callbacks have finished\");\n",
       "  }\n",
       "\n",
       "  function load_libs(css_urls, js_urls, callback) {\n",
       "    if (css_urls == null) css_urls = [];\n",
       "    if (js_urls == null) js_urls = [];\n",
       "\n",
       "    root._bokeh_onload_callbacks.push(callback);\n",
       "    if (root._bokeh_is_loading > 0) {\n",
       "      console.debug(\"Bokeh: BokehJS is being loaded, scheduling callback at\", now());\n",
       "      return null;\n",
       "    }\n",
       "    if (js_urls == null || js_urls.length === 0) {\n",
       "      run_callbacks();\n",
       "      return null;\n",
       "    }\n",
       "    console.debug(\"Bokeh: BokehJS not loaded, scheduling load and callback at\", now());\n",
       "    root._bokeh_is_loading = css_urls.length + js_urls.length;\n",
       "\n",
       "    function on_load() {\n",
       "      root._bokeh_is_loading--;\n",
       "      if (root._bokeh_is_loading === 0) {\n",
       "        console.debug(\"Bokeh: all BokehJS libraries/stylesheets loaded\");\n",
       "        run_callbacks()\n",
       "      }\n",
       "    }\n",
       "\n",
       "    function on_error() {\n",
       "      console.error(\"failed to load \" + url);\n",
       "    }\n",
       "\n",
       "    for (var i = 0; i < css_urls.length; i++) {\n",
       "      var url = css_urls[i];\n",
       "      const element = document.createElement(\"link\");\n",
       "      element.onload = on_load;\n",
       "      element.onerror = on_error;\n",
       "      element.rel = \"stylesheet\";\n",
       "      element.type = \"text/css\";\n",
       "      element.href = url;\n",
       "      console.debug(\"Bokeh: injecting link tag for BokehJS stylesheet: \", url);\n",
       "      document.body.appendChild(element);\n",
       "    }\n",
       "\n",
       "    for (var i = 0; i < js_urls.length; i++) {\n",
       "      var url = js_urls[i];\n",
       "      var element = document.createElement('script');\n",
       "      element.onload = on_load;\n",
       "      element.onerror = on_error;\n",
       "      element.async = false;\n",
       "      element.src = url;\n",
       "      console.debug(\"Bokeh: injecting script tag for BokehJS library: \", url);\n",
       "      document.head.appendChild(element);\n",
       "    }\n",
       "  };var element = document.getElementById(\"4572\");\n",
       "  if (element == null) {\n",
       "    console.error(\"Bokeh: ERROR: autoload.js configured with elementid '4572' but no matching script tag was found. \")\n",
       "    return false;\n",
       "  }\n",
       "\n",
       "  function inject_raw_css(css) {\n",
       "    const element = document.createElement(\"style\");\n",
       "    element.appendChild(document.createTextNode(css));\n",
       "    document.body.appendChild(element);\n",
       "  }\n",
       "\n",
       "  \n",
       "  var js_urls = [\"https://cdn.pydata.org/bokeh/release/bokeh-1.4.0.min.js\", \"https://cdn.pydata.org/bokeh/release/bokeh-widgets-1.4.0.min.js\", \"https://cdn.pydata.org/bokeh/release/bokeh-tables-1.4.0.min.js\", \"https://cdn.pydata.org/bokeh/release/bokeh-gl-1.4.0.min.js\"];\n",
       "  var css_urls = [];\n",
       "  \n",
       "\n",
       "  var inline_js = [\n",
       "    function(Bokeh) {\n",
       "      Bokeh.set_log_level(\"info\");\n",
       "    },\n",
       "    function(Bokeh) {\n",
       "    \n",
       "    \n",
       "    }\n",
       "  ];\n",
       "\n",
       "  function run_inline_js() {\n",
       "    \n",
       "    if (root.Bokeh !== undefined || force === true) {\n",
       "      \n",
       "    for (var i = 0; i < inline_js.length; i++) {\n",
       "      inline_js[i].call(root, root.Bokeh);\n",
       "    }\n",
       "    if (force === true) {\n",
       "        display_loaded();\n",
       "      }} else if (Date.now() < root._bokeh_timeout) {\n",
       "      setTimeout(run_inline_js, 100);\n",
       "    } else if (!root._bokeh_failed_load) {\n",
       "      console.log(\"Bokeh: BokehJS failed to load within specified timeout.\");\n",
       "      root._bokeh_failed_load = true;\n",
       "    } else if (force !== true) {\n",
       "      var cell = $(document.getElementById(\"4572\")).parents('.cell').data().cell;\n",
       "      cell.output_area.append_execute_result(NB_LOAD_WARNING)\n",
       "    }\n",
       "\n",
       "  }\n",
       "\n",
       "  if (root._bokeh_is_loading === 0) {\n",
       "    console.debug(\"Bokeh: BokehJS loaded, going straight to plotting\");\n",
       "    run_inline_js();\n",
       "  } else {\n",
       "    load_libs(css_urls, js_urls, function() {\n",
       "      console.debug(\"Bokeh: BokehJS plotting callback run at\", now());\n",
       "      run_inline_js();\n",
       "    });\n",
       "  }\n",
       "}(window));"
      ],
      "application/vnd.bokehjs_load.v0+json": "\n(function(root) {\n  function now() {\n    return new Date();\n  }\n\n  var force = true;\n\n  if (typeof root._bokeh_onload_callbacks === \"undefined\" || force === true) {\n    root._bokeh_onload_callbacks = [];\n    root._bokeh_is_loading = undefined;\n  }\n\n  \n\n  \n  if (typeof (root._bokeh_timeout) === \"undefined\" || force === true) {\n    root._bokeh_timeout = Date.now() + 5000;\n    root._bokeh_failed_load = false;\n  }\n\n  var NB_LOAD_WARNING = {'data': {'text/html':\n     \"<div style='background-color: #fdd'>\\n\"+\n     \"<p>\\n\"+\n     \"BokehJS does not appear to have successfully loaded. If loading BokehJS from CDN, this \\n\"+\n     \"may be due to a slow or bad network connection. Possible fixes:\\n\"+\n     \"</p>\\n\"+\n     \"<ul>\\n\"+\n     \"<li>re-rerun `output_notebook()` to attempt to load from CDN again, or</li>\\n\"+\n     \"<li>use INLINE resources instead, as so:</li>\\n\"+\n     \"</ul>\\n\"+\n     \"<code>\\n\"+\n     \"from bokeh.resources import INLINE\\n\"+\n     \"output_notebook(resources=INLINE)\\n\"+\n     \"</code>\\n\"+\n     \"</div>\"}};\n\n  function display_loaded() {\n    var el = document.getElementById(\"4572\");\n    if (el != null) {\n      el.textContent = \"BokehJS is loading...\";\n    }\n    if (root.Bokeh !== undefined) {\n      if (el != null) {\n        el.textContent = \"BokehJS \" + root.Bokeh.version + \" successfully loaded.\";\n      }\n    } else if (Date.now() < root._bokeh_timeout) {\n      setTimeout(display_loaded, 100)\n    }\n  }\n\n\n  function run_callbacks() {\n    try {\n      root._bokeh_onload_callbacks.forEach(function(callback) {\n        if (callback != null)\n          callback();\n      });\n    } finally {\n      delete root._bokeh_onload_callbacks\n    }\n    console.debug(\"Bokeh: all callbacks have finished\");\n  }\n\n  function load_libs(css_urls, js_urls, callback) {\n    if (css_urls == null) css_urls = [];\n    if (js_urls == null) js_urls = [];\n\n    root._bokeh_onload_callbacks.push(callback);\n    if (root._bokeh_is_loading > 0) {\n      console.debug(\"Bokeh: BokehJS is being loaded, scheduling callback at\", now());\n      return null;\n    }\n    if (js_urls == null || js_urls.length === 0) {\n      run_callbacks();\n      return null;\n    }\n    console.debug(\"Bokeh: BokehJS not loaded, scheduling load and callback at\", now());\n    root._bokeh_is_loading = css_urls.length + js_urls.length;\n\n    function on_load() {\n      root._bokeh_is_loading--;\n      if (root._bokeh_is_loading === 0) {\n        console.debug(\"Bokeh: all BokehJS libraries/stylesheets loaded\");\n        run_callbacks()\n      }\n    }\n\n    function on_error() {\n      console.error(\"failed to load \" + url);\n    }\n\n    for (var i = 0; i < css_urls.length; i++) {\n      var url = css_urls[i];\n      const element = document.createElement(\"link\");\n      element.onload = on_load;\n      element.onerror = on_error;\n      element.rel = \"stylesheet\";\n      element.type = \"text/css\";\n      element.href = url;\n      console.debug(\"Bokeh: injecting link tag for BokehJS stylesheet: \", url);\n      document.body.appendChild(element);\n    }\n\n    for (var i = 0; i < js_urls.length; i++) {\n      var url = js_urls[i];\n      var element = document.createElement('script');\n      element.onload = on_load;\n      element.onerror = on_error;\n      element.async = false;\n      element.src = url;\n      console.debug(\"Bokeh: injecting script tag for BokehJS library: \", url);\n      document.head.appendChild(element);\n    }\n  };var element = document.getElementById(\"4572\");\n  if (element == null) {\n    console.error(\"Bokeh: ERROR: autoload.js configured with elementid '4572' but no matching script tag was found. \")\n    return false;\n  }\n\n  function inject_raw_css(css) {\n    const element = document.createElement(\"style\");\n    element.appendChild(document.createTextNode(css));\n    document.body.appendChild(element);\n  }\n\n  \n  var js_urls = [\"https://cdn.pydata.org/bokeh/release/bokeh-1.4.0.min.js\", \"https://cdn.pydata.org/bokeh/release/bokeh-widgets-1.4.0.min.js\", \"https://cdn.pydata.org/bokeh/release/bokeh-tables-1.4.0.min.js\", \"https://cdn.pydata.org/bokeh/release/bokeh-gl-1.4.0.min.js\"];\n  var css_urls = [];\n  \n\n  var inline_js = [\n    function(Bokeh) {\n      Bokeh.set_log_level(\"info\");\n    },\n    function(Bokeh) {\n    \n    \n    }\n  ];\n\n  function run_inline_js() {\n    \n    if (root.Bokeh !== undefined || force === true) {\n      \n    for (var i = 0; i < inline_js.length; i++) {\n      inline_js[i].call(root, root.Bokeh);\n    }\n    if (force === true) {\n        display_loaded();\n      }} else if (Date.now() < root._bokeh_timeout) {\n      setTimeout(run_inline_js, 100);\n    } else if (!root._bokeh_failed_load) {\n      console.log(\"Bokeh: BokehJS failed to load within specified timeout.\");\n      root._bokeh_failed_load = true;\n    } else if (force !== true) {\n      var cell = $(document.getElementById(\"4572\")).parents('.cell').data().cell;\n      cell.output_area.append_execute_result(NB_LOAD_WARNING)\n    }\n\n  }\n\n  if (root._bokeh_is_loading === 0) {\n    console.debug(\"Bokeh: BokehJS loaded, going straight to plotting\");\n    run_inline_js();\n  } else {\n    load_libs(css_urls, js_urls, function() {\n      console.debug(\"Bokeh: BokehJS plotting callback run at\", now());\n      run_inline_js();\n    });\n  }\n}(window));"
     },
     "metadata": {},
     "output_type": "display_data"
    },
    {
     "data": {
      "text/html": [
       "\n",
       "\n",
       "\n",
       "\n",
       "\n",
       "\n",
       "  <div class=\"bk-root\" id=\"f83be649-b337-43e1-a377-0078ab0bf08b\" data-root-id=\"4574\"></div>\n"
      ]
     },
     "metadata": {},
     "output_type": "display_data"
    },
    {
     "data": {
      "application/javascript": [
       "(function(root) {\n",
       "  function embed_document(root) {\n",
       "    \n",
       "  var docs_json = {\"2033a383-893b-4f3b-9b8a-06c0c4d392b4\":{\"roots\":{\"references\":[{\"attributes\":{\"background_fill_color\":{\"value\":\"#2b2b2b\"},\"below\":[{\"id\":\"4585\",\"type\":\"CategoricalAxis\"}],\"center\":[{\"id\":\"4588\",\"type\":\"Grid\"},{\"id\":\"4593\",\"type\":\"Grid\"}],\"left\":[{\"id\":\"4589\",\"type\":\"LinearAxis\"}],\"plot_height\":350,\"plot_width\":700,\"renderers\":[{\"id\":\"4611\",\"type\":\"GlyphRenderer\"}],\"title\":{\"id\":\"4575\",\"type\":\"Title\"},\"toolbar\":{\"id\":\"4600\",\"type\":\"Toolbar\"},\"toolbar_location\":null,\"x_range\":{\"id\":\"4577\",\"type\":\"FactorRange\"},\"x_scale\":{\"id\":\"4581\",\"type\":\"CategoricalScale\"},\"y_range\":{\"id\":\"4579\",\"type\":\"DataRange1d\"},\"y_scale\":{\"id\":\"4583\",\"type\":\"LinearScale\"}},\"id\":\"4574\",\"subtype\":\"Figure\",\"type\":\"Plot\"},{\"attributes\":{\"formatter\":{\"id\":\"4821\",\"type\":\"BasicTickFormatter\"},\"ticker\":{\"id\":\"4590\",\"type\":\"BasicTicker\"}},\"id\":\"4589\",\"type\":\"LinearAxis\"},{\"attributes\":{\"dimension\":1,\"grid_line_color\":null,\"ticker\":{\"id\":\"4590\",\"type\":\"BasicTicker\"}},\"id\":\"4593\",\"type\":\"Grid\"},{\"attributes\":{},\"id\":\"4581\",\"type\":\"CategoricalScale\"},{\"attributes\":{},\"id\":\"4590\",\"type\":\"BasicTicker\"},{\"attributes\":{\"callback\":null,\"data\":{\"counted_data\":[\"\\u8a18\\u8005 \\u4f1a\\u898b\",\"\\u63b2\\u8f09 \\u307e\\u3057\",\"\\u9577\\u5b98 \\u8a18\\u8005\",\"\\u52d5\\u753b \\u63b2\\u8f09\",\"\\u4f1a\\u898b \\u672c\\u65e5\",\"\\u5b98\\u623f \\u9577\\u5b98\",\"\\u83c5 \\u5b98\\u623f\",\"\\u7dcf\\u7406 \\u52d5\\u304d\",\"\\u5b89\\u500d \\u7dcf\\u7406\",\"\\u7dcf\\u7406 \\u5b98\\u90b8\",\"\\u5348\\u524d \\u52d5\\u753b\",\"\\u65e5 \\u5b89\\u500d\",\"\\u65e5 \\u5348\\u524d\",\"\\u5348\\u5f8c \\u52d5\\u753b\",\"\\u65e5 \\u5348\\u5f8c\",\"\\u52d5\\u304d \\u672c\\u65e5\",\"\\u5192\\u982d \\u767a\\u8a00\",\"\\u307e\\u3057 \\uff3b\",\"\\uff3b \\u5192\\u982d\",\"\\u767a\\u8a00 \\uff3d\"],\"counts\":[384,375,355,354,352,331,273,244,220,196,187,182,181,164,163,162,118,112,112,112]},\"selected\":{\"id\":\"4826\",\"type\":\"Selection\"},\"selection_policy\":{\"id\":\"4825\",\"type\":\"UnionRenderers\"}},\"id\":\"4573\",\"type\":\"ColumnDataSource\"},{\"attributes\":{\"text\":\"Title\"},\"id\":\"4575\",\"type\":\"Title\"},{\"attributes\":{},\"id\":\"4583\",\"type\":\"LinearScale\"},{\"attributes\":{},\"id\":\"4597\",\"type\":\"SaveTool\"},{\"attributes\":{},\"id\":\"4823\",\"type\":\"CategoricalTickFormatter\"},{\"attributes\":{\"source\":{\"id\":\"4573\",\"type\":\"ColumnDataSource\"}},\"id\":\"4612\",\"type\":\"CDSView\"},{\"attributes\":{\"fill_color\":{\"field\":\"counted_data\",\"transform\":{\"id\":\"4607\",\"type\":\"CategoricalColorMapper\"}},\"line_color\":{\"value\":\"white\"},\"top\":{\"field\":\"counts\"},\"width\":{\"value\":0.8},\"x\":{\"field\":\"counted_data\"}},\"id\":\"4609\",\"type\":\"VBar\"},{\"attributes\":{},\"id\":\"4599\",\"type\":\"HelpTool\"},{\"attributes\":{\"callback\":null,\"factors\":[\"\\u8a18\\u8005 \\u4f1a\\u898b\",\"\\u63b2\\u8f09 \\u307e\\u3057\",\"\\u9577\\u5b98 \\u8a18\\u8005\",\"\\u52d5\\u753b \\u63b2\\u8f09\",\"\\u4f1a\\u898b \\u672c\\u65e5\",\"\\u5b98\\u623f \\u9577\\u5b98\",\"\\u83c5 \\u5b98\\u623f\",\"\\u7dcf\\u7406 \\u52d5\\u304d\",\"\\u5b89\\u500d \\u7dcf\\u7406\",\"\\u7dcf\\u7406 \\u5b98\\u90b8\",\"\\u5348\\u524d \\u52d5\\u753b\",\"\\u65e5 \\u5b89\\u500d\",\"\\u65e5 \\u5348\\u524d\",\"\\u5348\\u5f8c \\u52d5\\u753b\",\"\\u65e5 \\u5348\\u5f8c\",\"\\u52d5\\u304d \\u672c\\u65e5\",\"\\u5192\\u982d \\u767a\\u8a00\",\"\\u307e\\u3057 \\uff3b\",\"\\uff3b \\u5192\\u982d\",\"\\u767a\\u8a00 \\uff3d\"]},\"id\":\"4577\",\"type\":\"FactorRange\"},{\"attributes\":{},\"id\":\"4594\",\"type\":\"PanTool\"},{\"attributes\":{\"grid_line_color\":null,\"ticker\":{\"id\":\"4586\",\"type\":\"CategoricalTicker\"}},\"id\":\"4588\",\"type\":\"Grid\"},{\"attributes\":{\"fill_alpha\":{\"value\":0.1},\"fill_color\":{\"value\":\"#1f77b4\"},\"line_alpha\":{\"value\":0.1},\"line_color\":{\"value\":\"#1f77b4\"},\"top\":{\"field\":\"counts\"},\"width\":{\"value\":0.8},\"x\":{\"field\":\"counted_data\"}},\"id\":\"4610\",\"type\":\"VBar\"},{\"attributes\":{\"bottom_units\":\"screen\",\"fill_alpha\":{\"value\":0.5},\"fill_color\":{\"value\":\"lightgrey\"},\"left_units\":\"screen\",\"level\":\"overlay\",\"line_alpha\":{\"value\":1.0},\"line_color\":{\"value\":\"black\"},\"line_dash\":[4,4],\"line_width\":{\"value\":2},\"render_mode\":\"css\",\"right_units\":\"screen\",\"top_units\":\"screen\"},\"id\":\"4827\",\"type\":\"BoxAnnotation\"},{\"attributes\":{},\"id\":\"4595\",\"type\":\"WheelZoomTool\"},{\"attributes\":{},\"id\":\"4586\",\"type\":\"CategoricalTicker\"},{\"attributes\":{},\"id\":\"4821\",\"type\":\"BasicTickFormatter\"},{\"attributes\":{\"factors\":[\"\\u8a18\\u8005 \\u4f1a\\u898b\",\"\\u63b2\\u8f09 \\u307e\\u3057\",\"\\u9577\\u5b98 \\u8a18\\u8005\",\"\\u52d5\\u753b \\u63b2\\u8f09\",\"\\u4f1a\\u898b \\u672c\\u65e5\",\"\\u5b98\\u623f \\u9577\\u5b98\",\"\\u83c5 \\u5b98\\u623f\",\"\\u7dcf\\u7406 \\u52d5\\u304d\",\"\\u5b89\\u500d \\u7dcf\\u7406\",\"\\u7dcf\\u7406 \\u5b98\\u90b8\",\"\\u5348\\u524d \\u52d5\\u753b\",\"\\u65e5 \\u5b89\\u500d\",\"\\u65e5 \\u5348\\u524d\",\"\\u5348\\u5f8c \\u52d5\\u753b\",\"\\u65e5 \\u5348\\u5f8c\",\"\\u52d5\\u304d \\u672c\\u65e5\",\"\\u5192\\u982d \\u767a\\u8a00\",\"\\u307e\\u3057 \\uff3b\",\"\\uff3b \\u5192\\u982d\",\"\\u767a\\u8a00 \\uff3d\"],\"palette\":[\"#00204C\",\"#002963\",\"#00316F\",\"#1E3C6C\",\"#33456B\",\"#444F6B\",\"#51586C\",\"#5E626E\",\"#6A6C71\",\"#757575\",\"#828078\",\"#8F8A78\",\"#9D9577\",\"#AAA074\",\"#B8AB70\",\"#C7B76A\",\"#D5C263\",\"#E5CF5A\",\"#F4DC4E\",\"#FFE945\"]},\"id\":\"4607\",\"type\":\"CategoricalColorMapper\"},{\"attributes\":{\"active_drag\":\"auto\",\"active_inspect\":\"auto\",\"active_multi\":null,\"active_scroll\":\"auto\",\"active_tap\":\"auto\",\"tools\":[{\"id\":\"4594\",\"type\":\"PanTool\"},{\"id\":\"4595\",\"type\":\"WheelZoomTool\"},{\"id\":\"4596\",\"type\":\"BoxZoomTool\"},{\"id\":\"4597\",\"type\":\"SaveTool\"},{\"id\":\"4598\",\"type\":\"ResetTool\"},{\"id\":\"4599\",\"type\":\"HelpTool\"}]},\"id\":\"4600\",\"type\":\"Toolbar\"},{\"attributes\":{\"data_source\":{\"id\":\"4573\",\"type\":\"ColumnDataSource\"},\"glyph\":{\"id\":\"4609\",\"type\":\"VBar\"},\"hover_glyph\":null,\"muted_glyph\":null,\"nonselection_glyph\":{\"id\":\"4610\",\"type\":\"VBar\"},\"selection_glyph\":null,\"view\":{\"id\":\"4612\",\"type\":\"CDSView\"}},\"id\":\"4611\",\"type\":\"GlyphRenderer\"},{\"attributes\":{\"callback\":null,\"start\":0},\"id\":\"4579\",\"type\":\"DataRange1d\"},{\"attributes\":{\"formatter\":{\"id\":\"4823\",\"type\":\"CategoricalTickFormatter\"},\"major_label_orientation\":1.2,\"ticker\":{\"id\":\"4586\",\"type\":\"CategoricalTicker\"}},\"id\":\"4585\",\"type\":\"CategoricalAxis\"},{\"attributes\":{},\"id\":\"4826\",\"type\":\"Selection\"},{\"attributes\":{},\"id\":\"4598\",\"type\":\"ResetTool\"},{\"attributes\":{\"overlay\":{\"id\":\"4827\",\"type\":\"BoxAnnotation\"}},\"id\":\"4596\",\"type\":\"BoxZoomTool\"},{\"attributes\":{},\"id\":\"4825\",\"type\":\"UnionRenderers\"}],\"root_ids\":[\"4574\"]},\"title\":\"Bokeh Application\",\"version\":\"1.4.0\"}};\n",
       "  var render_items = [{\"docid\":\"2033a383-893b-4f3b-9b8a-06c0c4d392b4\",\"roots\":{\"4574\":\"f83be649-b337-43e1-a377-0078ab0bf08b\"}}];\n",
       "  root.Bokeh.embed.embed_items_notebook(docs_json, render_items);\n",
       "\n",
       "  }\n",
       "  if (root.Bokeh !== undefined) {\n",
       "    embed_document(root);\n",
       "  } else {\n",
       "    var attempts = 0;\n",
       "    var timer = setInterval(function(root) {\n",
       "      if (root.Bokeh !== undefined) {\n",
       "        clearInterval(timer);\n",
       "        embed_document(root);\n",
       "      } else {\n",
       "        attempts++;\n",
       "        if (attempts > 100) {\n",
       "          clearInterval(timer);\n",
       "          console.log(\"Bokeh: ERROR: Unable to run BokehJS code because BokehJS library is missing\");\n",
       "        }\n",
       "      }\n",
       "    }, 10, root)\n",
       "  }\n",
       "})(window);"
      ],
      "application/vnd.bokehjs_exec.v0+json": ""
     },
     "metadata": {
      "application/vnd.bokehjs_exec.v0+json": {
       "id": "4574"
      }
     },
     "output_type": "display_data"
    }
   ],
   "source": [
    "bow_2grams_ja.barchart_wordfreq(num_top_features=20, plot_width=700)"
   ]
  },
  {
   "cell_type": "markdown",
   "metadata": {},
   "source": [
    "## Topic Modelling with LDA"
   ]
  },
  {
   "cell_type": "code",
   "execution_count": 108,
   "metadata": {},
   "outputs": [],
   "source": [
    "# pass in the bow data and the vectorizer that was used to obtain in \n",
    "class TopicModelling:\n",
    "    def __init__(self, bow_data, vectorizer, n_components, n_top_words):\n",
    "        self.bow_data = bow_data\n",
    "        self.n_components = n_components \n",
    "        self.n_top_words = n_top_words\n",
    "        self.vectorizer = vectorizer\n",
    "        self.lda = LDA(n_components=n_components, \n",
    "                                max_iter=5,\n",
    "                                learning_method='online',\n",
    "                                learning_offset=50.,\n",
    "                                random_state=0)\n",
    "        self.feature_names = \"\"\n",
    "        self.top_topic_words = {}\n",
    "        \n",
    "    def fit(self):\n",
    "        self.lda.fit(self.bow_data)\n",
    "        \n",
    "    # get the features from the passed vectorizer\n",
    "    def get_feature_names(self):\n",
    "        self.feature_names = self.vectorizer.get_feature_names()\n",
    "       \n",
    "    def get_top_topic_words(self):\n",
    "        for topic_idx, topic in enumerate(self.lda.components_):\n",
    "            self.top_topic_words[\"topic_\" + str(topic_idx)] = \" \".join([self.feature_names[i] for i in topic.argsort()[:-self.n_top_words - 1:-1]])\n",
    "            \n",
    "    # predic the topics \n",
    "    def pred(self, data):\n",
    "        return self.lda.transform(data)\n",
    "    \n",
    "    # make a dataframe out of the predictions \n",
    "    def preds_to_df(self, data):\n",
    "        preds = self.pred(data)\n",
    "        preds_df = pd.DataFrame(preds)\n",
    "        preds_df.columns = [\"topic_\" + str(i) for i in preds_df.columns.tolist()]\n",
    "        return preds_df\n",
    "    \n",
    "    def visualise_lda(self, data, filename=\"lda_visualised\"):\n",
    "        LDAvis_prepared = sklearn_lda.prepare(self.lda, data, self.vectorizer)\n",
    "        pyLDAvis.save_html(LDAvis_prepared, os.path.join(filename + '.html'))"
   ]
  },
  {
   "cell_type": "code",
   "execution_count": 109,
   "metadata": {},
   "outputs": [],
   "source": [
    "# vectorized_data=bow.X, data_vectorizer=bow.MyCountVectorizer, n_components=10, n_top_words=20, filename=\"test\"\n",
    "def get_lda(vectorized_data, data_vectorizer, n_components=10, n_top_words=20, filename=\"test\"):\n",
    "    \n",
    "    lda = TopicModelling(bow_data=vectorized_data, vectorizer=data_vectorizer, n_components=n_components, n_top_words=n_top_words)\n",
    "    # fit the lda model \n",
    "    lda.fit()\n",
    "    # get the vectorizer feature names \n",
    "    lda.get_feature_names()\n",
    "    # get the top words for each topic \n",
    "    lda.get_top_topic_words()\n",
    "    \n",
    "    lda_preds = lda.pred(vectorized_data)\n",
    "    preds_df = lda.preds_to_df(vectorized_data)\n",
    "    \n",
    "    lda.visualise_lda(vectorized_data, filename+str(n_components))\n",
    "\n",
    "    return lda, lda_preds, preds_df"
   ]
  },
  {
   "cell_type": "markdown",
   "metadata": {},
   "source": [
    "### --> LDA for English "
   ]
  },
  {
   "cell_type": "code",
   "execution_count": 110,
   "metadata": {},
   "outputs": [],
   "source": [
    "uk_lda5, uk_lda_preds5, uk_preds_df5 = get_lda(\n",
    "    vectorized_data = bow_uk.X,\n",
    "    data_vectorizer = bow_uk.MyCountVectorizer,\n",
    "    n_components=5,\n",
    "    n_top_words=20,\n",
    "    filename = \"uk_tweets_5topics\"\n",
    ")"
   ]
  },
  {
   "cell_type": "code",
   "execution_count": 111,
   "metadata": {},
   "outputs": [
    {
     "data": {
      "text/plain": [
       "{'topic_0': 'borisjohnson pm coronavirus symptoms minister support new today prime need test help work uk met self world people find isolate',\n",
       " 'topic_1': 'stayalert face stay metres apart hands public covering wash virus wear remember transport work control outside coronavirus protect regularly spread',\n",
       " 'topic_2': 'stayhomesavelives home nhs lives stay save coronavirus protect rules safe staying staff spread thank covid working bit weekend secure workers',\n",
       " 'topic_3': 'people nt meet england friends stayalert information social days outdoors groups self travel isolate coronavirus mp distancing outside 14 family',\n",
       " 'topic_4': 'coronavirus conference press 2020 uk covid 19 slides thread secretary watch live hospital cases deaths new people speakers daily prof'}"
      ]
     },
     "execution_count": 111,
     "metadata": {},
     "output_type": "execute_result"
    }
   ],
   "source": [
    "uk_lda5.top_topic_words"
   ]
  },
  {
   "cell_type": "code",
   "execution_count": 112,
   "metadata": {},
   "outputs": [],
   "source": [
    "uk_lda10, uk_lda_preds10, uk_preds_df10 = get_lda(\n",
    "    vectorized_data = bow_uk.X,\n",
    "    data_vectorizer = bow_uk.MyCountVectorizer,\n",
    "    n_components=10,\n",
    "    n_top_words=20,\n",
    "    filename = \"uk_tweets_10topics\"\n",
    ")"
   ]
  },
  {
   "cell_type": "code",
   "execution_count": 113,
   "metadata": {},
   "outputs": [
    {
     "data": {
      "text/plain": [
       "{'topic_0': 'going question day ask pm borisjohnson downing street thank coronavirus staff happy school minister country today prime schools questions children',\n",
       " 'topic_1': 'face public covering wear stayalert transport rules people safe virus protect follow control space shops england spread nt remember enclosed',\n",
       " 'topic_2': 'stayalert metres apart stay outside meet nt people remember weekend england outdoors household house friends groups social leave sure ones',\n",
       " 'topic_3': 'new pm borisjohnson change cough high temperature continuous today eu sense taste smell loss test work uk free symptoms visited',\n",
       " 'topic_4': 'coronavirus uk press conference 19 covid slides 2020 thread hospital deaths cases hands new people daily wash data great britain',\n",
       " 'topic_5': 'stayhomesavelives home stay nhs lives protect save coronavirus help work spread staying support weekend need virus health bit safe ensure',\n",
       " 'topic_6': 'coronavirus symptoms self isolate need test days find nhs 14 support people tested household trace book visit law information eligible',\n",
       " 'topic_7': 'covid alert england local tests 19 rules level social secure distancing ve coronavirus information reopen measures levels new high people',\n",
       " 'topic_8': 'borisjohnson pm coronavirus watch conference live press secretary 2020 minister speakers prof prime world people uk chief met statement today',\n",
       " 'topic_9': 'time mp businesses hon rt million services remains announced secretary local means continue outbreak children appointed learn critical state support'}"
      ]
     },
     "execution_count": 113,
     "metadata": {},
     "output_type": "execute_result"
    }
   ],
   "source": [
    "uk_lda10.top_topic_words"
   ]
  },
  {
   "cell_type": "markdown",
   "metadata": {},
   "source": [
    "### --> LDA for Japanese "
   ]
  },
  {
   "cell_type": "code",
   "execution_count": 114,
   "metadata": {},
   "outputs": [],
   "source": [
    "jp_lda5, jp_lda_preds5, jp_preds_df5 = get_lda(\n",
    "    vectorized_data = bow_ja.X,\n",
    "    data_vectorizer = bow_ja.MyCountVectorizer,\n",
    "    n_components=5,\n",
    "    n_top_words=20,\n",
    "    filename = \"jp_tweets_5topics\"\n",
    ")"
   ]
  },
  {
   "cell_type": "code",
   "execution_count": 115,
   "metadata": {},
   "outputs": [
    {
     "data": {
      "text/plain": [
       "{'topic_0': 'まし 総理 コロナ   更新 sns 新型 ウイルス 感染 年 症 メッセージ # 全文 日本 経済 関係 対策 皆 日',\n",
       " 'topic_1': '総理 まし 月 日 動き 安倍 官邸 本日 会議 1 第 行い 回 出席 及び 開催 大臣 2 行わ 内閣',\n",
       " 'topic_2': '： ください ご覧 会見 instagram 本日 総理 記者 更新 安倍 まし 月 日 ライブ 配信 ぜひ 知らせ 時 頃 アカウント',\n",
       " 'topic_3': '記者 会見 官房 長官 掲載 動画 月 まし 本日 日 菅 午前 午後 発言 冒頭 ］ ［ 閣議 概要 7',\n",
       " 'topic_4': '者 式 @ # 慰霊 平和 sugawitter 震災 追悼 東 会議 戦没 大 祈念 関係 規制 原爆 関する 周年 改革'}"
      ]
     },
     "execution_count": 115,
     "metadata": {},
     "output_type": "execute_result"
    }
   ],
   "source": [
    "jp_lda5.top_topic_words"
   ]
  },
  {
   "cell_type": "code",
   "execution_count": 116,
   "metadata": {},
   "outputs": [],
   "source": [
    "jp_lda10, jp_lda_preds10, jp_preds_df10 = get_lda(\n",
    "    vectorized_data = bow_ja.X,\n",
    "    data_vectorizer = bow_ja.MyCountVectorizer,\n",
    "    n_components=10,\n",
    "    n_top_words=20,\n",
    "    filename = \"jp_tweets_10topics\"\n",
    ")"
   ]
  },
  {
   "cell_type": "code",
   "execution_count": 117,
   "metadata": {},
   "outputs": [
    {
     "data": {
      "text/plain": [
       "{'topic_0': '総理 まし sns 更新   メッセージ # 年 全文 日本 皆 続き 国民 年頭 スタッフ ください 発言 ご覧 内閣 いたし',\n",
       " 'topic_1': '総理 まし 月 日 安倍 動き 官邸 本日 会議 1 第 回 出席 及び 行い 開催 大臣 2 行わ 内閣',\n",
       " 'topic_2': '記者 会見 本日 月 日 まし 動画 掲載 長官 官房 菅 午後 午前 6 9 3 2 7 1 5',\n",
       " 'topic_3': '冒頭 発言 官房 ［ ］ 長官 掲載 記者 動画 会見 月 本日 日 まし 午前 閣議 菅 概要 7 1',\n",
       " 'topic_4': '@ sugawitter 成長 # 戦略 日 まし 的 19 総理 国 開催 会合 まとめ 制度 行っ いただき 設置 考え 10',\n",
       " 'topic_5': 'コロナ 経済 新型 まし ウイルス 感染 症 会議 関する 更新 関係 instagram ストーリーズ 公開 地方 対策 閣僚 拡大 財政 g',\n",
       " 'topic_6': '後 行っ スピーチ 配信 ライブ 懇談 sns 知らせ ご覧 ： ください 状況 閣議 願い いただき 初 撮影 通信 内閣 行い',\n",
       " 'topic_7': '会談 まし 行い 訪問 インド 首相 太平洋 ベトナム 国 関係 首脳 中 国王 自由 皇太子 インドネシア 協力 開か 歓迎 殿下',\n",
       " 'topic_8': '大会 東京 オリンピック パラリンピック まし 総理 10 月 本日 日 報告 状況 17 菅 官邸 本部 会議 2020 動き 実施',\n",
       " 'topic_9': '者 御 方々 まし 式 平和 世代 戦没 全 型 保障 祈念 社会 心 原爆 デジタル 検討 慰霊 安全 安心'}"
      ]
     },
     "execution_count": 117,
     "metadata": {},
     "output_type": "execute_result"
    }
   ],
   "source": [
    "jp_lda10.top_topic_words"
   ]
  },
  {
   "cell_type": "markdown",
   "metadata": {},
   "source": [
    "## Spacy features"
   ]
  },
  {
   "cell_type": "markdown",
   "metadata": {},
   "source": [
    "### Part of speech \n",
    "- Counting the number of nouns, noun phrases, verbs, adjectives etc"
   ]
  },
  {
   "cell_type": "code",
   "execution_count": 118,
   "metadata": {},
   "outputs": [],
   "source": [
    "wanted_pos = ['PROPN', \"VERB\", \"NOUN\", \"ADV\", \"ADJ\"]"
   ]
  },
  {
   "cell_type": "code",
   "execution_count": 119,
   "metadata": {},
   "outputs": [],
   "source": [
    "# for a single string of text, return a list of the words of the desired pos type\n",
    "# and a list of the corresponding lemmas \n",
    "def collect_single_pos(pos, text, nlp, stopword=False):\n",
    "    pos_text = []\n",
    "    pos_lemma = []\n",
    "    doc = nlp(text)\n",
    "    for token in doc:\n",
    "        if token.pos_ == pos and token.is_stop == False:\n",
    "            pos_text.append(token.text)\n",
    "            pos_lemma.append(token.lemma_)\n",
    "    return pos_text, pos_lemma"
   ]
  },
  {
   "cell_type": "code",
   "execution_count": 120,
   "metadata": {},
   "outputs": [],
   "source": [
    "def collect_noun_chunks(text):\n",
    "    noun_chunks = []\n",
    "    doc = nlp(text)\n",
    "    for chunk in doc.noun_chunks:\n",
    "        noun_chunks.append(chunk.text)\n",
    "    return noun_chunks"
   ]
  },
  {
   "cell_type": "code",
   "execution_count": 121,
   "metadata": {},
   "outputs": [],
   "source": [
    "# collect the pos for a single piece of text\n",
    "def collect_pos_text(text, nlp):\n",
    "    doc = nlp(text)\n",
    "    nouns, verbs, adverbs, adjectives, other_pos = [], [], [], [], []\n",
    "    for token in doc: \n",
    "        if token.pos_ == \"NOUN\" or token.pos_ == \"PROPN\":\n",
    "            nouns.append(token.lemma_)\n",
    "        elif token.pos_ == \"VERB\":\n",
    "            verbs.append(token.lemma_)\n",
    "        elif token.pos_ == \"ADV\":\n",
    "            adverbs.append(token.lemma_)\n",
    "        elif token.pos_ == \"ADJ\":\n",
    "            adjectives.append(token.lemma_)\n",
    "        else:\n",
    "            other_pos.append(token.text)\n",
    "    return nouns, verbs, adverbs, adjectives, other_pos"
   ]
  },
  {
   "cell_type": "code",
   "execution_count": 122,
   "metadata": {},
   "outputs": [],
   "source": [
    "def collect_pos_list(texts_list, nlp):\n",
    "    nouns_all, verbs_all, adverbs_all, adjectives_all, other_pos_all =  [], [], [], [], []\n",
    "    for text in texts_list:\n",
    "        nouns, verbs, adverbs, adjectives, other_pos = collect_pos_text(text=text, nlp=nlp)\n",
    "        nouns_all.extend(nouns)\n",
    "        verbs_all.extend(verbs)\n",
    "        adverbs_all.extend(adverbs)\n",
    "        adjectives_all.extend(adjectives)\n",
    "        other_pos_all.extend(other_pos)\n",
    "    all_pos = {}\n",
    "    all_pos['nouns'] = len(nouns_all)\n",
    "    all_pos['verbs'] = len(verbs_all)\n",
    "    all_pos['adverbs'] = len(adverbs_all)\n",
    "    all_pos['adjectives'] = len(adjectives_all)\n",
    "    return all_pos, nouns_all, verbs_all, adverbs_all, adjectives_all, other_pos_all"
   ]
  },
  {
   "cell_type": "markdown",
   "metadata": {},
   "source": [
    "### --> POS for English"
   ]
  },
  {
   "cell_type": "code",
   "execution_count": 123,
   "metadata": {},
   "outputs": [],
   "source": [
    "all_pos, nouns_all, verbs_all, adverbs_all, adjectives_all, other_pos_all = collect_pos_list(texts_list=data_uk, nlp=nlp_en)"
   ]
  },
  {
   "cell_type": "code",
   "execution_count": 124,
   "metadata": {},
   "outputs": [
    {
     "data": {
      "text/html": [
       "\n",
       "\n",
       "\n",
       "\n",
       "\n",
       "\n",
       "  <div class=\"bk-root\" id=\"44ec8c47-f345-4c63-acab-8f7e817e6848\" data-root-id=\"4876\"></div>\n"
      ]
     },
     "metadata": {},
     "output_type": "display_data"
    },
    {
     "data": {
      "application/javascript": [
       "(function(root) {\n",
       "  function embed_document(root) {\n",
       "    \n",
       "  var docs_json = {\"28552fd9-b0d6-4d25-bb3a-6fbae91418f0\":{\"roots\":{\"references\":[{\"attributes\":{\"below\":[{\"id\":\"4887\",\"type\":\"LinearAxis\"}],\"center\":[{\"id\":\"4891\",\"type\":\"Grid\"},{\"id\":\"4896\",\"type\":\"Grid\"},{\"id\":\"4913\",\"type\":\"Legend\"}],\"left\":[{\"id\":\"4892\",\"type\":\"LinearAxis\"}],\"plot_height\":350,\"renderers\":[{\"id\":\"4906\",\"type\":\"GlyphRenderer\"}],\"title\":{\"id\":\"4877\",\"type\":\"Title\"},\"toolbar\":{\"id\":\"4898\",\"type\":\"Toolbar\"},\"toolbar_location\":null,\"x_range\":{\"id\":\"4879\",\"type\":\"Range1d\"},\"x_scale\":{\"id\":\"4883\",\"type\":\"LinearScale\"},\"y_range\":{\"id\":\"4881\",\"type\":\"DataRange1d\"},\"y_scale\":{\"id\":\"4885\",\"type\":\"LinearScale\"}},\"id\":\"4876\",\"subtype\":\"Figure\",\"type\":\"Plot\"},{\"attributes\":{\"label\":{\"field\":\"index\"},\"renderers\":[{\"id\":\"4906\",\"type\":\"GlyphRenderer\"}]},\"id\":\"4914\",\"type\":\"LegendItem\"},{\"attributes\":{\"items\":[{\"id\":\"4914\",\"type\":\"LegendItem\"}]},\"id\":\"4913\",\"type\":\"Legend\"},{\"attributes\":{\"text\":\"Count of part of speech in tweets -- UK\"},\"id\":\"4877\",\"type\":\"Title\"},{\"attributes\":{},\"id\":\"5135\",\"type\":\"UnionRenderers\"},{\"attributes\":{\"axis_label\":null,\"formatter\":{\"id\":\"4909\",\"type\":\"BasicTickFormatter\"},\"ticker\":{\"id\":\"4893\",\"type\":\"BasicTicker\"},\"visible\":false},\"id\":\"4892\",\"type\":\"LinearAxis\"},{\"attributes\":{\"grid_line_color\":null,\"ticker\":{\"id\":\"4888\",\"type\":\"BasicTicker\"}},\"id\":\"4891\",\"type\":\"Grid\"},{\"attributes\":{},\"id\":\"4888\",\"type\":\"BasicTicker\"},{\"attributes\":{\"field\":\"angle\"},\"id\":\"4901\",\"type\":\"CumSum\"},{\"attributes\":{},\"id\":\"5136\",\"type\":\"Selection\"},{\"attributes\":{},\"id\":\"4911\",\"type\":\"BasicTickFormatter\"},{\"attributes\":{\"dimension\":1,\"grid_line_color\":null,\"ticker\":{\"id\":\"4893\",\"type\":\"BasicTicker\"}},\"id\":\"4896\",\"type\":\"Grid\"},{\"attributes\":{\"end_angle\":{\"expr\":{\"id\":\"4901\",\"type\":\"CumSum\"},\"units\":\"rad\"},\"fill_color\":{\"field\":\"color\"},\"line_color\":{\"value\":\"white\"},\"radius\":{\"units\":\"data\",\"value\":0.4},\"start_angle\":{\"expr\":{\"id\":\"4900\",\"type\":\"CumSum\"},\"units\":\"rad\"},\"x\":{\"value\":0},\"y\":{\"value\":1}},\"id\":\"4904\",\"type\":\"Wedge\"},{\"attributes\":{},\"id\":\"4885\",\"type\":\"LinearScale\"},{\"attributes\":{\"source\":{\"id\":\"4902\",\"type\":\"ColumnDataSource\"}},\"id\":\"4907\",\"type\":\"CDSView\"},{\"attributes\":{\"callback\":null,\"tooltips\":\"@index: @count\"},\"id\":\"4897\",\"type\":\"HoverTool\"},{\"attributes\":{\"end_angle\":{\"expr\":{\"id\":\"4901\",\"type\":\"CumSum\"},\"units\":\"rad\"},\"fill_alpha\":{\"value\":0.1},\"fill_color\":{\"value\":\"#1f77b4\"},\"line_alpha\":{\"value\":0.1},\"line_color\":{\"value\":\"#1f77b4\"},\"radius\":{\"units\":\"data\",\"value\":0.4},\"start_angle\":{\"expr\":{\"id\":\"4900\",\"type\":\"CumSum\"},\"units\":\"rad\"},\"x\":{\"value\":0},\"y\":{\"value\":1}},\"id\":\"4905\",\"type\":\"Wedge\"},{\"attributes\":{\"callback\":null},\"id\":\"4881\",\"type\":\"DataRange1d\"},{\"attributes\":{\"axis_label\":null,\"formatter\":{\"id\":\"4911\",\"type\":\"BasicTickFormatter\"},\"ticker\":{\"id\":\"4888\",\"type\":\"BasicTicker\"},\"visible\":false},\"id\":\"4887\",\"type\":\"LinearAxis\"},{\"attributes\":{\"callback\":null,\"data\":{\"angle\":{\"__ndarray__\":\"r+zB+ZOtEEAZSz2BGIH0PzU54FnfJ8I/yV4f+xEX5j8=\",\"dtype\":\"float64\",\"shape\":[4]},\"color\":[\"#00204C\",\"#565C6C\",\"#A69C75\",\"#FFE945\"],\"count\":[14345,4409,488,2375],\"index\":[\"nouns\",\"verbs\",\"adverbs\",\"adjectives\"],\"level_0\":[0,1,2,3]},\"selected\":{\"id\":\"5136\",\"type\":\"Selection\"},\"selection_policy\":{\"id\":\"5135\",\"type\":\"UnionRenderers\"}},\"id\":\"4902\",\"type\":\"ColumnDataSource\"},{\"attributes\":{\"data_source\":{\"id\":\"4902\",\"type\":\"ColumnDataSource\"},\"glyph\":{\"id\":\"4904\",\"type\":\"Wedge\"},\"hover_glyph\":null,\"muted_glyph\":null,\"nonselection_glyph\":{\"id\":\"4905\",\"type\":\"Wedge\"},\"selection_glyph\":null,\"view\":{\"id\":\"4907\",\"type\":\"CDSView\"}},\"id\":\"4906\",\"type\":\"GlyphRenderer\"},{\"attributes\":{},\"id\":\"4883\",\"type\":\"LinearScale\"},{\"attributes\":{},\"id\":\"4909\",\"type\":\"BasicTickFormatter\"},{\"attributes\":{},\"id\":\"4893\",\"type\":\"BasicTicker\"},{\"attributes\":{\"active_drag\":\"auto\",\"active_inspect\":\"auto\",\"active_multi\":null,\"active_scroll\":\"auto\",\"active_tap\":\"auto\",\"tools\":[{\"id\":\"4897\",\"type\":\"HoverTool\"}]},\"id\":\"4898\",\"type\":\"Toolbar\"},{\"attributes\":{\"field\":\"angle\",\"include_zero\":true},\"id\":\"4900\",\"type\":\"CumSum\"},{\"attributes\":{\"callback\":null,\"start\":-0.5},\"id\":\"4879\",\"type\":\"Range1d\"}],\"root_ids\":[\"4876\"]},\"title\":\"Bokeh Application\",\"version\":\"1.4.0\"}};\n",
       "  var render_items = [{\"docid\":\"28552fd9-b0d6-4d25-bb3a-6fbae91418f0\",\"roots\":{\"4876\":\"44ec8c47-f345-4c63-acab-8f7e817e6848\"}}];\n",
       "  root.Bokeh.embed.embed_items_notebook(docs_json, render_items);\n",
       "\n",
       "  }\n",
       "  if (root.Bokeh !== undefined) {\n",
       "    embed_document(root);\n",
       "  } else {\n",
       "    var attempts = 0;\n",
       "    var timer = setInterval(function(root) {\n",
       "      if (root.Bokeh !== undefined) {\n",
       "        clearInterval(timer);\n",
       "        embed_document(root);\n",
       "      } else {\n",
       "        attempts++;\n",
       "        if (attempts > 100) {\n",
       "          clearInterval(timer);\n",
       "          console.log(\"Bokeh: ERROR: Unable to run BokehJS code because BokehJS library is missing\");\n",
       "        }\n",
       "      }\n",
       "    }, 10, root)\n",
       "  }\n",
       "})(window);"
      ],
      "application/vnd.bokehjs_exec.v0+json": ""
     },
     "metadata": {
      "application/vnd.bokehjs_exec.v0+json": {
       "id": "4876"
      }
     },
     "output_type": "display_data"
    }
   ],
   "source": [
    "uk_all_pos = pd.DataFrame.from_dict(all_pos, orient=\"index\", columns=['count']).reset_index()\n",
    "piechart(uk_all_pos, \"index\", \"count\", \"Count of part of speech in tweets -- UK\")"
   ]
  },
  {
   "cell_type": "markdown",
   "metadata": {},
   "source": [
    "### --> POS for Japanese "
   ]
  },
  {
   "cell_type": "code",
   "execution_count": 125,
   "metadata": {},
   "outputs": [],
   "source": [
    "all_pos_jp, nouns_all_jp, verbs_all_jp, adverbs_all_jp, adjectives_all_jp, other_pos_all_jp = collect_pos_list(texts_list=data_jp, nlp=nlp_ja)"
   ]
  },
  {
   "cell_type": "code",
   "execution_count": 126,
   "metadata": {},
   "outputs": [
    {
     "data": {
      "text/html": [
       "\n",
       "\n",
       "\n",
       "\n",
       "\n",
       "\n",
       "  <div class=\"bk-root\" id=\"92832085-5b3d-4400-9955-6a0c8c1c7546\" data-root-id=\"5179\"></div>\n"
      ]
     },
     "metadata": {},
     "output_type": "display_data"
    },
    {
     "data": {
      "application/javascript": [
       "(function(root) {\n",
       "  function embed_document(root) {\n",
       "    \n",
       "  var docs_json = {\"40d8f4e7-2025-4a2d-999b-aaf4252ed6c0\":{\"roots\":{\"references\":[{\"attributes\":{\"below\":[{\"id\":\"5190\",\"type\":\"LinearAxis\"}],\"center\":[{\"id\":\"5194\",\"type\":\"Grid\"},{\"id\":\"5199\",\"type\":\"Grid\"},{\"id\":\"5216\",\"type\":\"Legend\"}],\"left\":[{\"id\":\"5195\",\"type\":\"LinearAxis\"}],\"plot_height\":350,\"renderers\":[{\"id\":\"5209\",\"type\":\"GlyphRenderer\"}],\"title\":{\"id\":\"5180\",\"type\":\"Title\"},\"toolbar\":{\"id\":\"5201\",\"type\":\"Toolbar\"},\"toolbar_location\":null,\"x_range\":{\"id\":\"5182\",\"type\":\"Range1d\"},\"x_scale\":{\"id\":\"5186\",\"type\":\"LinearScale\"},\"y_range\":{\"id\":\"5184\",\"type\":\"DataRange1d\"},\"y_scale\":{\"id\":\"5188\",\"type\":\"LinearScale\"}},\"id\":\"5179\",\"subtype\":\"Figure\",\"type\":\"Plot\"},{\"attributes\":{\"label\":{\"field\":\"index\"},\"renderers\":[{\"id\":\"5209\",\"type\":\"GlyphRenderer\"}]},\"id\":\"5217\",\"type\":\"LegendItem\"},{\"attributes\":{},\"id\":\"5191\",\"type\":\"BasicTicker\"},{\"attributes\":{\"dimension\":1,\"grid_line_color\":null,\"ticker\":{\"id\":\"5196\",\"type\":\"BasicTicker\"}},\"id\":\"5199\",\"type\":\"Grid\"},{\"attributes\":{\"text\":\"Count of part of speech in tweets -- Japan\"},\"id\":\"5180\",\"type\":\"Title\"},{\"attributes\":{\"end_angle\":{\"expr\":{\"id\":\"5204\",\"type\":\"CumSum\"},\"units\":\"rad\"},\"fill_color\":{\"field\":\"color\"},\"line_color\":{\"value\":\"white\"},\"radius\":{\"units\":\"data\",\"value\":0.4},\"start_angle\":{\"expr\":{\"id\":\"5203\",\"type\":\"CumSum\"},\"units\":\"rad\"},\"x\":{\"value\":0},\"y\":{\"value\":1}},\"id\":\"5207\",\"type\":\"Wedge\"},{\"attributes\":{\"source\":{\"id\":\"5205\",\"type\":\"ColumnDataSource\"}},\"id\":\"5210\",\"type\":\"CDSView\"},{\"attributes\":{\"callback\":null,\"start\":-0.5},\"id\":\"5182\",\"type\":\"Range1d\"},{\"attributes\":{\"field\":\"angle\"},\"id\":\"5204\",\"type\":\"CumSum\"},{\"attributes\":{},\"id\":\"5446\",\"type\":\"Selection\"},{\"attributes\":{\"callback\":null},\"id\":\"5184\",\"type\":\"DataRange1d\"},{\"attributes\":{\"active_drag\":\"auto\",\"active_inspect\":\"auto\",\"active_multi\":null,\"active_scroll\":\"auto\",\"active_tap\":\"auto\",\"tools\":[{\"id\":\"5200\",\"type\":\"HoverTool\"}]},\"id\":\"5201\",\"type\":\"Toolbar\"},{\"attributes\":{},\"id\":\"5186\",\"type\":\"LinearScale\"},{\"attributes\":{\"callback\":null,\"tooltips\":\"@index: @count\"},\"id\":\"5200\",\"type\":\"HoverTool\"},{\"attributes\":{\"callback\":null,\"data\":{\"angle\":{\"__ndarray__\":\"U6fKtmXpFkACLAoxzhfOP+hB/+vY55k/N1JTMPXe0j8=\",\"dtype\":\"float64\",\"shape\":[4]},\"color\":[\"#00204C\",\"#565C6C\",\"#A69C75\",\"#FFE945\"],\"count\":[13132,539,58,676],\"index\":[\"nouns\",\"verbs\",\"adverbs\",\"adjectives\"],\"level_0\":[0,1,2,3]},\"selected\":{\"id\":\"5446\",\"type\":\"Selection\"},\"selection_policy\":{\"id\":\"5445\",\"type\":\"UnionRenderers\"}},\"id\":\"5205\",\"type\":\"ColumnDataSource\"},{\"attributes\":{},\"id\":\"5445\",\"type\":\"UnionRenderers\"},{\"attributes\":{\"axis_label\":null,\"formatter\":{\"id\":\"5212\",\"type\":\"BasicTickFormatter\"},\"ticker\":{\"id\":\"5196\",\"type\":\"BasicTicker\"},\"visible\":false},\"id\":\"5195\",\"type\":\"LinearAxis\"},{\"attributes\":{},\"id\":\"5214\",\"type\":\"BasicTickFormatter\"},{\"attributes\":{},\"id\":\"5196\",\"type\":\"BasicTicker\"},{\"attributes\":{\"axis_label\":null,\"formatter\":{\"id\":\"5214\",\"type\":\"BasicTickFormatter\"},\"ticker\":{\"id\":\"5191\",\"type\":\"BasicTicker\"},\"visible\":false},\"id\":\"5190\",\"type\":\"LinearAxis\"},{\"attributes\":{\"end_angle\":{\"expr\":{\"id\":\"5204\",\"type\":\"CumSum\"},\"units\":\"rad\"},\"fill_alpha\":{\"value\":0.1},\"fill_color\":{\"value\":\"#1f77b4\"},\"line_alpha\":{\"value\":0.1},\"line_color\":{\"value\":\"#1f77b4\"},\"radius\":{\"units\":\"data\",\"value\":0.4},\"start_angle\":{\"expr\":{\"id\":\"5203\",\"type\":\"CumSum\"},\"units\":\"rad\"},\"x\":{\"value\":0},\"y\":{\"value\":1}},\"id\":\"5208\",\"type\":\"Wedge\"},{\"attributes\":{},\"id\":\"5212\",\"type\":\"BasicTickFormatter\"},{\"attributes\":{\"data_source\":{\"id\":\"5205\",\"type\":\"ColumnDataSource\"},\"glyph\":{\"id\":\"5207\",\"type\":\"Wedge\"},\"hover_glyph\":null,\"muted_glyph\":null,\"nonselection_glyph\":{\"id\":\"5208\",\"type\":\"Wedge\"},\"selection_glyph\":null,\"view\":{\"id\":\"5210\",\"type\":\"CDSView\"}},\"id\":\"5209\",\"type\":\"GlyphRenderer\"},{\"attributes\":{},\"id\":\"5188\",\"type\":\"LinearScale\"},{\"attributes\":{\"items\":[{\"id\":\"5217\",\"type\":\"LegendItem\"}]},\"id\":\"5216\",\"type\":\"Legend\"},{\"attributes\":{\"field\":\"angle\",\"include_zero\":true},\"id\":\"5203\",\"type\":\"CumSum\"},{\"attributes\":{\"grid_line_color\":null,\"ticker\":{\"id\":\"5191\",\"type\":\"BasicTicker\"}},\"id\":\"5194\",\"type\":\"Grid\"}],\"root_ids\":[\"5179\"]},\"title\":\"Bokeh Application\",\"version\":\"1.4.0\"}};\n",
       "  var render_items = [{\"docid\":\"40d8f4e7-2025-4a2d-999b-aaf4252ed6c0\",\"roots\":{\"5179\":\"92832085-5b3d-4400-9955-6a0c8c1c7546\"}}];\n",
       "  root.Bokeh.embed.embed_items_notebook(docs_json, render_items);\n",
       "\n",
       "  }\n",
       "  if (root.Bokeh !== undefined) {\n",
       "    embed_document(root);\n",
       "  } else {\n",
       "    var attempts = 0;\n",
       "    var timer = setInterval(function(root) {\n",
       "      if (root.Bokeh !== undefined) {\n",
       "        clearInterval(timer);\n",
       "        embed_document(root);\n",
       "      } else {\n",
       "        attempts++;\n",
       "        if (attempts > 100) {\n",
       "          clearInterval(timer);\n",
       "          console.log(\"Bokeh: ERROR: Unable to run BokehJS code because BokehJS library is missing\");\n",
       "        }\n",
       "      }\n",
       "    }, 10, root)\n",
       "  }\n",
       "})(window);"
      ],
      "application/vnd.bokehjs_exec.v0+json": ""
     },
     "metadata": {
      "application/vnd.bokehjs_exec.v0+json": {
       "id": "5179"
      }
     },
     "output_type": "display_data"
    }
   ],
   "source": [
    "jp_all_pos = pd.DataFrame.from_dict(all_pos_jp, orient=\"index\", columns=['count']).reset_index()\n",
    "piechart(jp_all_pos, \"index\", \"count\", \"Count of part of speech in tweets -- Japan\")"
   ]
  },
  {
   "cell_type": "markdown",
   "metadata": {},
   "source": [
    "## Sentiment Analysis "
   ]
  },
  {
   "cell_type": "markdown",
   "metadata": {},
   "source": [
    "### Google sentiment analysis API"
   ]
  },
  {
   "cell_type": "code",
   "execution_count": 127,
   "metadata": {},
   "outputs": [],
   "source": [
    "from google.cloud import language_v1\n",
    "from google.cloud.language_v1 import enums"
   ]
  },
  {
   "cell_type": "code",
   "execution_count": 128,
   "metadata": {},
   "outputs": [],
   "source": [
    "def analyze_sentiment_google(text, language=\"en\"):\n",
    "    client = language_v1.LanguageServiceClient()\n",
    "    type_ = enums.Document.Type.PLAIN_TEXT\n",
    "\n",
    "    document = {\"content\": text, \"type\": type_, \"language\": language}\n",
    "\n",
    "    encoding_type = enums.EncodingType.UTF8\n",
    "\n",
    "    response = client.analyze_sentiment(document, encoding_type=encoding_type)\n",
    "\n",
    "    return response.document_sentiment.score"
   ]
  },
  {
   "cell_type": "code",
   "execution_count": 129,
   "metadata": {
    "collapsed": true,
    "jupyter": {
     "outputs_hidden": true
    }
   },
   "outputs": [
    {
     "name": "stderr",
     "output_type": "stream",
     "text": [
      "Compute Engine Metadata server unavailable onattempt 1 of 3. Reason: timed out\n",
      "Compute Engine Metadata server unavailable onattempt 2 of 3. Reason: timed out\n",
      "Compute Engine Metadata server unavailable onattempt 3 of 3. Reason: [Errno 64] Host is down\n",
      "Authentication failed using Compute Engine authentication due to unavailable metadata server.\n"
     ]
    },
    {
     "ename": "DefaultCredentialsError",
     "evalue": "Could not automatically determine credentials. Please set GOOGLE_APPLICATION_CREDENTIALS or explicitly create credentials and re-run the application. For more information, please see https://cloud.google.com/docs/authentication/getting-started",
     "output_type": "error",
     "traceback": [
      "\u001b[0;31m---------------------------------------------------------------------------\u001b[0m",
      "\u001b[0;31mDefaultCredentialsError\u001b[0m                   Traceback (most recent call last)",
      "\u001b[0;32m<ipython-input-129-f6da8fb89115>\u001b[0m in \u001b[0;36m<module>\u001b[0;34m\u001b[0m\n\u001b[0;32m----> 1\u001b[0;31m \u001b[0manalyze_sentiment_google\u001b[0m\u001b[0;34m(\u001b[0m\u001b[0;34m\"君のことが嫌い\"\u001b[0m\u001b[0;34m,\u001b[0m \u001b[0;34m\"ja\"\u001b[0m\u001b[0;34m)\u001b[0m\u001b[0;34m\u001b[0m\u001b[0;34m\u001b[0m\u001b[0m\n\u001b[0m",
      "\u001b[0;32m<ipython-input-128-7650b1f28167>\u001b[0m in \u001b[0;36manalyze_sentiment_google\u001b[0;34m(text, language)\u001b[0m\n\u001b[1;32m      1\u001b[0m \u001b[0;32mdef\u001b[0m \u001b[0manalyze_sentiment_google\u001b[0m\u001b[0;34m(\u001b[0m\u001b[0mtext\u001b[0m\u001b[0;34m,\u001b[0m \u001b[0mlanguage\u001b[0m\u001b[0;34m=\u001b[0m\u001b[0;34m\"en\"\u001b[0m\u001b[0;34m)\u001b[0m\u001b[0;34m:\u001b[0m\u001b[0;34m\u001b[0m\u001b[0;34m\u001b[0m\u001b[0m\n\u001b[0;32m----> 2\u001b[0;31m     \u001b[0mclient\u001b[0m \u001b[0;34m=\u001b[0m \u001b[0mlanguage_v1\u001b[0m\u001b[0;34m.\u001b[0m\u001b[0mLanguageServiceClient\u001b[0m\u001b[0;34m(\u001b[0m\u001b[0;34m)\u001b[0m\u001b[0;34m\u001b[0m\u001b[0;34m\u001b[0m\u001b[0m\n\u001b[0m\u001b[1;32m      3\u001b[0m     \u001b[0mtype_\u001b[0m \u001b[0;34m=\u001b[0m \u001b[0menums\u001b[0m\u001b[0;34m.\u001b[0m\u001b[0mDocument\u001b[0m\u001b[0;34m.\u001b[0m\u001b[0mType\u001b[0m\u001b[0;34m.\u001b[0m\u001b[0mPLAIN_TEXT\u001b[0m\u001b[0;34m\u001b[0m\u001b[0;34m\u001b[0m\u001b[0m\n\u001b[1;32m      4\u001b[0m \u001b[0;34m\u001b[0m\u001b[0m\n\u001b[1;32m      5\u001b[0m     \u001b[0mdocument\u001b[0m \u001b[0;34m=\u001b[0m \u001b[0;34m{\u001b[0m\u001b[0;34m\"content\"\u001b[0m\u001b[0;34m:\u001b[0m \u001b[0mtext\u001b[0m\u001b[0;34m,\u001b[0m \u001b[0;34m\"type\"\u001b[0m\u001b[0;34m:\u001b[0m \u001b[0mtype_\u001b[0m\u001b[0;34m,\u001b[0m \u001b[0;34m\"language\"\u001b[0m\u001b[0;34m:\u001b[0m \u001b[0mlanguage\u001b[0m\u001b[0;34m}\u001b[0m\u001b[0;34m\u001b[0m\u001b[0;34m\u001b[0m\u001b[0m\n",
      "\u001b[0;32m~/opt/anaconda3/lib/python3.7/site-packages/google/cloud/language_v1/gapic/language_service_client.py\u001b[0m in \u001b[0;36m__init__\u001b[0;34m(self, transport, channel, credentials, client_config, client_info, client_options)\u001b[0m\n\u001b[1;32m    158\u001b[0m         \u001b[0;32melse\u001b[0m\u001b[0;34m:\u001b[0m\u001b[0;34m\u001b[0m\u001b[0;34m\u001b[0m\u001b[0m\n\u001b[1;32m    159\u001b[0m             self.transport = language_service_grpc_transport.LanguageServiceGrpcTransport(\n\u001b[0;32m--> 160\u001b[0;31m                 \u001b[0maddress\u001b[0m\u001b[0;34m=\u001b[0m\u001b[0mapi_endpoint\u001b[0m\u001b[0;34m,\u001b[0m \u001b[0mchannel\u001b[0m\u001b[0;34m=\u001b[0m\u001b[0mchannel\u001b[0m\u001b[0;34m,\u001b[0m \u001b[0mcredentials\u001b[0m\u001b[0;34m=\u001b[0m\u001b[0mcredentials\u001b[0m\u001b[0;34m\u001b[0m\u001b[0;34m\u001b[0m\u001b[0m\n\u001b[0m\u001b[1;32m    161\u001b[0m             )\n\u001b[1;32m    162\u001b[0m \u001b[0;34m\u001b[0m\u001b[0m\n",
      "\u001b[0;32m~/opt/anaconda3/lib/python3.7/site-packages/google/cloud/language_v1/gapic/transports/language_service_grpc_transport.py\u001b[0m in \u001b[0;36m__init__\u001b[0;34m(self, channel, credentials, address)\u001b[0m\n\u001b[1;32m     62\u001b[0m         \u001b[0;31m# Create the channel.\u001b[0m\u001b[0;34m\u001b[0m\u001b[0;34m\u001b[0m\u001b[0;34m\u001b[0m\u001b[0m\n\u001b[1;32m     63\u001b[0m         \u001b[0;32mif\u001b[0m \u001b[0mchannel\u001b[0m \u001b[0;32mis\u001b[0m \u001b[0;32mNone\u001b[0m\u001b[0;34m:\u001b[0m\u001b[0;34m\u001b[0m\u001b[0;34m\u001b[0m\u001b[0m\n\u001b[0;32m---> 64\u001b[0;31m             \u001b[0mchannel\u001b[0m \u001b[0;34m=\u001b[0m \u001b[0mself\u001b[0m\u001b[0;34m.\u001b[0m\u001b[0mcreate_channel\u001b[0m\u001b[0;34m(\u001b[0m\u001b[0maddress\u001b[0m\u001b[0;34m=\u001b[0m\u001b[0maddress\u001b[0m\u001b[0;34m,\u001b[0m \u001b[0mcredentials\u001b[0m\u001b[0;34m=\u001b[0m\u001b[0mcredentials\u001b[0m\u001b[0;34m)\u001b[0m\u001b[0;34m\u001b[0m\u001b[0;34m\u001b[0m\u001b[0m\n\u001b[0m\u001b[1;32m     65\u001b[0m \u001b[0;34m\u001b[0m\u001b[0m\n\u001b[1;32m     66\u001b[0m         \u001b[0mself\u001b[0m\u001b[0;34m.\u001b[0m\u001b[0m_channel\u001b[0m \u001b[0;34m=\u001b[0m \u001b[0mchannel\u001b[0m\u001b[0;34m\u001b[0m\u001b[0;34m\u001b[0m\u001b[0m\n",
      "\u001b[0;32m~/opt/anaconda3/lib/python3.7/site-packages/google/cloud/language_v1/gapic/transports/language_service_grpc_transport.py\u001b[0m in \u001b[0;36mcreate_channel\u001b[0;34m(cls, address, credentials, **kwargs)\u001b[0m\n\u001b[1;32m     94\u001b[0m         \"\"\"\n\u001b[1;32m     95\u001b[0m         return google.api_core.grpc_helpers.create_channel(\n\u001b[0;32m---> 96\u001b[0;31m             \u001b[0maddress\u001b[0m\u001b[0;34m,\u001b[0m \u001b[0mcredentials\u001b[0m\u001b[0;34m=\u001b[0m\u001b[0mcredentials\u001b[0m\u001b[0;34m,\u001b[0m \u001b[0mscopes\u001b[0m\u001b[0;34m=\u001b[0m\u001b[0mcls\u001b[0m\u001b[0;34m.\u001b[0m\u001b[0m_OAUTH_SCOPES\u001b[0m\u001b[0;34m,\u001b[0m \u001b[0;34m**\u001b[0m\u001b[0mkwargs\u001b[0m\u001b[0;34m\u001b[0m\u001b[0;34m\u001b[0m\u001b[0m\n\u001b[0m\u001b[1;32m     97\u001b[0m         )\n\u001b[1;32m     98\u001b[0m \u001b[0;34m\u001b[0m\u001b[0m\n",
      "\u001b[0;32m~/opt/anaconda3/lib/python3.7/site-packages/google/api_core/grpc_helpers.py\u001b[0m in \u001b[0;36mcreate_channel\u001b[0;34m(target, credentials, scopes, ssl_credentials, credentials_file, quota_project_id, **kwargs)\u001b[0m\n\u001b[1;32m    278\u001b[0m         \u001b[0mscopes\u001b[0m\u001b[0;34m=\u001b[0m\u001b[0mscopes\u001b[0m\u001b[0;34m,\u001b[0m\u001b[0;34m\u001b[0m\u001b[0;34m\u001b[0m\u001b[0m\n\u001b[1;32m    279\u001b[0m         \u001b[0mssl_credentials\u001b[0m\u001b[0;34m=\u001b[0m\u001b[0mssl_credentials\u001b[0m\u001b[0;34m,\u001b[0m\u001b[0;34m\u001b[0m\u001b[0;34m\u001b[0m\u001b[0m\n\u001b[0;32m--> 280\u001b[0;31m         \u001b[0mquota_project_id\u001b[0m\u001b[0;34m=\u001b[0m\u001b[0mquota_project_id\u001b[0m\u001b[0;34m,\u001b[0m\u001b[0;34m\u001b[0m\u001b[0;34m\u001b[0m\u001b[0m\n\u001b[0m\u001b[1;32m    281\u001b[0m     )\n\u001b[1;32m    282\u001b[0m \u001b[0;34m\u001b[0m\u001b[0m\n",
      "\u001b[0;32m~/opt/anaconda3/lib/python3.7/site-packages/google/api_core/grpc_helpers.py\u001b[0m in \u001b[0;36m_create_composite_credentials\u001b[0;34m(credentials, credentials_file, scopes, ssl_credentials, quota_project_id)\u001b[0m\n\u001b[1;32m    215\u001b[0m         \u001b[0mcredentials\u001b[0m \u001b[0;34m=\u001b[0m \u001b[0mgoogle\u001b[0m\u001b[0;34m.\u001b[0m\u001b[0mauth\u001b[0m\u001b[0;34m.\u001b[0m\u001b[0mcredentials\u001b[0m\u001b[0;34m.\u001b[0m\u001b[0mwith_scopes_if_required\u001b[0m\u001b[0;34m(\u001b[0m\u001b[0mcredentials\u001b[0m\u001b[0;34m,\u001b[0m \u001b[0mscopes\u001b[0m\u001b[0;34m)\u001b[0m\u001b[0;34m\u001b[0m\u001b[0;34m\u001b[0m\u001b[0m\n\u001b[1;32m    216\u001b[0m     \u001b[0;32melse\u001b[0m\u001b[0;34m:\u001b[0m\u001b[0;34m\u001b[0m\u001b[0;34m\u001b[0m\u001b[0m\n\u001b[0;32m--> 217\u001b[0;31m         \u001b[0mcredentials\u001b[0m\u001b[0;34m,\u001b[0m \u001b[0m_\u001b[0m \u001b[0;34m=\u001b[0m \u001b[0mgoogle\u001b[0m\u001b[0;34m.\u001b[0m\u001b[0mauth\u001b[0m\u001b[0;34m.\u001b[0m\u001b[0mdefault\u001b[0m\u001b[0;34m(\u001b[0m\u001b[0mscopes\u001b[0m\u001b[0;34m=\u001b[0m\u001b[0mscopes\u001b[0m\u001b[0;34m)\u001b[0m\u001b[0;34m\u001b[0m\u001b[0;34m\u001b[0m\u001b[0m\n\u001b[0m\u001b[1;32m    218\u001b[0m \u001b[0;34m\u001b[0m\u001b[0m\n\u001b[1;32m    219\u001b[0m     \u001b[0;32mif\u001b[0m \u001b[0mquota_project_id\u001b[0m \u001b[0;32mand\u001b[0m \u001b[0misinstance\u001b[0m\u001b[0;34m(\u001b[0m\u001b[0mcredentials\u001b[0m\u001b[0;34m,\u001b[0m \u001b[0mgoogle\u001b[0m\u001b[0;34m.\u001b[0m\u001b[0mauth\u001b[0m\u001b[0;34m.\u001b[0m\u001b[0mcredentials\u001b[0m\u001b[0;34m.\u001b[0m\u001b[0mCredentialsWithQuotaProject\u001b[0m\u001b[0;34m)\u001b[0m\u001b[0;34m:\u001b[0m\u001b[0;34m\u001b[0m\u001b[0;34m\u001b[0m\u001b[0m\n",
      "\u001b[0;32m~/opt/anaconda3/lib/python3.7/site-packages/google/auth/_default.py\u001b[0m in \u001b[0;36mdefault\u001b[0;34m(scopes, request, quota_project_id)\u001b[0m\n\u001b[1;32m    352\u001b[0m             \u001b[0;32mreturn\u001b[0m \u001b[0mcredentials\u001b[0m\u001b[0;34m,\u001b[0m \u001b[0meffective_project_id\u001b[0m\u001b[0;34m\u001b[0m\u001b[0;34m\u001b[0m\u001b[0m\n\u001b[1;32m    353\u001b[0m \u001b[0;34m\u001b[0m\u001b[0m\n\u001b[0;32m--> 354\u001b[0;31m     \u001b[0;32mraise\u001b[0m \u001b[0mexceptions\u001b[0m\u001b[0;34m.\u001b[0m\u001b[0mDefaultCredentialsError\u001b[0m\u001b[0;34m(\u001b[0m\u001b[0m_HELP_MESSAGE\u001b[0m\u001b[0;34m)\u001b[0m\u001b[0;34m\u001b[0m\u001b[0;34m\u001b[0m\u001b[0m\n\u001b[0m",
      "\u001b[0;31mDefaultCredentialsError\u001b[0m: Could not automatically determine credentials. Please set GOOGLE_APPLICATION_CREDENTIALS or explicitly create credentials and re-run the application. For more information, please see https://cloud.google.com/docs/authentication/getting-started"
     ]
    }
   ],
   "source": [
    "analyze_sentiment_google(\"君のことが嫌い\", \"ja\")"
   ]
  },
  {
   "cell_type": "markdown",
   "metadata": {},
   "source": [
    "### Transformers "
   ]
  },
  {
   "cell_type": "code",
   "execution_count": 130,
   "metadata": {},
   "outputs": [
    {
     "name": "stderr",
     "output_type": "stream",
     "text": [
      "/Users/dea/opt/anaconda3/lib/python3.7/site-packages/tensorflow/python/data/ops/iterator_ops.py:546: DeprecationWarning: Using or importing the ABCs from 'collections' instead of from 'collections.abc' is deprecated since Python 3.3,and in 3.9 it will stop working\n",
      "  class IteratorBase(collections.Iterator, trackable.Trackable,\n",
      "/Users/dea/opt/anaconda3/lib/python3.7/site-packages/tensorflow/python/data/ops/dataset_ops.py:106: DeprecationWarning: Using or importing the ABCs from 'collections' instead of from 'collections.abc' is deprecated since Python 3.3,and in 3.9 it will stop working\n",
      "  class DatasetV2(collections.Iterable, tracking_base.Trackable,\n"
     ]
    }
   ],
   "source": [
    "import tensorflow as tf\n",
    "from transformers import pipeline\n",
    "from transformers import AutoTokenizer, AutoModelForSequenceClassification"
   ]
  },
  {
   "cell_type": "markdown",
   "metadata": {},
   "source": [
    "#### japanese"
   ]
  },
  {
   "cell_type": "code",
   "execution_count": 116,
   "metadata": {},
   "outputs": [],
   "source": [
    "def tokenize_japanese():\n",
    "    # for japanese sentiment analysis \n",
    "    tokenizer = AutoTokenizer.from_pretrained(\"daigo/bert-base-japanese-sentiment\")\n",
    "    model = AutoModelForSequenceClassification.from_pretrained(\"daigo/bert-base-japanese-sentiment\")\n",
    "    nlp = pipeline(\"sentiment-analysis\", tokenizer=tokenizer, model=model)\n",
    "    return tokenizer, model, nlp"
   ]
  },
  {
   "cell_type": "code",
   "execution_count": 117,
   "metadata": {},
   "outputs": [],
   "source": [
    "def analyse_sentiment_transformers_japanese(text, nlp):\n",
    "    sentiment = nlp(text)\n",
    "    if sentiment[0][\"label\"] == \"ポジティブ\":\n",
    "        return sentiment[0]['score']\n",
    "    else: \n",
    "        return -sentiment[0]['score']"
   ]
  },
  {
   "cell_type": "code",
   "execution_count": 118,
   "metadata": {},
   "outputs": [],
   "source": [
    "tokenizer_ja, model_ja, transformers_nlp_ja = tokenize_japanese()"
   ]
  },
  {
   "cell_type": "code",
   "execution_count": 119,
   "metadata": {},
   "outputs": [
    {
     "data": {
      "text/plain": [
       "-0.6884356141090393"
      ]
     },
     "execution_count": 119,
     "metadata": {},
     "output_type": "execute_result"
    }
   ],
   "source": [
    "analyse_sentiment_transformers_japanese(\"君のことが大嫌い\", transformers_nlp_ja)"
   ]
  },
  {
   "cell_type": "markdown",
   "metadata": {},
   "source": [
    "#### english"
   ]
  },
  {
   "cell_type": "code",
   "execution_count": 120,
   "metadata": {},
   "outputs": [],
   "source": [
    "transformers_nlp_en = pipeline(\"sentiment-analysis\")\n",
    "def analyse_sentiment_transformers_english(text, nlp):\n",
    "    sentiment = nlp(text)\n",
    "    if sentiment[0][\"label\"] == \"POSITIVE\":\n",
    "        return sentiment[0]['score']\n",
    "    else: \n",
    "        return -sentiment[0]['score']"
   ]
  },
  {
   "cell_type": "code",
   "execution_count": 121,
   "metadata": {},
   "outputs": [
    {
     "data": {
      "text/plain": [
       "-0.9991559386253357"
      ]
     },
     "execution_count": 121,
     "metadata": {},
     "output_type": "execute_result"
    }
   ],
   "source": [
    "analyse_sentiment_transformers_english(\"I really don't like you\", transformers_nlp_en)"
   ]
  },
  {
   "cell_type": "markdown",
   "metadata": {},
   "source": [
    "### --> Sentiment Analysis English"
   ]
  },
  {
   "cell_type": "code",
   "execution_count": 122,
   "metadata": {},
   "outputs": [
    {
     "name": "stderr",
     "output_type": "stream",
     "text": [
      "/Users/dea/opt/anaconda3/lib/python3.7/site-packages/ipykernel_launcher.py:3: SettingWithCopyWarning: \n",
      "A value is trying to be set on a copy of a slice from a DataFrame.\n",
      "Try using .loc[row_indexer,col_indexer] = value instead\n",
      "\n",
      "See the caveats in the documentation: https://pandas.pydata.org/pandas-docs/stable/user_guide/indexing.html#returning-a-view-versus-a-copy\n",
      "  This is separate from the ipykernel package so we can avoid doing imports until\n"
     ]
    }
   ],
   "source": [
    "# use the text before cleaning, and just clean the urls with tweepy; include the retweets \n",
    "uk_tweets['sentiment_transformers'] = uk_tweets['full_text'].apply(\n",
    "    lambda x : analyse_sentiment_transformers_english(p.clean(x), transformers_nlp_en)\n",
    ")"
   ]
  },
  {
   "cell_type": "code",
   "execution_count": 123,
   "metadata": {},
   "outputs": [
    {
     "name": "stdout",
     "output_type": "stream",
     "text": [
      "Average sentiment for all UK tweets: -0.07389892663775832\n"
     ]
    }
   ],
   "source": [
    "print(\"Average sentiment for all UK tweets: {}\".format(uk_tweets['sentiment_transformers'].mean()))"
   ]
  },
  {
   "cell_type": "code",
   "execution_count": 124,
   "metadata": {},
   "outputs": [
    {
     "data": {
      "text/plain": [
       "[\"RT @BorisJohnson: I'm deeply saddened to hear of the attack at the London Central Mosque. It's so awful that this should happen, especially…\",\n",
       " 'If you have any of the following coronavirus symptoms: \\n \\n1⃣ A new continuous cough\\n2⃣ A high temperature\\n3⃣ A change or loss of your sense of taste or smell\\n \\nYou should self-isolate and get a test now: https://t.co/RtC0g38NAj https://t.co/leiyFpsXwr',\n",
       " 'If you have coronavirus symptoms, you need to self-isolate and book a free test now.\\n \\nhttps://t.co/aIOcmAlqti https://t.co/WpYnCLKQN2',\n",
       " 'You should self-isolate if you develop:\\n\\n🔵 a new continuous cough\\n🔵 fever\\n🔵 loss/change in your normal sense of smell or taste https://t.co/1Jiw6H4fEY',\n",
       " 'Avoid public transport if you can.\\n\\nWalk, cycle or drive instead.\\n\\n#StayAlert https://t.co/CmJDmkZVqx',\n",
       " 'If you have symptoms of coronavirus, or you have tested positive for coronavirus, then you MUST self-isolate for 10 days. https://t.co/z4u4IXgsLt',\n",
       " 'You should self-isolate if you are experiencing: \\n\\n🔴 A new continuous cough\\n🔴 A high temperature\\n🔴 A change or loss of your sense of taste or smell\\n\\n#StayAlert https://t.co/iGU2WBrcfB',\n",
       " 'You should self-isolate if you develop:\\n\\n⚫ a new continuous cough\\n⚫ a fever\\n⚫ loss/change to your normal sense of smell or taste\\n\\nhttps://t.co/RtC0g38NAj https://t.co/rt2E7bsZGX',\n",
       " 'If you have any of the symptoms of #coronavirus, you need to self-isolate and get a test. \\n\\nBook your free test here: https://t.co/0G9LPXVhiP https://t.co/JtQCxkCp3f',\n",
       " 'You and your household must self-isolate if any of you have #coronavirus symptoms.\\n \\nBook your test at https://t.co/0G9LPXVhiP https://t.co/LheH2Jb9Pr']"
      ]
     },
     "execution_count": 124,
     "metadata": {},
     "output_type": "execute_result"
    }
   ],
   "source": [
    "uk_tweets.nsmallest(10, 'sentiment_transformers')[['full_text', 'sentiment_transformers']]['full_text'].tolist()"
   ]
  },
  {
   "cell_type": "markdown",
   "metadata": {},
   "source": [
    "### --> Sentiment Analysis Japanese"
   ]
  },
  {
   "cell_type": "code",
   "execution_count": 125,
   "metadata": {},
   "outputs": [
    {
     "name": "stderr",
     "output_type": "stream",
     "text": [
      "/Users/dea/opt/anaconda3/lib/python3.7/site-packages/ipykernel_launcher.py:3: SettingWithCopyWarning: \n",
      "A value is trying to be set on a copy of a slice from a DataFrame.\n",
      "Try using .loc[row_indexer,col_indexer] = value instead\n",
      "\n",
      "See the caveats in the documentation: https://pandas.pydata.org/pandas-docs/stable/user_guide/indexing.html#returning-a-view-versus-a-copy\n",
      "  This is separate from the ipykernel package so we can avoid doing imports until\n"
     ]
    }
   ],
   "source": [
    "# use the text before cleaning, and just clean the urls with tweepy; include the retweets \n",
    "jp_tweets['sentiment_transformers'] = jp_tweets['full_text'].apply(\n",
    "    lambda x : analyse_sentiment_transformers_japanese(text_to_bow_ja(x), transformers_nlp_ja)\n",
    ")"
   ]
  },
  {
   "cell_type": "code",
   "execution_count": 126,
   "metadata": {},
   "outputs": [
    {
     "name": "stdout",
     "output_type": "stream",
     "text": [
      "Average sentiment for all Japanese tweets: 0.849256512761116\n"
     ]
    }
   ],
   "source": [
    "print(\"Average sentiment for all Japanese tweets: {}\".format(jp_tweets['sentiment_transformers'].mean()))"
   ]
  },
  {
   "cell_type": "code",
   "execution_count": 127,
   "metadata": {},
   "outputs": [
    {
     "data": {
      "text/plain": [
       "['【菅官房長官・記者会見】本日（4月28日）午前の動画を掲載しました。\\n［冒頭発言］持ち回り閣議の概要、閣僚の給与の一部返納について\\nhttps://t.co/qkvtlRElMG',\n",
       " '【菅官房長官・記者会見】本日（8月7日）午前の動画を掲載しました。\\n［冒頭発言］閣議の概要、内閣官房副長官補の人事についてhttps://t.co/S5Uj6v2VcH',\n",
       " '【加藤官房長官・記者会見】本日（9月18日）午後の動画を掲載しました。\\n［冒頭発言］閣議の概要、副大臣及び大臣政務官の人事について\\nhttps://t.co/kojw6ySGJ3',\n",
       " 'RT @Kantei_Saigai: 「大型客船内での集団感染という新たな事態の発生に直面しましたが、乗員・乗客の方々の健康状態に十分配慮しつつ、感染の拡大防止に向けて万全の対策を講じなくてはなりません。」（2/4）',\n",
       " '【菅官房長官・記者会見】本日（6月26日）午前の動画を掲載しました。\\n［冒頭発言］閣議の概要、内閣官房副長官補の人事について\\nhttps://t.co/YGf1cmZss3',\n",
       " '菅官房長官・記者会見】本日（5月22日）午前の動画を掲載しました。\\n [冒頭発言]持ち回り閣議の概要、南スーダン国際平和協力業務実施計画の変更等の決定についてhttps://t.co/hid6vSYNJz',\n",
       " '【加藤官房長官・記者会見】本日（10月16日）午前の動画を掲載しました。\\n［冒頭発言］閣議の概要、菅総理のベトナム及びインドネシア訪問、「日本経済再生本部の設置について」の廃止についてhttps://t.co/TSEC21IOy1',\n",
       " '【菅官房長官・記者会見】本日（7月14日）午前の動画を掲載しました。\\n［冒頭発言］閣議の概要、内閣官房及び内閣総理大臣秘書官の人事について\\nhttps://t.co/eo23y3jvu7',\n",
       " '【菅官房長官・記者会見】本日（4月10日）午前の動画を掲載しました。\\n［冒頭発言］持ち回り閣議の概要について\\n４月１９日に挙行する予定の立皇嗣の礼についてhttps://t.co/qne1DdmbWy',\n",
       " '【菅官房長官・記者会見】本日（9月4日）午前の動画を掲載しました。\\n［冒頭発言］閣議の概要、内閣官房の人事について\\nhttps://t.co/Tyhl4eAIwM']"
      ]
     },
     "execution_count": 127,
     "metadata": {},
     "output_type": "execute_result"
    }
   ],
   "source": [
    "jp_tweets.nsmallest(10, 'sentiment_transformers')[['full_text', 'sentiment_transformers']]['full_text'].tolist()"
   ]
  },
  {
   "cell_type": "code",
   "execution_count": 130,
   "metadata": {},
   "outputs": [],
   "source": [
    "sample_tweets = jp_tweets['full_text'].sample(500)\n",
    "porg = sample_tweets.apply(\n",
    "    lambda x : analyze_sentiment_google(text_to_bow_ja(x), \"ja\")\n",
    ")"
   ]
  },
  {
   "cell_type": "code",
   "execution_count": 132,
   "metadata": {},
   "outputs": [
    {
     "data": {
      "text/plain": [
       "-0.0010000001490116119"
      ]
     },
     "execution_count": 132,
     "metadata": {},
     "output_type": "execute_result"
    }
   ],
   "source": [
    "porg.mean()"
   ]
  },
  {
   "cell_type": "code",
   "execution_count": 153,
   "metadata": {},
   "outputs": [],
   "source": [
    "porg_df = pd.DataFrame(porg)\n",
    "porg_df.columns = ['score']\n",
    "porg_df['full_text'] = pd.DataFrame(sample_tweets)['full_text']"
   ]
  },
  {
   "cell_type": "code",
   "execution_count": 157,
   "metadata": {},
   "outputs": [
    {
     "data": {
      "text/plain": [
       "['RT @Kantei_Saigai: 【#新型コロナウイルス】大半の市区町村で10万円給付金の受付が始まっています。\\n市区町村から申請書が届きますので、郵送での返信やオンラインなどで申請してください。\\n給付金に絡む個人情報の聞き出しやニセホームページにはご注意ください。\\n \\n詳…',\n",
       " 'RT @Kantei_Saigai: 【注意喚起】#新型コロナウイルス の発生について、感染症危険レベルが引き上げられた地域があります。\\n韓国・大邱広域市及び慶尚北道清道郡に関してレベル2：不要不急の渡航は止めてください。（新規）\\nhttps://t.co/PShUeTVoFb…',\n",
       " 'RT @Kantei_Saigai: 【#新型コロナウイルス】中小法人・個人事業者のための「持続化給付金」の申請が始まっています。\\n\\n申請期間：令和2年5月1日～令和3年1月15日\\n給付：申請後、通常2週間程度\\n※「持続化給付金」を装った詐欺にもご注意ください。\\n\\n申請手続きや…',\n",
       " 'RT @Kantei_Saigai: 【お知らせ】特別定額給付金に関するご案内を掲載しました。\\n・一人当たり10万円を給付\\n・申込方法やよくあるご質問についてのご案内\\n・給付金に便乗した詐欺にご注意\\n\\n定額給付金の詳細・チラシは▼\\nhttps://t.co/6VqWfFaOgs…',\n",
       " 'RT @Kantei_Saigai: 「ーーまた、行政機関や民間企業等におかれては、引き続き、休みが取りやすくなる環境を整えていただくとともに、子どもを持つ保護者の方々への配慮をお願いします。」(3/3)\\n総理発言の全文はhttps://t.co/w99xdpGl1I',\n",
       " 'RT @Kantei_Saigai: 【注意喚起】#新型コロナウイルス の発生について、感染症危険レベルが引き上げられた地域があります。（1/4）\\n●スイス\\n・ティチーノ州\\nレベル２：不要不急の渡航は止めてください。（引き上げ）\\n・その他の地域\\nレベル１：十分注意してください。…',\n",
       " 'RT @Kantei_Saigai: （続き）「国内の複数地域で、感染経路が明らかではない患者が発生しています。現時点は、大規模な感染拡大を防止する上で、重要な局面です。」\\n総理発言の全文はhttps://t.co/zfDhyb4KpZ',\n",
       " 'RT @Kantei_Saigai: 「――専門家会議から大規模イベント等について、主催者がリスクを判断して慎重な対応が求められるとの見解が示されたことから、今後は、主催者がこれを踏まえた判断を行う場合には、感染対策のあり方の例も参考にしてください。」(3/3)\\n総理発言の全文…',\n",
       " 'RT @Kantei_Saigai: 【注意喚起】#新型コロナウイルス の発生について、感染症危険レベルが引き上げられた地域があります。（1/3）\\n●イタリア\\n・ヴェネト州及びエミリア＝ロマーニャ州\\nレベル3：渡航は止めてください。（渡航中止勧告）（引き上げ）\\nhttps://…',\n",
       " 'RT @Kantei_Saigai: 【注意喚起】#新型コロナウイルス の発生について、感染症危険レベルが引き上げられた地域があります。（1/2）\\n●韓国\\n・慶尚北道奉化郡\\nレベル3：渡航は止めてください。（渡航中止勧告）（引き上げ）\\nhttps://t.co/cjdjaYoo…']"
      ]
     },
     "execution_count": 157,
     "metadata": {},
     "output_type": "execute_result"
    }
   ],
   "source": [
    "porg_df.nsmallest(10, 'score')['full_text'].tolist()"
   ]
  },
  {
   "cell_type": "code",
   "execution_count": null,
   "metadata": {},
   "outputs": [],
   "source": []
  }
 ],
 "metadata": {
  "kernelspec": {
   "display_name": "Python 3",
   "language": "python",
   "name": "python3"
  },
  "language_info": {
   "codemirror_mode": {
    "name": "ipython",
    "version": 3
   },
   "file_extension": ".py",
   "mimetype": "text/x-python",
   "name": "python",
   "nbconvert_exporter": "python",
   "pygments_lexer": "ipython3",
   "version": "3.7.6"
  }
 },
 "nbformat": 4,
 "nbformat_minor": 4
}
