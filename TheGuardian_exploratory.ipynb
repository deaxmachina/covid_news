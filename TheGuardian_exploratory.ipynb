{
 "cells": [
  {
   "cell_type": "code",
   "execution_count": 1,
   "metadata": {},
   "outputs": [],
   "source": [
    "import pandas as pd \n",
    "import numpy as np\n",
    "import json\n",
    "import requests\n",
    "import os \n",
    "from os import makedirs\n",
    "from os.path import join, exists\n",
    "from datetime import date, timedelta\n",
    "\n",
    "import re\n",
    "import string\n",
    "from wordcloud import WordCloud\n",
    "from sklearn.feature_extraction.text import CountVectorizer\n",
    "\n",
    "import spacy\n",
    "nlp = spacy.load(\"en_core_web_sm\")\n",
    "\n",
    "import matplotlib.pyplot as plt\n",
    "import seaborn as sns\n",
    "#sns.set_style('whitegrid')\n",
    "%matplotlib inline\n",
    "\n",
    "import warnings\n",
    "warnings.simplefilter(\"ignore\", DeprecationWarning)\n",
    "\n",
    "from sklearn.decomposition import LatentDirichletAllocation as LDA\n",
    "from pyLDAvis import sklearn as sklearn_lda\n",
    "import pickle \n",
    "import pyLDAvis\n",
    "\n",
    "from bokeh.io import output_file, show, output_notebook\n",
    "from bokeh.models import ColumnDataSource\n",
    "from bokeh.palettes import Category20b, cividis, inferno\n",
    "from bokeh.plotting import figure\n",
    "from bokeh.transform import factor_cmap"
   ]
  },
  {
   "cell_type": "markdown",
   "metadata": {},
   "source": [
    "# Load Data "
   ]
  },
  {
   "cell_type": "code",
   "execution_count": 2,
   "metadata": {},
   "outputs": [],
   "source": [
    "articles_dir = \"../Data/the_guardian_news/\""
   ]
  },
  {
   "cell_type": "code",
   "execution_count": 3,
   "metadata": {},
   "outputs": [],
   "source": [
    "df = pd.read_csv(os.path.join(articles_dir,\"df_guardian_nov14.csv\"), index_col=0)"
   ]
  },
  {
   "cell_type": "code",
   "execution_count": 4,
   "metadata": {},
   "outputs": [
    {
     "data": {
      "text/html": [
       "<div>\n",
       "<style scoped>\n",
       "    .dataframe tbody tr th:only-of-type {\n",
       "        vertical-align: middle;\n",
       "    }\n",
       "\n",
       "    .dataframe tbody tr th {\n",
       "        vertical-align: top;\n",
       "    }\n",
       "\n",
       "    .dataframe thead th {\n",
       "        text-align: right;\n",
       "    }\n",
       "</style>\n",
       "<table border=\"1\" class=\"dataframe\">\n",
       "  <thead>\n",
       "    <tr style=\"text-align: right;\">\n",
       "      <th></th>\n",
       "      <th>type</th>\n",
       "      <th>sectionId</th>\n",
       "      <th>sectionName</th>\n",
       "      <th>webPublicationDate</th>\n",
       "      <th>webTitle</th>\n",
       "      <th>webUrl</th>\n",
       "      <th>apiUrl</th>\n",
       "      <th>fields</th>\n",
       "      <th>isHosted</th>\n",
       "      <th>pillarId</th>\n",
       "      <th>pillarName</th>\n",
       "      <th>trailText</th>\n",
       "      <th>full_text</th>\n",
       "      <th>title_subtitle</th>\n",
       "    </tr>\n",
       "    <tr>\n",
       "      <th>id</th>\n",
       "      <th></th>\n",
       "      <th></th>\n",
       "      <th></th>\n",
       "      <th></th>\n",
       "      <th></th>\n",
       "      <th></th>\n",
       "      <th></th>\n",
       "      <th></th>\n",
       "      <th></th>\n",
       "      <th></th>\n",
       "      <th></th>\n",
       "      <th></th>\n",
       "      <th></th>\n",
       "      <th></th>\n",
       "    </tr>\n",
       "  </thead>\n",
       "  <tbody>\n",
       "    <tr>\n",
       "      <th>society/2020/jan/18/expert-questions-effectiveness-airport-screening-new-coronavirus</th>\n",
       "      <td>article</td>\n",
       "      <td>society</td>\n",
       "      <td>Society</td>\n",
       "      <td>2020-01-18T19:20:36Z</td>\n",
       "      <td>Expert questions effectiveness of coronavirus ...</td>\n",
       "      <td>https://www.theguardian.com/society/2020/jan/1...</td>\n",
       "      <td>https://content.guardianapis.com/society/2020/...</td>\n",
       "      <td>{'headline': 'Expert questions effectiveness o...</td>\n",
       "      <td>False</td>\n",
       "      <td>pillar/news</td>\n",
       "      <td>News</td>\n",
       "      <td>We don’t know enough yet to be sure of catchin...</td>\n",
       "      <td>Medical staff at airports trying to screen for...</td>\n",
       "      <td>Expert questions effectiveness of coronavirus ...</td>\n",
       "    </tr>\n",
       "    <tr>\n",
       "      <th>world/2020/jan/18/no-airport-screening-for-new-sars-like-virus-yet-china</th>\n",
       "      <td>article</td>\n",
       "      <td>world</td>\n",
       "      <td>World news</td>\n",
       "      <td>2020-01-18T19:20:36Z</td>\n",
       "      <td>No screening for new Sars-like virus at UK air...</td>\n",
       "      <td>https://www.theguardian.com/world/2020/jan/18/...</td>\n",
       "      <td>https://content.guardianapis.com/world/2020/ja...</td>\n",
       "      <td>{'headline': 'No screening for new Sars-like v...</td>\n",
       "      <td>False</td>\n",
       "      <td>pillar/news</td>\n",
       "      <td>News</td>\n",
       "      <td>Experts decide no need for checks as member of...</td>\n",
       "      <td>Health officials have ruled out introducing sc...</td>\n",
       "      <td>No screening for new Sars-like virus at UK air...</td>\n",
       "    </tr>\n",
       "    <tr>\n",
       "      <th>world/2020/jan/18/coronavirus-what-airport-measures-are-in-place-to-detect-for-sick-passengers</th>\n",
       "      <td>article</td>\n",
       "      <td>world</td>\n",
       "      <td>World news</td>\n",
       "      <td>2020-01-18T09:21:23Z</td>\n",
       "      <td>Coronavirus: what airport measures are in plac...</td>\n",
       "      <td>https://www.theguardian.com/world/2020/jan/18/...</td>\n",
       "      <td>https://content.guardianapis.com/world/2020/ja...</td>\n",
       "      <td>{'headline': 'Coronavirus: what airport measur...</td>\n",
       "      <td>False</td>\n",
       "      <td>pillar/news</td>\n",
       "      <td>News</td>\n",
       "      <td>Three US airports introduce screening, followi...</td>\n",
       "      <td>International airports are stepping up screeni...</td>\n",
       "      <td>Coronavirus: what airport measures are in plac...</td>\n",
       "    </tr>\n",
       "  </tbody>\n",
       "</table>\n",
       "</div>"
      ],
      "text/plain": [
       "                                                       type sectionId  \\\n",
       "id                                                                      \n",
       "society/2020/jan/18/expert-questions-effectiven...  article   society   \n",
       "world/2020/jan/18/no-airport-screening-for-new-...  article     world   \n",
       "world/2020/jan/18/coronavirus-what-airport-meas...  article     world   \n",
       "\n",
       "                                                   sectionName  \\\n",
       "id                                                               \n",
       "society/2020/jan/18/expert-questions-effectiven...     Society   \n",
       "world/2020/jan/18/no-airport-screening-for-new-...  World news   \n",
       "world/2020/jan/18/coronavirus-what-airport-meas...  World news   \n",
       "\n",
       "                                                      webPublicationDate  \\\n",
       "id                                                                         \n",
       "society/2020/jan/18/expert-questions-effectiven...  2020-01-18T19:20:36Z   \n",
       "world/2020/jan/18/no-airport-screening-for-new-...  2020-01-18T19:20:36Z   \n",
       "world/2020/jan/18/coronavirus-what-airport-meas...  2020-01-18T09:21:23Z   \n",
       "\n",
       "                                                                                             webTitle  \\\n",
       "id                                                                                                      \n",
       "society/2020/jan/18/expert-questions-effectiven...  Expert questions effectiveness of coronavirus ...   \n",
       "world/2020/jan/18/no-airport-screening-for-new-...  No screening for new Sars-like virus at UK air...   \n",
       "world/2020/jan/18/coronavirus-what-airport-meas...  Coronavirus: what airport measures are in plac...   \n",
       "\n",
       "                                                                                               webUrl  \\\n",
       "id                                                                                                      \n",
       "society/2020/jan/18/expert-questions-effectiven...  https://www.theguardian.com/society/2020/jan/1...   \n",
       "world/2020/jan/18/no-airport-screening-for-new-...  https://www.theguardian.com/world/2020/jan/18/...   \n",
       "world/2020/jan/18/coronavirus-what-airport-meas...  https://www.theguardian.com/world/2020/jan/18/...   \n",
       "\n",
       "                                                                                               apiUrl  \\\n",
       "id                                                                                                      \n",
       "society/2020/jan/18/expert-questions-effectiven...  https://content.guardianapis.com/society/2020/...   \n",
       "world/2020/jan/18/no-airport-screening-for-new-...  https://content.guardianapis.com/world/2020/ja...   \n",
       "world/2020/jan/18/coronavirus-what-airport-meas...  https://content.guardianapis.com/world/2020/ja...   \n",
       "\n",
       "                                                                                               fields  \\\n",
       "id                                                                                                      \n",
       "society/2020/jan/18/expert-questions-effectiven...  {'headline': 'Expert questions effectiveness o...   \n",
       "world/2020/jan/18/no-airport-screening-for-new-...  {'headline': 'No screening for new Sars-like v...   \n",
       "world/2020/jan/18/coronavirus-what-airport-meas...  {'headline': 'Coronavirus: what airport measur...   \n",
       "\n",
       "                                                    isHosted     pillarId  \\\n",
       "id                                                                          \n",
       "society/2020/jan/18/expert-questions-effectiven...     False  pillar/news   \n",
       "world/2020/jan/18/no-airport-screening-for-new-...     False  pillar/news   \n",
       "world/2020/jan/18/coronavirus-what-airport-meas...     False  pillar/news   \n",
       "\n",
       "                                                   pillarName  \\\n",
       "id                                                              \n",
       "society/2020/jan/18/expert-questions-effectiven...       News   \n",
       "world/2020/jan/18/no-airport-screening-for-new-...       News   \n",
       "world/2020/jan/18/coronavirus-what-airport-meas...       News   \n",
       "\n",
       "                                                                                            trailText  \\\n",
       "id                                                                                                      \n",
       "society/2020/jan/18/expert-questions-effectiven...  We don’t know enough yet to be sure of catchin...   \n",
       "world/2020/jan/18/no-airport-screening-for-new-...  Experts decide no need for checks as member of...   \n",
       "world/2020/jan/18/coronavirus-what-airport-meas...  Three US airports introduce screening, followi...   \n",
       "\n",
       "                                                                                            full_text  \\\n",
       "id                                                                                                      \n",
       "society/2020/jan/18/expert-questions-effectiven...  Medical staff at airports trying to screen for...   \n",
       "world/2020/jan/18/no-airport-screening-for-new-...  Health officials have ruled out introducing sc...   \n",
       "world/2020/jan/18/coronavirus-what-airport-meas...  International airports are stepping up screeni...   \n",
       "\n",
       "                                                                                       title_subtitle  \n",
       "id                                                                                                     \n",
       "society/2020/jan/18/expert-questions-effectiven...  Expert questions effectiveness of coronavirus ...  \n",
       "world/2020/jan/18/no-airport-screening-for-new-...  No screening for new Sars-like virus at UK air...  \n",
       "world/2020/jan/18/coronavirus-what-airport-meas...  Coronavirus: what airport measures are in plac...  "
      ]
     },
     "execution_count": 4,
     "metadata": {},
     "output_type": "execute_result"
    }
   ],
   "source": [
    "df.head(3)"
   ]
  },
  {
   "cell_type": "markdown",
   "metadata": {},
   "source": [
    "## Data cleaning and pre-processing"
   ]
  },
  {
   "cell_type": "markdown",
   "metadata": {},
   "source": [
    "Bag of words"
   ]
  },
  {
   "cell_type": "code",
   "execution_count": 5,
   "metadata": {},
   "outputs": [],
   "source": [
    "def text_to_bow(text):\n",
    "    '''\n",
    "    convert text to just lowercase words\n",
    "    '''\n",
    "    # optional if dealing with strings which might contain nan \n",
    "    if text == np.nan:\n",
    "        return text \n",
    "    else: \n",
    "        text = str(text).lower()\n",
    "        text = re.sub('\\n', ' ', text) \n",
    "        text = re.sub('<br>', ' ', text) \n",
    "        # remove non alphanumeric characters\n",
    "        regex = re.compile('[^0-9a-zA-Z- ]')\n",
    "        text = regex.sub('', text)\n",
    "        text = re.sub(' +', ' ', text).strip()\n",
    "        return text"
   ]
  },
  {
   "cell_type": "code",
   "execution_count": 6,
   "metadata": {},
   "outputs": [],
   "source": [
    "df['title_subtitle_bow'] = df['title_subtitle'].apply(lambda x : text_to_bow(x))"
   ]
  },
  {
   "cell_type": "markdown",
   "metadata": {},
   "source": [
    "Lemmatized bag of words"
   ]
  },
  {
   "cell_type": "code",
   "execution_count": 7,
   "metadata": {},
   "outputs": [],
   "source": [
    "def spacy_lemmatize(text_list):\n",
    "    lemmatized_text = []\n",
    "    for text in text_list:\n",
    "        doc = nlp(text_to_bow(text))\n",
    "        doc_tokens = []\n",
    "        for token in doc:\n",
    "            if token.is_stop == False:\n",
    "                doc_tokens.append(token.lemma_)\n",
    "        lemmatized_text.append(\" \".join(doc_tokens))\n",
    "    return lemmatized_text"
   ]
  },
  {
   "cell_type": "code",
   "execution_count": 8,
   "metadata": {},
   "outputs": [],
   "source": [
    "df['title_subtitle_lem'] = spacy_lemmatize(df['title_subtitle'])"
   ]
  },
  {
   "cell_type": "raw",
   "metadata": {},
   "source": [
    "df.to_csv(\"resources/df_guardian_lem_nov14.csv\")"
   ]
  },
  {
   "cell_type": "code",
   "execution_count": 9,
   "metadata": {},
   "outputs": [],
   "source": [
    "df = pd.read_csv(\"resources/df_guardian_lem_nov14.csv\", index_col=0)"
   ]
  },
  {
   "cell_type": "code",
   "execution_count": 10,
   "metadata": {},
   "outputs": [],
   "source": [
    "df[\"date\"] = pd.to_datetime(df[\"webPublicationDate\"].apply(lambda x : x.split(\"T\")[0]))"
   ]
  },
  {
   "cell_type": "code",
   "execution_count": 11,
   "metadata": {},
   "outputs": [
    {
     "data": {
      "text/html": [
       "<div>\n",
       "<style scoped>\n",
       "    .dataframe tbody tr th:only-of-type {\n",
       "        vertical-align: middle;\n",
       "    }\n",
       "\n",
       "    .dataframe tbody tr th {\n",
       "        vertical-align: top;\n",
       "    }\n",
       "\n",
       "    .dataframe thead th {\n",
       "        text-align: right;\n",
       "    }\n",
       "</style>\n",
       "<table border=\"1\" class=\"dataframe\">\n",
       "  <thead>\n",
       "    <tr style=\"text-align: right;\">\n",
       "      <th></th>\n",
       "      <th>type</th>\n",
       "      <th>sectionId</th>\n",
       "      <th>sectionName</th>\n",
       "      <th>webPublicationDate</th>\n",
       "      <th>webTitle</th>\n",
       "      <th>webUrl</th>\n",
       "      <th>apiUrl</th>\n",
       "      <th>fields</th>\n",
       "      <th>isHosted</th>\n",
       "      <th>pillarId</th>\n",
       "      <th>pillarName</th>\n",
       "      <th>trailText</th>\n",
       "      <th>full_text</th>\n",
       "      <th>title_subtitle</th>\n",
       "      <th>title_subtitle_bow</th>\n",
       "      <th>title_subtitle_lem</th>\n",
       "      <th>date</th>\n",
       "    </tr>\n",
       "    <tr>\n",
       "      <th>id</th>\n",
       "      <th></th>\n",
       "      <th></th>\n",
       "      <th></th>\n",
       "      <th></th>\n",
       "      <th></th>\n",
       "      <th></th>\n",
       "      <th></th>\n",
       "      <th></th>\n",
       "      <th></th>\n",
       "      <th></th>\n",
       "      <th></th>\n",
       "      <th></th>\n",
       "      <th></th>\n",
       "      <th></th>\n",
       "      <th></th>\n",
       "      <th></th>\n",
       "      <th></th>\n",
       "    </tr>\n",
       "  </thead>\n",
       "  <tbody>\n",
       "    <tr>\n",
       "      <th>society/2020/jan/18/expert-questions-effectiveness-airport-screening-new-coronavirus</th>\n",
       "      <td>article</td>\n",
       "      <td>society</td>\n",
       "      <td>Society</td>\n",
       "      <td>2020-01-18T19:20:36Z</td>\n",
       "      <td>Expert questions effectiveness of coronavirus ...</td>\n",
       "      <td>https://www.theguardian.com/society/2020/jan/1...</td>\n",
       "      <td>https://content.guardianapis.com/society/2020/...</td>\n",
       "      <td>{'headline': 'Expert questions effectiveness o...</td>\n",
       "      <td>False</td>\n",
       "      <td>pillar/news</td>\n",
       "      <td>News</td>\n",
       "      <td>We don’t know enough yet to be sure of catchin...</td>\n",
       "      <td>Medical staff at airports trying to screen for...</td>\n",
       "      <td>Expert questions effectiveness of coronavirus ...</td>\n",
       "      <td>expert questions effectiveness of coronavirus ...</td>\n",
       "      <td>expert question effectiveness coronavirus airp...</td>\n",
       "      <td>2020-01-18</td>\n",
       "    </tr>\n",
       "    <tr>\n",
       "      <th>world/2020/jan/18/no-airport-screening-for-new-sars-like-virus-yet-china</th>\n",
       "      <td>article</td>\n",
       "      <td>world</td>\n",
       "      <td>World news</td>\n",
       "      <td>2020-01-18T19:20:36Z</td>\n",
       "      <td>No screening for new Sars-like virus at UK air...</td>\n",
       "      <td>https://www.theguardian.com/world/2020/jan/18/...</td>\n",
       "      <td>https://content.guardianapis.com/world/2020/ja...</td>\n",
       "      <td>{'headline': 'No screening for new Sars-like v...</td>\n",
       "      <td>False</td>\n",
       "      <td>pillar/news</td>\n",
       "      <td>News</td>\n",
       "      <td>Experts decide no need for checks as member of...</td>\n",
       "      <td>Health officials have ruled out introducing sc...</td>\n",
       "      <td>No screening for new Sars-like virus at UK air...</td>\n",
       "      <td>no screening for new sars-like virus at uk air...</td>\n",
       "      <td>screening new sars - like virus uk airport exp...</td>\n",
       "      <td>2020-01-18</td>\n",
       "    </tr>\n",
       "    <tr>\n",
       "      <th>world/2020/jan/18/coronavirus-what-airport-measures-are-in-place-to-detect-for-sick-passengers</th>\n",
       "      <td>article</td>\n",
       "      <td>world</td>\n",
       "      <td>World news</td>\n",
       "      <td>2020-01-18T09:21:23Z</td>\n",
       "      <td>Coronavirus: what airport measures are in plac...</td>\n",
       "      <td>https://www.theguardian.com/world/2020/jan/18/...</td>\n",
       "      <td>https://content.guardianapis.com/world/2020/ja...</td>\n",
       "      <td>{'headline': 'Coronavirus: what airport measur...</td>\n",
       "      <td>False</td>\n",
       "      <td>pillar/news</td>\n",
       "      <td>News</td>\n",
       "      <td>Three US airports introduce screening, followi...</td>\n",
       "      <td>International airports are stepping up screeni...</td>\n",
       "      <td>Coronavirus: what airport measures are in plac...</td>\n",
       "      <td>coronavirus what airport measures are in place...</td>\n",
       "      <td>coronavirus airport measure place detect sick ...</td>\n",
       "      <td>2020-01-18</td>\n",
       "    </tr>\n",
       "  </tbody>\n",
       "</table>\n",
       "</div>"
      ],
      "text/plain": [
       "                                                       type sectionId  \\\n",
       "id                                                                      \n",
       "society/2020/jan/18/expert-questions-effectiven...  article   society   \n",
       "world/2020/jan/18/no-airport-screening-for-new-...  article     world   \n",
       "world/2020/jan/18/coronavirus-what-airport-meas...  article     world   \n",
       "\n",
       "                                                   sectionName  \\\n",
       "id                                                               \n",
       "society/2020/jan/18/expert-questions-effectiven...     Society   \n",
       "world/2020/jan/18/no-airport-screening-for-new-...  World news   \n",
       "world/2020/jan/18/coronavirus-what-airport-meas...  World news   \n",
       "\n",
       "                                                      webPublicationDate  \\\n",
       "id                                                                         \n",
       "society/2020/jan/18/expert-questions-effectiven...  2020-01-18T19:20:36Z   \n",
       "world/2020/jan/18/no-airport-screening-for-new-...  2020-01-18T19:20:36Z   \n",
       "world/2020/jan/18/coronavirus-what-airport-meas...  2020-01-18T09:21:23Z   \n",
       "\n",
       "                                                                                             webTitle  \\\n",
       "id                                                                                                      \n",
       "society/2020/jan/18/expert-questions-effectiven...  Expert questions effectiveness of coronavirus ...   \n",
       "world/2020/jan/18/no-airport-screening-for-new-...  No screening for new Sars-like virus at UK air...   \n",
       "world/2020/jan/18/coronavirus-what-airport-meas...  Coronavirus: what airport measures are in plac...   \n",
       "\n",
       "                                                                                               webUrl  \\\n",
       "id                                                                                                      \n",
       "society/2020/jan/18/expert-questions-effectiven...  https://www.theguardian.com/society/2020/jan/1...   \n",
       "world/2020/jan/18/no-airport-screening-for-new-...  https://www.theguardian.com/world/2020/jan/18/...   \n",
       "world/2020/jan/18/coronavirus-what-airport-meas...  https://www.theguardian.com/world/2020/jan/18/...   \n",
       "\n",
       "                                                                                               apiUrl  \\\n",
       "id                                                                                                      \n",
       "society/2020/jan/18/expert-questions-effectiven...  https://content.guardianapis.com/society/2020/...   \n",
       "world/2020/jan/18/no-airport-screening-for-new-...  https://content.guardianapis.com/world/2020/ja...   \n",
       "world/2020/jan/18/coronavirus-what-airport-meas...  https://content.guardianapis.com/world/2020/ja...   \n",
       "\n",
       "                                                                                               fields  \\\n",
       "id                                                                                                      \n",
       "society/2020/jan/18/expert-questions-effectiven...  {'headline': 'Expert questions effectiveness o...   \n",
       "world/2020/jan/18/no-airport-screening-for-new-...  {'headline': 'No screening for new Sars-like v...   \n",
       "world/2020/jan/18/coronavirus-what-airport-meas...  {'headline': 'Coronavirus: what airport measur...   \n",
       "\n",
       "                                                    isHosted     pillarId  \\\n",
       "id                                                                          \n",
       "society/2020/jan/18/expert-questions-effectiven...     False  pillar/news   \n",
       "world/2020/jan/18/no-airport-screening-for-new-...     False  pillar/news   \n",
       "world/2020/jan/18/coronavirus-what-airport-meas...     False  pillar/news   \n",
       "\n",
       "                                                   pillarName  \\\n",
       "id                                                              \n",
       "society/2020/jan/18/expert-questions-effectiven...       News   \n",
       "world/2020/jan/18/no-airport-screening-for-new-...       News   \n",
       "world/2020/jan/18/coronavirus-what-airport-meas...       News   \n",
       "\n",
       "                                                                                            trailText  \\\n",
       "id                                                                                                      \n",
       "society/2020/jan/18/expert-questions-effectiven...  We don’t know enough yet to be sure of catchin...   \n",
       "world/2020/jan/18/no-airport-screening-for-new-...  Experts decide no need for checks as member of...   \n",
       "world/2020/jan/18/coronavirus-what-airport-meas...  Three US airports introduce screening, followi...   \n",
       "\n",
       "                                                                                            full_text  \\\n",
       "id                                                                                                      \n",
       "society/2020/jan/18/expert-questions-effectiven...  Medical staff at airports trying to screen for...   \n",
       "world/2020/jan/18/no-airport-screening-for-new-...  Health officials have ruled out introducing sc...   \n",
       "world/2020/jan/18/coronavirus-what-airport-meas...  International airports are stepping up screeni...   \n",
       "\n",
       "                                                                                       title_subtitle  \\\n",
       "id                                                                                                      \n",
       "society/2020/jan/18/expert-questions-effectiven...  Expert questions effectiveness of coronavirus ...   \n",
       "world/2020/jan/18/no-airport-screening-for-new-...  No screening for new Sars-like virus at UK air...   \n",
       "world/2020/jan/18/coronavirus-what-airport-meas...  Coronavirus: what airport measures are in plac...   \n",
       "\n",
       "                                                                                   title_subtitle_bow  \\\n",
       "id                                                                                                      \n",
       "society/2020/jan/18/expert-questions-effectiven...  expert questions effectiveness of coronavirus ...   \n",
       "world/2020/jan/18/no-airport-screening-for-new-...  no screening for new sars-like virus at uk air...   \n",
       "world/2020/jan/18/coronavirus-what-airport-meas...  coronavirus what airport measures are in place...   \n",
       "\n",
       "                                                                                   title_subtitle_lem  \\\n",
       "id                                                                                                      \n",
       "society/2020/jan/18/expert-questions-effectiven...  expert question effectiveness coronavirus airp...   \n",
       "world/2020/jan/18/no-airport-screening-for-new-...  screening new sars - like virus uk airport exp...   \n",
       "world/2020/jan/18/coronavirus-what-airport-meas...  coronavirus airport measure place detect sick ...   \n",
       "\n",
       "                                                         date  \n",
       "id                                                             \n",
       "society/2020/jan/18/expert-questions-effectiven... 2020-01-18  \n",
       "world/2020/jan/18/no-airport-screening-for-new-... 2020-01-18  \n",
       "world/2020/jan/18/coronavirus-what-airport-meas... 2020-01-18  "
      ]
     },
     "execution_count": 11,
     "metadata": {},
     "output_type": "execute_result"
    }
   ],
   "source": [
    "df.head(3)"
   ]
  },
  {
   "cell_type": "markdown",
   "metadata": {},
   "source": [
    "# Inspect data "
   ]
  },
  {
   "cell_type": "markdown",
   "metadata": {},
   "source": [
    "### Variability of news per day over time"
   ]
  },
  {
   "cell_type": "code",
   "execution_count": 12,
   "metadata": {},
   "outputs": [],
   "source": [
    "num_artlces_per_day = df.groupby(\"date\")['webTitle'].count()"
   ]
  },
  {
   "cell_type": "code",
   "execution_count": 13,
   "metadata": {},
   "outputs": [
    {
     "data": {
      "text/plain": [
       "(<Figure size 1440x1440 with 1 Axes>,\n",
       " array([<matplotlib.axes._subplots.AxesSubplot object at 0x7fe5c3568150>],\n",
       "       dtype=object))"
      ]
     },
     "execution_count": 13,
     "metadata": {},
     "output_type": "execute_result"
    },
    {
     "data": {
      "image/png": "[encoded data removed]",
      "text/plain": [
       "<Figure size 1440x1440 with 1 Axes>"
      ]
     },
     "metadata": {
      "needs_background": "light"
     },
     "output_type": "display_data"
    }
   ],
   "source": [
    "import calmap\n",
    "calmap.calendarplot(num_artlces_per_day, fig_kws=dict(figsize=(20, 20)))"
   ]
  },
  {
   "cell_type": "markdown",
   "metadata": {},
   "source": [
    "# Bag of Words\n",
    "Note: To get the equivalent for Tfidf, just replace the CountVectorizer with TfidfVectorizer from sklearn"
   ]
  },
  {
   "cell_type": "code",
   "execution_count": 14,
   "metadata": {},
   "outputs": [],
   "source": [
    "class BagOfWords:\n",
    "    def __init__(self, data, max_df, min_df, stop_words, ngram_range):\n",
    "        self.data = data\n",
    "        self.max_df = max_df \n",
    "        self.min_df = min_df \n",
    "        self.stop_words = stop_words \n",
    "        self.ngram_range = ngram_range \n",
    "        self.MyCountVectorizer = CountVectorizer(\n",
    "            max_df=self.max_df, \n",
    "            min_df=self.min_df, \n",
    "            stop_words=self.stop_words, \n",
    "            ngram_range=self.ngram_range)\n",
    "        # init the empty vars \n",
    "        self.X = \"\"\n",
    "        self.feature_names = \"\"\n",
    "        self.counts = \"\"\n",
    "        self.df_counts = \"\"\n",
    "        self.dict_counts = \"\"\n",
    "        self.wordcloud = \"\"\n",
    "        self.p = \"\"\n",
    "        \n",
    "        \n",
    "    #fit the count vectorizer \n",
    "    def fit_transform(self):\n",
    "        self.X = self.MyCountVectorizer.fit_transform(self.data)\n",
    "        \n",
    "    def get_feature_names(self):\n",
    "        self.feature_names = self.MyCountVectorizer.get_feature_names()\n",
    "        \n",
    "    def get_bow_feature_counts(self): \n",
    "        self.counts = self.X.toarray().sum(axis=0)\n",
    "        # create a df with feature names and counts \n",
    "        self.df_counts = pd.DataFrame({\"feature_names\": self.feature_names, \"counts\": self.counts}).sort_values(by=\"counts\", ascending=False)\n",
    "    \n",
    "    # get the data into a dict format of {word: freq} type to feed into the wordcloud \n",
    "    def prep_for_wordcloud(self):\n",
    "        _dict_counts = self.df_counts.set_index(\"feature_names\").to_dict(orient=\"index\")\n",
    "        self.dict_counts = {}\n",
    "        for keyword, count in _dict_counts.items():\n",
    "            self.dict_counts[keyword] = count['counts']\n",
    "    \n",
    "    # visualise the word cloud\n",
    "    def viz_wordcloud(self, background_color=\"black\", max_words=200, width=700, height=400):\n",
    "        self.wordcloud = WordCloud(background_color=background_color, max_words=max_words, width=width, height=height)\n",
    "        self.wordcloud.generate_from_frequencies(self.dict_counts)\n",
    "        #self.wordcloud.to_image()\n",
    "        \n",
    "    # bar chart of word frequencies \n",
    "    def barchart_wordfreq(self, \n",
    "                          num_top_features=30,\n",
    "                          output_here=True, save_filename=\"plot\", \n",
    "                          plot_height=350, plot_width=800, title=\"Title\", bgcolor = \"#2b2b2b\"):\n",
    "        \n",
    "        counted_data = self.df_counts.nlargest(num_top_features, \"counts\")[\"feature_names\"].tolist()\n",
    "        counts = self.df_counts.nlargest(num_top_features, \"counts\")[\"counts\"].tolist()\n",
    "        # either display in the notebook or save file \n",
    "        if output_here:\n",
    "            output_notebook()\n",
    "        else:\n",
    "            output_file(save_filename+\".html\")\n",
    "        \n",
    "        source = ColumnDataSource(data=dict(counted_data=counted_data, counts=counts))\n",
    "        self.p = figure(x_range=counted_data, plot_height=plot_height, plot_width=plot_width, toolbar_location=None, title=title)\n",
    "    \n",
    "        self.p.vbar(x='counted_data',\n",
    "           top='counts', \n",
    "           width=0.8, \n",
    "           source=source, \n",
    "           line_color='white', \n",
    "           fill_color=factor_cmap('counted_data', palette=cividis(len(counted_data)), factors=counted_data))\n",
    "    \n",
    "        self.p.xgrid.grid_line_color = None\n",
    "        self.p.ygrid.grid_line_color = None\n",
    "        self.p.y_range.start = 0\n",
    "        self.p.xaxis.major_label_orientation = 1.2\n",
    "        #p.y_range.end = 5000\n",
    "        self.p.background_fill_color = bgcolor\n",
    "    \n",
    "        show(self.p)"
   ]
  },
  {
   "cell_type": "markdown",
   "metadata": {},
   "source": [
    "### 1-grams with the bow data "
   ]
  },
  {
   "cell_type": "code",
   "execution_count": 15,
   "metadata": {},
   "outputs": [],
   "source": [
    "# initialize the count vectorizer \n",
    "bow = BagOfWords(data=df['title_subtitle_bow'], max_df=0.99, min_df=0.005, stop_words=\"english\", ngram_range=(1, 1))\n",
    "# fit transform and get the fit-transformed matrix of word frequencies\n",
    "bow.fit_transform() #bow_bow.X\n",
    "# get the feature names \n",
    "bow.get_feature_names() #bow.feature_names\n",
    "# get the feature counts \n",
    "bow.get_bow_feature_counts() #bow.df_counts"
   ]
  },
  {
   "cell_type": "code",
   "execution_count": 16,
   "metadata": {},
   "outputs": [
    {
     "name": "stdout",
     "output_type": "stream",
     "text": [
      "Number of features: 619\n"
     ]
    }
   ],
   "source": [
    "print(\"Number of features: {}\".format(len(bow.feature_names)))"
   ]
  },
  {
   "cell_type": "code",
   "execution_count": 17,
   "metadata": {},
   "outputs": [
    {
     "data": {
      "text/html": [
       "<div>\n",
       "<style scoped>\n",
       "    .dataframe tbody tr th:only-of-type {\n",
       "        vertical-align: middle;\n",
       "    }\n",
       "\n",
       "    .dataframe tbody tr th {\n",
       "        vertical-align: top;\n",
       "    }\n",
       "\n",
       "    .dataframe thead th {\n",
       "        text-align: right;\n",
       "    }\n",
       "</style>\n",
       "<table border=\"1\" class=\"dataframe\">\n",
       "  <thead>\n",
       "    <tr style=\"text-align: right;\">\n",
       "      <th></th>\n",
       "      <th>feature_names</th>\n",
       "      <th>counts</th>\n",
       "    </tr>\n",
       "  </thead>\n",
       "  <tbody>\n",
       "    <tr>\n",
       "      <th>108</th>\n",
       "      <td>coronavirus</td>\n",
       "      <td>3455</td>\n",
       "    </tr>\n",
       "    <tr>\n",
       "      <th>566</th>\n",
       "      <td>uk</td>\n",
       "      <td>2646</td>\n",
       "    </tr>\n",
       "    <tr>\n",
       "      <th>113</th>\n",
       "      <td>covid</td>\n",
       "      <td>2370</td>\n",
       "    </tr>\n",
       "    <tr>\n",
       "      <th>469</th>\n",
       "      <td>says</td>\n",
       "      <td>1633</td>\n",
       "    </tr>\n",
       "    <tr>\n",
       "      <th>3</th>\n",
       "      <td>19</td>\n",
       "      <td>1516</td>\n",
       "    </tr>\n",
       "  </tbody>\n",
       "</table>\n",
       "</div>"
      ],
      "text/plain": [
       "    feature_names  counts\n",
       "108   coronavirus    3455\n",
       "566            uk    2646\n",
       "113         covid    2370\n",
       "469          says    1633\n",
       "3              19    1516"
      ]
     },
     "execution_count": 17,
     "metadata": {},
     "output_type": "execute_result"
    }
   ],
   "source": [
    "bow.df_counts.head(5)"
   ]
  },
  {
   "cell_type": "code",
   "execution_count": 18,
   "metadata": {},
   "outputs": [
    {
     "data": {
      "image/png": "[encoded data removed]",
      "text/plain": [
       "<PIL.Image.Image image mode=RGB size=700x400 at 0x7FE5F0B4F890>"
      ]
     },
     "execution_count": 18,
     "metadata": {},
     "output_type": "execute_result"
    }
   ],
   "source": [
    "# wordcloud \n",
    "bow.prep_for_wordcloud()\n",
    "bow.viz_wordcloud()\n",
    "bow.wordcloud.to_image()"
   ]
  },
  {
   "cell_type": "code",
   "execution_count": 19,
   "metadata": {},
   "outputs": [
    {
     "data": {
      "text/html": [
       "\n",
       "    <div class=\"bk-root\">\n",
       "        <a href=\"https://bokeh.org\" target=\"_blank\" class=\"bk-logo bk-logo-small bk-logo-notebook\"></a>\n",
       "        <span id=\"1001\">Loading BokehJS ...</span>\n",
       "    </div>"
      ]
     },
     "metadata": {},
     "output_type": "display_data"
    },
    {
     "data": {
      "application/javascript": [
       "\n",
       "(function(root) {\n",
       "  function now() {\n",
       "    return new Date();\n",
       "  }\n",
       "\n",
       "  var force = true;\n",
       "\n",
       "  if (typeof root._bokeh_onload_callbacks === \"undefined\" || force === true) {\n",
       "    root._bokeh_onload_callbacks = [];\n",
       "    root._bokeh_is_loading = undefined;\n",
       "  }\n",
       "\n",
       "  var JS_MIME_TYPE = 'application/javascript';\n",
       "  var HTML_MIME_TYPE = 'text/html';\n",
       "  var EXEC_MIME_TYPE = 'application/vnd.bokehjs_exec.v0+json';\n",
       "  var CLASS_NAME = 'output_bokeh rendered_html';\n",
       "\n",
       "  /**\n",
       "   * Render data to the DOM node\n",
       "   */\n",
       "  function render(props, node) {\n",
       "    var script = document.createElement(\"script\");\n",
       "    node.appendChild(script);\n",
       "  }\n",
       "\n",
       "  /**\n",
       "   * Handle when an output is cleared or removed\n",
       "   */\n",
       "  function handleClearOutput(event, handle) {\n",
       "    var cell = handle.cell;\n",
       "\n",
       "    var id = cell.output_area._bokeh_element_id;\n",
       "    var server_id = cell.output_area._bokeh_server_id;\n",
       "    // Clean up Bokeh references\n",
       "    if (id != null && id in Bokeh.index) {\n",
       "      Bokeh.index[id].model.document.clear();\n",
       "      delete Bokeh.index[id];\n",
       "    }\n",
       "\n",
       "    if (server_id !== undefined) {\n",
       "      // Clean up Bokeh references\n",
       "      var cmd = \"from bokeh.io.state import curstate; print(curstate().uuid_to_server['\" + server_id + \"'].get_sessions()[0].document.roots[0]._id)\";\n",
       "      cell.notebook.kernel.execute(cmd, {\n",
       "        iopub: {\n",
       "          output: function(msg) {\n",
       "            var id = msg.content.text.trim();\n",
       "            if (id in Bokeh.index) {\n",
       "              Bokeh.index[id].model.document.clear();\n",
       "              delete Bokeh.index[id];\n",
       "            }\n",
       "          }\n",
       "        }\n",
       "      });\n",
       "      // Destroy server and session\n",
       "      var cmd = \"import bokeh.io.notebook as ion; ion.destroy_server('\" + server_id + \"')\";\n",
       "      cell.notebook.kernel.execute(cmd);\n",
       "    }\n",
       "  }\n",
       "\n",
       "  /**\n",
       "   * Handle when a new output is added\n",
       "   */\n",
       "  function handleAddOutput(event, handle) {\n",
       "    var output_area = handle.output_area;\n",
       "    var output = handle.output;\n",
       "\n",
       "    // limit handleAddOutput to display_data with EXEC_MIME_TYPE content only\n",
       "    if ((output.output_type != \"display_data\") || (!output.data.hasOwnProperty(EXEC_MIME_TYPE))) {\n",
       "      return\n",
       "    }\n",
       "\n",
       "    var toinsert = output_area.element.find(\".\" + CLASS_NAME.split(' ')[0]);\n",
       "\n",
       "    if (output.metadata[EXEC_MIME_TYPE][\"id\"] !== undefined) {\n",
       "      toinsert[toinsert.length - 1].firstChild.textContent = output.data[JS_MIME_TYPE];\n",
       "      // store reference to embed id on output_area\n",
       "      output_area._bokeh_element_id = output.metadata[EXEC_MIME_TYPE][\"id\"];\n",
       "    }\n",
       "    if (output.metadata[EXEC_MIME_TYPE][\"server_id\"] !== undefined) {\n",
       "      var bk_div = document.createElement(\"div\");\n",
       "      bk_div.innerHTML = output.data[HTML_MIME_TYPE];\n",
       "      var script_attrs = bk_div.children[0].attributes;\n",
       "      for (var i = 0; i < script_attrs.length; i++) {\n",
       "        toinsert[toinsert.length - 1].firstChild.setAttribute(script_attrs[i].name, script_attrs[i].value);\n",
       "      }\n",
       "      // store reference to server id on output_area\n",
       "      output_area._bokeh_server_id = output.metadata[EXEC_MIME_TYPE][\"server_id\"];\n",
       "    }\n",
       "  }\n",
       "\n",
       "  function register_renderer(events, OutputArea) {\n",
       "\n",
       "    function append_mime(data, metadata, element) {\n",
       "      // create a DOM node to render to\n",
       "      var toinsert = this.create_output_subarea(\n",
       "        metadata,\n",
       "        CLASS_NAME,\n",
       "        EXEC_MIME_TYPE\n",
       "      );\n",
       "      this.keyboard_manager.register_events(toinsert);\n",
       "      // Render to node\n",
       "      var props = {data: data, metadata: metadata[EXEC_MIME_TYPE]};\n",
       "      render(props, toinsert[toinsert.length - 1]);\n",
       "      element.append(toinsert);\n",
       "      return toinsert\n",
       "    }\n",
       "\n",
       "    /* Handle when an output is cleared or removed */\n",
       "    events.on('clear_output.CodeCell', handleClearOutput);\n",
       "    events.on('delete.Cell', handleClearOutput);\n",
       "\n",
       "    /* Handle when a new output is added */\n",
       "    events.on('output_added.OutputArea', handleAddOutput);\n",
       "\n",
       "    /**\n",
       "     * Register the mime type and append_mime function with output_area\n",
       "     */\n",
       "    OutputArea.prototype.register_mime_type(EXEC_MIME_TYPE, append_mime, {\n",
       "      /* Is output safe? */\n",
       "      safe: true,\n",
       "      /* Index of renderer in `output_area.display_order` */\n",
       "      index: 0\n",
       "    });\n",
       "  }\n",
       "\n",
       "  // register the mime type if in Jupyter Notebook environment and previously unregistered\n",
       "  if (root.Jupyter !== undefined) {\n",
       "    var events = require('base/js/events');\n",
       "    var OutputArea = require('notebook/js/outputarea').OutputArea;\n",
       "\n",
       "    if (OutputArea.prototype.mime_types().indexOf(EXEC_MIME_TYPE) == -1) {\n",
       "      register_renderer(events, OutputArea);\n",
       "    }\n",
       "  }\n",
       "\n",
       "  \n",
       "  if (typeof (root._bokeh_timeout) === \"undefined\" || force === true) {\n",
       "    root._bokeh_timeout = Date.now() + 5000;\n",
       "    root._bokeh_failed_load = false;\n",
       "  }\n",
       "\n",
       "  var NB_LOAD_WARNING = {'data': {'text/html':\n",
       "     \"<div style='background-color: #fdd'>\\n\"+\n",
       "     \"<p>\\n\"+\n",
       "     \"BokehJS does not appear to have successfully loaded. If loading BokehJS from CDN, this \\n\"+\n",
       "     \"may be due to a slow or bad network connection. Possible fixes:\\n\"+\n",
       "     \"</p>\\n\"+\n",
       "     \"<ul>\\n\"+\n",
       "     \"<li>re-rerun `output_notebook()` to attempt to load from CDN again, or</li>\\n\"+\n",
       "     \"<li>use INLINE resources instead, as so:</li>\\n\"+\n",
       "     \"</ul>\\n\"+\n",
       "     \"<code>\\n\"+\n",
       "     \"from bokeh.resources import INLINE\\n\"+\n",
       "     \"output_notebook(resources=INLINE)\\n\"+\n",
       "     \"</code>\\n\"+\n",
       "     \"</div>\"}};\n",
       "\n",
       "  function display_loaded() {\n",
       "    var el = document.getElementById(\"1001\");\n",
       "    if (el != null) {\n",
       "      el.textContent = \"BokehJS is loading...\";\n",
       "    }\n",
       "    if (root.Bokeh !== undefined) {\n",
       "      if (el != null) {\n",
       "        el.textContent = \"BokehJS \" + root.Bokeh.version + \" successfully loaded.\";\n",
       "      }\n",
       "    } else if (Date.now() < root._bokeh_timeout) {\n",
       "      setTimeout(display_loaded, 100)\n",
       "    }\n",
       "  }\n",
       "\n",
       "\n",
       "  function run_callbacks() {\n",
       "    try {\n",
       "      root._bokeh_onload_callbacks.forEach(function(callback) {\n",
       "        if (callback != null)\n",
       "          callback();\n",
       "      });\n",
       "    } finally {\n",
       "      delete root._bokeh_onload_callbacks\n",
       "    }\n",
       "    console.debug(\"Bokeh: all callbacks have finished\");\n",
       "  }\n",
       "\n",
       "  function load_libs(css_urls, js_urls, callback) {\n",
       "    if (css_urls == null) css_urls = [];\n",
       "    if (js_urls == null) js_urls = [];\n",
       "\n",
       "    root._bokeh_onload_callbacks.push(callback);\n",
       "    if (root._bokeh_is_loading > 0) {\n",
       "      console.debug(\"Bokeh: BokehJS is being loaded, scheduling callback at\", now());\n",
       "      return null;\n",
       "    }\n",
       "    if (js_urls == null || js_urls.length === 0) {\n",
       "      run_callbacks();\n",
       "      return null;\n",
       "    }\n",
       "    console.debug(\"Bokeh: BokehJS not loaded, scheduling load and callback at\", now());\n",
       "    root._bokeh_is_loading = css_urls.length + js_urls.length;\n",
       "\n",
       "    function on_load() {\n",
       "      root._bokeh_is_loading--;\n",
       "      if (root._bokeh_is_loading === 0) {\n",
       "        console.debug(\"Bokeh: all BokehJS libraries/stylesheets loaded\");\n",
       "        run_callbacks()\n",
       "      }\n",
       "    }\n",
       "\n",
       "    function on_error() {\n",
       "      console.error(\"failed to load \" + url);\n",
       "    }\n",
       "\n",
       "    for (var i = 0; i < css_urls.length; i++) {\n",
       "      var url = css_urls[i];\n",
       "      const element = document.createElement(\"link\");\n",
       "      element.onload = on_load;\n",
       "      element.onerror = on_error;\n",
       "      element.rel = \"stylesheet\";\n",
       "      element.type = \"text/css\";\n",
       "      element.href = url;\n",
       "      console.debug(\"Bokeh: injecting link tag for BokehJS stylesheet: \", url);\n",
       "      document.body.appendChild(element);\n",
       "    }\n",
       "\n",
       "    for (var i = 0; i < js_urls.length; i++) {\n",
       "      var url = js_urls[i];\n",
       "      var element = document.createElement('script');\n",
       "      element.onload = on_load;\n",
       "      element.onerror = on_error;\n",
       "      element.async = false;\n",
       "      element.src = url;\n",
       "      console.debug(\"Bokeh: injecting script tag for BokehJS library: \", url);\n",
       "      document.head.appendChild(element);\n",
       "    }\n",
       "  };var element = document.getElementById(\"1001\");\n",
       "  if (element == null) {\n",
       "    console.error(\"Bokeh: ERROR: autoload.js configured with elementid '1001' but no matching script tag was found. \")\n",
       "    return false;\n",
       "  }\n",
       "\n",
       "  function inject_raw_css(css) {\n",
       "    const element = document.createElement(\"style\");\n",
       "    element.appendChild(document.createTextNode(css));\n",
       "    document.body.appendChild(element);\n",
       "  }\n",
       "\n",
       "  \n",
       "  var js_urls = [\"https://cdn.pydata.org/bokeh/release/bokeh-1.4.0.min.js\", \"https://cdn.pydata.org/bokeh/release/bokeh-widgets-1.4.0.min.js\", \"https://cdn.pydata.org/bokeh/release/bokeh-tables-1.4.0.min.js\", \"https://cdn.pydata.org/bokeh/release/bokeh-gl-1.4.0.min.js\"];\n",
       "  var css_urls = [];\n",
       "  \n",
       "\n",
       "  var inline_js = [\n",
       "    function(Bokeh) {\n",
       "      Bokeh.set_log_level(\"info\");\n",
       "    },\n",
       "    function(Bokeh) {\n",
       "    \n",
       "    \n",
       "    }\n",
       "  ];\n",
       "\n",
       "  function run_inline_js() {\n",
       "    \n",
       "    if (root.Bokeh !== undefined || force === true) {\n",
       "      \n",
       "    for (var i = 0; i < inline_js.length; i++) {\n",
       "      inline_js[i].call(root, root.Bokeh);\n",
       "    }\n",
       "    if (force === true) {\n",
       "        display_loaded();\n",
       "      }} else if (Date.now() < root._bokeh_timeout) {\n",
       "      setTimeout(run_inline_js, 100);\n",
       "    } else if (!root._bokeh_failed_load) {\n",
       "      console.log(\"Bokeh: BokehJS failed to load within specified timeout.\");\n",
       "      root._bokeh_failed_load = true;\n",
       "    } else if (force !== true) {\n",
       "      var cell = $(document.getElementById(\"1001\")).parents('.cell').data().cell;\n",
       "      cell.output_area.append_execute_result(NB_LOAD_WARNING)\n",
       "    }\n",
       "\n",
       "  }\n",
       "\n",
       "  if (root._bokeh_is_loading === 0) {\n",
       "    console.debug(\"Bokeh: BokehJS loaded, going straight to plotting\");\n",
       "    run_inline_js();\n",
       "  } else {\n",
       "    load_libs(css_urls, js_urls, function() {\n",
       "      console.debug(\"Bokeh: BokehJS plotting callback run at\", now());\n",
       "      run_inline_js();\n",
       "    });\n",
       "  }\n",
       "}(window));"
      ],
      "application/vnd.bokehjs_load.v0+json": "\n(function(root) {\n  function now() {\n    return new Date();\n  }\n\n  var force = true;\n\n  if (typeof root._bokeh_onload_callbacks === \"undefined\" || force === true) {\n    root._bokeh_onload_callbacks = [];\n    root._bokeh_is_loading = undefined;\n  }\n\n  \n\n  \n  if (typeof (root._bokeh_timeout) === \"undefined\" || force === true) {\n    root._bokeh_timeout = Date.now() + 5000;\n    root._bokeh_failed_load = false;\n  }\n\n  var NB_LOAD_WARNING = {'data': {'text/html':\n     \"<div style='background-color: #fdd'>\\n\"+\n     \"<p>\\n\"+\n     \"BokehJS does not appear to have successfully loaded. If loading BokehJS from CDN, this \\n\"+\n     \"may be due to a slow or bad network connection. Possible fixes:\\n\"+\n     \"</p>\\n\"+\n     \"<ul>\\n\"+\n     \"<li>re-rerun `output_notebook()` to attempt to load from CDN again, or</li>\\n\"+\n     \"<li>use INLINE resources instead, as so:</li>\\n\"+\n     \"</ul>\\n\"+\n     \"<code>\\n\"+\n     \"from bokeh.resources import INLINE\\n\"+\n     \"output_notebook(resources=INLINE)\\n\"+\n     \"</code>\\n\"+\n     \"</div>\"}};\n\n  function display_loaded() {\n    var el = document.getElementById(\"1001\");\n    if (el != null) {\n      el.textContent = \"BokehJS is loading...\";\n    }\n    if (root.Bokeh !== undefined) {\n      if (el != null) {\n        el.textContent = \"BokehJS \" + root.Bokeh.version + \" successfully loaded.\";\n      }\n    } else if (Date.now() < root._bokeh_timeout) {\n      setTimeout(display_loaded, 100)\n    }\n  }\n\n\n  function run_callbacks() {\n    try {\n      root._bokeh_onload_callbacks.forEach(function(callback) {\n        if (callback != null)\n          callback();\n      });\n    } finally {\n      delete root._bokeh_onload_callbacks\n    }\n    console.debug(\"Bokeh: all callbacks have finished\");\n  }\n\n  function load_libs(css_urls, js_urls, callback) {\n    if (css_urls == null) css_urls = [];\n    if (js_urls == null) js_urls = [];\n\n    root._bokeh_onload_callbacks.push(callback);\n    if (root._bokeh_is_loading > 0) {\n      console.debug(\"Bokeh: BokehJS is being loaded, scheduling callback at\", now());\n      return null;\n    }\n    if (js_urls == null || js_urls.length === 0) {\n      run_callbacks();\n      return null;\n    }\n    console.debug(\"Bokeh: BokehJS not loaded, scheduling load and callback at\", now());\n    root._bokeh_is_loading = css_urls.length + js_urls.length;\n\n    function on_load() {\n      root._bokeh_is_loading--;\n      if (root._bokeh_is_loading === 0) {\n        console.debug(\"Bokeh: all BokehJS libraries/stylesheets loaded\");\n        run_callbacks()\n      }\n    }\n\n    function on_error() {\n      console.error(\"failed to load \" + url);\n    }\n\n    for (var i = 0; i < css_urls.length; i++) {\n      var url = css_urls[i];\n      const element = document.createElement(\"link\");\n      element.onload = on_load;\n      element.onerror = on_error;\n      element.rel = \"stylesheet\";\n      element.type = \"text/css\";\n      element.href = url;\n      console.debug(\"Bokeh: injecting link tag for BokehJS stylesheet: \", url);\n      document.body.appendChild(element);\n    }\n\n    for (var i = 0; i < js_urls.length; i++) {\n      var url = js_urls[i];\n      var element = document.createElement('script');\n      element.onload = on_load;\n      element.onerror = on_error;\n      element.async = false;\n      element.src = url;\n      console.debug(\"Bokeh: injecting script tag for BokehJS library: \", url);\n      document.head.appendChild(element);\n    }\n  };var element = document.getElementById(\"1001\");\n  if (element == null) {\n    console.error(\"Bokeh: ERROR: autoload.js configured with elementid '1001' but no matching script tag was found. \")\n    return false;\n  }\n\n  function inject_raw_css(css) {\n    const element = document.createElement(\"style\");\n    element.appendChild(document.createTextNode(css));\n    document.body.appendChild(element);\n  }\n\n  \n  var js_urls = [\"https://cdn.pydata.org/bokeh/release/bokeh-1.4.0.min.js\", \"https://cdn.pydata.org/bokeh/release/bokeh-widgets-1.4.0.min.js\", \"https://cdn.pydata.org/bokeh/release/bokeh-tables-1.4.0.min.js\", \"https://cdn.pydata.org/bokeh/release/bokeh-gl-1.4.0.min.js\"];\n  var css_urls = [];\n  \n\n  var inline_js = [\n    function(Bokeh) {\n      Bokeh.set_log_level(\"info\");\n    },\n    function(Bokeh) {\n    \n    \n    }\n  ];\n\n  function run_inline_js() {\n    \n    if (root.Bokeh !== undefined || force === true) {\n      \n    for (var i = 0; i < inline_js.length; i++) {\n      inline_js[i].call(root, root.Bokeh);\n    }\n    if (force === true) {\n        display_loaded();\n      }} else if (Date.now() < root._bokeh_timeout) {\n      setTimeout(run_inline_js, 100);\n    } else if (!root._bokeh_failed_load) {\n      console.log(\"Bokeh: BokehJS failed to load within specified timeout.\");\n      root._bokeh_failed_load = true;\n    } else if (force !== true) {\n      var cell = $(document.getElementById(\"1001\")).parents('.cell').data().cell;\n      cell.output_area.append_execute_result(NB_LOAD_WARNING)\n    }\n\n  }\n\n  if (root._bokeh_is_loading === 0) {\n    console.debug(\"Bokeh: BokehJS loaded, going straight to plotting\");\n    run_inline_js();\n  } else {\n    load_libs(css_urls, js_urls, function() {\n      console.debug(\"Bokeh: BokehJS plotting callback run at\", now());\n      run_inline_js();\n    });\n  }\n}(window));"
     },
     "metadata": {},
     "output_type": "display_data"
    },
    {
     "data": {
      "text/html": [
       "\n",
       "\n",
       "\n",
       "\n",
       "\n",
       "\n",
       "  <div class=\"bk-root\" id=\"1867abe0-845f-4841-b5dc-dd7453640bb3\" data-root-id=\"1003\"></div>\n"
      ]
     },
     "metadata": {},
     "output_type": "display_data"
    },
    {
     "data": {
      "application/javascript": [
       "(function(root) {\n",
       "  function embed_document(root) {\n",
       "    \n",
       "  var docs_json = {\"139e214d-ec03-4383-a089-06049a887597\":{\"roots\":{\"references\":[{\"attributes\":{\"background_fill_color\":{\"value\":\"#2b2b2b\"},\"below\":[{\"id\":\"1014\",\"type\":\"CategoricalAxis\"}],\"center\":[{\"id\":\"1017\",\"type\":\"Grid\"},{\"id\":\"1022\",\"type\":\"Grid\"}],\"left\":[{\"id\":\"1018\",\"type\":\"LinearAxis\"}],\"plot_height\":350,\"plot_width\":1000,\"renderers\":[{\"id\":\"1040\",\"type\":\"GlyphRenderer\"}],\"title\":{\"id\":\"1004\",\"type\":\"Title\"},\"toolbar\":{\"id\":\"1029\",\"type\":\"Toolbar\"},\"toolbar_location\":null,\"x_range\":{\"id\":\"1006\",\"type\":\"FactorRange\"},\"x_scale\":{\"id\":\"1010\",\"type\":\"CategoricalScale\"},\"y_range\":{\"id\":\"1008\",\"type\":\"DataRange1d\"},\"y_scale\":{\"id\":\"1012\",\"type\":\"LinearScale\"}},\"id\":\"1003\",\"subtype\":\"Figure\",\"type\":\"Plot\"},{\"attributes\":{},\"id\":\"1027\",\"type\":\"ResetTool\"},{\"attributes\":{\"factors\":[\"coronavirus\",\"uk\",\"covid\",\"says\",\"19\",\"lockdown\",\"government\",\"people\",\"crisis\",\"pandemic\",\"new\",\"health\",\"say\",\"guardian\",\"england\",\"global\",\"nhs\",\"outbreak\",\"home\",\"boris\",\"workers\",\"help\",\"johnson\",\"care\",\"public\",\"staff\",\"face\",\"amid\",\"biggest\",\"time\",\"risk\",\"cases\",\"work\",\"hit\",\"virus\",\"rules\",\"need\",\"support\",\"rise\",\"letters\",\"test\",\"restrictions\",\"uks\",\"plan\",\"latest\",\"experts\",\"travel\",\"week\",\"developments\",\"testing\"],\"palette\":[\"#00204C\",\"#002355\",\"#00275D\",\"#002A66\",\"#002E6E\",\"#00316F\",\"#01356E\",\"#15396D\",\"#203C6C\",\"#29406B\",\"#32446B\",\"#38486B\",\"#3E4B6B\",\"#444F6B\",\"#49536B\",\"#4F576C\",\"#545A6C\",\"#595E6D\",\"#5E626E\",\"#62656F\",\"#686A70\",\"#6C6D72\",\"#707173\",\"#757575\",\"#797877\",\"#7E7D78\",\"#838178\",\"#888578\",\"#8D8878\",\"#928C78\",\"#989177\",\"#9D9577\",\"#A29976\",\"#A79D75\",\"#ACA173\",\"#B2A672\",\"#B8AB70\",\"#BDAF6E\",\"#C2B36C\",\"#C8B86A\",\"#CEBD67\",\"#D4C164\",\"#D9C661\",\"#DFCB5D\",\"#E5CF5A\",\"#ECD555\",\"#F1DA50\",\"#F7DF4B\",\"#FDE345\",\"#FFE945\"]},\"id\":\"1036\",\"type\":\"CategoricalColorMapper\"},{\"attributes\":{},\"id\":\"1044\",\"type\":\"CategoricalTickFormatter\"},{\"attributes\":{\"fill_alpha\":{\"value\":0.1},\"fill_color\":{\"value\":\"#1f77b4\"},\"line_alpha\":{\"value\":0.1},\"line_color\":{\"value\":\"#1f77b4\"},\"top\":{\"field\":\"counts\"},\"width\":{\"value\":0.8},\"x\":{\"field\":\"counted_data\"}},\"id\":\"1039\",\"type\":\"VBar\"},{\"attributes\":{\"fill_color\":{\"field\":\"counted_data\",\"transform\":{\"id\":\"1036\",\"type\":\"CategoricalColorMapper\"}},\"line_color\":{\"value\":\"white\"},\"top\":{\"field\":\"counts\"},\"width\":{\"value\":0.8},\"x\":{\"field\":\"counted_data\"}},\"id\":\"1038\",\"type\":\"VBar\"},{\"attributes\":{},\"id\":\"1028\",\"type\":\"HelpTool\"},{\"attributes\":{},\"id\":\"1019\",\"type\":\"BasicTicker\"},{\"attributes\":{\"formatter\":{\"id\":\"1044\",\"type\":\"CategoricalTickFormatter\"},\"major_label_orientation\":1.2,\"ticker\":{\"id\":\"1015\",\"type\":\"CategoricalTicker\"}},\"id\":\"1014\",\"type\":\"CategoricalAxis\"},{\"attributes\":{},\"id\":\"1046\",\"type\":\"BasicTickFormatter\"},{\"attributes\":{\"callback\":null,\"data\":{\"counted_data\":[\"coronavirus\",\"uk\",\"covid\",\"says\",\"19\",\"lockdown\",\"government\",\"people\",\"crisis\",\"pandemic\",\"new\",\"health\",\"say\",\"guardian\",\"england\",\"global\",\"nhs\",\"outbreak\",\"home\",\"boris\",\"workers\",\"help\",\"johnson\",\"care\",\"public\",\"staff\",\"face\",\"amid\",\"biggest\",\"time\",\"risk\",\"cases\",\"work\",\"hit\",\"virus\",\"rules\",\"need\",\"support\",\"rise\",\"letters\",\"test\",\"restrictions\",\"uks\",\"plan\",\"latest\",\"experts\",\"travel\",\"week\",\"developments\",\"testing\"],\"counts\":[3455,2646,2370,1633,1516,1206,785,760,755,620,551,513,503,459,458,443,430,426,388,377,376,361,351,338,338,334,309,287,284,275,263,262,257,252,252,249,248,241,238,238,235,235,231,230,228,225,223,223,223,222]},\"selected\":{\"id\":\"1048\",\"type\":\"Selection\"},\"selection_policy\":{\"id\":\"1047\",\"type\":\"UnionRenderers\"}},\"id\":\"1002\",\"type\":\"ColumnDataSource\"},{\"attributes\":{},\"id\":\"1015\",\"type\":\"CategoricalTicker\"},{\"attributes\":{\"active_drag\":\"auto\",\"active_inspect\":\"auto\",\"active_multi\":null,\"active_scroll\":\"auto\",\"active_tap\":\"auto\",\"tools\":[{\"id\":\"1023\",\"type\":\"PanTool\"},{\"id\":\"1024\",\"type\":\"WheelZoomTool\"},{\"id\":\"1025\",\"type\":\"BoxZoomTool\"},{\"id\":\"1026\",\"type\":\"SaveTool\"},{\"id\":\"1027\",\"type\":\"ResetTool\"},{\"id\":\"1028\",\"type\":\"HelpTool\"}]},\"id\":\"1029\",\"type\":\"Toolbar\"},{\"attributes\":{\"grid_line_color\":null,\"ticker\":{\"id\":\"1015\",\"type\":\"CategoricalTicker\"}},\"id\":\"1017\",\"type\":\"Grid\"},{\"attributes\":{\"source\":{\"id\":\"1002\",\"type\":\"ColumnDataSource\"}},\"id\":\"1041\",\"type\":\"CDSView\"},{\"attributes\":{\"dimension\":1,\"grid_line_color\":null,\"ticker\":{\"id\":\"1019\",\"type\":\"BasicTicker\"}},\"id\":\"1022\",\"type\":\"Grid\"},{\"attributes\":{\"formatter\":{\"id\":\"1046\",\"type\":\"BasicTickFormatter\"},\"ticker\":{\"id\":\"1019\",\"type\":\"BasicTicker\"}},\"id\":\"1018\",\"type\":\"LinearAxis\"},{\"attributes\":{},\"id\":\"1048\",\"type\":\"Selection\"},{\"attributes\":{},\"id\":\"1012\",\"type\":\"LinearScale\"},{\"attributes\":{\"bottom_units\":\"screen\",\"fill_alpha\":{\"value\":0.5},\"fill_color\":{\"value\":\"lightgrey\"},\"left_units\":\"screen\",\"level\":\"overlay\",\"line_alpha\":{\"value\":1.0},\"line_color\":{\"value\":\"black\"},\"line_dash\":[4,4],\"line_width\":{\"value\":2},\"render_mode\":\"css\",\"right_units\":\"screen\",\"top_units\":\"screen\"},\"id\":\"1049\",\"type\":\"BoxAnnotation\"},{\"attributes\":{\"callback\":null,\"start\":0},\"id\":\"1008\",\"type\":\"DataRange1d\"},{\"attributes\":{\"data_source\":{\"id\":\"1002\",\"type\":\"ColumnDataSource\"},\"glyph\":{\"id\":\"1038\",\"type\":\"VBar\"},\"hover_glyph\":null,\"muted_glyph\":null,\"nonselection_glyph\":{\"id\":\"1039\",\"type\":\"VBar\"},\"selection_glyph\":null,\"view\":{\"id\":\"1041\",\"type\":\"CDSView\"}},\"id\":\"1040\",\"type\":\"GlyphRenderer\"},{\"attributes\":{},\"id\":\"1047\",\"type\":\"UnionRenderers\"},{\"attributes\":{\"callback\":null,\"factors\":[\"coronavirus\",\"uk\",\"covid\",\"says\",\"19\",\"lockdown\",\"government\",\"people\",\"crisis\",\"pandemic\",\"new\",\"health\",\"say\",\"guardian\",\"england\",\"global\",\"nhs\",\"outbreak\",\"home\",\"boris\",\"workers\",\"help\",\"johnson\",\"care\",\"public\",\"staff\",\"face\",\"amid\",\"biggest\",\"time\",\"risk\",\"cases\",\"work\",\"hit\",\"virus\",\"rules\",\"need\",\"support\",\"rise\",\"letters\",\"test\",\"restrictions\",\"uks\",\"plan\",\"latest\",\"experts\",\"travel\",\"week\",\"developments\",\"testing\"]},\"id\":\"1006\",\"type\":\"FactorRange\"},{\"attributes\":{},\"id\":\"1023\",\"type\":\"PanTool\"},{\"attributes\":{},\"id\":\"1024\",\"type\":\"WheelZoomTool\"},{\"attributes\":{},\"id\":\"1026\",\"type\":\"SaveTool\"},{\"attributes\":{\"overlay\":{\"id\":\"1049\",\"type\":\"BoxAnnotation\"}},\"id\":\"1025\",\"type\":\"BoxZoomTool\"},{\"attributes\":{\"text\":\"Title\"},\"id\":\"1004\",\"type\":\"Title\"},{\"attributes\":{},\"id\":\"1010\",\"type\":\"CategoricalScale\"}],\"root_ids\":[\"1003\"]},\"title\":\"Bokeh Application\",\"version\":\"1.4.0\"}};\n",
       "  var render_items = [{\"docid\":\"139e214d-ec03-4383-a089-06049a887597\",\"roots\":{\"1003\":\"1867abe0-845f-4841-b5dc-dd7453640bb3\"}}];\n",
       "  root.Bokeh.embed.embed_items_notebook(docs_json, render_items);\n",
       "\n",
       "  }\n",
       "  if (root.Bokeh !== undefined) {\n",
       "    embed_document(root);\n",
       "  } else {\n",
       "    var attempts = 0;\n",
       "    var timer = setInterval(function(root) {\n",
       "      if (root.Bokeh !== undefined) {\n",
       "        clearInterval(timer);\n",
       "        embed_document(root);\n",
       "      } else {\n",
       "        attempts++;\n",
       "        if (attempts > 100) {\n",
       "          clearInterval(timer);\n",
       "          console.log(\"Bokeh: ERROR: Unable to run BokehJS code because BokehJS library is missing\");\n",
       "        }\n",
       "      }\n",
       "    }, 10, root)\n",
       "  }\n",
       "})(window);"
      ],
      "application/vnd.bokehjs_exec.v0+json": ""
     },
     "metadata": {
      "application/vnd.bokehjs_exec.v0+json": {
       "id": "1003"
      }
     },
     "output_type": "display_data"
    }
   ],
   "source": [
    "bow.barchart_wordfreq(num_top_features=50, plot_width=1000)\n",
    "#show(bow.p)"
   ]
  },
  {
   "cell_type": "markdown",
   "metadata": {},
   "source": [
    "### 1 grams with the lem data"
   ]
  },
  {
   "cell_type": "code",
   "execution_count": 20,
   "metadata": {},
   "outputs": [],
   "source": [
    "# initialize the count vectorizer \n",
    "bow_lem = BagOfWords(data=df['title_subtitle_lem'], max_df=0.99, min_df=0.005, stop_words=\"english\", ngram_range=(1, 1))\n",
    "# fit transform and get the fit-transformed matrix of word frequencies\n",
    "bow_lem.fit_transform() #bow_bow.X\n",
    "# get the feature names \n",
    "bow_lem.get_feature_names() #bow.feature_names\n",
    "# get the feature counts \n",
    "bow_lem.get_bow_feature_counts() #bow.df_counts"
   ]
  },
  {
   "cell_type": "markdown",
   "metadata": {},
   "source": [
    "### 1 and 2 grams with bow data "
   ]
  },
  {
   "cell_type": "code",
   "execution_count": 21,
   "metadata": {},
   "outputs": [],
   "source": [
    "# initialize the count vectorizer \n",
    "bow_ngrams = BagOfWords(data=df['title_subtitle_bow'], max_df=0.99, min_df=0.001, stop_words=\"english\", ngram_range=(1, 2))\n",
    "# fit transform and get the fit-transformed matrix of word frequencies\n",
    "bow_ngrams.fit_transform() #bow_bow.X\n",
    "# get the feature names \n",
    "bow_ngrams.get_feature_names() #bow.feature_names\n",
    "# get the feature counts \n",
    "bow_ngrams.get_bow_feature_counts() #bow.df_counts"
   ]
  },
  {
   "cell_type": "code",
   "execution_count": 22,
   "metadata": {},
   "outputs": [
    {
     "name": "stdout",
     "output_type": "stream",
     "text": [
      "Number of features: 3514\n"
     ]
    }
   ],
   "source": [
    "print(\"Number of features: {}\".format(len(bow_ngrams.feature_names)))"
   ]
  },
  {
   "cell_type": "code",
   "execution_count": 23,
   "metadata": {},
   "outputs": [
    {
     "data": {
      "text/html": [
       "<div>\n",
       "<style scoped>\n",
       "    .dataframe tbody tr th:only-of-type {\n",
       "        vertical-align: middle;\n",
       "    }\n",
       "\n",
       "    .dataframe tbody tr th {\n",
       "        vertical-align: top;\n",
       "    }\n",
       "\n",
       "    .dataframe thead th {\n",
       "        text-align: right;\n",
       "    }\n",
       "</style>\n",
       "<table border=\"1\" class=\"dataframe\">\n",
       "  <thead>\n",
       "    <tr style=\"text-align: right;\">\n",
       "      <th></th>\n",
       "      <th>feature_names</th>\n",
       "      <th>counts</th>\n",
       "    </tr>\n",
       "  </thead>\n",
       "  <tbody>\n",
       "    <tr>\n",
       "      <th>687</th>\n",
       "      <td>coronavirus</td>\n",
       "      <td>3455</td>\n",
       "    </tr>\n",
       "    <tr>\n",
       "      <th>3239</th>\n",
       "      <td>uk</td>\n",
       "      <td>2646</td>\n",
       "    </tr>\n",
       "    <tr>\n",
       "      <th>756</th>\n",
       "      <td>covid</td>\n",
       "      <td>2370</td>\n",
       "    </tr>\n",
       "    <tr>\n",
       "      <th>2688</th>\n",
       "      <td>says</td>\n",
       "      <td>1633</td>\n",
       "    </tr>\n",
       "    <tr>\n",
       "      <th>27</th>\n",
       "      <td>19</td>\n",
       "      <td>1516</td>\n",
       "    </tr>\n",
       "  </tbody>\n",
       "</table>\n",
       "</div>"
      ],
      "text/plain": [
       "     feature_names  counts\n",
       "687    coronavirus    3455\n",
       "3239            uk    2646\n",
       "756          covid    2370\n",
       "2688          says    1633\n",
       "27              19    1516"
      ]
     },
     "execution_count": 23,
     "metadata": {},
     "output_type": "execute_result"
    }
   ],
   "source": [
    "bow_ngrams.df_counts.head(5)"
   ]
  },
  {
   "cell_type": "code",
   "execution_count": 24,
   "metadata": {},
   "outputs": [
    {
     "data": {
      "image/png": "[encoded data removed]",
      "text/plain": [
       "<PIL.Image.Image image mode=RGB size=700x400 at 0x7FE5C42CE910>"
      ]
     },
     "execution_count": 24,
     "metadata": {},
     "output_type": "execute_result"
    }
   ],
   "source": [
    "# wordcloud \n",
    "bow_ngrams.prep_for_wordcloud()\n",
    "bow_ngrams.viz_wordcloud()\n",
    "bow_ngrams.wordcloud.to_image()"
   ]
  },
  {
   "cell_type": "code",
   "execution_count": 25,
   "metadata": {},
   "outputs": [
    {
     "data": {
      "text/html": [
       "\n",
       "    <div class=\"bk-root\">\n",
       "        <a href=\"https://bokeh.org\" target=\"_blank\" class=\"bk-logo bk-logo-small bk-logo-notebook\"></a>\n",
       "        <span id=\"1098\">Loading BokehJS ...</span>\n",
       "    </div>"
      ]
     },
     "metadata": {},
     "output_type": "display_data"
    },
    {
     "data": {
      "application/javascript": [
       "\n",
       "(function(root) {\n",
       "  function now() {\n",
       "    return new Date();\n",
       "  }\n",
       "\n",
       "  var force = true;\n",
       "\n",
       "  if (typeof root._bokeh_onload_callbacks === \"undefined\" || force === true) {\n",
       "    root._bokeh_onload_callbacks = [];\n",
       "    root._bokeh_is_loading = undefined;\n",
       "  }\n",
       "\n",
       "  var JS_MIME_TYPE = 'application/javascript';\n",
       "  var HTML_MIME_TYPE = 'text/html';\n",
       "  var EXEC_MIME_TYPE = 'application/vnd.bokehjs_exec.v0+json';\n",
       "  var CLASS_NAME = 'output_bokeh rendered_html';\n",
       "\n",
       "  /**\n",
       "   * Render data to the DOM node\n",
       "   */\n",
       "  function render(props, node) {\n",
       "    var script = document.createElement(\"script\");\n",
       "    node.appendChild(script);\n",
       "  }\n",
       "\n",
       "  /**\n",
       "   * Handle when an output is cleared or removed\n",
       "   */\n",
       "  function handleClearOutput(event, handle) {\n",
       "    var cell = handle.cell;\n",
       "\n",
       "    var id = cell.output_area._bokeh_element_id;\n",
       "    var server_id = cell.output_area._bokeh_server_id;\n",
       "    // Clean up Bokeh references\n",
       "    if (id != null && id in Bokeh.index) {\n",
       "      Bokeh.index[id].model.document.clear();\n",
       "      delete Bokeh.index[id];\n",
       "    }\n",
       "\n",
       "    if (server_id !== undefined) {\n",
       "      // Clean up Bokeh references\n",
       "      var cmd = \"from bokeh.io.state import curstate; print(curstate().uuid_to_server['\" + server_id + \"'].get_sessions()[0].document.roots[0]._id)\";\n",
       "      cell.notebook.kernel.execute(cmd, {\n",
       "        iopub: {\n",
       "          output: function(msg) {\n",
       "            var id = msg.content.text.trim();\n",
       "            if (id in Bokeh.index) {\n",
       "              Bokeh.index[id].model.document.clear();\n",
       "              delete Bokeh.index[id];\n",
       "            }\n",
       "          }\n",
       "        }\n",
       "      });\n",
       "      // Destroy server and session\n",
       "      var cmd = \"import bokeh.io.notebook as ion; ion.destroy_server('\" + server_id + \"')\";\n",
       "      cell.notebook.kernel.execute(cmd);\n",
       "    }\n",
       "  }\n",
       "\n",
       "  /**\n",
       "   * Handle when a new output is added\n",
       "   */\n",
       "  function handleAddOutput(event, handle) {\n",
       "    var output_area = handle.output_area;\n",
       "    var output = handle.output;\n",
       "\n",
       "    // limit handleAddOutput to display_data with EXEC_MIME_TYPE content only\n",
       "    if ((output.output_type != \"display_data\") || (!output.data.hasOwnProperty(EXEC_MIME_TYPE))) {\n",
       "      return\n",
       "    }\n",
       "\n",
       "    var toinsert = output_area.element.find(\".\" + CLASS_NAME.split(' ')[0]);\n",
       "\n",
       "    if (output.metadata[EXEC_MIME_TYPE][\"id\"] !== undefined) {\n",
       "      toinsert[toinsert.length - 1].firstChild.textContent = output.data[JS_MIME_TYPE];\n",
       "      // store reference to embed id on output_area\n",
       "      output_area._bokeh_element_id = output.metadata[EXEC_MIME_TYPE][\"id\"];\n",
       "    }\n",
       "    if (output.metadata[EXEC_MIME_TYPE][\"server_id\"] !== undefined) {\n",
       "      var bk_div = document.createElement(\"div\");\n",
       "      bk_div.innerHTML = output.data[HTML_MIME_TYPE];\n",
       "      var script_attrs = bk_div.children[0].attributes;\n",
       "      for (var i = 0; i < script_attrs.length; i++) {\n",
       "        toinsert[toinsert.length - 1].firstChild.setAttribute(script_attrs[i].name, script_attrs[i].value);\n",
       "      }\n",
       "      // store reference to server id on output_area\n",
       "      output_area._bokeh_server_id = output.metadata[EXEC_MIME_TYPE][\"server_id\"];\n",
       "    }\n",
       "  }\n",
       "\n",
       "  function register_renderer(events, OutputArea) {\n",
       "\n",
       "    function append_mime(data, metadata, element) {\n",
       "      // create a DOM node to render to\n",
       "      var toinsert = this.create_output_subarea(\n",
       "        metadata,\n",
       "        CLASS_NAME,\n",
       "        EXEC_MIME_TYPE\n",
       "      );\n",
       "      this.keyboard_manager.register_events(toinsert);\n",
       "      // Render to node\n",
       "      var props = {data: data, metadata: metadata[EXEC_MIME_TYPE]};\n",
       "      render(props, toinsert[toinsert.length - 1]);\n",
       "      element.append(toinsert);\n",
       "      return toinsert\n",
       "    }\n",
       "\n",
       "    /* Handle when an output is cleared or removed */\n",
       "    events.on('clear_output.CodeCell', handleClearOutput);\n",
       "    events.on('delete.Cell', handleClearOutput);\n",
       "\n",
       "    /* Handle when a new output is added */\n",
       "    events.on('output_added.OutputArea', handleAddOutput);\n",
       "\n",
       "    /**\n",
       "     * Register the mime type and append_mime function with output_area\n",
       "     */\n",
       "    OutputArea.prototype.register_mime_type(EXEC_MIME_TYPE, append_mime, {\n",
       "      /* Is output safe? */\n",
       "      safe: true,\n",
       "      /* Index of renderer in `output_area.display_order` */\n",
       "      index: 0\n",
       "    });\n",
       "  }\n",
       "\n",
       "  // register the mime type if in Jupyter Notebook environment and previously unregistered\n",
       "  if (root.Jupyter !== undefined) {\n",
       "    var events = require('base/js/events');\n",
       "    var OutputArea = require('notebook/js/outputarea').OutputArea;\n",
       "\n",
       "    if (OutputArea.prototype.mime_types().indexOf(EXEC_MIME_TYPE) == -1) {\n",
       "      register_renderer(events, OutputArea);\n",
       "    }\n",
       "  }\n",
       "\n",
       "  \n",
       "  if (typeof (root._bokeh_timeout) === \"undefined\" || force === true) {\n",
       "    root._bokeh_timeout = Date.now() + 5000;\n",
       "    root._bokeh_failed_load = false;\n",
       "  }\n",
       "\n",
       "  var NB_LOAD_WARNING = {'data': {'text/html':\n",
       "     \"<div style='background-color: #fdd'>\\n\"+\n",
       "     \"<p>\\n\"+\n",
       "     \"BokehJS does not appear to have successfully loaded. If loading BokehJS from CDN, this \\n\"+\n",
       "     \"may be due to a slow or bad network connection. Possible fixes:\\n\"+\n",
       "     \"</p>\\n\"+\n",
       "     \"<ul>\\n\"+\n",
       "     \"<li>re-rerun `output_notebook()` to attempt to load from CDN again, or</li>\\n\"+\n",
       "     \"<li>use INLINE resources instead, as so:</li>\\n\"+\n",
       "     \"</ul>\\n\"+\n",
       "     \"<code>\\n\"+\n",
       "     \"from bokeh.resources import INLINE\\n\"+\n",
       "     \"output_notebook(resources=INLINE)\\n\"+\n",
       "     \"</code>\\n\"+\n",
       "     \"</div>\"}};\n",
       "\n",
       "  function display_loaded() {\n",
       "    var el = document.getElementById(\"1098\");\n",
       "    if (el != null) {\n",
       "      el.textContent = \"BokehJS is loading...\";\n",
       "    }\n",
       "    if (root.Bokeh !== undefined) {\n",
       "      if (el != null) {\n",
       "        el.textContent = \"BokehJS \" + root.Bokeh.version + \" successfully loaded.\";\n",
       "      }\n",
       "    } else if (Date.now() < root._bokeh_timeout) {\n",
       "      setTimeout(display_loaded, 100)\n",
       "    }\n",
       "  }\n",
       "\n",
       "\n",
       "  function run_callbacks() {\n",
       "    try {\n",
       "      root._bokeh_onload_callbacks.forEach(function(callback) {\n",
       "        if (callback != null)\n",
       "          callback();\n",
       "      });\n",
       "    } finally {\n",
       "      delete root._bokeh_onload_callbacks\n",
       "    }\n",
       "    console.debug(\"Bokeh: all callbacks have finished\");\n",
       "  }\n",
       "\n",
       "  function load_libs(css_urls, js_urls, callback) {\n",
       "    if (css_urls == null) css_urls = [];\n",
       "    if (js_urls == null) js_urls = [];\n",
       "\n",
       "    root._bokeh_onload_callbacks.push(callback);\n",
       "    if (root._bokeh_is_loading > 0) {\n",
       "      console.debug(\"Bokeh: BokehJS is being loaded, scheduling callback at\", now());\n",
       "      return null;\n",
       "    }\n",
       "    if (js_urls == null || js_urls.length === 0) {\n",
       "      run_callbacks();\n",
       "      return null;\n",
       "    }\n",
       "    console.debug(\"Bokeh: BokehJS not loaded, scheduling load and callback at\", now());\n",
       "    root._bokeh_is_loading = css_urls.length + js_urls.length;\n",
       "\n",
       "    function on_load() {\n",
       "      root._bokeh_is_loading--;\n",
       "      if (root._bokeh_is_loading === 0) {\n",
       "        console.debug(\"Bokeh: all BokehJS libraries/stylesheets loaded\");\n",
       "        run_callbacks()\n",
       "      }\n",
       "    }\n",
       "\n",
       "    function on_error() {\n",
       "      console.error(\"failed to load \" + url);\n",
       "    }\n",
       "\n",
       "    for (var i = 0; i < css_urls.length; i++) {\n",
       "      var url = css_urls[i];\n",
       "      const element = document.createElement(\"link\");\n",
       "      element.onload = on_load;\n",
       "      element.onerror = on_error;\n",
       "      element.rel = \"stylesheet\";\n",
       "      element.type = \"text/css\";\n",
       "      element.href = url;\n",
       "      console.debug(\"Bokeh: injecting link tag for BokehJS stylesheet: \", url);\n",
       "      document.body.appendChild(element);\n",
       "    }\n",
       "\n",
       "    for (var i = 0; i < js_urls.length; i++) {\n",
       "      var url = js_urls[i];\n",
       "      var element = document.createElement('script');\n",
       "      element.onload = on_load;\n",
       "      element.onerror = on_error;\n",
       "      element.async = false;\n",
       "      element.src = url;\n",
       "      console.debug(\"Bokeh: injecting script tag for BokehJS library: \", url);\n",
       "      document.head.appendChild(element);\n",
       "    }\n",
       "  };var element = document.getElementById(\"1098\");\n",
       "  if (element == null) {\n",
       "    console.error(\"Bokeh: ERROR: autoload.js configured with elementid '1098' but no matching script tag was found. \")\n",
       "    return false;\n",
       "  }\n",
       "\n",
       "  function inject_raw_css(css) {\n",
       "    const element = document.createElement(\"style\");\n",
       "    element.appendChild(document.createTextNode(css));\n",
       "    document.body.appendChild(element);\n",
       "  }\n",
       "\n",
       "  \n",
       "  var js_urls = [\"https://cdn.pydata.org/bokeh/release/bokeh-1.4.0.min.js\", \"https://cdn.pydata.org/bokeh/release/bokeh-widgets-1.4.0.min.js\", \"https://cdn.pydata.org/bokeh/release/bokeh-tables-1.4.0.min.js\", \"https://cdn.pydata.org/bokeh/release/bokeh-gl-1.4.0.min.js\"];\n",
       "  var css_urls = [];\n",
       "  \n",
       "\n",
       "  var inline_js = [\n",
       "    function(Bokeh) {\n",
       "      Bokeh.set_log_level(\"info\");\n",
       "    },\n",
       "    function(Bokeh) {\n",
       "    \n",
       "    \n",
       "    }\n",
       "  ];\n",
       "\n",
       "  function run_inline_js() {\n",
       "    \n",
       "    if (root.Bokeh !== undefined || force === true) {\n",
       "      \n",
       "    for (var i = 0; i < inline_js.length; i++) {\n",
       "      inline_js[i].call(root, root.Bokeh);\n",
       "    }\n",
       "    if (force === true) {\n",
       "        display_loaded();\n",
       "      }} else if (Date.now() < root._bokeh_timeout) {\n",
       "      setTimeout(run_inline_js, 100);\n",
       "    } else if (!root._bokeh_failed_load) {\n",
       "      console.log(\"Bokeh: BokehJS failed to load within specified timeout.\");\n",
       "      root._bokeh_failed_load = true;\n",
       "    } else if (force !== true) {\n",
       "      var cell = $(document.getElementById(\"1098\")).parents('.cell').data().cell;\n",
       "      cell.output_area.append_execute_result(NB_LOAD_WARNING)\n",
       "    }\n",
       "\n",
       "  }\n",
       "\n",
       "  if (root._bokeh_is_loading === 0) {\n",
       "    console.debug(\"Bokeh: BokehJS loaded, going straight to plotting\");\n",
       "    run_inline_js();\n",
       "  } else {\n",
       "    load_libs(css_urls, js_urls, function() {\n",
       "      console.debug(\"Bokeh: BokehJS plotting callback run at\", now());\n",
       "      run_inline_js();\n",
       "    });\n",
       "  }\n",
       "}(window));"
      ],
      "application/vnd.bokehjs_load.v0+json": "\n(function(root) {\n  function now() {\n    return new Date();\n  }\n\n  var force = true;\n\n  if (typeof root._bokeh_onload_callbacks === \"undefined\" || force === true) {\n    root._bokeh_onload_callbacks = [];\n    root._bokeh_is_loading = undefined;\n  }\n\n  \n\n  \n  if (typeof (root._bokeh_timeout) === \"undefined\" || force === true) {\n    root._bokeh_timeout = Date.now() + 5000;\n    root._bokeh_failed_load = false;\n  }\n\n  var NB_LOAD_WARNING = {'data': {'text/html':\n     \"<div style='background-color: #fdd'>\\n\"+\n     \"<p>\\n\"+\n     \"BokehJS does not appear to have successfully loaded. If loading BokehJS from CDN, this \\n\"+\n     \"may be due to a slow or bad network connection. Possible fixes:\\n\"+\n     \"</p>\\n\"+\n     \"<ul>\\n\"+\n     \"<li>re-rerun `output_notebook()` to attempt to load from CDN again, or</li>\\n\"+\n     \"<li>use INLINE resources instead, as so:</li>\\n\"+\n     \"</ul>\\n\"+\n     \"<code>\\n\"+\n     \"from bokeh.resources import INLINE\\n\"+\n     \"output_notebook(resources=INLINE)\\n\"+\n     \"</code>\\n\"+\n     \"</div>\"}};\n\n  function display_loaded() {\n    var el = document.getElementById(\"1098\");\n    if (el != null) {\n      el.textContent = \"BokehJS is loading...\";\n    }\n    if (root.Bokeh !== undefined) {\n      if (el != null) {\n        el.textContent = \"BokehJS \" + root.Bokeh.version + \" successfully loaded.\";\n      }\n    } else if (Date.now() < root._bokeh_timeout) {\n      setTimeout(display_loaded, 100)\n    }\n  }\n\n\n  function run_callbacks() {\n    try {\n      root._bokeh_onload_callbacks.forEach(function(callback) {\n        if (callback != null)\n          callback();\n      });\n    } finally {\n      delete root._bokeh_onload_callbacks\n    }\n    console.debug(\"Bokeh: all callbacks have finished\");\n  }\n\n  function load_libs(css_urls, js_urls, callback) {\n    if (css_urls == null) css_urls = [];\n    if (js_urls == null) js_urls = [];\n\n    root._bokeh_onload_callbacks.push(callback);\n    if (root._bokeh_is_loading > 0) {\n      console.debug(\"Bokeh: BokehJS is being loaded, scheduling callback at\", now());\n      return null;\n    }\n    if (js_urls == null || js_urls.length === 0) {\n      run_callbacks();\n      return null;\n    }\n    console.debug(\"Bokeh: BokehJS not loaded, scheduling load and callback at\", now());\n    root._bokeh_is_loading = css_urls.length + js_urls.length;\n\n    function on_load() {\n      root._bokeh_is_loading--;\n      if (root._bokeh_is_loading === 0) {\n        console.debug(\"Bokeh: all BokehJS libraries/stylesheets loaded\");\n        run_callbacks()\n      }\n    }\n\n    function on_error() {\n      console.error(\"failed to load \" + url);\n    }\n\n    for (var i = 0; i < css_urls.length; i++) {\n      var url = css_urls[i];\n      const element = document.createElement(\"link\");\n      element.onload = on_load;\n      element.onerror = on_error;\n      element.rel = \"stylesheet\";\n      element.type = \"text/css\";\n      element.href = url;\n      console.debug(\"Bokeh: injecting link tag for BokehJS stylesheet: \", url);\n      document.body.appendChild(element);\n    }\n\n    for (var i = 0; i < js_urls.length; i++) {\n      var url = js_urls[i];\n      var element = document.createElement('script');\n      element.onload = on_load;\n      element.onerror = on_error;\n      element.async = false;\n      element.src = url;\n      console.debug(\"Bokeh: injecting script tag for BokehJS library: \", url);\n      document.head.appendChild(element);\n    }\n  };var element = document.getElementById(\"1098\");\n  if (element == null) {\n    console.error(\"Bokeh: ERROR: autoload.js configured with elementid '1098' but no matching script tag was found. \")\n    return false;\n  }\n\n  function inject_raw_css(css) {\n    const element = document.createElement(\"style\");\n    element.appendChild(document.createTextNode(css));\n    document.body.appendChild(element);\n  }\n\n  \n  var js_urls = [\"https://cdn.pydata.org/bokeh/release/bokeh-1.4.0.min.js\", \"https://cdn.pydata.org/bokeh/release/bokeh-widgets-1.4.0.min.js\", \"https://cdn.pydata.org/bokeh/release/bokeh-tables-1.4.0.min.js\", \"https://cdn.pydata.org/bokeh/release/bokeh-gl-1.4.0.min.js\"];\n  var css_urls = [];\n  \n\n  var inline_js = [\n    function(Bokeh) {\n      Bokeh.set_log_level(\"info\");\n    },\n    function(Bokeh) {\n    \n    \n    }\n  ];\n\n  function run_inline_js() {\n    \n    if (root.Bokeh !== undefined || force === true) {\n      \n    for (var i = 0; i < inline_js.length; i++) {\n      inline_js[i].call(root, root.Bokeh);\n    }\n    if (force === true) {\n        display_loaded();\n      }} else if (Date.now() < root._bokeh_timeout) {\n      setTimeout(run_inline_js, 100);\n    } else if (!root._bokeh_failed_load) {\n      console.log(\"Bokeh: BokehJS failed to load within specified timeout.\");\n      root._bokeh_failed_load = true;\n    } else if (force !== true) {\n      var cell = $(document.getElementById(\"1098\")).parents('.cell').data().cell;\n      cell.output_area.append_execute_result(NB_LOAD_WARNING)\n    }\n\n  }\n\n  if (root._bokeh_is_loading === 0) {\n    console.debug(\"Bokeh: BokehJS loaded, going straight to plotting\");\n    run_inline_js();\n  } else {\n    load_libs(css_urls, js_urls, function() {\n      console.debug(\"Bokeh: BokehJS plotting callback run at\", now());\n      run_inline_js();\n    });\n  }\n}(window));"
     },
     "metadata": {},
     "output_type": "display_data"
    },
    {
     "data": {
      "text/html": [
       "\n",
       "\n",
       "\n",
       "\n",
       "\n",
       "\n",
       "  <div class=\"bk-root\" id=\"b8fbccce-6684-410d-b418-5b8330d8a23b\" data-root-id=\"1100\"></div>\n"
      ]
     },
     "metadata": {},
     "output_type": "display_data"
    },
    {
     "data": {
      "application/javascript": [
       "(function(root) {\n",
       "  function embed_document(root) {\n",
       "    \n",
       "  var docs_json = {\"5e111be3-fcf8-42db-87bf-9d0f656a61b3\":{\"roots\":{\"references\":[{\"attributes\":{\"background_fill_color\":{\"value\":\"#2b2b2b\"},\"below\":[{\"id\":\"1111\",\"type\":\"CategoricalAxis\"}],\"center\":[{\"id\":\"1114\",\"type\":\"Grid\"},{\"id\":\"1119\",\"type\":\"Grid\"}],\"left\":[{\"id\":\"1115\",\"type\":\"LinearAxis\"}],\"plot_height\":350,\"plot_width\":1000,\"renderers\":[{\"id\":\"1137\",\"type\":\"GlyphRenderer\"}],\"title\":{\"id\":\"1101\",\"type\":\"Title\"},\"toolbar\":{\"id\":\"1126\",\"type\":\"Toolbar\"},\"toolbar_location\":null,\"x_range\":{\"id\":\"1103\",\"type\":\"FactorRange\"},\"x_scale\":{\"id\":\"1107\",\"type\":\"CategoricalScale\"},\"y_range\":{\"id\":\"1105\",\"type\":\"DataRange1d\"},\"y_scale\":{\"id\":\"1109\",\"type\":\"LinearScale\"}},\"id\":\"1100\",\"subtype\":\"Figure\",\"type\":\"Plot\"},{\"attributes\":{\"callback\":null,\"factors\":[\"coronavirus\",\"uk\",\"covid\",\"says\",\"19\",\"covid 19\",\"lockdown\",\"government\",\"people\",\"crisis\",\"pandemic\",\"new\",\"health\",\"say\",\"guardian\",\"england\",\"global\",\"nhs\",\"outbreak\",\"home\",\"boris\",\"workers\",\"help\",\"johnson\",\"care\",\"public\",\"staff\",\"coronavirus outbreak\",\"face\",\"amid\",\"biggest\",\"time\",\"coronavirus crisis\",\"boris johnson\",\"risk\",\"cases\",\"work\",\"hit\",\"virus\",\"rules\",\"need\",\"support\",\"rise\",\"letters\",\"test\",\"restrictions\",\"uks\",\"plan\",\"latest\",\"global coronavirus\"]},\"id\":\"1103\",\"type\":\"FactorRange\"},{\"attributes\":{\"callback\":null,\"start\":0},\"id\":\"1105\",\"type\":\"DataRange1d\"},{\"attributes\":{\"active_drag\":\"auto\",\"active_inspect\":\"auto\",\"active_multi\":null,\"active_scroll\":\"auto\",\"active_tap\":\"auto\",\"tools\":[{\"id\":\"1120\",\"type\":\"PanTool\"},{\"id\":\"1121\",\"type\":\"WheelZoomTool\"},{\"id\":\"1122\",\"type\":\"BoxZoomTool\"},{\"id\":\"1123\",\"type\":\"SaveTool\"},{\"id\":\"1124\",\"type\":\"ResetTool\"},{\"id\":\"1125\",\"type\":\"HelpTool\"}]},\"id\":\"1126\",\"type\":\"Toolbar\"},{\"attributes\":{},\"id\":\"1107\",\"type\":\"CategoricalScale\"},{\"attributes\":{\"source\":{\"id\":\"1099\",\"type\":\"ColumnDataSource\"}},\"id\":\"1138\",\"type\":\"CDSView\"},{\"attributes\":{\"factors\":[\"coronavirus\",\"uk\",\"covid\",\"says\",\"19\",\"covid 19\",\"lockdown\",\"government\",\"people\",\"crisis\",\"pandemic\",\"new\",\"health\",\"say\",\"guardian\",\"england\",\"global\",\"nhs\",\"outbreak\",\"home\",\"boris\",\"workers\",\"help\",\"johnson\",\"care\",\"public\",\"staff\",\"coronavirus outbreak\",\"face\",\"amid\",\"biggest\",\"time\",\"coronavirus crisis\",\"boris johnson\",\"risk\",\"cases\",\"work\",\"hit\",\"virus\",\"rules\",\"need\",\"support\",\"rise\",\"letters\",\"test\",\"restrictions\",\"uks\",\"plan\",\"latest\",\"global coronavirus\"],\"palette\":[\"#00204C\",\"#002355\",\"#00275D\",\"#002A66\",\"#002E6E\",\"#00316F\",\"#01356E\",\"#15396D\",\"#203C6C\",\"#29406B\",\"#32446B\",\"#38486B\",\"#3E4B6B\",\"#444F6B\",\"#49536B\",\"#4F576C\",\"#545A6C\",\"#595E6D\",\"#5E626E\",\"#62656F\",\"#686A70\",\"#6C6D72\",\"#707173\",\"#757575\",\"#797877\",\"#7E7D78\",\"#838178\",\"#888578\",\"#8D8878\",\"#928C78\",\"#989177\",\"#9D9577\",\"#A29976\",\"#A79D75\",\"#ACA173\",\"#B2A672\",\"#B8AB70\",\"#BDAF6E\",\"#C2B36C\",\"#C8B86A\",\"#CEBD67\",\"#D4C164\",\"#D9C661\",\"#DFCB5D\",\"#E5CF5A\",\"#ECD555\",\"#F1DA50\",\"#F7DF4B\",\"#FDE345\",\"#FFE945\"]},\"id\":\"1133\",\"type\":\"CategoricalColorMapper\"},{\"attributes\":{},\"id\":\"1149\",\"type\":\"CategoricalTickFormatter\"},{\"attributes\":{\"overlay\":{\"id\":\"1154\",\"type\":\"BoxAnnotation\"}},\"id\":\"1122\",\"type\":\"BoxZoomTool\"},{\"attributes\":{},\"id\":\"1151\",\"type\":\"BasicTickFormatter\"},{\"attributes\":{},\"id\":\"1125\",\"type\":\"HelpTool\"},{\"attributes\":{\"fill_color\":{\"field\":\"counted_data\",\"transform\":{\"id\":\"1133\",\"type\":\"CategoricalColorMapper\"}},\"line_color\":{\"value\":\"white\"},\"top\":{\"field\":\"counts\"},\"width\":{\"value\":0.8},\"x\":{\"field\":\"counted_data\"}},\"id\":\"1135\",\"type\":\"VBar\"},{\"attributes\":{},\"id\":\"1116\",\"type\":\"BasicTicker\"},{\"attributes\":{},\"id\":\"1152\",\"type\":\"UnionRenderers\"},{\"attributes\":{},\"id\":\"1153\",\"type\":\"Selection\"},{\"attributes\":{\"bottom_units\":\"screen\",\"fill_alpha\":{\"value\":0.5},\"fill_color\":{\"value\":\"lightgrey\"},\"left_units\":\"screen\",\"level\":\"overlay\",\"line_alpha\":{\"value\":1.0},\"line_color\":{\"value\":\"black\"},\"line_dash\":[4,4],\"line_width\":{\"value\":2},\"render_mode\":\"css\",\"right_units\":\"screen\",\"top_units\":\"screen\"},\"id\":\"1154\",\"type\":\"BoxAnnotation\"},{\"attributes\":{\"formatter\":{\"id\":\"1151\",\"type\":\"BasicTickFormatter\"},\"ticker\":{\"id\":\"1116\",\"type\":\"BasicTicker\"}},\"id\":\"1115\",\"type\":\"LinearAxis\"},{\"attributes\":{\"grid_line_color\":null,\"ticker\":{\"id\":\"1112\",\"type\":\"CategoricalTicker\"}},\"id\":\"1114\",\"type\":\"Grid\"},{\"attributes\":{},\"id\":\"1123\",\"type\":\"SaveTool\"},{\"attributes\":{\"fill_alpha\":{\"value\":0.1},\"fill_color\":{\"value\":\"#1f77b4\"},\"line_alpha\":{\"value\":0.1},\"line_color\":{\"value\":\"#1f77b4\"},\"top\":{\"field\":\"counts\"},\"width\":{\"value\":0.8},\"x\":{\"field\":\"counted_data\"}},\"id\":\"1136\",\"type\":\"VBar\"},{\"attributes\":{},\"id\":\"1120\",\"type\":\"PanTool\"},{\"attributes\":{\"data_source\":{\"id\":\"1099\",\"type\":\"ColumnDataSource\"},\"glyph\":{\"id\":\"1135\",\"type\":\"VBar\"},\"hover_glyph\":null,\"muted_glyph\":null,\"nonselection_glyph\":{\"id\":\"1136\",\"type\":\"VBar\"},\"selection_glyph\":null,\"view\":{\"id\":\"1138\",\"type\":\"CDSView\"}},\"id\":\"1137\",\"type\":\"GlyphRenderer\"},{\"attributes\":{\"text\":\"Title\"},\"id\":\"1101\",\"type\":\"Title\"},{\"attributes\":{\"dimension\":1,\"grid_line_color\":null,\"ticker\":{\"id\":\"1116\",\"type\":\"BasicTicker\"}},\"id\":\"1119\",\"type\":\"Grid\"},{\"attributes\":{},\"id\":\"1109\",\"type\":\"LinearScale\"},{\"attributes\":{},\"id\":\"1121\",\"type\":\"WheelZoomTool\"},{\"attributes\":{},\"id\":\"1112\",\"type\":\"CategoricalTicker\"},{\"attributes\":{},\"id\":\"1124\",\"type\":\"ResetTool\"},{\"attributes\":{\"formatter\":{\"id\":\"1149\",\"type\":\"CategoricalTickFormatter\"},\"major_label_orientation\":1.2,\"ticker\":{\"id\":\"1112\",\"type\":\"CategoricalTicker\"}},\"id\":\"1111\",\"type\":\"CategoricalAxis\"},{\"attributes\":{\"callback\":null,\"data\":{\"counted_data\":[\"coronavirus\",\"uk\",\"covid\",\"says\",\"19\",\"covid 19\",\"lockdown\",\"government\",\"people\",\"crisis\",\"pandemic\",\"new\",\"health\",\"say\",\"guardian\",\"england\",\"global\",\"nhs\",\"outbreak\",\"home\",\"boris\",\"workers\",\"help\",\"johnson\",\"care\",\"public\",\"staff\",\"coronavirus outbreak\",\"face\",\"amid\",\"biggest\",\"time\",\"coronavirus crisis\",\"boris johnson\",\"risk\",\"cases\",\"work\",\"hit\",\"virus\",\"rules\",\"need\",\"support\",\"rise\",\"letters\",\"test\",\"restrictions\",\"uks\",\"plan\",\"latest\",\"global coronavirus\"],\"counts\":[3455,2646,2370,1633,1516,1494,1206,785,760,755,620,551,513,503,459,458,443,430,426,388,377,376,361,351,338,338,334,323,309,287,284,275,272,265,263,262,257,252,252,249,248,241,238,238,235,235,231,230,228,225]},\"selected\":{\"id\":\"1153\",\"type\":\"Selection\"},\"selection_policy\":{\"id\":\"1152\",\"type\":\"UnionRenderers\"}},\"id\":\"1099\",\"type\":\"ColumnDataSource\"}],\"root_ids\":[\"1100\"]},\"title\":\"Bokeh Application\",\"version\":\"1.4.0\"}};\n",
       "  var render_items = [{\"docid\":\"5e111be3-fcf8-42db-87bf-9d0f656a61b3\",\"roots\":{\"1100\":\"b8fbccce-6684-410d-b418-5b8330d8a23b\"}}];\n",
       "  root.Bokeh.embed.embed_items_notebook(docs_json, render_items);\n",
       "\n",
       "  }\n",
       "  if (root.Bokeh !== undefined) {\n",
       "    embed_document(root);\n",
       "  } else {\n",
       "    var attempts = 0;\n",
       "    var timer = setInterval(function(root) {\n",
       "      if (root.Bokeh !== undefined) {\n",
       "        clearInterval(timer);\n",
       "        embed_document(root);\n",
       "      } else {\n",
       "        attempts++;\n",
       "        if (attempts > 100) {\n",
       "          clearInterval(timer);\n",
       "          console.log(\"Bokeh: ERROR: Unable to run BokehJS code because BokehJS library is missing\");\n",
       "        }\n",
       "      }\n",
       "    }, 10, root)\n",
       "  }\n",
       "})(window);"
      ],
      "application/vnd.bokehjs_exec.v0+json": ""
     },
     "metadata": {
      "application/vnd.bokehjs_exec.v0+json": {
       "id": "1100"
      }
     },
     "output_type": "display_data"
    }
   ],
   "source": [
    "bow_ngrams.barchart_wordfreq(num_top_features=50, plot_width=1000)"
   ]
  },
  {
   "cell_type": "markdown",
   "metadata": {},
   "source": [
    "### bigrams with bow data"
   ]
  },
  {
   "cell_type": "code",
   "execution_count": 26,
   "metadata": {},
   "outputs": [],
   "source": [
    "# initialize the count vectorizer \n",
    "bow_2grams = BagOfWords(data=df['title_subtitle_bow'], max_df=0.99, min_df=0.001, stop_words=\"english\", ngram_range=(2, 2))\n",
    "# fit transform and get the fit-transformed matrix of word frequencies\n",
    "bow_2grams.fit_transform() #bow_bow.X\n",
    "# get the feature names \n",
    "bow_2grams.get_feature_names() #bow.feature_names\n",
    "# get the feature counts \n",
    "bow_2grams.get_bow_feature_counts() #bow.df_counts"
   ]
  },
  {
   "cell_type": "code",
   "execution_count": 27,
   "metadata": {},
   "outputs": [
    {
     "data": {
      "text/html": [
       "<div>\n",
       "<style scoped>\n",
       "    .dataframe tbody tr th:only-of-type {\n",
       "        vertical-align: middle;\n",
       "    }\n",
       "\n",
       "    .dataframe tbody tr th {\n",
       "        vertical-align: top;\n",
       "    }\n",
       "\n",
       "    .dataframe thead th {\n",
       "        text-align: right;\n",
       "    }\n",
       "</style>\n",
       "<table border=\"1\" class=\"dataframe\">\n",
       "  <thead>\n",
       "    <tr style=\"text-align: right;\">\n",
       "      <th></th>\n",
       "      <th>feature_names</th>\n",
       "      <th>counts</th>\n",
       "    </tr>\n",
       "  </thead>\n",
       "  <tbody>\n",
       "    <tr>\n",
       "      <th>140</th>\n",
       "      <td>covid 19</td>\n",
       "      <td>1494</td>\n",
       "    </tr>\n",
       "    <tr>\n",
       "      <th>115</th>\n",
       "      <td>coronavirus outbreak</td>\n",
       "      <td>323</td>\n",
       "    </tr>\n",
       "    <tr>\n",
       "      <th>98</th>\n",
       "      <td>coronavirus crisis</td>\n",
       "      <td>272</td>\n",
       "    </tr>\n",
       "    <tr>\n",
       "      <th>48</th>\n",
       "      <td>boris johnson</td>\n",
       "      <td>265</td>\n",
       "    </tr>\n",
       "    <tr>\n",
       "      <th>245</th>\n",
       "      <td>global coronavirus</td>\n",
       "      <td>225</td>\n",
       "    </tr>\n",
       "  </tbody>\n",
       "</table>\n",
       "</div>"
      ],
      "text/plain": [
       "            feature_names  counts\n",
       "140              covid 19    1494\n",
       "115  coronavirus outbreak     323\n",
       "98     coronavirus crisis     272\n",
       "48          boris johnson     265\n",
       "245    global coronavirus     225"
      ]
     },
     "execution_count": 27,
     "metadata": {},
     "output_type": "execute_result"
    }
   ],
   "source": [
    "bow_2grams.df_counts.head(5)"
   ]
  },
  {
   "cell_type": "code",
   "execution_count": 28,
   "metadata": {},
   "outputs": [],
   "source": [
    "#bow_2grams.barchart_wordfreq(num_top_features=50, plot_width=1000)"
   ]
  },
  {
   "cell_type": "markdown",
   "metadata": {},
   "source": [
    "Note: it is better to look at the most common noun phrases rather than the bigrams as there is a lot of noise here "
   ]
  },
  {
   "cell_type": "markdown",
   "metadata": {},
   "source": [
    "# Topic modelling with LDA"
   ]
  },
  {
   "cell_type": "code",
   "execution_count": 29,
   "metadata": {},
   "outputs": [],
   "source": [
    "# pass in the bow data and the vectorizer that was used to obtain in \n",
    "class TopicModelling:\n",
    "    def __init__(self, bow_data, vectorizer, n_components, n_top_words):\n",
    "        self.bow_data = bow_data\n",
    "        self.n_components = n_components \n",
    "        self.n_top_words = n_top_words\n",
    "        self.vectorizer = vectorizer\n",
    "        self.lda = LDA(n_components=n_components, \n",
    "                                max_iter=5,\n",
    "                                learning_method='online',\n",
    "                                learning_offset=50.,\n",
    "                                random_state=0)\n",
    "        self.feature_names = \"\"\n",
    "        self.top_topic_words = {}\n",
    "        \n",
    "    def fit(self):\n",
    "        self.lda.fit(self.bow_data)\n",
    "        \n",
    "    # get the features from the passed vectorizer\n",
    "    def get_feature_names(self):\n",
    "        self.feature_names = self.vectorizer.get_feature_names()\n",
    "       \n",
    "    def get_top_topic_words(self):\n",
    "        for topic_idx, topic in enumerate(self.lda.components_):\n",
    "            self.top_topic_words[\"topic_\" + str(topic_idx)] = \" \".join([self.feature_names[i] for i in topic.argsort()[:-self.n_top_words - 1:-1]])\n",
    "            \n",
    "    # predic the topics \n",
    "    def pred(self, data):\n",
    "        return self.lda.transform(data)\n",
    "    \n",
    "    # make a dataframe out of the predictions \n",
    "    def preds_to_df(self, data):\n",
    "        preds = self.pred(data)\n",
    "        preds_df = pd.DataFrame(preds)\n",
    "        preds_df.columns = [\"topic_\" + str(i) for i in preds_df.columns.tolist()]\n",
    "        return preds_df\n",
    "    \n",
    "    def visualise_lda(self, data, filename=\"lda_visualised\"):\n",
    "        LDAvis_prepared = sklearn_lda.prepare(self.lda, data, self.vectorizer)\n",
    "        pyLDAvis.save_html(LDAvis_prepared, os.path.join(filename + '.html'))\n",
    "    "
   ]
  },
  {
   "cell_type": "code",
   "execution_count": 30,
   "metadata": {},
   "outputs": [],
   "source": [
    "def get_lda(vectorized_data=bow_lem.X, data_vectorizer=bow_lem.MyCountVectorizer, n_components=10, n_top_words=20, filename=\"resources/bow_lem_\"):\n",
    "    \n",
    "    lda = TopicModelling(bow_data=vectorized_data, vectorizer=data_vectorizer, n_components=n_components, n_top_words=n_top_words)\n",
    "    # fit the lda model \n",
    "    lda.fit()\n",
    "    # get the vectorizer feature names \n",
    "    lda.get_feature_names()\n",
    "    # get the top words for each topic \n",
    "    lda.get_top_topic_words()\n",
    "    print(lda.top_topic_words)\n",
    "    \n",
    "    lda_preds = lda.pred(vectorized_data)\n",
    "    preds_df = lda.preds_to_df(vectorized_data)\n",
    "    \n",
    "    lda.visualise_lda(vectorized_data, filename+str(n_components))\n",
    "    \n",
    "    # join the preds to the original data and inspect the topics\n",
    "    df_lda = df.reset_index().join(preds_df).set_index(\"id\")\n",
    "    # inspect the data \n",
    "    #df_lda.nlargest(10, \"topic_6\")['title_subtitle'].tolist()\n",
    "    return lda, lda_preds, preds_df, df_lda"
   ]
  },
  {
   "cell_type": "markdown",
   "metadata": {},
   "source": [
    "#### 5 topics"
   ]
  },
  {
   "cell_type": "code",
   "execution_count": 31,
   "metadata": {},
   "outputs": [
    {
     "name": "stdout",
     "output_type": "stream",
     "text": [
      "{'topic_0': 'covid uk 19 say coronavirus test health government death nhs people public vaccine expert risk scientist testing minister lead second', 'topic_1': 'uk coronavirus covid lockdown crisis 19 letter amid job people hit pandemic travel help like cut pay firm say fear', 'topic_2': 'coronavirus outbreak global big development late glance summary world hospital case die 19 fight europe covid economic rise april country', 'topic_3': 'say guardian coronavirus johnson boris government uk covid business plan pandemic crisis columnist need view britain lockdown minister scheme school', 'topic_4': 'lockdown coronavirus uk england people covid home say care face worker rule warn mask social bank new leave student life'}\n"
     ]
    }
   ],
   "source": [
    "lda5, lda_preds5, preds_df5, df_lda5 = get_lda(n_components=5)"
   ]
  },
  {
   "cell_type": "markdown",
   "metadata": {},
   "source": [
    "#### 10 topics"
   ]
  },
  {
   "cell_type": "code",
   "execution_count": 32,
   "metadata": {},
   "outputs": [
    {
     "name": "stdout",
     "output_type": "stream",
     "text": [
      "{'topic_0': 'uk scheme government say quarantine plan end coronavirus sunak rule furlough chancellor travel warn job support rishi policy covid list', 'topic_1': 'covid 19 uk coronavirus say amid crisis self sale lockdown health pay claim isolate raise issue level ban rise pandemic', 'topic_2': 'coronavirus outbreak global big late development glance summary april isolation march think review panic immunity june news explain 19 update', 'topic_3': 'johnson lockdown boris minister england school say reopen coronavirus plan ease return restriction pm new rule tory prime uk government', 'topic_4': 'home care coronavirus uk worker lockdown people social london student life child leave family police say staff thousand university city', 'topic_5': 'covid 19 test coronavirus uk nhs say letter health government people hospital die scientist patient doctor testing expert trace chief', 'topic_6': 'guardian face covid say 19 crisis britain view columnist coronavirus pandemic mask food time need editorial world government office report', 'topic_7': 'uk coronavirus firm covid recovery economic hope bank business cancel vaccine return flight holiday loan 19 group company help small', 'topic_8': 'uk coronavirus lockdown job hit crisis people pandemic like month loss cut high fear year work hard sector lose industry', 'topic_9': 'covid coronavirus death uk 19 case rise report say rate number country infection europe look eu new figure john high'}\n"
     ]
    }
   ],
   "source": [
    "lda10, lda_preds10, preds_df10, df_lda10 = get_lda(n_components=10)"
   ]
  },
  {
   "cell_type": "code",
   "execution_count": 33,
   "metadata": {},
   "outputs": [
    {
     "data": {
      "text/plain": [
       "[\"'I find myself spiralling': the crisis facing British music venues. Venues in the UK are preparing to open their doors again. But as owners from arenas to tiny clubs explain, the danger is far from over\",\n",
       " 'The Guardian view on arts freelancers: they must not be forgotten | Editorial. <strong>Editorial:</strong> The government has stepped in to protect the UK’s cultural infrastructure, but has neglected the people who make the art',\n",
       " \"No-deal Brexit 'would overwhelm local emergency teams'. Leaked report warns local disaster planning already exhausted by coronavirus crisis\",\n",
       " \"The horror of coronavirus is all too real. Don't turn it into an imaginary war | Marina Hyde. Politicians may turn to platitudes about heroes or battlers or victories, but they can’t disguise Britain’s grim current reality, says Guardian columnist Marina Hyde\",\n",
       " 'Almost 2,000 tags bought for UK Covid-19 prisoner releases remain unused. Justice ministry said up to 4,000 inmates would be freed but so far only 57 have been released',\n",
       " \"James Partridge: 'Face masks could increase anxiety for people with disfigurements'. The founder of Face Equality International on coming out of lockdown and his battle to overcome prejudice \",\n",
       " 'The last dance: clubbing in the coronavirus crisis. With nightclubs such as Fabric and Ministry of Sound closing their doors because of coronavirus, the Bang Face festival was the last chance for Britons to rave for some time',\n",
       " 'The Guardian view on classical music: normality is futility | Editorial. <strong>Editorial:</strong> If the past weeks have shown anything, it is that steady progress towards pre-pandemic life is a fantasy. Radical thinking is required',\n",
       " \"'We wear them to protect one another': readers share their homemade masks stories. A necessary evil, a good way to keep the kids entertained, and more comfortable than a bra\",\n",
       " 'The Guardian view on changing streets: drivers must give way. Cyclists and pedestrians need additional space to move around safely, not a culture war ']"
      ]
     },
     "execution_count": 33,
     "metadata": {},
     "output_type": "execute_result"
    }
   ],
   "source": [
    "df_lda10.nlargest(10, \"topic_6\")['title_subtitle'].tolist()"
   ]
  },
  {
   "cell_type": "markdown",
   "metadata": {},
   "source": [
    "#### 15 topics"
   ]
  },
  {
   "cell_type": "code",
   "execution_count": 34,
   "metadata": {},
   "outputs": [
    {
     "name": "stdout",
     "output_type": "stream",
     "text": [
      "{'topic_0': 'travel quarantine uks long covid ban app policy air list day testing 19 cumming dominic mass vital effect country term', 'topic_1': 'uk coronavirus self crisis plan government support sunak claim action isolate chancellor set rishi theatre say pay fund amid help', 'topic_2': 'coronavirus outbreak big global development late glance summary april financial news march launch project chinese june 30 20 12 14', 'topic_3': 'school uk reopen lockdown child job close struggle loss reveal scheme warn furlough end group study risk open coronavirus plan', 'topic_4': 'care home worker coronavirus social uk student key warn need cost thousand lockdown face family save use government police university', 'topic_5': 'test health letter nhs covid uk 19 staff say coronavirus doctor government secretary trace ppe hospital strongletter hancock lack testing', 'topic_6': 'tell work british return local uk eu mps coronavirus turn home office party people test official say stay positive centre', 'topic_7': 'lockdown uk coronavirus rule industry business restriction new economic briton england ease return say flight firm loan france recovery report', 'topic_8': 'coronavirus people uk death rise case die like number report covid service high figure toll old young vulnerable hospital infection', 'topic_9': 'lockdown uk cut job sale covid food month street restaurant retailer want high think crisis help pub pandemic online chain', 'topic_10': 'world week look life london coronavirus good day time pandemic new city woman cancel remain event covid impact result live', 'topic_11': 'johnson boris covid lockdown second say coronavirus pm wave fall john england leader bad uk minister need 19 government prime', 'topic_12': '19 covid say guardian government public coronavirus columnist uk view crisis scientist editorial need expert health chief face mask britain', 'topic_13': 'europe hope bring italy country start art learn stop rescue message european writer distance lesson shutdown soon deliver germany emerge', 'topic_14': 'coronavirus hit say pandemic crisis uk vaccine firm hard deal global warn trial free year emergency place world threat market'}\n"
     ]
    }
   ],
   "source": [
    "lda15, lda_preds15, preds_df15, df_lda15 = get_lda(n_components=15)"
   ]
  },
  {
   "cell_type": "markdown",
   "metadata": {},
   "source": [
    "#### 20 topics"
   ]
  },
  {
   "cell_type": "code",
   "execution_count": 48,
   "metadata": {},
   "outputs": [
    {
     "name": "stdout",
     "output_type": "stream",
     "text": [
      "{'topic_0': 'johnson boris national pm minister john like lockdown prime coronavirus return tory hold johnsons experience learn follow avoid crace release', 'topic_1': 'uk coronavirus travel pay quarantine self holiday briton isolate company flight list country cancel air end france plan government firm', 'topic_2': 'report good consider distance supply shopper march coronavirus rule global soar message uk stop outbreak mask threaten big half want', 'topic_3': 'scheme uk firm secretary nhs coronavirus help furlough reveal loan staff hancock business ppe health matt shortage small game survey', 'topic_4': 'care social home london run city coronavirus hospital centre ask england say funding council north sport free promise west author', 'topic_5': 'letter coronavirus contact theatre isolation app crisis strongletter uk live write mental people debt far art health venue music film', 'topic_6': 'home face food stay street family office offer mask turn restaurant pub open meet shop staff remain resident visit continue', 'topic_7': 'time group party save think say strategy try high buy lockdown trust head evidence race event local short real poll', 'topic_8': 'death day coronavirus uk rise case record figure toll official spain china number high bring daily target order boss country', 'topic_9': 'say coronavirus columnist guardian crisis government expert health uk public eu response virus covid global chief threat role science country', 'topic_10': 'school life risk child charity lockdown warn coronavirus vulnerable struggle service uk online help spend parent vital family miss access', 'topic_11': 'pandemic guardian britain view need editorial economic way recovery coronavirus right change strongeditorialstrong government failure strongeditorial thousand thing public review', 'topic_12': 'covid 19 vaccine month coronavirus world uk patient trial week early start drug hospital virus scientist treatment hope news people', 'topic_13': 'support economy say plan sunak chancellor come rishi feel job need let business survive story end unemployment tax writer spending', 'topic_14': 'uk coronavirus hit crisis job year sale student cut lockdown pandemic demand loss say market close amid hard fear retailer', 'topic_15': 'test government coronavirus uk say nhs covid public worker doctor question testing staff key 19 minister accuse advice trace people', 'topic_16': 'covid 19 people work uk die pandemic uks home crisis fight worker say young old woman claim health government community', 'topic_17': 'coronavirus outbreak big global late development glance summary april march 20 victim man infect update citizen june china news 19', 'topic_18': 'lockdown covid england rule new restriction uk reopen say second 19 ease measure infection wave plan government return warn rise', 'topic_19': 'bank coronavirus uk lockdown europe police sector million suggest number concern rate fall study money raise grow rise research people'}\n"
     ]
    }
   ],
   "source": [
    "lda20, lda_preds20, preds_df20, df_lda20 = get_lda(n_components=20)"
   ]
  },
  {
   "cell_type": "markdown",
   "metadata": {},
   "source": [
    "# Spacy features"
   ]
  },
  {
   "cell_type": "markdown",
   "metadata": {},
   "source": [
    "## Part of speech \n",
    "- Counting the number of nouns, noun phrases, verbs, adjectives etc"
   ]
  },
  {
   "cell_type": "code",
   "execution_count": 55,
   "metadata": {},
   "outputs": [],
   "source": [
    "import spacy\n",
    "nlp = spacy.load(\"en_core_web_sm\")"
   ]
  },
  {
   "cell_type": "code",
   "execution_count": 56,
   "metadata": {},
   "outputs": [],
   "source": [
    "wanted_pos = ['PROPN', \"VERB\", \"NOUN\", \"ADV\", \"ADJ\"]"
   ]
  },
  {
   "cell_type": "markdown",
   "metadata": {},
   "source": [
    "Utility functions "
   ]
  },
  {
   "cell_type": "code",
   "execution_count": 57,
   "metadata": {},
   "outputs": [],
   "source": [
    "# for a single string of text, return a list of the words of the desired pos type\n",
    "# and a list of the corresponding lemmas \n",
    "def collect_pos(pos, text, stopword=False):\n",
    "    pos_text = []\n",
    "    pos_lemma = []\n",
    "    doc = nlp(text)\n",
    "    for token in doc:\n",
    "        if token.pos_ == pos and token.is_stop == False:\n",
    "            pos_text.append(token.text)\n",
    "            pos_lemma.append(token.lemma_)\n",
    "    return pos_text, pos_lemma"
   ]
  },
  {
   "cell_type": "code",
   "execution_count": 58,
   "metadata": {},
   "outputs": [],
   "source": [
    "def collect_noun_chunks(text):\n",
    "    noun_chunks = []\n",
    "    doc = nlp(text)\n",
    "    for chunk in doc.noun_chunks:\n",
    "        noun_chunks.append(chunk.text)\n",
    "    return noun_chunks"
   ]
  },
  {
   "cell_type": "markdown",
   "metadata": {},
   "source": [
    "#### noun chunks"
   ]
  },
  {
   "cell_type": "code",
   "execution_count": 59,
   "metadata": {},
   "outputs": [],
   "source": [
    "noun_chunks = []\n",
    "for text in df[\"title_subtitle_bow\"].tolist():\n",
    "    noun_chunks.extend(collect_noun_chunks(text))\n",
    "noun_chunks_counts = pd.Series(noun_chunks).value_counts()"
   ]
  },
  {
   "cell_type": "code",
   "execution_count": 60,
   "metadata": {},
   "outputs": [
    {
     "data": {
      "text/plain": [
       "coronavirus                        1317\n",
       "it                                  673\n",
       "uk                                  604\n",
       "we                                  603\n",
       "who                                 402\n",
       "they                                393\n",
       "covid-19                            371\n",
       "what                                328\n",
       "people                              327\n",
       "lockdown                            304\n",
       "i                                   289\n",
       "england                             281\n",
       "you                                 261\n",
       "the uk                              258\n",
       "us                                  243\n",
       "a glance                            222\n",
       "the global coronavirus outbreak     217\n",
       "the biggest developments            214\n",
       "a summary                           205\n",
       "boris johnson                       178\n",
       "dtype: int64"
      ]
     },
     "execution_count": 60,
     "metadata": {},
     "output_type": "execute_result"
    }
   ],
   "source": [
    "noun_chunks_counts.head(20)"
   ]
  },
  {
   "cell_type": "markdown",
   "metadata": {},
   "source": [
    "### visualising pos frequecies \n",
    "over the entire corpus. "
   ]
  },
  {
   "cell_type": "code",
   "execution_count": 61,
   "metadata": {},
   "outputs": [],
   "source": [
    "def collect_pos(text):\n",
    "    doc = nlp(text)\n",
    "    nouns, verbs, adverbs, adjectives, other_pos = [], [], [], [], []\n",
    "    for token in doc: \n",
    "        if token.pos_ == \"NOUN\" or token.pos_ == \"PROPN\":\n",
    "            nouns.append(token.lemma_)\n",
    "        elif token.pos_ == \"VERB\":\n",
    "            verbs.append(token.lemma_)\n",
    "        elif token.pos_ == \"ADV\":\n",
    "            adverbs.append(token.lemma_)\n",
    "        elif token.pos_ == \"ADJ\":\n",
    "            adjectives.append(token.lemma_)\n",
    "        else:\n",
    "            other_pos.append(token.text)\n",
    "    return nouns, verbs, adverbs, adjectives, other_pos"
   ]
  },
  {
   "cell_type": "code",
   "execution_count": 62,
   "metadata": {},
   "outputs": [],
   "source": [
    "nouns_all, verbs_all, adverbs_all, adjectives_all, other_pos_all =  [], [], [], [], []\n",
    "for text in df['title_subtitle_bow'].tolist():\n",
    "    nouns, verbs, adverbs, adjectives, other_pos = collect_pos(text)\n",
    "    nouns_all.extend(nouns)\n",
    "    verbs_all.extend(verbs)\n",
    "    adverbs_all.extend(adverbs)\n",
    "    adjectives_all.extend(adjectives)\n",
    "    other_pos_all.extend(other_pos)"
   ]
  },
  {
   "cell_type": "code",
   "execution_count": 63,
   "metadata": {},
   "outputs": [
    {
     "data": {
      "text/plain": [
       "87324"
      ]
     },
     "execution_count": 63,
     "metadata": {},
     "output_type": "execute_result"
    }
   ],
   "source": [
    "len(nouns_all)"
   ]
  },
  {
   "cell_type": "code",
   "execution_count": 64,
   "metadata": {},
   "outputs": [],
   "source": [
    "all_pos = {}\n",
    "all_pos['nouns'] = len(nouns_all)\n",
    "all_pos['verbs'] = len(verbs_all)\n",
    "all_pos['adverbs'] = len(adverbs_all)\n",
    "all_pos['adjectives'] = len(adjectives_all)"
   ]
  },
  {
   "cell_type": "code",
   "execution_count": 65,
   "metadata": {},
   "outputs": [
    {
     "data": {
      "text/plain": [
       "{'nouns': 87324, 'verbs': 34090, 'adverbs': 6339, 'adjectives': 18165}"
      ]
     },
     "execution_count": 65,
     "metadata": {},
     "output_type": "execute_result"
    }
   ],
   "source": [
    "all_pos"
   ]
  },
  {
   "cell_type": "code",
   "execution_count": 66,
   "metadata": {},
   "outputs": [],
   "source": [
    "from bokeh.io import output_file, show\n",
    "from bokeh.palettes import Category20c, cividis\n",
    "from bokeh.plotting import figure\n",
    "from bokeh.transform import cumsum\n",
    "from math import pi"
   ]
  },
  {
   "cell_type": "code",
   "execution_count": 67,
   "metadata": {},
   "outputs": [],
   "source": [
    "data_viz = pd.DataFrame.from_dict(all_pos, orient=\"index\").reset_index()\n",
    "data_viz.columns = ['pos', 'value']"
   ]
  },
  {
   "cell_type": "code",
   "execution_count": 68,
   "metadata": {},
   "outputs": [
    {
     "data": {
      "text/html": [
       "\n",
       "\n",
       "\n",
       "\n",
       "\n",
       "\n",
       "  <div class=\"bk-root\" id=\"7a713f49-3c48-4085-bd79-9dd5e64cae43\" data-root-id=\"1203\"></div>\n"
      ]
     },
     "metadata": {},
     "output_type": "display_data"
    },
    {
     "data": {
      "application/javascript": [
       "(function(root) {\n",
       "  function embed_document(root) {\n",
       "    \n",
       "  var docs_json = {\"d75363a2-175b-45f2-95b5-b3be69e86ad6\":{\"roots\":{\"references\":[{\"attributes\":{\"below\":[{\"id\":\"1214\",\"type\":\"LinearAxis\"}],\"center\":[{\"id\":\"1218\",\"type\":\"Grid\"},{\"id\":\"1223\",\"type\":\"Grid\"},{\"id\":\"1240\",\"type\":\"Legend\"}],\"left\":[{\"id\":\"1219\",\"type\":\"LinearAxis\"}],\"plot_height\":350,\"renderers\":[{\"id\":\"1233\",\"type\":\"GlyphRenderer\"}],\"title\":{\"id\":\"1204\",\"type\":\"Title\"},\"toolbar\":{\"id\":\"1225\",\"type\":\"Toolbar\"},\"toolbar_location\":null,\"x_range\":{\"id\":\"1206\",\"type\":\"Range1d\"},\"x_scale\":{\"id\":\"1210\",\"type\":\"LinearScale\"},\"y_range\":{\"id\":\"1208\",\"type\":\"DataRange1d\"},\"y_scale\":{\"id\":\"1212\",\"type\":\"LinearScale\"}},\"id\":\"1203\",\"subtype\":\"Figure\",\"type\":\"Plot\"},{\"attributes\":{\"callback\":null,\"tooltips\":\"@pos: @value\"},\"id\":\"1224\",\"type\":\"HoverTool\"},{\"attributes\":{},\"id\":\"1264\",\"type\":\"Selection\"},{\"attributes\":{\"callback\":null,\"start\":-0.5},\"id\":\"1206\",\"type\":\"Range1d\"},{\"attributes\":{\"end_angle\":{\"expr\":{\"id\":\"1228\",\"type\":\"CumSum\"},\"units\":\"rad\"},\"fill_color\":{\"field\":\"color\"},\"line_color\":{\"value\":\"white\"},\"radius\":{\"units\":\"data\",\"value\":0.4},\"start_angle\":{\"expr\":{\"id\":\"1227\",\"type\":\"CumSum\"},\"units\":\"rad\"},\"x\":{\"value\":0},\"y\":{\"value\":1}},\"id\":\"1231\",\"type\":\"Wedge\"},{\"attributes\":{\"callback\":null,\"data\":{\"angle\":{\"__ndarray__\":\"llSlB8cUDkCoCqQiinz3P5SwTxYaeNE/zCgcM50H6T8=\",\"dtype\":\"float64\",\"shape\":[4]},\"color\":[\"#00204C\",\"#565C6C\",\"#A69C75\",\"#FFE945\"],\"index\":[0,1,2,3],\"pos\":[\"nouns\",\"verbs\",\"adverbs\",\"adjectives\"],\"value\":[87324,34090,6339,18165]},\"selected\":{\"id\":\"1264\",\"type\":\"Selection\"},\"selection_policy\":{\"id\":\"1263\",\"type\":\"UnionRenderers\"}},\"id\":\"1229\",\"type\":\"ColumnDataSource\"},{\"attributes\":{\"label\":{\"field\":\"pos\"},\"renderers\":[{\"id\":\"1233\",\"type\":\"GlyphRenderer\"}]},\"id\":\"1241\",\"type\":\"LegendItem\"},{\"attributes\":{\"field\":\"angle\"},\"id\":\"1228\",\"type\":\"CumSum\"},{\"attributes\":{},\"id\":\"1239\",\"type\":\"BasicTickFormatter\"},{\"attributes\":{},\"id\":\"1237\",\"type\":\"BasicTickFormatter\"},{\"attributes\":{},\"id\":\"1263\",\"type\":\"UnionRenderers\"},{\"attributes\":{},\"id\":\"1210\",\"type\":\"LinearScale\"},{\"attributes\":{\"end_angle\":{\"expr\":{\"id\":\"1228\",\"type\":\"CumSum\"},\"units\":\"rad\"},\"fill_alpha\":{\"value\":0.1},\"fill_color\":{\"value\":\"#1f77b4\"},\"line_alpha\":{\"value\":0.1},\"line_color\":{\"value\":\"#1f77b4\"},\"radius\":{\"units\":\"data\",\"value\":0.4},\"start_angle\":{\"expr\":{\"id\":\"1227\",\"type\":\"CumSum\"},\"units\":\"rad\"},\"x\":{\"value\":0},\"y\":{\"value\":1}},\"id\":\"1232\",\"type\":\"Wedge\"},{\"attributes\":{\"callback\":null},\"id\":\"1208\",\"type\":\"DataRange1d\"},{\"attributes\":{\"data_source\":{\"id\":\"1229\",\"type\":\"ColumnDataSource\"},\"glyph\":{\"id\":\"1231\",\"type\":\"Wedge\"},\"hover_glyph\":null,\"muted_glyph\":null,\"nonselection_glyph\":{\"id\":\"1232\",\"type\":\"Wedge\"},\"selection_glyph\":null,\"view\":{\"id\":\"1234\",\"type\":\"CDSView\"}},\"id\":\"1233\",\"type\":\"GlyphRenderer\"},{\"attributes\":{},\"id\":\"1212\",\"type\":\"LinearScale\"},{\"attributes\":{\"axis_label\":null,\"formatter\":{\"id\":\"1239\",\"type\":\"BasicTickFormatter\"},\"ticker\":{\"id\":\"1215\",\"type\":\"BasicTicker\"},\"visible\":false},\"id\":\"1214\",\"type\":\"LinearAxis\"},{\"attributes\":{\"source\":{\"id\":\"1229\",\"type\":\"ColumnDataSource\"}},\"id\":\"1234\",\"type\":\"CDSView\"},{\"attributes\":{},\"id\":\"1220\",\"type\":\"BasicTicker\"},{\"attributes\":{\"field\":\"angle\",\"include_zero\":true},\"id\":\"1227\",\"type\":\"CumSum\"},{\"attributes\":{\"items\":[{\"id\":\"1241\",\"type\":\"LegendItem\"}]},\"id\":\"1240\",\"type\":\"Legend\"},{\"attributes\":{},\"id\":\"1215\",\"type\":\"BasicTicker\"},{\"attributes\":{\"grid_line_color\":null,\"ticker\":{\"id\":\"1215\",\"type\":\"BasicTicker\"}},\"id\":\"1218\",\"type\":\"Grid\"},{\"attributes\":{\"active_drag\":\"auto\",\"active_inspect\":\"auto\",\"active_multi\":null,\"active_scroll\":\"auto\",\"active_tap\":\"auto\",\"tools\":[{\"id\":\"1224\",\"type\":\"HoverTool\"}]},\"id\":\"1225\",\"type\":\"Toolbar\"},{\"attributes\":{\"dimension\":1,\"grid_line_color\":null,\"ticker\":{\"id\":\"1220\",\"type\":\"BasicTicker\"}},\"id\":\"1223\",\"type\":\"Grid\"},{\"attributes\":{\"axis_label\":null,\"formatter\":{\"id\":\"1237\",\"type\":\"BasicTickFormatter\"},\"ticker\":{\"id\":\"1220\",\"type\":\"BasicTicker\"},\"visible\":false},\"id\":\"1219\",\"type\":\"LinearAxis\"},{\"attributes\":{\"text\":\"Frequency of each pos type\"},\"id\":\"1204\",\"type\":\"Title\"}],\"root_ids\":[\"1203\"]},\"title\":\"Bokeh Application\",\"version\":\"1.4.0\"}};\n",
       "  var render_items = [{\"docid\":\"d75363a2-175b-45f2-95b5-b3be69e86ad6\",\"roots\":{\"1203\":\"7a713f49-3c48-4085-bd79-9dd5e64cae43\"}}];\n",
       "  root.Bokeh.embed.embed_items_notebook(docs_json, render_items);\n",
       "\n",
       "  }\n",
       "  if (root.Bokeh !== undefined) {\n",
       "    embed_document(root);\n",
       "  } else {\n",
       "    var attempts = 0;\n",
       "    var timer = setInterval(function(root) {\n",
       "      if (root.Bokeh !== undefined) {\n",
       "        clearInterval(timer);\n",
       "        embed_document(root);\n",
       "      } else {\n",
       "        attempts++;\n",
       "        if (attempts > 100) {\n",
       "          clearInterval(timer);\n",
       "          console.log(\"Bokeh: ERROR: Unable to run BokehJS code because BokehJS library is missing\");\n",
       "        }\n",
       "      }\n",
       "    }, 10, root)\n",
       "  }\n",
       "})(window);"
      ],
      "application/vnd.bokehjs_exec.v0+json": ""
     },
     "metadata": {
      "application/vnd.bokehjs_exec.v0+json": {
       "id": "1203"
      }
     },
     "output_type": "display_data"
    }
   ],
   "source": [
    "#data = pd.DataFrame({\"pos\": [\"nouns\", \"verbs\"], \"value\" : [len(all_nouns), len(all_verbs)]})\n",
    "data_viz['angle'] = data_viz['value']/data_viz['value'].sum() * 2*pi\n",
    "data_viz['color'] = cividis(4)\n",
    "\n",
    "p = figure(plot_height=350, title=\"Frequency of each pos type\", toolbar_location=None,\n",
    "           tools=\"hover\", tooltips=\"@pos: @value\", x_range=(-0.5, 1.0))\n",
    "\n",
    "p.wedge(x=0, y=1, radius=0.4,\n",
    "        start_angle=cumsum('angle', include_zero=True), end_angle=cumsum('angle'),\n",
    "        line_color=\"white\", fill_color='color', legend_field='pos', source=data_viz)\n",
    "\n",
    "p.axis.axis_label=None\n",
    "p.axis.visible=False\n",
    "p.grid.grid_line_color = None\n",
    "\n",
    "show(p)"
   ]
  },
  {
   "cell_type": "markdown",
   "metadata": {},
   "source": [
    "## Named Enetity Recognition "
   ]
  },
  {
   "cell_type": "markdown",
   "metadata": {},
   "source": [
    "### visualising named entities "
   ]
  },
  {
   "cell_type": "code",
   "execution_count": 69,
   "metadata": {},
   "outputs": [
    {
     "name": "stderr",
     "output_type": "stream",
     "text": [
      "/Users/dea/opt/anaconda3/lib/python3.7/site-packages/spacy/displacy/__init__.py:94: UserWarning: [W011] It looks like you're calling displacy.serve from within a Jupyter notebook or a similar environment. This likely means you're already running a local web server, so there's no need to make displaCy start another one. Instead, you should be able to replace displacy.serve with displacy.render to show the visualization.\n",
      "  warnings.warn(Warnings.W011)\n"
     ]
    },
    {
     "data": {
      "text/html": [
       "<span class=\"tex2jax_ignore\"><!DOCTYPE html>\n",
       "<html lang=\"en\">\n",
       "    <head>\n",
       "        <title>displaCy</title>\n",
       "    </head>\n",
       "\n",
       "    <body style=\"font-size: 16px; font-family: -apple-system, BlinkMacSystemFont, 'Segoe UI', Helvetica, Arial, sans-serif, 'Apple Color Emoji', 'Segoe UI Emoji', 'Segoe UI Symbol'; padding: 4rem 2rem; direction: ltr\">\n",
       "<figure style=\"margin-bottom: 6rem\">\n",
       "<div class=\"entities\" style=\"line-height: 2.5; direction: ltr\">\n",
       "<mark class=\"entity\" style=\"background: #feca74; padding: 0.45em 0.6em; margin: 0 0.25em; line-height: 1; border-radius: 0.35em;\">\n",
       "    UK\n",
       "    <span style=\"font-size: 0.8em; font-weight: bold; line-height: 1; border-radius: 0.35em; text-transform: uppercase; vertical-align: middle; margin-left: 0.5rem\">GPE</span>\n",
       "</mark>\n",
       " housebuilders will need government support, says \n",
       "<mark class=\"entity\" style=\"background: #7aecec; padding: 0.45em 0.6em; margin: 0 0.25em; line-height: 1; border-radius: 0.35em;\">\n",
       "    Berkeley\n",
       "    <span style=\"font-size: 0.8em; font-weight: bold; line-height: 1; border-radius: 0.35em; text-transform: uppercase; vertical-align: middle; margin-left: 0.5rem\">ORG</span>\n",
       "</mark>\n",
       ".  CEO says construction sector requires help if \n",
       "<mark class=\"entity\" style=\"background: #feca74; padding: 0.45em 0.6em; margin: 0 0.25em; line-height: 1; border-radius: 0.35em;\">\n",
       "    UK\n",
       "    <span style=\"font-size: 0.8em; font-weight: bold; line-height: 1; border-radius: 0.35em; text-transform: uppercase; vertical-align: middle; margin-left: 0.5rem\">GPE</span>\n",
       "</mark>\n",
       " economy is to recover from Covid-19 crisis </div>\n",
       "</figure>\n",
       "</body>\n",
       "</html></span>"
      ],
      "text/plain": [
       "<IPython.core.display.HTML object>"
      ]
     },
     "metadata": {},
     "output_type": "display_data"
    },
    {
     "name": "stdout",
     "output_type": "stream",
     "text": [
      "\n",
      "Using the 'ent' visualizer\n",
      "Serving on http://0.0.0.0:5000 ...\n",
      "\n",
      "Shutting down server on port 5000.\n"
     ]
    }
   ],
   "source": [
    "from spacy import displacy\n",
    "text = df['title_subtitle'].tolist()[3703]\n",
    "doc = nlp(text)\n",
    "displacy.serve(doc, style=\"ent\")"
   ]
  },
  {
   "cell_type": "code",
   "execution_count": 78,
   "metadata": {},
   "outputs": [],
   "source": [
    "def get_all_entities(text_series, text_field):\n",
    "    df_ents_all = []\n",
    "    for text, index in zip(text_series[text_field], text_series[text_field].index):\n",
    "        doc = nlp(text)\n",
    "        ents = [(e.text, e.start_char, e.end_char, e.label_) for e in doc.ents]\n",
    "        df_ents = pd.DataFrame(ents)\n",
    "        df_ents['index'] = index\n",
    "        df_ents['text'] = text \n",
    "        df_ents_all.append(df_ents)\n",
    "    df_ents_all= pd.concat(df_ents_all)\n",
    "    df_ents_all.columns = [\"entity\", \"start_pos\", \"end_pos\", \"type\", \"index\", \"text\"]\n",
    "    return df_ents_all"
   ]
  },
  {
   "cell_type": "code",
   "execution_count": 79,
   "metadata": {},
   "outputs": [],
   "source": [
    "df_ents_all = get_all_entities(df, 'title_subtitle')"
   ]
  },
  {
   "cell_type": "code",
   "execution_count": 80,
   "metadata": {},
   "outputs": [
    {
     "data": {
      "text/html": [
       "<div>\n",
       "<style scoped>\n",
       "    .dataframe tbody tr th:only-of-type {\n",
       "        vertical-align: middle;\n",
       "    }\n",
       "\n",
       "    .dataframe tbody tr th {\n",
       "        vertical-align: top;\n",
       "    }\n",
       "\n",
       "    .dataframe thead th {\n",
       "        text-align: right;\n",
       "    }\n",
       "</style>\n",
       "<table border=\"1\" class=\"dataframe\">\n",
       "  <thead>\n",
       "    <tr style=\"text-align: right;\">\n",
       "      <th></th>\n",
       "      <th>entity</th>\n",
       "      <th>start_pos</th>\n",
       "      <th>end_pos</th>\n",
       "      <th>type</th>\n",
       "      <th>index</th>\n",
       "      <th>text</th>\n",
       "    </tr>\n",
       "  </thead>\n",
       "  <tbody>\n",
       "    <tr>\n",
       "      <th>0</th>\n",
       "      <td>Wellcome Trust</td>\n",
       "      <td>139.0</td>\n",
       "      <td>153.0</td>\n",
       "      <td>ORG</td>\n",
       "      <td>society/2020/jan/18/expert-questions-effective...</td>\n",
       "      <td>Expert questions effectiveness of coronavirus ...</td>\n",
       "    </tr>\n",
       "    <tr>\n",
       "      <th>0</th>\n",
       "      <td>UK</td>\n",
       "      <td>40.0</td>\n",
       "      <td>42.0</td>\n",
       "      <td>GPE</td>\n",
       "      <td>world/2020/jan/18/no-airport-screening-for-new...</td>\n",
       "      <td>No screening for new Sars-like virus at UK air...</td>\n",
       "    </tr>\n",
       "    <tr>\n",
       "      <th>1</th>\n",
       "      <td>Coronavirus</td>\n",
       "      <td>106.0</td>\n",
       "      <td>117.0</td>\n",
       "      <td>PERSON</td>\n",
       "      <td>world/2020/jan/18/no-airport-screening-for-new...</td>\n",
       "      <td>No screening for new Sars-like virus at UK air...</td>\n",
       "    </tr>\n",
       "    <tr>\n",
       "      <th>2</th>\n",
       "      <td>1,700</td>\n",
       "      <td>139.0</td>\n",
       "      <td>144.0</td>\n",
       "      <td>CARDINAL</td>\n",
       "      <td>world/2020/jan/18/no-airport-screening-for-new...</td>\n",
       "      <td>No screening for new Sars-like virus at UK air...</td>\n",
       "    </tr>\n",
       "    <tr>\n",
       "      <th>3</th>\n",
       "      <td>China</td>\n",
       "      <td>148.0</td>\n",
       "      <td>153.0</td>\n",
       "      <td>GPE</td>\n",
       "      <td>world/2020/jan/18/no-airport-screening-for-new...</td>\n",
       "      <td>No screening for new Sars-like virus at UK air...</td>\n",
       "    </tr>\n",
       "  </tbody>\n",
       "</table>\n",
       "</div>"
      ],
      "text/plain": [
       "           entity  start_pos  end_pos      type  \\\n",
       "0  Wellcome Trust      139.0    153.0       ORG   \n",
       "0              UK       40.0     42.0       GPE   \n",
       "1     Coronavirus      106.0    117.0    PERSON   \n",
       "2           1,700      139.0    144.0  CARDINAL   \n",
       "3           China      148.0    153.0       GPE   \n",
       "\n",
       "                                               index  \\\n",
       "0  society/2020/jan/18/expert-questions-effective...   \n",
       "0  world/2020/jan/18/no-airport-screening-for-new...   \n",
       "1  world/2020/jan/18/no-airport-screening-for-new...   \n",
       "2  world/2020/jan/18/no-airport-screening-for-new...   \n",
       "3  world/2020/jan/18/no-airport-screening-for-new...   \n",
       "\n",
       "                                                text  \n",
       "0  Expert questions effectiveness of coronavirus ...  \n",
       "0  No screening for new Sars-like virus at UK air...  \n",
       "1  No screening for new Sars-like virus at UK air...  \n",
       "2  No screening for new Sars-like virus at UK air...  \n",
       "3  No screening for new Sars-like virus at UK air...  "
      ]
     },
     "execution_count": 80,
     "metadata": {},
     "output_type": "execute_result"
    }
   ],
   "source": [
    "df_ents_all.head()"
   ]
  },
  {
   "cell_type": "markdown",
   "metadata": {},
   "source": [
    "### visualise most common entities per category"
   ]
  },
  {
   "cell_type": "code",
   "execution_count": 81,
   "metadata": {},
   "outputs": [],
   "source": [
    "porg = df_ents_all.groupby(\"entity\").nunique()[['text']]\n",
    "porg.columns =['num']\n",
    "porg = porg.sort_values(by='num', ascending=False).head(200)"
   ]
  },
  {
   "cell_type": "code",
   "execution_count": 82,
   "metadata": {},
   "outputs": [],
   "source": [
    "df_ents_top = porg.join(df_ents_all.drop_duplicates(subset=['entity'])[['entity', 'type']].set_index(\"entity\")).reset_index()"
   ]
  },
  {
   "cell_type": "code",
   "execution_count": 83,
   "metadata": {},
   "outputs": [
    {
     "data": {
      "text/html": [
       "<div>\n",
       "<style scoped>\n",
       "    .dataframe tbody tr th:only-of-type {\n",
       "        vertical-align: middle;\n",
       "    }\n",
       "\n",
       "    .dataframe tbody tr th {\n",
       "        vertical-align: top;\n",
       "    }\n",
       "\n",
       "    .dataframe thead th {\n",
       "        text-align: right;\n",
       "    }\n",
       "</style>\n",
       "<table border=\"1\" class=\"dataframe\">\n",
       "  <thead>\n",
       "    <tr style=\"text-align: right;\">\n",
       "      <th></th>\n",
       "      <th>entity</th>\n",
       "      <th>num</th>\n",
       "      <th>type</th>\n",
       "    </tr>\n",
       "  </thead>\n",
       "  <tbody>\n",
       "    <tr>\n",
       "      <th>0</th>\n",
       "      <td>UK</td>\n",
       "      <td>2669</td>\n",
       "      <td>GPE</td>\n",
       "    </tr>\n",
       "    <tr>\n",
       "      <th>1</th>\n",
       "      <td>Covid</td>\n",
       "      <td>534</td>\n",
       "      <td>PERSON</td>\n",
       "    </tr>\n",
       "    <tr>\n",
       "      <th>2</th>\n",
       "      <td>England</td>\n",
       "      <td>444</td>\n",
       "      <td>GPE</td>\n",
       "    </tr>\n",
       "    <tr>\n",
       "      <th>3</th>\n",
       "      <td>Guardian</td>\n",
       "      <td>432</td>\n",
       "      <td>ORG</td>\n",
       "    </tr>\n",
       "    <tr>\n",
       "      <th>4</th>\n",
       "      <td>Boris Johnson</td>\n",
       "      <td>305</td>\n",
       "      <td>PERSON</td>\n",
       "    </tr>\n",
       "    <tr>\n",
       "      <th>...</th>\n",
       "      <td>...</td>\n",
       "      <td>...</td>\n",
       "      <td>...</td>\n",
       "    </tr>\n",
       "    <tr>\n",
       "      <th>195</th>\n",
       "      <td>VAT</td>\n",
       "      <td>11</td>\n",
       "      <td>ORG</td>\n",
       "    </tr>\n",
       "    <tr>\n",
       "      <th>196</th>\n",
       "      <td>today</td>\n",
       "      <td>11</td>\n",
       "      <td>DATE</td>\n",
       "    </tr>\n",
       "    <tr>\n",
       "      <th>197</th>\n",
       "      <td>Home Office</td>\n",
       "      <td>11</td>\n",
       "      <td>ORG</td>\n",
       "    </tr>\n",
       "    <tr>\n",
       "      <th>198</th>\n",
       "      <td>Neil Ferguson</td>\n",
       "      <td>11</td>\n",
       "      <td>PERSON</td>\n",
       "    </tr>\n",
       "    <tr>\n",
       "      <th>199</th>\n",
       "      <td>200</td>\n",
       "      <td>11</td>\n",
       "      <td>MONEY</td>\n",
       "    </tr>\n",
       "  </tbody>\n",
       "</table>\n",
       "<p>200 rows × 3 columns</p>\n",
       "</div>"
      ],
      "text/plain": [
       "            entity   num    type\n",
       "0               UK  2669     GPE\n",
       "1            Covid   534  PERSON\n",
       "2          England   444     GPE\n",
       "3         Guardian   432     ORG\n",
       "4    Boris Johnson   305  PERSON\n",
       "..             ...   ...     ...\n",
       "195            VAT    11     ORG\n",
       "196          today    11    DATE\n",
       "197    Home Office    11     ORG\n",
       "198  Neil Ferguson    11  PERSON\n",
       "199            200    11   MONEY\n",
       "\n",
       "[200 rows x 3 columns]"
      ]
     },
     "execution_count": 83,
     "metadata": {},
     "output_type": "execute_result"
    }
   ],
   "source": [
    "df_ents_top"
   ]
  },
  {
   "cell_type": "code",
   "execution_count": 84,
   "metadata": {},
   "outputs": [],
   "source": [
    "df_ent= df_ents_top[1:].copy()\n",
    "group_ent = df_ent.groupby(['type', 'entity'])\n",
    "index_cmap_ent = factor_cmap('type_entity', \n",
    "                             palette=cividis(len(df_ents_top[\"type\"].unique())), \n",
    "                             factors=df_ents_top[\"type\"].unique(), end=1)"
   ]
  },
  {
   "cell_type": "code",
   "execution_count": 85,
   "metadata": {},
   "outputs": [
    {
     "data": {
      "text/html": [
       "\n",
       "\n",
       "\n",
       "\n",
       "\n",
       "\n",
       "  <div class=\"bk-root\" id=\"dd83a141-72ee-4e87-a659-5fd4a4e978b0\" data-root-id=\"1429\"></div>\n"
      ]
     },
     "metadata": {},
     "output_type": "display_data"
    },
    {
     "data": {
      "application/javascript": [
       "(function(root) {\n",
       "  function embed_document(root) {\n",
       "    \n",
       "  var docs_json = {\"07d8184f-6509-413f-bfa1-200ecd8a4f81\":{\"roots\":{\"references\":[{\"attributes\":{\"background_fill_color\":{\"value\":\"#2b2b2b\"},\"below\":[{\"id\":\"1440\",\"type\":\"CategoricalAxis\"}],\"center\":[{\"id\":\"1443\",\"type\":\"Grid\"},{\"id\":\"1448\",\"type\":\"Grid\"}],\"left\":[{\"id\":\"1444\",\"type\":\"LinearAxis\"}],\"outline_line_color\":{\"value\":null},\"plot_width\":2200,\"renderers\":[{\"id\":\"1468\",\"type\":\"GlyphRenderer\"}],\"title\":{\"id\":\"1430\",\"type\":\"Title\"},\"toolbar\":{\"id\":\"1456\",\"type\":\"Toolbar\"},\"toolbar_location\":null,\"x_range\":{\"id\":\"1432\",\"type\":\"FactorRange\"},\"x_scale\":{\"id\":\"1436\",\"type\":\"CategoricalScale\"},\"y_range\":{\"id\":\"1434\",\"type\":\"DataRange1d\"},\"y_scale\":{\"id\":\"1438\",\"type\":\"LinearScale\"}},\"id\":\"1429\",\"subtype\":\"Figure\",\"type\":\"Plot\"},{\"attributes\":{\"data_source\":{\"id\":\"1464\",\"type\":\"ColumnDataSource\"},\"glyph\":{\"id\":\"1466\",\"type\":\"VBar\"},\"hover_glyph\":null,\"muted_glyph\":null,\"nonselection_glyph\":{\"id\":\"1467\",\"type\":\"VBar\"},\"selection_glyph\":null,\"view\":{\"id\":\"1469\",\"type\":\"CDSView\"}},\"id\":\"1468\",\"type\":\"GlyphRenderer\"},{\"attributes\":{\"bottom_units\":\"screen\",\"fill_alpha\":{\"value\":0.5},\"fill_color\":{\"value\":\"lightgrey\"},\"left_units\":\"screen\",\"level\":\"overlay\",\"line_alpha\":{\"value\":1.0},\"line_color\":{\"value\":\"black\"},\"line_dash\":[4,4],\"line_width\":{\"value\":2},\"render_mode\":\"css\",\"right_units\":\"screen\",\"top_units\":\"screen\"},\"id\":\"1508\",\"type\":\"BoxAnnotation\"},{\"attributes\":{\"dimension\":1,\"ticker\":{\"id\":\"1445\",\"type\":\"BasicTicker\"}},\"id\":\"1448\",\"type\":\"Grid\"},{\"attributes\":{\"grid_line_color\":null,\"ticker\":{\"id\":\"1441\",\"type\":\"CategoricalTicker\"}},\"id\":\"1443\",\"type\":\"Grid\"},{\"attributes\":{},\"id\":\"1507\",\"type\":\"Selection\"},{\"attributes\":{\"formatter\":{\"id\":\"1503\",\"type\":\"BasicTickFormatter\"},\"ticker\":{\"id\":\"1445\",\"type\":\"BasicTicker\"}},\"id\":\"1444\",\"type\":\"LinearAxis\"},{\"attributes\":{},\"id\":\"1454\",\"type\":\"HelpTool\"},{\"attributes\":{},\"id\":\"1438\",\"type\":\"LinearScale\"},{\"attributes\":{\"end\":1,\"factors\":[\"GPE\",\"PERSON\",\"ORG\",\"ORDINAL\",\"NORP\",\"LOC\",\"CARDINAL\",\"DATE\",\"LANGUAGE\",\"TIME\",\"MONEY\",\"WORK_OF_ART\",\"PRODUCT\",\"PERCENT\"],\"palette\":[\"#00204C\",\"#002D6D\",\"#1C3B6C\",\"#3A496B\",\"#4F576C\",\"#62656F\",\"#737374\",\"#858278\",\"#989177\",\"#ACA173\",\"#C1B26C\",\"#D6C363\",\"#EDD654\",\"#FFE945\"]},\"id\":\"1428\",\"type\":\"CategoricalColorMapper\"},{\"attributes\":{},\"id\":\"1445\",\"type\":\"BasicTicker\"},{\"attributes\":{},\"id\":\"1503\",\"type\":\"BasicTickFormatter\"},{\"attributes\":{},\"id\":\"1449\",\"type\":\"PanTool\"},{\"attributes\":{\"fill_alpha\":{\"value\":0.1},\"fill_color\":{\"value\":\"#1f77b4\"},\"line_alpha\":{\"value\":0.1},\"line_color\":{\"value\":\"#1f77b4\"},\"top\":{\"field\":\"num_mean\"},\"width\":{\"value\":1},\"x\":{\"field\":\"type_entity\"}},\"id\":\"1467\",\"type\":\"VBar\"},{\"attributes\":{},\"id\":\"1505\",\"type\":\"CategoricalTickFormatter\"},{\"attributes\":{\"source\":{\"id\":\"1464\",\"type\":\"ColumnDataSource\"}},\"id\":\"1469\",\"type\":\"CDSView\"},{\"attributes\":{\"fill_color\":{\"field\":\"type_entity\",\"transform\":{\"id\":\"1428\",\"type\":\"CategoricalColorMapper\"}},\"line_color\":{\"value\":\"white\"},\"top\":{\"field\":\"num_mean\"},\"width\":{\"value\":1},\"x\":{\"field\":\"type_entity\"}},\"id\":\"1466\",\"type\":\"VBar\"},{\"attributes\":{\"callback\":null,\"data\":{\"num_25%\":{\"__ndarray__\":\"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\",\"dtype\":\"float64\",\"shape\":[199]},\"num_50%\":{\"__ndarray__\":\"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\",\"dtype\":\"float64\",\"shape\":[199]},\"num_75%\":{\"__ndarray__\":\"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\",\"dtype\":\"float64\",\"shape\":[199]},\"num_count\":{\"__ndarray__\":\"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\",\"dtype\":\"float64\",\"shape\":[199]},\"num_max\":{\"__ndarray__\":\"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\",\"dtype\":\"float64\",\"shape\":[199]},\"num_mean\":{\"__ndarray__\":\"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\",\"dtype\":\"float64\",\"shape\":[199]},\"num_min\":{\"__ndarray__\":\"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\",\"dtype\":\"float64\",\"shape\":[199]},\"num_std\":{\"__ndarray__\":\"AAAAAAAA+H8AAAAAAAD4fwAAAAAAAPh/AAAAAAAA+H8AAAAAAAD4fwAAAAAAAPh/AAAAAAAA+H8AAAAAAAD4fwAAAAAAAPh/AAAAAAAA+H8AAAAAAAD4fwAAAAAAAPh/AAAAAAAA+H8AAAAAAAD4fwAAAAAAAPh/AAAAAAAA+H8AAAAAAAD4fwAAAAAAAPh/AAAAAAAA+H8AAAAAAAD4fwAAAAAAAPh/AAAAAAAA+H8AAAAAAAD4fwAAAAAAAPh/AAAAAAAA+H8AAAAAAAD4fwAAAAAAAPh/AAAAAAAA+H8AAAAAAAD4fwAAAAAAAPh/AAAAAAAA+H8AAAAAAAD4fwAAAAAAAPh/AAAAAAAA+H8AAAAAAAD4fwAAAAAAAPh/AAAAAAAA+H8AAAAAAAD4fwAAAAAAAPh/AAAAAAAA+H8AAAAAAAD4fwAAAAAAAPh/AAAAAAAA+H8AAAAAAAD4fwAAAAAAAPh/AAAAAAAA+H8AAAAAAAD4fwAAAAAAAPh/AAAAAAAA+H8AAAAAAAD4fwAAAAAAAPh/AAAAAAAA+H8AAAAAAAD4fwAAAAAAAPh/AAAAAAAA+H8AAAAAAAD4fwAAAAAAAPh/AAAAAAAA+H8AAAAAAAD4fwAAAAAAAPh/AAAAAAAA+H8AAAAAAAD4fwAAAAAAAPh/AAAAAAAA+H8AAAAAAAD4fwAAAAAAAPh/AAAAAAAA+H8AAAAAAAD4fwAAAAAAAPh/AAAAAAAA+H8AAAAAAAD4fwAAAAAAAPh/AAAAAAAA+H8AAAAAAAD4fwAAAAAAAPh/AAAAAAAA+H8AAAAAAAD4fwAAAAAAAPh/AAAAAAAA+H8AAAAAAAD4fwAAAAAAAPh/AAAAAAAA+H8AAAAAAAD4fwAAAAAAAPh/AAAAAAAA+H8AAAAAAAD4fwAAAAAAAPh/AAAAAAAA+H8AAAAAAAD4fwAAAAAAAPh/AAAAAAAA+H8AAAAAAAD4fwAAAAAAAPh/AAAAAAAA+H8AAAAAAAD4fwAAAAAAAPh/AAAAAAAA+H8AAAAAAAD4fwAAAAAAAPh/AAAAAAAA+H8AAAAAAAD4fwAAAAAAAPh/AAAAAAAA+H8AAAAAAAD4fwAAAAAAAPh/AAAAAAAA+H8AAAAAAAD4fwAAAAAAAPh/AAAAAAAA+H8AAAAAAAD4fwAAAAAAAPh/AAAAAAAA+H8AAAAAAAD4fwAAAAAAAPh/AAAAAAAA+H8AAAAAAAD4fwAAAAAAAPh/AAAAAAAA+H8AAAAAAAD4fwAAAAAAAPh/AAAAAAAA+H8AAAAAAAD4fwAAAAAAAPh/AAAAAAAA+H8AAAAAAAD4fwAAAAAAAPh/AAAAAAAA+H8AAAAAAAD4fwAAAAAAAPh/AAAAAAAA+H8AAAAAAAD4fwAAAAAAAPh/AAAAAAAA+H8AAAAAAAD4fwAAAAAAAPh/AAAAAAAA+H8AAAAAAAD4fwAAAAAAAPh/AAAAAAAA+H8AAAAAAAD4fwAAAAAAAPh/AAAAAAAA+H8AAAAAAAD4fwAAAAAAAPh/AAAAAAAA+H8AAAAAAAD4fwAAAAAAAPh/AAAAAAAA+H8AAAAAAAD4fwAAAAAAAPh/AAAAAAAA+H8AAAAAAAD4fwAAAAAAAPh/AAAAAAAA+H8AAAAAAAD4fwAAAAAAAPh/AAAAAAAA+H8AAAAAAAD4fwAAAAAAAPh/AAAAAAAA+H8AAAAAAAD4fwAAAAAAAPh/AAAAAAAA+H8AAAAAAAD4fwAAAAAAAPh/AAAAAAAA+H8AAAAAAAD4fwAAAAAAAPh/AAAAAAAA+H8AAAAAAAD4fwAAAAAAAPh/AAAAAAAA+H8AAAAAAAD4fwAAAAAAAPh/AAAAAAAA+H8AAAAAAAD4fwAAAAAAAPh/AAAAAAAA+H8AAAAAAAD4fwAAAAAAAPh/AAAAAAAA+H8AAAAAAAD4fwAAAAAAAPh/AAAAAAAA+H8AAAAAAAD4fwAAAAAAAPh/AAAAAAAA+H8AAAAAAAD4fwAAAAAAAPh/AAAAAAAA+H8AAAAAAAD4fwAAAAAAAPh/AAAAAAAA+H8AAAAAAAD4fwAAAAAAAPh/AAAAAAAA+H8AAAAAAAD4fwAAAAAAAPh/AAAAAAAA+H8=\",\"dtype\":\"float64\",\"shape\":[199]},\"type_entity\":[[\"CARDINAL\",\"1\"],[\"CARDINAL\",\"1,000\"],[\"CARDINAL\",\"10\"],[\"CARDINAL\",\"10,000\"],[\"CARDINAL\",\"100,000\"],[\"CARDINAL\",\"2\"],[\"CARDINAL\",\"20\"],[\"CARDINAL\",\"3\"],[\"CARDINAL\",\"30\"],[\"CARDINAL\",\"5\"],[\"CARDINAL\",\"50\"],[\"CARDINAL\",\"500\"],[\"CARDINAL\",\"Five\"],[\"CARDINAL\",\"Half\"],[\"CARDINAL\",\"Millions\"],[\"CARDINAL\",\"One\"],[\"CARDINAL\",\"Thousands\"],[\"CARDINAL\",\"Three\"],[\"CARDINAL\",\"Two\"],[\"CARDINAL\",\"billions\"],[\"CARDINAL\",\"eight\"],[\"CARDINAL\",\"five\"],[\"CARDINAL\",\"four\"],[\"CARDINAL\",\"half\"],[\"CARDINAL\",\"hundreds\"],[\"CARDINAL\",\"millions\"],[\"CARDINAL\",\"one\"],[\"CARDINAL\",\"six\"],[\"CARDINAL\",\"tens of thousands\"],[\"CARDINAL\",\"thousands\"],[\"CARDINAL\",\"three\"],[\"CARDINAL\",\"two\"],[\"CARDINAL\",\"zero\"],[\"DATE\",\"1 June\"],[\"DATE\",\"14 days\"],[\"DATE\",\"14-day\"],[\"DATE\",\"2008\"],[\"DATE\",\"2020\"],[\"DATE\",\"2021\"],[\"DATE\",\"April\"],[\"DATE\",\"August\"],[\"DATE\",\"Christmas\"],[\"DATE\",\"Friday\"],[\"DATE\",\"July\"],[\"DATE\",\"June\"],[\"DATE\",\"March\"],[\"DATE\",\"May\"],[\"DATE\",\"Monday\"],[\"DATE\",\"October\"],[\"DATE\",\"Saturday\"],[\"DATE\",\"September\"],[\"DATE\",\"Sunak\"],[\"DATE\",\"This week\"],[\"DATE\",\"Thursday\"],[\"DATE\",\"a week\"],[\"DATE\",\"daily\"],[\"DATE\",\"day\"],[\"DATE\",\"days\"],[\"DATE\",\"months\"],[\"DATE\",\"next week\"],[\"DATE\",\"summer\"],[\"DATE\",\"this summer\"],[\"DATE\",\"this week\"],[\"DATE\",\"this year\"],[\"DATE\",\"three months\"],[\"DATE\",\"today\"],[\"DATE\",\"two weeks\"],[\"DATE\",\"week\"],[\"DATE\",\"weekly\"],[\"DATE\",\"weeks\"],[\"DATE\",\"winter\"],[\"DATE\",\"years\"],[\"GPE\",\"Beijing\"],[\"GPE\",\"Belgium\"],[\"GPE\",\"Birmingham\"],[\"GPE\",\"Brazil\"],[\"GPE\",\"Brexit\"],[\"GPE\",\"Britain\"],[\"GPE\",\"Britons\"],[\"GPE\",\"China\"],[\"GPE\",\"Commons\"],[\"GPE\",\"England\"],[\"GPE\",\"Exclusive:</strong\"],[\"GPE\",\"France\"],[\"GPE\",\"Germany\"],[\"GPE\",\"Greece\"],[\"GPE\",\"Hancock\"],[\"GPE\",\"Hong Kong\"],[\"GPE\",\"India\"],[\"GPE\",\"Iran\"],[\"GPE\",\"Ireland\"],[\"GPE\",\"Italy\"],[\"GPE\",\"Japan\"],[\"GPE\",\"London\"],[\"GPE\",\"New Zealand\"],[\"GPE\",\"Northern Ireland\"],[\"GPE\",\"Portugal\"],[\"GPE\",\"Russia\"],[\"GPE\",\"Scotland\"],[\"GPE\",\"South Korea\"],[\"GPE\",\"Spain\"],[\"GPE\",\"Sweden\"],[\"GPE\",\"US\"],[\"GPE\",\"Wales\"],[\"GPE\",\"Wuhan\"],[\"LANGUAGE\",\"English\"],[\"LOC\",\"Africa\"],[\"LOC\",\"Dominic Raab\"],[\"LOC\",\"Editorial:</strong\"],[\"LOC\",\"Europe\"],[\"LOC\",\"Manchester\"],[\"MONEY\",\"100\"],[\"MONEY\",\"200\"],[\"NORP\",\"Asian\"],[\"NORP\",\"British\"],[\"NORP\",\"Chinese\"],[\"NORP\",\"European\"],[\"NORP\",\"French\"],[\"NORP\",\"German\"],[\"NORP\",\"Italian\"],[\"NORP\",\"Readers\"],[\"NORP\",\"Scottish\"],[\"NORP\",\"Spanish\"],[\"NORP\",\"Tories\"],[\"ORDINAL\",\"First\"],[\"ORDINAL\",\"first\"],[\"ORDINAL\",\"second\"],[\"ORDINAL\",\"third\"],[\"ORG\",\"Airbus\"],[\"ORG\",\"Amazon\"],[\"ORG\",\"BAME\"],[\"ORG\",\"BBC\"],[\"ORG\",\"Bank\"],[\"ORG\",\"Bank of England\"],[\"ORG\",\"Boohoo\"],[\"ORG\",\"Brief\"],[\"ORG\",\"British Airways\"],[\"ORG\",\"CBI\"],[\"ORG\",\"Dominic Cummings\"],[\"ORG\",\"EU\"],[\"ORG\",\"FTSE\"],[\"ORG\",\"Facebook\"],[\"ORG\",\"Foreign Office\"],[\"ORG\",\"Glasgow\"],[\"ORG\",\"Guardian\"],[\"ORG\",\"Home Office\"],[\"ORG\",\"Labour\"],[\"ORG\",\"Letters:</strong\"],[\"ORG\",\"NHS\"],[\"ORG\",\"Nicola Sturgeon\"],[\"ORG\",\"ONS\"],[\"ORG\",\"Oxford\"],[\"ORG\",\"PPE\"],[\"ORG\",\"Rolls-Royce\"],[\"ORG\",\"Ryanair\"],[\"ORG\",\"Starmer\"],[\"ORG\",\"Treasury\"],[\"ORG\",\"UN\"],[\"ORG\",\"VAT\"],[\"ORG\",\"WHO\"],[\"ORG\",\"Welsh\"],[\"ORG\",\"app\"],[\"PERCENT\",\"80%\"],[\"PERCENT\",\"90%\"],[\"PERSON\",\"Boris\"],[\"PERSON\",\"Boris Johnson\"],[\"PERSON\",\"Boris Johnson's\"],[\"PERSON\",\"Boris Johnson\\u2019s\"],[\"PERSON\",\"Coronavirus\"],[\"PERSON\",\"Covid\"],[\"PERSON\",\"Devi Sridhar\"],[\"PERSON\",\"Donald Trump\"],[\"PERSON\",\"Frances Ryan\"],[\"PERSON\",\"George Monbiot\"],[\"PERSON\",\"Grant Shapps\"],[\"PERSON\",\"John Crace\"],[\"PERSON\",\"John Harris\"],[\"PERSON\",\"Johnson\"],[\"PERSON\",\"Keir Starmer\"],[\"PERSON\",\"Larry Elliott\"],[\"PERSON\",\"Liverpool\"],[\"PERSON\",\"Marina Hyde\"],[\"PERSON\",\"Matt Hancock\"],[\"PERSON\",\"Neil Ferguson\"],[\"PERSON\",\"Nesrine Malik\"],[\"PERSON\",\"Polly Toynbee\"],[\"PERSON\",\"Raab\"],[\"PERSON\",\"Rishi Sunak\"],[\"PERSON\",\"Sadiq Khan\"],[\"PERSON\",\"Sage\"],[\"PERSON\",\"Simon Jenkins\"],[\"PERSON\",\"Tory\"],[\"PERSON\",\"Trump\"],[\"PERSON\",\"Zoom\"],[\"PERSON\",\"| John Crace\"],[\"PERSON\",\"| John Harris\"],[\"PRODUCT\",\"Westminster\"],[\"TIME\",\"PM\"],[\"WORK_OF_ART\",\"| Nils Pratley\"]]},\"selected\":{\"id\":\"1507\",\"type\":\"Selection\"},\"selection_policy\":{\"id\":\"1506\",\"type\":\"UnionRenderers\"}},\"id\":\"1464\",\"type\":\"ColumnDataSource\"},{\"attributes\":{},\"id\":\"1453\",\"type\":\"ResetTool\"},{\"attributes\":{},\"id\":\"1452\",\"type\":\"SaveTool\"},{\"attributes\":{},\"id\":\"1506\",\"type\":\"UnionRenderers\"},{\"attributes\":{\"overlay\":{\"id\":\"1508\",\"type\":\"BoxAnnotation\"}},\"id\":\"1451\",\"type\":\"BoxZoomTool\"},{\"attributes\":{},\"id\":\"1441\",\"type\":\"CategoricalTicker\"},{\"attributes\":{\"text\":\"Most frequent named entities per category\"},\"id\":\"1430\",\"type\":\"Title\"},{\"attributes\":{\"active_drag\":\"auto\",\"active_inspect\":\"auto\",\"active_multi\":null,\"active_scroll\":\"auto\",\"active_tap\":\"auto\",\"tools\":[{\"id\":\"1449\",\"type\":\"PanTool\"},{\"id\":\"1450\",\"type\":\"WheelZoomTool\"},{\"id\":\"1451\",\"type\":\"BoxZoomTool\"},{\"id\":\"1452\",\"type\":\"SaveTool\"},{\"id\":\"1453\",\"type\":\"ResetTool\"},{\"id\":\"1454\",\"type\":\"HelpTool\"},{\"id\":\"1455\",\"type\":\"HoverTool\"}]},\"id\":\"1456\",\"type\":\"Toolbar\"},{\"attributes\":{},\"id\":\"1436\",\"type\":\"CategoricalScale\"},{\"attributes\":{\"callback\":null,\"factors\":[[\"CARDINAL\",\"1\"],[\"CARDINAL\",\"1,000\"],[\"CARDINAL\",\"10\"],[\"CARDINAL\",\"10,000\"],[\"CARDINAL\",\"100,000\"],[\"CARDINAL\",\"2\"],[\"CARDINAL\",\"20\"],[\"CARDINAL\",\"3\"],[\"CARDINAL\",\"30\"],[\"CARDINAL\",\"5\"],[\"CARDINAL\",\"50\"],[\"CARDINAL\",\"500\"],[\"CARDINAL\",\"Five\"],[\"CARDINAL\",\"Half\"],[\"CARDINAL\",\"Millions\"],[\"CARDINAL\",\"One\"],[\"CARDINAL\",\"Thousands\"],[\"CARDINAL\",\"Three\"],[\"CARDINAL\",\"Two\"],[\"CARDINAL\",\"billions\"],[\"CARDINAL\",\"eight\"],[\"CARDINAL\",\"five\"],[\"CARDINAL\",\"four\"],[\"CARDINAL\",\"half\"],[\"CARDINAL\",\"hundreds\"],[\"CARDINAL\",\"millions\"],[\"CARDINAL\",\"one\"],[\"CARDINAL\",\"six\"],[\"CARDINAL\",\"tens of thousands\"],[\"CARDINAL\",\"thousands\"],[\"CARDINAL\",\"three\"],[\"CARDINAL\",\"two\"],[\"CARDINAL\",\"zero\"],[\"DATE\",\"1 June\"],[\"DATE\",\"14 days\"],[\"DATE\",\"14-day\"],[\"DATE\",\"2008\"],[\"DATE\",\"2020\"],[\"DATE\",\"2021\"],[\"DATE\",\"April\"],[\"DATE\",\"August\"],[\"DATE\",\"Christmas\"],[\"DATE\",\"Friday\"],[\"DATE\",\"July\"],[\"DATE\",\"June\"],[\"DATE\",\"March\"],[\"DATE\",\"May\"],[\"DATE\",\"Monday\"],[\"DATE\",\"October\"],[\"DATE\",\"Saturday\"],[\"DATE\",\"September\"],[\"DATE\",\"Sunak\"],[\"DATE\",\"This week\"],[\"DATE\",\"Thursday\"],[\"DATE\",\"a week\"],[\"DATE\",\"daily\"],[\"DATE\",\"day\"],[\"DATE\",\"days\"],[\"DATE\",\"months\"],[\"DATE\",\"next week\"],[\"DATE\",\"summer\"],[\"DATE\",\"this summer\"],[\"DATE\",\"this week\"],[\"DATE\",\"this year\"],[\"DATE\",\"three months\"],[\"DATE\",\"today\"],[\"DATE\",\"two weeks\"],[\"DATE\",\"week\"],[\"DATE\",\"weekly\"],[\"DATE\",\"weeks\"],[\"DATE\",\"winter\"],[\"DATE\",\"years\"],[\"GPE\",\"Beijing\"],[\"GPE\",\"Belgium\"],[\"GPE\",\"Birmingham\"],[\"GPE\",\"Brazil\"],[\"GPE\",\"Brexit\"],[\"GPE\",\"Britain\"],[\"GPE\",\"Britons\"],[\"GPE\",\"China\"],[\"GPE\",\"Commons\"],[\"GPE\",\"England\"],[\"GPE\",\"Exclusive:</strong\"],[\"GPE\",\"France\"],[\"GPE\",\"Germany\"],[\"GPE\",\"Greece\"],[\"GPE\",\"Hancock\"],[\"GPE\",\"Hong Kong\"],[\"GPE\",\"India\"],[\"GPE\",\"Iran\"],[\"GPE\",\"Ireland\"],[\"GPE\",\"Italy\"],[\"GPE\",\"Japan\"],[\"GPE\",\"London\"],[\"GPE\",\"New Zealand\"],[\"GPE\",\"Northern Ireland\"],[\"GPE\",\"Portugal\"],[\"GPE\",\"Russia\"],[\"GPE\",\"Scotland\"],[\"GPE\",\"South Korea\"],[\"GPE\",\"Spain\"],[\"GPE\",\"Sweden\"],[\"GPE\",\"US\"],[\"GPE\",\"Wales\"],[\"GPE\",\"Wuhan\"],[\"LANGUAGE\",\"English\"],[\"LOC\",\"Africa\"],[\"LOC\",\"Dominic Raab\"],[\"LOC\",\"Editorial:</strong\"],[\"LOC\",\"Europe\"],[\"LOC\",\"Manchester\"],[\"MONEY\",\"100\"],[\"MONEY\",\"200\"],[\"NORP\",\"Asian\"],[\"NORP\",\"British\"],[\"NORP\",\"Chinese\"],[\"NORP\",\"European\"],[\"NORP\",\"French\"],[\"NORP\",\"German\"],[\"NORP\",\"Italian\"],[\"NORP\",\"Readers\"],[\"NORP\",\"Scottish\"],[\"NORP\",\"Spanish\"],[\"NORP\",\"Tories\"],[\"ORDINAL\",\"First\"],[\"ORDINAL\",\"first\"],[\"ORDINAL\",\"second\"],[\"ORDINAL\",\"third\"],[\"ORG\",\"Airbus\"],[\"ORG\",\"Amazon\"],[\"ORG\",\"BAME\"],[\"ORG\",\"BBC\"],[\"ORG\",\"Bank\"],[\"ORG\",\"Bank of England\"],[\"ORG\",\"Boohoo\"],[\"ORG\",\"Brief\"],[\"ORG\",\"British Airways\"],[\"ORG\",\"CBI\"],[\"ORG\",\"Dominic Cummings\"],[\"ORG\",\"EU\"],[\"ORG\",\"FTSE\"],[\"ORG\",\"Facebook\"],[\"ORG\",\"Foreign Office\"],[\"ORG\",\"Glasgow\"],[\"ORG\",\"Guardian\"],[\"ORG\",\"Home Office\"],[\"ORG\",\"Labour\"],[\"ORG\",\"Letters:</strong\"],[\"ORG\",\"NHS\"],[\"ORG\",\"Nicola Sturgeon\"],[\"ORG\",\"ONS\"],[\"ORG\",\"Oxford\"],[\"ORG\",\"PPE\"],[\"ORG\",\"Rolls-Royce\"],[\"ORG\",\"Ryanair\"],[\"ORG\",\"Starmer\"],[\"ORG\",\"Treasury\"],[\"ORG\",\"UN\"],[\"ORG\",\"VAT\"],[\"ORG\",\"WHO\"],[\"ORG\",\"Welsh\"],[\"ORG\",\"app\"],[\"PERCENT\",\"80%\"],[\"PERCENT\",\"90%\"],[\"PERSON\",\"Boris\"],[\"PERSON\",\"Boris Johnson\"],[\"PERSON\",\"Boris Johnson's\"],[\"PERSON\",\"Boris Johnson\\u2019s\"],[\"PERSON\",\"Coronavirus\"],[\"PERSON\",\"Covid\"],[\"PERSON\",\"Devi Sridhar\"],[\"PERSON\",\"Donald Trump\"],[\"PERSON\",\"Frances Ryan\"],[\"PERSON\",\"George Monbiot\"],[\"PERSON\",\"Grant Shapps\"],[\"PERSON\",\"John Crace\"],[\"PERSON\",\"John Harris\"],[\"PERSON\",\"Johnson\"],[\"PERSON\",\"Keir Starmer\"],[\"PERSON\",\"Larry Elliott\"],[\"PERSON\",\"Liverpool\"],[\"PERSON\",\"Marina Hyde\"],[\"PERSON\",\"Matt Hancock\"],[\"PERSON\",\"Neil Ferguson\"],[\"PERSON\",\"Nesrine Malik\"],[\"PERSON\",\"Polly Toynbee\"],[\"PERSON\",\"Raab\"],[\"PERSON\",\"Rishi Sunak\"],[\"PERSON\",\"Sadiq Khan\"],[\"PERSON\",\"Sage\"],[\"PERSON\",\"Simon Jenkins\"],[\"PERSON\",\"Tory\"],[\"PERSON\",\"Trump\"],[\"PERSON\",\"Zoom\"],[\"PERSON\",\"| John Crace\"],[\"PERSON\",\"| John Harris\"],[\"PRODUCT\",\"Westminster\"],[\"TIME\",\"PM\"],[\"WORK_OF_ART\",\"| Nils Pratley\"]],\"range_padding\":0.05},\"id\":\"1432\",\"type\":\"FactorRange\"},{\"attributes\":{\"axis_label\":\"Most common entities by type\",\"formatter\":{\"id\":\"1505\",\"type\":\"CategoricalTickFormatter\"},\"major_label_orientation\":1.5,\"ticker\":{\"id\":\"1441\",\"type\":\"CategoricalTicker\"}},\"id\":\"1440\",\"type\":\"CategoricalAxis\"},{\"attributes\":{},\"id\":\"1450\",\"type\":\"WheelZoomTool\"},{\"attributes\":{\"callback\":null,\"start\":0},\"id\":\"1434\",\"type\":\"DataRange1d\"},{\"attributes\":{\"callback\":null,\"tooltips\":[[\"Num\",\"@num_mean\"],[\"Entity type, entity\",\"@type_entity\"]]},\"id\":\"1455\",\"type\":\"HoverTool\"}],\"root_ids\":[\"1429\"]},\"title\":\"Bokeh Application\",\"version\":\"1.4.0\"}};\n",
       "  var render_items = [{\"docid\":\"07d8184f-6509-413f-bfa1-200ecd8a4f81\",\"roots\":{\"1429\":\"dd83a141-72ee-4e87-a659-5fd4a4e978b0\"}}];\n",
       "  root.Bokeh.embed.embed_items_notebook(docs_json, render_items);\n",
       "\n",
       "  }\n",
       "  if (root.Bokeh !== undefined) {\n",
       "    embed_document(root);\n",
       "  } else {\n",
       "    var attempts = 0;\n",
       "    var timer = setInterval(function(root) {\n",
       "      if (root.Bokeh !== undefined) {\n",
       "        clearInterval(timer);\n",
       "        embed_document(root);\n",
       "      } else {\n",
       "        attempts++;\n",
       "        if (attempts > 100) {\n",
       "          clearInterval(timer);\n",
       "          console.log(\"Bokeh: ERROR: Unable to run BokehJS code because BokehJS library is missing\");\n",
       "        }\n",
       "      }\n",
       "    }, 10, root)\n",
       "  }\n",
       "})(window);"
      ],
      "application/vnd.bokehjs_exec.v0+json": ""
     },
     "metadata": {
      "application/vnd.bokehjs_exec.v0+json": {
       "id": "1429"
      }
     },
     "output_type": "display_data"
    }
   ],
   "source": [
    "p = figure(plot_width=2200, plot_height=600, title=\"Most frequent named entities per category\",\n",
    "           x_range=group_ent, toolbar_location=None,\n",
    "          tooltips=[(\"Num\", \"@num_mean\"), (\"Entity type, entity\", \"@type_entity\")])\n",
    "\n",
    "p.vbar(x='type_entity', top='num_mean', width=1, source=group_ent,\n",
    "       line_color=\"white\", fill_color=index_cmap_ent, )\n",
    "\n",
    "p.y_range.start = 0\n",
    "p.x_range.range_padding = 0.05\n",
    "p.xgrid.grid_line_color = None\n",
    "p.xaxis.axis_label = \"Most common entities by type\"\n",
    "p.xaxis.major_label_orientation = 1.5\n",
    "p.outline_line_color = None\n",
    "p.background_fill_color = \"#2b2b2b\"\n",
    "\n",
    "show(p)"
   ]
  },
  {
   "cell_type": "markdown",
   "metadata": {},
   "source": [
    "# Sentimenet Analysis "
   ]
  },
  {
   "cell_type": "markdown",
   "metadata": {},
   "source": [
    "### Google NLP Sentiment Analysis API"
   ]
  },
  {
   "cell_type": "code",
   "execution_count": 132,
   "metadata": {},
   "outputs": [],
   "source": [
    "from google.cloud import language_v1\n",
    "from google.cloud.language_v1 import enums"
   ]
  },
  {
   "cell_type": "code",
   "execution_count": 18,
   "metadata": {},
   "outputs": [],
   "source": [
    "def analyze_sentiment(text, language=\"en\"):\n",
    "    client = language_v1.LanguageServiceClient()\n",
    "    type_ = enums.Document.Type.PLAIN_TEXT\n",
    "\n",
    "    document = {\"content\": text, \"type\": type_, \"language\": language}\n",
    "\n",
    "    encoding_type = enums.EncodingType.UTF8\n",
    "\n",
    "    response = client.analyze_sentiment(document, encoding_type=encoding_type)\n",
    "\n",
    "    return response.document_sentiment.score"
   ]
  },
  {
   "cell_type": "code",
   "execution_count": 93,
   "metadata": {},
   "outputs": [],
   "source": [
    "df1000 = df.sample(n=1000)\n",
    "df1000['sentiment'] = df1000['title_subtitle'].apply(lambda x : analyze_sentiment(x))\n",
    "df1000.to_csv('df1000.csv')"
   ]
  },
  {
   "cell_type": "code",
   "execution_count": 19,
   "metadata": {},
   "outputs": [],
   "source": [
    "df2500 = df.sample(n=2500)\n",
    "#df2500['sentiment'] = df2500['title_subtitle'].apply(lambda x : analyze_sentiment(x))"
   ]
  },
  {
   "cell_type": "code",
   "execution_count": 134,
   "metadata": {},
   "outputs": [],
   "source": [
    "df1000 = pd.read_csv(\"df1000.csv\", index_col=0)"
   ]
  },
  {
   "cell_type": "markdown",
   "metadata": {},
   "source": [
    "### Transformers Sentiment Analysis"
   ]
  },
  {
   "cell_type": "code",
   "execution_count": 133,
   "metadata": {},
   "outputs": [],
   "source": [
    "from transformers import pipeline\n",
    "nlp = pipeline(\"sentiment-analysis\")"
   ]
  },
  {
   "cell_type": "markdown",
   "metadata": {},
   "source": [
    "Sample data "
   ]
  },
  {
   "cell_type": "code",
   "execution_count": 135,
   "metadata": {},
   "outputs": [],
   "source": [
    "labels = []\n",
    "scores = []\n",
    "for article in df1000['title_subtitle']:\n",
    "    result = nlp(article)[0]\n",
    "    labels.append(result['label'])\n",
    "    scores.append(round(result['score'], 4))"
   ]
  },
  {
   "cell_type": "code",
   "execution_count": 136,
   "metadata": {},
   "outputs": [],
   "source": [
    "df1000['transformers_sentiment'] = scores\n",
    "df1000['transformers_label'] = labels"
   ]
  },
  {
   "cell_type": "markdown",
   "metadata": {},
   "source": [
    "All the data "
   ]
  },
  {
   "cell_type": "code",
   "execution_count": 137,
   "metadata": {},
   "outputs": [],
   "source": [
    "labels = []\n",
    "scores = []\n",
    "for article in df['title_subtitle']:\n",
    "    result = nlp(article)[0]\n",
    "    labels.append(result['label'])\n",
    "    scores.append(round(result['score'], 4))"
   ]
  },
  {
   "cell_type": "code",
   "execution_count": 138,
   "metadata": {},
   "outputs": [],
   "source": [
    "df['transformers_sentiment'] = scores\n",
    "df['transformers_label'] = labels"
   ]
  },
  {
   "cell_type": "code",
   "execution_count": 139,
   "metadata": {},
   "outputs": [],
   "source": [
    "transformer_sentiment_posneg = []\n",
    "for label, sentiement in zip(df['transformers_label'], df['transformers_sentiment']):\n",
    "    if label =='NEGATIVE':\n",
    "        transformer_sentiment_posneg.append(- sentiement)\n",
    "    else: \n",
    "        transformer_sentiment_posneg.append(sentiement)\n",
    "        "
   ]
  },
  {
   "cell_type": "code",
   "execution_count": 140,
   "metadata": {},
   "outputs": [],
   "source": [
    "df[\"transformer_sentiment_posneg\"] = transformer_sentiment_posneg"
   ]
  },
  {
   "cell_type": "code",
   "execution_count": 141,
   "metadata": {},
   "outputs": [
    {
     "data": {
      "text/plain": [
       "(<Figure size 1440x1440 with 1 Axes>,\n",
       " array([<matplotlib.axes._subplots.AxesSubplot object at 0x7ffa6842ed50>],\n",
       "       dtype=object))"
      ]
     },
     "execution_count": 141,
     "metadata": {},
     "output_type": "execute_result"
    },
    {
     "data": {
      "image/png": "[encoded data removed]",
      "text/plain": [
       "<Figure size 1440x1440 with 1 Axes>"
      ]
     },
     "metadata": {
      "needs_background": "light"
     },
     "output_type": "display_data"
    }
   ],
   "source": [
    "df[\"date\"] = pd.to_datetime(df[\"date\"])\n",
    "avg_sentiment_per_day = df.groupby(\"date\")['transformer_sentiment_posneg'].mean()\n",
    "calmap.calendarplot(avg_sentiment_per_day, fig_kws=dict(figsize=(20, 20)))"
   ]
  },
  {
   "cell_type": "code",
   "execution_count": 142,
   "metadata": {},
   "outputs": [
    {
     "data": {
      "text/plain": [
       "[\"'It’s crazy good': Covid boom leaves UK furniture firms sitting pretty\",\n",
       " 'Guardian to spotlight dazzling unstaged scripts in a new series',\n",
       " 'From standup to the Sistine chapel: the best online culture for self-isolation',\n",
       " 'Hottest front-room seats: the best theatre and dance to watch online',\n",
       " 'Tell us about the community projects bringing joy',\n",
       " 'The Well Gardened Mind by Sue Stuart-Smith; The Natural Health Service by Isabel Hardman – review',\n",
       " 'Patient, amusing, inspirational... teachers have always made a difference',\n",
       " 'Share your tributes and memories of UK coronavirus victims who died during the summer',\n",
       " 'We will only beat coronavirus if cities  around the world pull together | Sadiq Khan',\n",
       " \"United Voices: an inspiring story of workers' grassroots resistance\",\n",
       " '‘The wondrous map’: how unlocking human DNA changed the course of science',\n",
       " 'This Europe Day we send a message of solidarity and friendship to British people',\n",
       " 'Locksdown: readers share their home haircut adventures',\n",
       " \"'We will meet again': when a monarch brings comfort with a song\",\n",
       " \"'It's an exciting beginning': Venice opens to tourists\",\n",
       " 'Words of wisdom: the best advice for the year from hell',\n",
       " \"'Theatres save lives – this is where you give blood, vote and cry'\",\n",
       " 'The Guardian view on museums and Covid-19: collecting powerful memories | Editorial',\n",
       " \"‘It's so good to be back’: Jay Rayner’s first restaurant meal since lockdown\",\n",
       " 'Lockdown is doing wonders for the royal family.  Even Fergie gets a look-in | Catherine Bennett']"
      ]
     },
     "execution_count": 142,
     "metadata": {},
     "output_type": "execute_result"
    }
   ],
   "source": [
    "df[df[\"transformers_label\"]=='POSITIVE'].nlargest(20, \"transformers_sentiment\")['webTitle'].tolist()"
   ]
  },
  {
   "cell_type": "code",
   "execution_count": 143,
   "metadata": {},
   "outputs": [
    {
     "data": {
      "text/plain": [
       "[\"People in England's 10 worst-hit Covid-19 hotspots unable to get tests\",\n",
       " 'Shopping centre owner Intu collapses into administration',\n",
       " 'MoJ failed to investigate potential Covid-19 cluster among cleaners',\n",
       " 'UK bars and hair salons get more help than care homes, say providers',\n",
       " \"Fast fashion creates misery, and that's a bad look | Bidisha\",\n",
       " 'Analysts and investors lose their bearings in the coronavirus fallout | Nils Pratley',\n",
       " 'British public demands more information on coronavirus cases',\n",
       " 'More than £1bn wiped off Boohoo value as it investigates Leicester factory',\n",
       " 'I am a swab tester – but we have barely any swabs to test | Gianmarco Raddi',\n",
       " 'Covid-19: did the UK government prepare for the wrong kind of pandemic?',\n",
       " \"Bank of England warns mass return to UK offices 'not possible'\",\n",
       " \"'It's the worst I've ever seen': London’s West End struggles to bounce back\",\n",
       " \"Rishi Sunak's furlough support scheme fails to reassure Britons\",\n",
       " 'Airbus slows plane-making as Covid-19 leads to £1.7bn loss',\n",
       " 'UK construction sector suffers its biggest slump on record',\n",
       " 'Andrew Bailey needs to be more convincing about the path to recovery',\n",
       " 'Why is there a delay in sharing Covid-19 test data with English councils?',\n",
       " 'Panic buying sweeps stores despite appeal for responsible shopping',\n",
       " 'The failure of test and trace shows the folly of handing huge contracts to private giants | Richard Brooks',\n",
       " 'Boris fails to convince with sanitised take on coronavirus | John Crace']"
      ]
     },
     "execution_count": 143,
     "metadata": {},
     "output_type": "execute_result"
    }
   ],
   "source": [
    "df[df[\"transformers_label\"]=='NEGATIVE'].nlargest(20, \"transformers_sentiment\")['webTitle'].tolist()"
   ]
  },
  {
   "cell_type": "markdown",
   "metadata": {},
   "source": [
    "### compariason"
   ]
  },
  {
   "cell_type": "code",
   "execution_count": 35,
   "metadata": {},
   "outputs": [
    {
     "data": {
      "text/plain": [
       "[\"‘It's so good to be back’: Jay Rayner’s first restaurant meal since lockdown\",\n",
       " 'After-work drinks by video: how to survive 100 days of solitude',\n",
       " 'Amid the cruelty of the pandemic, this weekend offers a glimmer of hope | Jonathan Freedland',\n",
       " \"Morrisons CEO: 'Our people are the new rock stars'\",\n",
       " 'Share your tributes and memories of UK coronavirus victims',\n",
       " \"'It's lovely to be here': county cricket fans return to the Oval\",\n",
       " 'How to enjoy birthdays and romantic dinners in lockdown',\n",
       " 'Green and pleasant beats urban buzz as families opt to leave cities',\n",
       " \"'This is a scary time': coronavirus emergency fund set up for authors\",\n",
       " 'Home school competition celebrates black British history']"
      ]
     },
     "execution_count": 35,
     "metadata": {},
     "output_type": "execute_result"
    }
   ],
   "source": [
    "df1000[df1000[\"transformers_label\"]=='POSITIVE'].nlargest(10, \"transformers_sentiment\")['webTitle'].tolist()"
   ]
  },
  {
   "cell_type": "code",
   "execution_count": 105,
   "metadata": {},
   "outputs": [
    {
     "data": {
      "text/plain": [
       "[\"‘It's so good to be back’: Jay Rayner’s first restaurant meal since lockdown\",\n",
       " 'Weird and wonderful ways to get through the Covid-19 lockdown',\n",
       " \"'You won’t be left on your own': expert tips for freshers on studying at home\",\n",
       " 'Student finance: everything you need to be ready for university',\n",
       " 'Chancellor makes £30bn budget pledge to protect economy from coronavirus',\n",
       " 'How to enjoy birthdays and romantic dinners in lockdown',\n",
       " 'Green and pleasant beats urban buzz as families opt to leave cities',\n",
       " 'Europe’s big two kiss and make up for pandemic rescue deal',\n",
       " 'Spanish hotel group to offer guests free Covid testing',\n",
       " \"'It's lovely to be here': county cricket fans return to the Oval\"]"
      ]
     },
     "execution_count": 105,
     "metadata": {},
     "output_type": "execute_result"
    }
   ],
   "source": [
    "df1000.nlargest(10, \"sentiment\")['webTitle'].tolist()"
   ]
  },
  {
   "cell_type": "code",
   "execution_count": 30,
   "metadata": {},
   "outputs": [
    {
     "data": {
      "text/plain": [
       "['Boris fails to convince with sanitised take on coronavirus | John Crace',\n",
       " 'Makers of M&S sandwiches faced pay dock if they self-isolated, says union',\n",
       " 'MoJ failed to investigate potential Covid-19 cluster among cleaners',\n",
       " \"Fast fashion creates misery, and that's a bad look | Bidisha\",\n",
       " 'More than £1bn wiped off Boohoo value as it investigates Leicester factory',\n",
       " 'Why is there a delay in sharing Covid-19 test data with English councils?',\n",
       " \"Bank of England warns mass return to UK offices 'not possible'\",\n",
       " 'Panic buying sweeps stores despite appeal for responsible shopping',\n",
       " \"What's missing from the chancellor's new scheme to save jobs?\",\n",
       " \"Britain's failure to learn the hard lessons of its first Covid surge is a disaster | William Hanage\"]"
      ]
     },
     "execution_count": 30,
     "metadata": {},
     "output_type": "execute_result"
    }
   ],
   "source": [
    "df1000[df1000[\"transformers_label\"]=='NEGATIVE'].nlargest(10, \"transformers_sentiment\")['webTitle'].tolist()"
   ]
  },
  {
   "cell_type": "code",
   "execution_count": 106,
   "metadata": {},
   "outputs": [
    {
     "data": {
      "text/plain": [
       "['Matt Hancock accused of blaming public for Covid test shortages',\n",
       " \"'Not fit for purpose': UK medics condemn Covid-19 protection\",\n",
       " 'Sinister immigration bill makes me ashamed to be British | Letters',\n",
       " 'Amid the sorrow over cancelled Eid plans, British Muslims should feel let down too | Aina Khan',\n",
       " 'Britain doesn’t care about health inequalities. For minorities, that ignorance is deadly | Afua Hirsch',\n",
       " 'Marcus Rashford and other black athletes have run out of patience and are forcing change | Derek Bardowell',\n",
       " \"Curfews will ruin sector 'already on its knees', pubs warn Boris Johnson\",\n",
       " 'Coronavirus fears fuel racism and hostility, say British-Chinese',\n",
       " 'Coronavirus leaves Malawi’s health workers facing threats and social stigma',\n",
       " \"Keir Starmer accuses PM of placing parents in 'impossible position'\"]"
      ]
     },
     "execution_count": 106,
     "metadata": {},
     "output_type": "execute_result"
    }
   ],
   "source": [
    "df1000.nsmallest(10, \"sentiment\")['webTitle'].tolist()"
   ]
  },
  {
   "cell_type": "code",
   "execution_count": 109,
   "metadata": {},
   "outputs": [
    {
     "data": {
      "text/plain": [
       "(<Figure size 1440x1440 with 1 Axes>,\n",
       " array([<matplotlib.axes._subplots.AxesSubplot object at 0x7fb2c32cfd90>],\n",
       "       dtype=object))"
      ]
     },
     "execution_count": 109,
     "metadata": {},
     "output_type": "execute_result"
    },
    {
     "data": {
      "image/png": "[encoded data removed]",
      "text/plain": [
       "<Figure size 1440x1440 with 1 Axes>"
      ]
     },
     "metadata": {
      "needs_background": "light"
     },
     "output_type": "display_data"
    }
   ],
   "source": [
    "df1000[\"date\"] = pd.to_datetime(df1000[\"date\"])\n",
    "avg_sentiment_per_day = df1000.groupby(\"date\")['sentiment'].mean()\n",
    "calmap.calendarplot(avg_sentiment_per_day, fig_kws=dict(figsize=(20, 20)))"
   ]
  },
  {
   "cell_type": "code",
   "execution_count": 117,
   "metadata": {},
   "outputs": [
    {
     "data": {
      "text/html": [
       "<div>\n",
       "<style scoped>\n",
       "    .dataframe tbody tr th:only-of-type {\n",
       "        vertical-align: middle;\n",
       "    }\n",
       "\n",
       "    .dataframe tbody tr th {\n",
       "        vertical-align: top;\n",
       "    }\n",
       "\n",
       "    .dataframe thead th {\n",
       "        text-align: right;\n",
       "    }\n",
       "</style>\n",
       "<table border=\"1\" class=\"dataframe\">\n",
       "  <thead>\n",
       "    <tr style=\"text-align: right;\">\n",
       "      <th></th>\n",
       "      <th>type</th>\n",
       "      <th>sectionId</th>\n",
       "      <th>sectionName</th>\n",
       "      <th>webPublicationDate</th>\n",
       "      <th>webTitle</th>\n",
       "      <th>webUrl</th>\n",
       "      <th>apiUrl</th>\n",
       "      <th>fields</th>\n",
       "      <th>isHosted</th>\n",
       "      <th>pillarId</th>\n",
       "      <th>pillarName</th>\n",
       "      <th>trailText</th>\n",
       "      <th>title_subtitle</th>\n",
       "      <th>title_subtitle_bow</th>\n",
       "      <th>title_subtitle_lem</th>\n",
       "      <th>date</th>\n",
       "      <th>sentiment</th>\n",
       "    </tr>\n",
       "    <tr>\n",
       "      <th>id</th>\n",
       "      <th></th>\n",
       "      <th></th>\n",
       "      <th></th>\n",
       "      <th></th>\n",
       "      <th></th>\n",
       "      <th></th>\n",
       "      <th></th>\n",
       "      <th></th>\n",
       "      <th></th>\n",
       "      <th></th>\n",
       "      <th></th>\n",
       "      <th></th>\n",
       "      <th></th>\n",
       "      <th></th>\n",
       "      <th></th>\n",
       "      <th></th>\n",
       "      <th></th>\n",
       "    </tr>\n",
       "  </thead>\n",
       "  <tbody>\n",
       "    <tr>\n",
       "      <th>business/2020/aug/09/uk-to-fall-into-deepest-slump-on-record-with-worst-fall-in-gdp-among-g7</th>\n",
       "      <td>article</td>\n",
       "      <td>business</td>\n",
       "      <td>Business</td>\n",
       "      <td>2020-08-09T12:29:07Z</td>\n",
       "      <td>UK to plunge into deepest slump on record with...</td>\n",
       "      <td>https://www.theguardian.com/business/2020/aug/...</td>\n",
       "      <td>https://content.guardianapis.com/business/2020...</td>\n",
       "      <td>{'trailText': 'Official measure to be declared...</td>\n",
       "      <td>False</td>\n",
       "      <td>pillar/news</td>\n",
       "      <td>News</td>\n",
       "      <td>Official measure to be declared this week as c...</td>\n",
       "      <td>UK to plunge into deepest slump on record with...</td>\n",
       "      <td>uk to plunge into deepest slump on record with...</td>\n",
       "      <td>uk plunge deep slump record bad gdp drop g7 of...</td>\n",
       "      <td>2020-08-09</td>\n",
       "      <td>-0.4</td>\n",
       "    </tr>\n",
       "  </tbody>\n",
       "</table>\n",
       "</div>"
      ],
      "text/plain": [
       "                                                       type sectionId  \\\n",
       "id                                                                      \n",
       "business/2020/aug/09/uk-to-fall-into-deepest-sl...  article  business   \n",
       "\n",
       "                                                   sectionName  \\\n",
       "id                                                               \n",
       "business/2020/aug/09/uk-to-fall-into-deepest-sl...    Business   \n",
       "\n",
       "                                                      webPublicationDate  \\\n",
       "id                                                                         \n",
       "business/2020/aug/09/uk-to-fall-into-deepest-sl...  2020-08-09T12:29:07Z   \n",
       "\n",
       "                                                                                             webTitle  \\\n",
       "id                                                                                                      \n",
       "business/2020/aug/09/uk-to-fall-into-deepest-sl...  UK to plunge into deepest slump on record with...   \n",
       "\n",
       "                                                                                               webUrl  \\\n",
       "id                                                                                                      \n",
       "business/2020/aug/09/uk-to-fall-into-deepest-sl...  https://www.theguardian.com/business/2020/aug/...   \n",
       "\n",
       "                                                                                               apiUrl  \\\n",
       "id                                                                                                      \n",
       "business/2020/aug/09/uk-to-fall-into-deepest-sl...  https://content.guardianapis.com/business/2020...   \n",
       "\n",
       "                                                                                               fields  \\\n",
       "id                                                                                                      \n",
       "business/2020/aug/09/uk-to-fall-into-deepest-sl...  {'trailText': 'Official measure to be declared...   \n",
       "\n",
       "                                                    isHosted     pillarId  \\\n",
       "id                                                                          \n",
       "business/2020/aug/09/uk-to-fall-into-deepest-sl...     False  pillar/news   \n",
       "\n",
       "                                                   pillarName  \\\n",
       "id                                                              \n",
       "business/2020/aug/09/uk-to-fall-into-deepest-sl...       News   \n",
       "\n",
       "                                                                                            trailText  \\\n",
       "id                                                                                                      \n",
       "business/2020/aug/09/uk-to-fall-into-deepest-sl...  Official measure to be declared this week as c...   \n",
       "\n",
       "                                                                                       title_subtitle  \\\n",
       "id                                                                                                      \n",
       "business/2020/aug/09/uk-to-fall-into-deepest-sl...  UK to plunge into deepest slump on record with...   \n",
       "\n",
       "                                                                                   title_subtitle_bow  \\\n",
       "id                                                                                                      \n",
       "business/2020/aug/09/uk-to-fall-into-deepest-sl...  uk to plunge into deepest slump on record with...   \n",
       "\n",
       "                                                                                   title_subtitle_lem  \\\n",
       "id                                                                                                      \n",
       "business/2020/aug/09/uk-to-fall-into-deepest-sl...  uk plunge deep slump record bad gdp drop g7 of...   \n",
       "\n",
       "                                                         date  sentiment  \n",
       "id                                                                        \n",
       "business/2020/aug/09/uk-to-fall-into-deepest-sl... 2020-08-09       -0.4  "
      ]
     },
     "execution_count": 117,
     "metadata": {},
     "output_type": "execute_result"
    }
   ],
   "source": [
    "df1000[df1000[\"date\"]=='2020-08-09']"
   ]
  },
  {
   "cell_type": "markdown",
   "metadata": {},
   "source": [
    "### Transformers sentiment analysis"
   ]
  },
  {
   "cell_type": "code",
   "execution_count": null,
   "metadata": {},
   "outputs": [],
   "source": []
  }
 ],
 "metadata": {
  "kernelspec": {
   "display_name": "Python 3",
   "language": "python",
   "name": "python3"
  },
  "language_info": {
   "codemirror_mode": {
    "name": "ipython",
    "version": 3
   },
   "file_extension": ".py",
   "mimetype": "text/x-python",
   "name": "python",
   "nbconvert_exporter": "python",
   "pygments_lexer": "ipython3",
   "version": "3.7.6"
  }
 },
 "nbformat": 4,
 "nbformat_minor": 4
}
